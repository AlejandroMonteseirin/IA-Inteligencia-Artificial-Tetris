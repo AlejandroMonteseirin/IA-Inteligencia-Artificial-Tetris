{
 "cells": [
  {
   "cell_type": "code",
   "execution_count": 49,
   "metadata": {},
   "outputs": [],
   "source": [
    "import problema_espacio_estados as probee\n",
    "import búsqueda_espacio_estados as búsqee\n",
    "import copy"
   ]
  },
  {
   "cell_type": "code",
   "execution_count": 114,
   "metadata": {},
   "outputs": [],
   "source": [
    "estado0=   [[7,7,0, 0, 0, 0, 0, 0, 0, 0, 0, 0, 7,7],\n",
    "            [7,7,0, 0, 0, 0, 0, 0, 0, 0, 0, 0, 7,7],\n",
    "            [7,7,0, 0, 0, 0, 0, 0, 0, 0, 0, 0, 7,7],\n",
    "            [7,7,0, 0, 0, 0, 0, 0, 0, 0, 0, 0, 7,7],\n",
    "            [7,7,0, 0, 0, 0, 0, 0, 0, 0, 0, 0, 7,7],\n",
    "            [7,7,0, 0, 0, 0, 0, 0, 0, 0, 0, 0, 7,7],\n",
    "            [7,7,0, 0, 0, 0, 0, 0, 0, 0, 0, 0, 7,7],\n",
    "            [7,7,0, 0, 0, 0, 0, 0, 0, 0, 0, 0, 7,7],\n",
    "            [7,7,0, 0, 0, 0, 0, 0, 0, 0, 0, 0, 7,7],\n",
    "            [7,7,0, 0, 0, 0, 0, 0, 0, 0, 0, 0, 7,7],\n",
    "            [7,7,0, 0, 0, 0, 0, 0, 0, 0, 0, 0, 7,7],\n",
    "            [7,7,0, 0, 0, 0, 0, 0, 0, 0, 0, 0, 7,7],\n",
    "            [7,7,0, 0, 0, 0, 0, 0, 0, 0, 0, 0, 7,7],\n",
    "            [7,7,0, 0, 0, 0, 0, 0, 0, 0, 0, 0, 7,7],\n",
    "            [7,7,0, 0, 0, 0, 0, 0, 0, 0, 0, 0, 7,7],\n",
    "            [7,7,0, 0, 0, 0, 0, 0, 0, 0, 0, 0, 7,7],\n",
    "            [7,7,0, 0, 0, 0, 0, 0, 0, 0, 0, 0, 7,7],\n",
    "            [7,7,0, 0, 0, 0, 0, 0, 0, 0, 0, 0, 7,7],\n",
    "            [7,7,0, 0, 0, 0, 0, 0, 0, 0, 0, 0, 7,7],\n",
    "            [7,7,0, 0, 0, 0, 0, 0, 0, 0, 0, 0, 7,7],\n",
    "            [7,7,0, 0, 0, 0, 0, 0, 0, 0, 0, 0, 7,7],\n",
    "            [7,7,3, 3, 3, 3, 0, 0, 3, 3, 3, 3, 7,7],\n",
    "            [7,7,3, 3, 3, 3, 3, 0, 3, 3, 3, 3, 7,7],\n",
    "            [7,7,7, 7, 7, 7, 7, 7, 7, 7, 7, 7, 7,7],\n",
    "            [7,7,7, 7, 7, 7, 7, 7, 7, 7, 7, 7, 7,7]\n",
    "            ]\n",
    "   \n",
    "estado1=   [[7,7,0, 0, 0, 0, 0, 0, 0, 1, 0, 0, 7,7],\n",
    "            [7,7,0, 0, 0, 0, 0, 0, 1, 2, 1, 0, 7,7],\n",
    "            [7,7,0, 0, 0, 0, 0, 0, 0, 0, 0, 0, 7,7],\n",
    "            [7,7,0, 0, 0, 0, 0, 0, 0, 0, 0, 0, 7,7],\n",
    "            [7,7,0, 0, 0, 0, 0, 0, 0, 0, 0, 0, 7,7],\n",
    "            [7,7,0, 0, 0, 0, 0, 0, 0, 0, 0, 0, 7,7],\n",
    "            [7,7,0, 0, 0, 0, 0, 0, 0, 0, 0, 0, 7,7],\n",
    "            [7,7,0, 0, 0, 0, 0, 0, 0, 0, 0, 0, 7,7],\n",
    "            [7,7,0, 0, 0, 0, 0, 0, 0, 0, 0, 0, 7,7],\n",
    "            [7,7,0, 0, 0, 0, 0, 0, 0, 0, 0, 0, 7,7],\n",
    "            [7,7,0, 0, 0, 0, 0, 0, 0, 0, 0, 0, 7,7],\n",
    "            [7,7,0, 0, 0, 0, 0, 0, 0, 0, 0, 0, 7,7],\n",
    "            [7,7,0, 0, 0, 0, 0, 0, 0, 0, 0, 0, 7,7],\n",
    "            [7,7,0, 0, 0, 0, 0, 0, 0, 0, 0, 0, 7,7],\n",
    "            [7,7,0, 0, 0, 0, 0, 0, 0, 0, 0, 0, 7,7],\n",
    "            [7,7,0, 0, 0, 0, 0, 0, 0, 0, 0, 0, 7,7],\n",
    "            [7,7,0, 0, 0, 0, 0, 0, 0, 0, 0, 0, 7,7],\n",
    "            [7,7,0, 0, 0, 0, 0, 0, 0, 0, 0, 0, 7,7],\n",
    "            [7,7,0, 0, 0, 0, 0, 0, 0, 0, 0, 0, 7,7],\n",
    "            [7,7,0, 0, 0, 0, 0, 0, 0, 0, 0, 0, 7,7],\n",
    "            [7,7,0, 0, 0, 0, 0, 0, 0, 0, 0, 0, 7,7],\n",
    "            [7,7,3, 3, 3, 3, 0, 0, 3, 3, 3, 3, 7,7],\n",
    "            [7,7,3, 3, 3, 3, 3, 0, 3, 3, 3, 3, 7,7],\n",
    "            [7,7,7, 7, 7, 7, 7, 7, 7, 7, 7, 7, 7,7],\n",
    "            [7,7,7, 7, 7, 7, 7, 7, 7, 7, 7, 7, 7,7]\n",
    "            ]\n",
    "   \n",
    "estado2=    [[7, 7, 0, 0, 0, 0, 0, 0, 0, 0, 0, 0, 7, 7],\n",
    "             [7, 7, 0, 0, 0, 0, 0, 0, 0, 0, 0, 0, 7, 7],\n",
    "             [7, 7, 0, 0, 0, 0, 0, 0, 0, 0, 0, 0, 7, 7],\n",
    "             [7, 7, 0, 0, 0, 0, 0, 0, 0, 0, 0, 0, 7, 7], \n",
    "             [7, 7, 0, 0, 0, 0, 0, 0, 0, 0, 0, 0, 7, 7], \n",
    "             [7, 7, 0, 0, 0, 0, 0, 0, 0, 0, 0, 0, 7, 7], \n",
    "             [7, 7, 0, 0, 0, 0, 0, 0, 0, 0, 0, 0, 7, 7], \n",
    "             [7, 7, 0, 0, 0, 0, 0, 0, 0, 0, 0, 0, 7, 7], \n",
    "             [7, 7, 0, 0, 0, 0, 0, 0, 0, 0, 0, 0, 7, 7], \n",
    "             [7, 7, 0, 0, 0, 0, 0, 0, 0, 0, 0, 0, 7, 7],\n",
    "             [7, 7, 0, 0, 0, 0, 0, 0, 0, 0, 0, 0, 7, 7], #10 \n",
    "             [7, 7, 0, 0, 0, 0, 0, 0, 0, 0, 0, 0, 7, 7], \n",
    "             [7, 7, 0, 0, 0, 0, 0, 0, 0, 0, 0, 0, 7, 7], \n",
    "             [7, 7, 0, 0, 0, 0, 0, 0, 0, 0, 0, 0, 7, 7], \n",
    "             [7, 7, 0, 0, 0, 0, 0, 0, 0, 0, 0, 0, 7, 7], \n",
    "             [7, 7, 0, 0, 0, 0, 0, 0, 0, 0, 0, 0, 7, 7],\n",
    "             [7, 7, 0, 0, 0, 0, 0, 0, 0, 0, 0, 0, 7, 7], \n",
    "             [7, 7, 0, 0, 0, 0, 0, 0, 0, 0, 0, 0, 7, 7], \n",
    "             [7, 7, 0, 0, 0, 0, 0, 0, 0, 0, 0, 0, 7, 7], \n",
    "             [7, 7, 0, 0, 0, 0, 0, 0, 0, 0, 0, 0, 7, 7], \n",
    "             [7, 7, 0, 0, 0, 0, 0, 1, 0, 0, 0, 0, 7, 7], #20\n",
    "             [7, 7, 3, 3, 3, 3, 1, 2, 3, 3, 3, 3, 7, 7],\n",
    "             [7, 7, 3, 3, 3, 3, 3, 1, 3, 3, 3, 3, 7, 7],\n",
    "             [7, 7, 7, 7, 7, 7, 7, 7, 7, 7, 7, 7, 7, 7], \n",
    "             [7, 7, 7, 7, 7, 7, 7, 7, 7, 7, 7, 7, 7, 7]\n",
    "            ]\n",
    "\n",
    "\n"
   ]
  },
  {
   "cell_type": "code",
   "execution_count": 91,
   "metadata": {},
   "outputs": [],
   "source": [
    "class MoverAbajo(probee.Acción):\n",
    "    def __init__(self):\n",
    "        nombre = 'muevo abajo'\n",
    "        super().__init__(nombre)\n",
    "        \n",
    "    def es_aplicable(self,estado):\n",
    "        \n",
    "        return True\n",
    "    def coste_de_aplicar(self,estado):    \n",
    "        return 1\n",
    "    \n",
    "    def eliminar_filas_llenas(estado):\n",
    "        sehacefija=False\n",
    "        for x, i in list(enumerate(estado)):\n",
    "            numerode3=0\n",
    "            for y, j in list(enumerate(i)):\n",
    "                if j==3:\n",
    "                    numerode3=numerode3+1\n",
    "            if numerode3==10:\n",
    "                estado.pop(x)\n",
    "                estado.insert(0,[7,7,0,0,0,0,0,0,0,0,0,0,7,7])\n",
    "                \n",
    "        return estado\n",
    "    \n",
    "    def se_hace_fija(estado):\n",
    "        sehacefija=False\n",
    "        for x, i in list(enumerate(estado)):\n",
    "            for y, j in list(enumerate(i)):\n",
    "                if j==2:\n",
    "                    if(estado[x+1][y]==3 or estado[x+1][y]==7):\n",
    "                        sehacefija=True\n",
    "                if j==1:\n",
    "                    if(estado[x+1][y]==3 or estado[x+1][y]==7):\n",
    "                        sehacefija=True\n",
    "               \n",
    "        return sehacefija\n",
    "                \n",
    "    def aplicar(self,estado):\n",
    "        nuevo_estado = copy.deepcopy(estado)\n",
    "        if MoverAbajo.se_hace_fija(estado):\n",
    "            for y, i in reversed(list(enumerate(estado))):\n",
    "                for x, j in list(enumerate(i)):\n",
    "                    if j==1:\n",
    "                        nuevo_estado[y][x]=3\n",
    "                    if j==2:\n",
    "                        nuevo_estado[y][x]=3\n",
    "        nuevo_estado=MoverAbajo.eliminar_filas_llenas(nuevo_estado)\n",
    "        if not(MoverAbajo.se_hace_fija(estado)):\n",
    "            for y, i in reversed(list(enumerate(estado))):\n",
    "                for x, j in list(enumerate(i)):\n",
    "                    if j==1:\n",
    "                        nuevo_estado[y+1][x]=1\n",
    "                        nuevo_estado[y][x]=0\n",
    "                    if j==2:\n",
    "                        nuevo_estado[y+1][x]=2\n",
    "                        nuevo_estado[y][x]=0\n",
    "        return nuevo_estado       "
   ]
  },
  {
   "cell_type": "code",
   "execution_count": 52,
   "metadata": {},
   "outputs": [],
   "source": [
    "class MoverIzquierda(probee.Acción):\n",
    "    def __init__(self):\n",
    "        nombre = 'muevo izquierda'\n",
    "        super().__init__(nombre)\n",
    "        \n",
    "    def es_aplicable(self,estado):\n",
    "        res=True\n",
    "        for x, i in list(enumerate(estado)):\n",
    "            for y, j in list(enumerate(i)):\n",
    "                if j==2:\n",
    "                    if(estado[x][y-1]==3 or estado[x][y-1]==7):\n",
    "                        res=False\n",
    "                if j==1:\n",
    "                    if(estado[x][y-1]==3 or estado[x][y-1]==7):\n",
    "                        res=False  \n",
    "        return res\n",
    "    def coste_de_aplicar(self,estado):    \n",
    "        return 1             \n",
    "        \n",
    "\n",
    "    def aplicar(self,estado):\n",
    "        nuevo_estado = copy.deepcopy(estado)\n",
    "        for y, i in list(enumerate(estado)):\n",
    "            for x, j in list(enumerate(i)):\n",
    "                if j==1:\n",
    "                    nuevo_estado[y][x-1]=1\n",
    "                    nuevo_estado[y][x]=0\n",
    "                if j==2:\n",
    "                    nuevo_estado[y][x-1]=2\n",
    "                    nuevo_estado[y][x]=0\n",
    "        return nuevo_estado   \n",
    "                \n"
   ]
  },
  {
   "cell_type": "code",
   "execution_count": 53,
   "metadata": {},
   "outputs": [],
   "source": [
    "class MoverDerecha(probee.Acción):\n",
    "    def __init__(self):\n",
    "        nombre = 'muevo derecha'\n",
    "        super().__init__(nombre)\n",
    "        \n",
    "    def es_aplicable(self,estado):\n",
    "        res=True\n",
    "        for x, i in list(enumerate(estado)):\n",
    "            for y, j in list(enumerate(i)):\n",
    "                if j==2:\n",
    "                    if(estado[x][y+1]==3 or estado[x][y+1]==7):\n",
    "                        res=False\n",
    "                if j==1:\n",
    "                    if(estado[x][y+1]==3 or estado[x][y+1]==7):\n",
    "                        res=False  \n",
    "        return res\n",
    "    def coste_de_aplicar(self,estado):    \n",
    "        return 1           \n",
    "        \n",
    "\n",
    "    def aplicar(self,estado):\n",
    "        nuevo_estado = copy.deepcopy(estado)\n",
    "        for y, i in list(enumerate(estado)):\n",
    "            for x, j in reversed(list(enumerate(i))):\n",
    "                if j==1:\n",
    "                    nuevo_estado[y][x+1]=1\n",
    "                    nuevo_estado[y][x]=0\n",
    "                if j==2:\n",
    "                    nuevo_estado[y][x+1]=2\n",
    "                    nuevo_estado[y][x]=0\n",
    "        return nuevo_estado"
   ]
  },
  {
   "cell_type": "code",
   "execution_count": 54,
   "metadata": {},
   "outputs": [],
   "source": [
    "class Rotar(probee.Acción):\n",
    "    def __init__(self):\n",
    "        nombre = 'Roto 90 grados'\n",
    "        super().__init__(nombre)\n",
    "        \n",
    "    def es_de_cinco(estado):\n",
    "        for x, i in list(enumerate(estado)):\n",
    "            for y, j in list(enumerate(i)):\n",
    "                if j==2:\n",
    "                    return estado[x+2][y]==1 or estado[x-2][y]==1 or estado[x][y+2]==1 or estado[x][y-2]\n",
    "        \n",
    "    def coste_de_aplicar(self,estado):    \n",
    "        return 1\n",
    "    \n",
    "    def es_aplicable(self,estado):\n",
    "        for y, i in list(enumerate(estado)):\n",
    "            for x, j in list(enumerate(i)):\n",
    "                if j==2:\n",
    "                    if estado[y][x+1]==1:\n",
    "                        if estado[y-1][x]==3 or estado[y-1][x]==7:\n",
    "                            return False\n",
    "                    if estado[y][x-1]==1:\n",
    "                        if estado[y+1][x]==3 or estado[y+1][x]==7:\n",
    "                            return False\n",
    "                    if estado[y+1][x]==1:\n",
    "                        if estado[y][x+1]==3 or estado[y][x+1]==7:\n",
    "                            return False\n",
    "                    if estado[y-1][x]==1:\n",
    "                         if estado[y][x-1]==3 or estado[y][x-1]==7:\n",
    "                            return False\n",
    "                    if estado[y-1][x-1]==1:\n",
    "                         if estado[y+1][x]==3 or estado[y+1][x]==7:\n",
    "                            return False\n",
    "                    if estado[y+1][x-1]==1:\n",
    "                        if estado[y+1][x+1]==3 or estado[y+1][x+1]==7:\n",
    "                            return False\n",
    "                    if estado[y+1][x+1]==1:\n",
    "                        if estado[y-1][x+1]==3 or estado[y-1][x+1]==7:\n",
    "                            return False\n",
    "                    if estado[y-1][x+1]==1:\n",
    "                        if estado[y-1][x-1]==3 or estado[y-1][x-1]==7:\n",
    "                            return False                    \n",
    "                    if Rotar.es_de_cinco(estado):\n",
    "                        if estado[y][x+2]==1:\n",
    "                            if estado[y-2][x]==3 or estado[y-2][x]==7:\n",
    "                                return False     \n",
    "                        if estado[y][x-2]==1:\n",
    "                             if estado[y+2][x]==3 or estado[y+2][x]==7:\n",
    "                                return False     \n",
    "                        if estado[y+2][x]==1:\n",
    "                            if estado[y][x+2]==3 or estado[y][x+2]==7:\n",
    "                                return False     \n",
    "                        if estado[y-2][x]==1:\n",
    "                            if estado[y][x-2]==3 or estado[y][x-2]==7:\n",
    "                                return False     \n",
    "        return True                \n",
    "        \n",
    "\n",
    "    def aplicar(self,estado):\n",
    "        nuevo_estado = copy.deepcopy(estado)\n",
    "        for y, i in list(enumerate(estado)):\n",
    "            for x, j in list(enumerate(i)):\n",
    "                if j==2:\n",
    "                    if estado[y-1][x-1]==1:\n",
    "                        nuevo_estado[y-1][x-1]=0\n",
    "                    if estado[y+1][x-1]==1:\n",
    "                        nuevo_estado[y+1][x-1]=0\n",
    "                    if estado[y+1][x+1]==1:\n",
    "                        nuevo_estado[y+1][x+1]=0\n",
    "                    if estado[y-1][x+1]==1:\n",
    "                        nuevo_estado[y-1][x+1]=0  \n",
    "                    if estado[y][x+1]==1:\n",
    "                        nuevo_estado[y][x+1]=0\n",
    "                    if estado[y][x-1]==1:\n",
    "                        nuevo_estado[y][x-1]=0\n",
    "                    if estado[y+1][x]==1:\n",
    "                        nuevo_estado[y+1][x]=0\n",
    "                    if estado[y-1][x]==1:\n",
    "                        nuevo_estado[y-1][x]=0\n",
    "                    if estado[y][x+1]==1:\n",
    "                        nuevo_estado[y-1][x]=1\n",
    "                    if estado[y][x-1]==1:\n",
    "                        nuevo_estado[y+1][x]=1\n",
    "                    if estado[y+1][x]==1:\n",
    "                        nuevo_estado[y][x+1]=1\n",
    "                    if estado[y-1][x]==1:\n",
    "                        nuevo_estado[y][x-1]=1\n",
    "                    if estado[y-1][x-1]==1:\n",
    "                        nuevo_estado[y+1][x-1]=1\n",
    "                    if estado[y+1][x-1]==1:\n",
    "                        nuevo_estado[y+1][x+1]=1\n",
    "                    if estado[y+1][x+1]==1:\n",
    "                        nuevo_estado[y-1][x+1]=1\n",
    "                    if estado[y-1][x+1]==1:\n",
    "                        nuevo_estado[y-1][x-1]=1                       \n",
    "                    if Rotar.es_de_cinco(estado):\n",
    "                        if estado[y][x+2]==1:\n",
    "                            nuevo_estado[y][x+2]=0\n",
    "                        if estado[y][x-2]==1:\n",
    "                            nuevo_estado[y][x-2]=0\n",
    "                        if estado[y+2][x]==1:\n",
    "                            nuevo_estado[y+2][x]=0\n",
    "                        if estado[y-2][x]==1:\n",
    "                            nuevo_estado[y-2][x]=0\n",
    "\n",
    "                        if estado[y][x+2]==1:\n",
    "                            nuevo_estado[y-2][x]=1\n",
    "                        if estado[y][x-2]==1:\n",
    "                            nuevo_estado[y+2][x]=1\n",
    "                        if estado[y+2][x]==1:\n",
    "                            nuevo_estado[y][x+2]=1\n",
    "                        if estado[y-2][x]==1:\n",
    "                            nuevo_estado[y][x-2]=1      \n",
    "        return nuevo_estado   \n",
    "                "
   ]
  },
  {
   "cell_type": "code",
   "execution_count": 232,
   "metadata": {},
   "outputs": [],
   "source": [
    "acciones =[MoverAbajo(),MoverIzquierda(),MoverDerecha(),Rotar()]\n",
    "estado_inicial = estado1\n",
    "estado_final = estado2\n",
    "tetris=probee.ProblemaEspacioEstados(acciones,estado_inicial,[estado_final])"
   ]
  },
  {
   "cell_type": "code",
   "execution_count": 233,
   "metadata": {},
   "outputs": [
    {
     "data": {
      "text/html": [
       "<table><tr><td>7</td><td>7</td><td>0</td><td>0</td><td>0</td><td>0</td><td>0</td><td>0</td><td>0</td><td>0</td><td>0</td><td>0</td><td>7</td><td>7</td></tr><tr><td>7</td><td>7</td><td>0</td><td>0</td><td>0</td><td>0</td><td>0</td><td>0</td><td>0</td><td>1</td><td>0</td><td>0</td><td>7</td><td>7</td></tr><tr><td>7</td><td>7</td><td>0</td><td>0</td><td>0</td><td>0</td><td>0</td><td>0</td><td>1</td><td>2</td><td>1</td><td>0</td><td>7</td><td>7</td></tr><tr><td>7</td><td>7</td><td>0</td><td>0</td><td>0</td><td>0</td><td>0</td><td>0</td><td>0</td><td>0</td><td>0</td><td>0</td><td>7</td><td>7</td></tr><tr><td>7</td><td>7</td><td>0</td><td>0</td><td>0</td><td>0</td><td>0</td><td>0</td><td>0</td><td>0</td><td>0</td><td>0</td><td>7</td><td>7</td></tr><tr><td>7</td><td>7</td><td>0</td><td>0</td><td>0</td><td>0</td><td>0</td><td>0</td><td>0</td><td>0</td><td>0</td><td>0</td><td>7</td><td>7</td></tr><tr><td>7</td><td>7</td><td>0</td><td>0</td><td>0</td><td>0</td><td>0</td><td>0</td><td>0</td><td>0</td><td>0</td><td>0</td><td>7</td><td>7</td></tr><tr><td>7</td><td>7</td><td>0</td><td>0</td><td>0</td><td>0</td><td>0</td><td>0</td><td>0</td><td>0</td><td>0</td><td>0</td><td>7</td><td>7</td></tr><tr><td>7</td><td>7</td><td>0</td><td>0</td><td>0</td><td>0</td><td>0</td><td>0</td><td>0</td><td>0</td><td>0</td><td>0</td><td>7</td><td>7</td></tr><tr><td>7</td><td>7</td><td>0</td><td>0</td><td>0</td><td>0</td><td>0</td><td>0</td><td>0</td><td>0</td><td>0</td><td>0</td><td>7</td><td>7</td></tr><tr><td>7</td><td>7</td><td>0</td><td>0</td><td>0</td><td>0</td><td>0</td><td>0</td><td>0</td><td>0</td><td>0</td><td>0</td><td>7</td><td>7</td></tr><tr><td>7</td><td>7</td><td>0</td><td>0</td><td>0</td><td>0</td><td>0</td><td>0</td><td>0</td><td>0</td><td>0</td><td>0</td><td>7</td><td>7</td></tr><tr><td>7</td><td>7</td><td>0</td><td>0</td><td>0</td><td>0</td><td>0</td><td>0</td><td>0</td><td>0</td><td>0</td><td>0</td><td>7</td><td>7</td></tr><tr><td>7</td><td>7</td><td>0</td><td>0</td><td>0</td><td>0</td><td>0</td><td>0</td><td>0</td><td>0</td><td>0</td><td>0</td><td>7</td><td>7</td></tr><tr><td>7</td><td>7</td><td>0</td><td>0</td><td>0</td><td>0</td><td>0</td><td>0</td><td>0</td><td>0</td><td>0</td><td>0</td><td>7</td><td>7</td></tr><tr><td>7</td><td>7</td><td>0</td><td>0</td><td>0</td><td>0</td><td>0</td><td>0</td><td>0</td><td>0</td><td>0</td><td>0</td><td>7</td><td>7</td></tr><tr><td>7</td><td>7</td><td>0</td><td>0</td><td>0</td><td>0</td><td>0</td><td>0</td><td>0</td><td>0</td><td>0</td><td>0</td><td>7</td><td>7</td></tr><tr><td>7</td><td>7</td><td>0</td><td>0</td><td>0</td><td>0</td><td>0</td><td>0</td><td>0</td><td>0</td><td>0</td><td>0</td><td>7</td><td>7</td></tr><tr><td>7</td><td>7</td><td>0</td><td>0</td><td>0</td><td>0</td><td>0</td><td>0</td><td>0</td><td>0</td><td>0</td><td>0</td><td>7</td><td>7</td></tr><tr><td>7</td><td>7</td><td>0</td><td>0</td><td>0</td><td>0</td><td>0</td><td>0</td><td>0</td><td>0</td><td>0</td><td>0</td><td>7</td><td>7</td></tr><tr><td>7</td><td>7</td><td>0</td><td>0</td><td>0</td><td>0</td><td>0</td><td>0</td><td>0</td><td>0</td><td>0</td><td>0</td><td>7</td><td>7</td></tr><tr><td>7</td><td>7</td><td>3</td><td>3</td><td>3</td><td>3</td><td>0</td><td>0</td><td>3</td><td>3</td><td>3</td><td>3</td><td>7</td><td>7</td></tr><tr><td>7</td><td>7</td><td>3</td><td>3</td><td>3</td><td>3</td><td>3</td><td>0</td><td>3</td><td>3</td><td>3</td><td>3</td><td>7</td><td>7</td></tr><tr><td>7</td><td>7</td><td>7</td><td>7</td><td>7</td><td>7</td><td>7</td><td>7</td><td>7</td><td>7</td><td>7</td><td>7</td><td>7</td><td>7</td></tr><tr><td>7</td><td>7</td><td>7</td><td>7</td><td>7</td><td>7</td><td>7</td><td>7</td><td>7</td><td>7</td><td>7</td><td>7</td><td>7</td><td>7</td></tr></table>"
      ],
      "text/plain": [
       "<IPython.core.display.HTML object>"
      ]
     },
     "metadata": {},
     "output_type": "display_data"
    },
    {
     "data": {
      "text/html": [
       "<table><tr><td>7</td><td>7</td><td>0</td><td>0</td><td>0</td><td>0</td><td>0</td><td>0</td><td>0</td><td>1</td><td>0</td><td>0</td><td>7</td><td>7</td></tr><tr><td>7</td><td>7</td><td>0</td><td>0</td><td>0</td><td>0</td><td>0</td><td>0</td><td>1</td><td>2</td><td>1</td><td>0</td><td>7</td><td>7</td></tr><tr><td>7</td><td>7</td><td>0</td><td>0</td><td>0</td><td>0</td><td>0</td><td>0</td><td>0</td><td>0</td><td>0</td><td>0</td><td>7</td><td>7</td></tr><tr><td>7</td><td>7</td><td>0</td><td>0</td><td>0</td><td>0</td><td>0</td><td>0</td><td>0</td><td>0</td><td>0</td><td>0</td><td>7</td><td>7</td></tr><tr><td>7</td><td>7</td><td>0</td><td>0</td><td>0</td><td>0</td><td>0</td><td>0</td><td>0</td><td>0</td><td>0</td><td>0</td><td>7</td><td>7</td></tr><tr><td>7</td><td>7</td><td>0</td><td>0</td><td>0</td><td>0</td><td>0</td><td>0</td><td>0</td><td>0</td><td>0</td><td>0</td><td>7</td><td>7</td></tr><tr><td>7</td><td>7</td><td>0</td><td>0</td><td>0</td><td>0</td><td>0</td><td>0</td><td>0</td><td>0</td><td>0</td><td>0</td><td>7</td><td>7</td></tr><tr><td>7</td><td>7</td><td>0</td><td>0</td><td>0</td><td>0</td><td>0</td><td>0</td><td>0</td><td>0</td><td>0</td><td>0</td><td>7</td><td>7</td></tr><tr><td>7</td><td>7</td><td>0</td><td>0</td><td>0</td><td>0</td><td>0</td><td>0</td><td>0</td><td>0</td><td>0</td><td>0</td><td>7</td><td>7</td></tr><tr><td>7</td><td>7</td><td>0</td><td>0</td><td>0</td><td>0</td><td>0</td><td>0</td><td>0</td><td>0</td><td>0</td><td>0</td><td>7</td><td>7</td></tr><tr><td>7</td><td>7</td><td>0</td><td>0</td><td>0</td><td>0</td><td>0</td><td>0</td><td>0</td><td>0</td><td>0</td><td>0</td><td>7</td><td>7</td></tr><tr><td>7</td><td>7</td><td>0</td><td>0</td><td>0</td><td>0</td><td>0</td><td>0</td><td>0</td><td>0</td><td>0</td><td>0</td><td>7</td><td>7</td></tr><tr><td>7</td><td>7</td><td>0</td><td>0</td><td>0</td><td>0</td><td>0</td><td>0</td><td>0</td><td>0</td><td>0</td><td>0</td><td>7</td><td>7</td></tr><tr><td>7</td><td>7</td><td>0</td><td>0</td><td>0</td><td>0</td><td>0</td><td>0</td><td>0</td><td>0</td><td>0</td><td>0</td><td>7</td><td>7</td></tr><tr><td>7</td><td>7</td><td>0</td><td>0</td><td>0</td><td>0</td><td>0</td><td>0</td><td>0</td><td>0</td><td>0</td><td>0</td><td>7</td><td>7</td></tr><tr><td>7</td><td>7</td><td>0</td><td>0</td><td>0</td><td>0</td><td>0</td><td>0</td><td>0</td><td>0</td><td>0</td><td>0</td><td>7</td><td>7</td></tr><tr><td>7</td><td>7</td><td>0</td><td>0</td><td>0</td><td>0</td><td>0</td><td>0</td><td>0</td><td>0</td><td>0</td><td>0</td><td>7</td><td>7</td></tr><tr><td>7</td><td>7</td><td>0</td><td>0</td><td>0</td><td>0</td><td>0</td><td>0</td><td>0</td><td>0</td><td>0</td><td>0</td><td>7</td><td>7</td></tr><tr><td>7</td><td>7</td><td>0</td><td>0</td><td>0</td><td>0</td><td>0</td><td>0</td><td>0</td><td>0</td><td>0</td><td>0</td><td>7</td><td>7</td></tr><tr><td>7</td><td>7</td><td>0</td><td>0</td><td>0</td><td>0</td><td>0</td><td>0</td><td>0</td><td>0</td><td>0</td><td>0</td><td>7</td><td>7</td></tr><tr><td>7</td><td>7</td><td>0</td><td>0</td><td>0</td><td>0</td><td>0</td><td>0</td><td>0</td><td>0</td><td>0</td><td>0</td><td>7</td><td>7</td></tr><tr><td>7</td><td>7</td><td>3</td><td>3</td><td>3</td><td>3</td><td>0</td><td>0</td><td>3</td><td>3</td><td>3</td><td>3</td><td>7</td><td>7</td></tr><tr><td>7</td><td>7</td><td>3</td><td>3</td><td>3</td><td>3</td><td>3</td><td>0</td><td>3</td><td>3</td><td>3</td><td>3</td><td>7</td><td>7</td></tr><tr><td>7</td><td>7</td><td>7</td><td>7</td><td>7</td><td>7</td><td>7</td><td>7</td><td>7</td><td>7</td><td>7</td><td>7</td><td>7</td><td>7</td></tr><tr><td>7</td><td>7</td><td>7</td><td>7</td><td>7</td><td>7</td><td>7</td><td>7</td><td>7</td><td>7</td><td>7</td><td>7</td><td>7</td><td>7</td></tr></table>"
      ],
      "text/plain": [
       "<IPython.core.display.HTML object>"
      ]
     },
     "metadata": {},
     "output_type": "display_data"
    }
   ],
   "source": [
    "from IPython.display import HTML, display\n",
    "\n",
    "display(HTML(\n",
    "    '<table><tr>{}</tr></table>'.format(\n",
    "        '</tr><tr>'.join(\n",
    "            '<td>{}</td>'.format('</td><td>'.join(str(_) for _ in row)) for row in MoverAbajo.aplicar(estado1,estado1))\n",
    "        )\n",
    " ))\n",
    "display(HTML(\n",
    "    '<table><tr>{}</tr></table>'.format(\n",
    "        '</tr><tr>'.join(\n",
    "            '<td>{}</td>'.format('</td><td>'.join(str(_) for _ in row)) for row in estado1)\n",
    "        )))"
   ]
  },
  {
   "cell_type": "code",
   "execution_count": 234,
   "metadata": {},
   "outputs": [
    {
     "data": {
      "text/plain": [
       "True"
      ]
     },
     "execution_count": 234,
     "metadata": {},
     "output_type": "execute_result"
    }
   ],
   "source": [
    "MoverIzquierda.es_aplicable(estado1,estado1)"
   ]
  },
  {
   "cell_type": "code",
   "execution_count": 235,
   "metadata": {},
   "outputs": [],
   "source": [
    "#from IPython.display import HTML, display\n",
    "def printBonito(estado1):\n",
    "    display(HTML(\n",
    "        '<table><tr>{}</tr></table>'.format(\n",
    "            '</tr><tr>'.join(\n",
    "                '<td>{}</td>'.format('</td><td>'.join(str(_) for _ in row)) for row in estado1)\n",
    "            )))\n",
    "\n",
    "result_colors = [\n",
    "        'white','green','blue','red','yellow','cyan','magenta','black'\n",
    "    ]\n",
    "    \n",
    "def printBonitoColor(test_results):\n",
    "    t = HTML.Table(header_row=['Test', 'Result'])\n",
    "    for test_id in sorted(test_results[0]):\n",
    "        # create the colored cell:\n",
    "        color = result_colors[test_results[test_id]]\n",
    "        colored_result = HTML.TableCell(test_results[test_id], bgcolor=color)\n",
    "        # append the row with two cells:\n",
    "        t.rows.append([test_id, colored_result])\n",
    "    print(str(t))"
   ]
  },
  {
   "cell_type": "code",
   "execution_count": 29,
   "metadata": {},
   "outputs": [
    {
     "name": "stdout",
     "output_type": "stream",
     "text": [
      "[[7, 7, 0, 0, 0, 0, 0, 0, 0, 0, 0, 0, 7, 7], [7, 7, 0, 0, 0, 0, 0, 0, 0, 0, 0, 0, 7, 7], [7, 7, 0, 0, 0, 0, 0, 0, 0, 0, 0, 0, 7, 7], [7, 7, 0, 0, 0, 0, 0, 0, 0, 0, 0, 0, 7, 7], [7, 7, 0, 0, 0, 0, 0, 0, 0, 0, 0, 0, 7, 7], [7, 7, 0, 0, 0, 0, 0, 0, 0, 0, 0, 0, 7, 7], [7, 7, 0, 0, 0, 0, 0, 0, 0, 0, 0, 0, 7, 7], [7, 7, 0, 0, 0, 0, 0, 0, 0, 0, 0, 0, 7, 7], [7, 7, 0, 0, 0, 0, 0, 0, 0, 0, 0, 0, 7, 7], [7, 7, 0, 0, 0, 0, 0, 0, 0, 0, 0, 0, 7, 7], [7, 7, 0, 0, 0, 0, 0, 0, 0, 0, 0, 0, 7, 7], [7, 7, 0, 0, 0, 0, 0, 0, 0, 0, 0, 0, 7, 7], [7, 7, 0, 0, 0, 0, 0, 0, 0, 0, 0, 0, 7, 7], [7, 7, 0, 0, 0, 0, 0, 0, 0, 0, 0, 0, 7, 7], [7, 7, 0, 0, 0, 0, 0, 0, 0, 0, 0, 0, 7, 7], [7, 7, 0, 0, 0, 0, 0, 0, 0, 0, 0, 0, 7, 7], [7, 7, 0, 0, 0, 0, 0, 0, 0, 0, 0, 0, 7, 7], [7, 7, 0, 0, 0, 0, 0, 0, 0, 0, 0, 0, 7, 7], [7, 7, 0, 0, 0, 0, 0, 0, 0, 0, 0, 0, 7, 7], [7, 7, 0, 0, 0, 0, 0, 0, 0, 0, 0, 0, 7, 7], [7, 7, 0, 0, 0, 0, 0, 0, 0, 0, 0, 0, 7, 7], [7, 7, 3, 3, 3, 3, 0, 0, 3, 3, 3, 3, 7, 7], [7, 7, 3, 3, 3, 3, 3, 0, 3, 3, 3, 3, 7, 7], [7, 7, 7, 7, 7, 7, 7, 7, 7, 7, 7, 7, 7, 7], [7, 7, 7, 7, 7, 7, 7, 7, 7, 7, 7, 7, 7, 7]]\n"
     ]
    }
   ],
   "source": [
    "print(MoverDerecha.aplicar(estado1,estado1))"
   ]
  },
  {
   "cell_type": "code",
   "execution_count": 30,
   "metadata": {},
   "outputs": [
    {
     "name": "stdout",
     "output_type": "stream",
     "text": [
      "[[7, 7, 0, 0, 0, 0, 0, 0, 0, 0, 0, 0, 7, 7], [7, 7, 0, 0, 0, 0, 0, 0, 0, 0, 0, 0, 7, 7], [7, 7, 0, 0, 0, 0, 0, 0, 0, 0, 0, 0, 7, 7], [7, 7, 0, 0, 0, 0, 0, 0, 0, 0, 0, 0, 7, 7], [7, 7, 0, 0, 0, 0, 0, 0, 0, 0, 0, 0, 7, 7], [7, 7, 0, 0, 0, 0, 0, 0, 0, 0, 0, 0, 7, 7], [7, 7, 0, 0, 0, 0, 0, 0, 0, 0, 0, 0, 7, 7], [7, 7, 0, 0, 0, 0, 0, 0, 0, 0, 0, 0, 7, 7], [7, 7, 0, 0, 0, 0, 0, 0, 0, 0, 0, 0, 7, 7], [7, 7, 0, 0, 0, 0, 0, 0, 0, 0, 0, 0, 7, 7], [7, 7, 0, 0, 0, 0, 0, 0, 0, 0, 0, 0, 7, 7], [7, 7, 0, 0, 0, 0, 0, 0, 0, 0, 0, 0, 7, 7], [7, 7, 0, 0, 0, 0, 0, 0, 0, 0, 0, 0, 7, 7], [7, 7, 0, 0, 0, 0, 0, 0, 0, 0, 0, 0, 7, 7], [7, 7, 0, 0, 0, 0, 0, 0, 0, 0, 0, 0, 7, 7], [7, 7, 0, 0, 0, 0, 0, 0, 0, 0, 0, 0, 7, 7], [7, 7, 0, 0, 0, 0, 0, 0, 0, 0, 0, 0, 7, 7], [7, 7, 0, 0, 0, 0, 0, 0, 0, 0, 0, 0, 7, 7], [7, 7, 0, 0, 0, 0, 0, 0, 0, 0, 0, 0, 7, 7], [7, 7, 0, 0, 0, 0, 0, 0, 0, 0, 0, 0, 7, 7], [7, 7, 0, 0, 0, 0, 0, 0, 0, 0, 0, 0, 7, 7], [7, 7, 3, 3, 3, 3, 0, 0, 3, 3, 3, 3, 7, 7], [7, 7, 3, 3, 3, 3, 3, 0, 3, 3, 3, 3, 7, 7], [7, 7, 7, 7, 7, 7, 7, 7, 7, 7, 7, 7, 7, 7], [7, 7, 7, 7, 7, 7, 7, 7, 7, 7, 7, 7, 7, 7]]\n"
     ]
    }
   ],
   "source": [
    "estado1=Rotar.aplicar(estado1,estado1)\n",
    "print(estado1)"
   ]
  },
  {
   "cell_type": "code",
   "execution_count": 31,
   "metadata": {},
   "outputs": [
    {
     "name": "stdout",
     "output_type": "stream",
     "text": [
      "[[7, 7, 0, 0, 0, 0, 0, 0, 0, 0, 0, 0, 7, 7], [7, 7, 0, 0, 0, 0, 0, 0, 0, 0, 0, 0, 7, 7], [7, 7, 0, 0, 0, 0, 0, 0, 0, 0, 0, 0, 7, 7], [7, 7, 0, 0, 0, 0, 0, 0, 0, 0, 0, 0, 7, 7], [7, 7, 0, 0, 0, 0, 0, 0, 0, 0, 0, 0, 7, 7], [7, 7, 0, 0, 0, 0, 0, 0, 0, 0, 0, 0, 7, 7], [7, 7, 0, 0, 0, 0, 0, 0, 0, 0, 0, 0, 7, 7], [7, 7, 0, 0, 0, 0, 0, 0, 0, 0, 0, 0, 7, 7], [7, 7, 0, 0, 0, 0, 0, 0, 0, 0, 0, 0, 7, 7], [7, 7, 0, 0, 0, 0, 0, 0, 0, 0, 0, 0, 7, 7], [7, 7, 0, 0, 0, 0, 0, 0, 0, 0, 0, 0, 7, 7], [7, 7, 0, 0, 0, 0, 0, 0, 0, 0, 0, 0, 7, 7], [7, 7, 0, 0, 0, 0, 0, 0, 0, 0, 0, 0, 7, 7], [7, 7, 0, 0, 0, 0, 0, 0, 0, 0, 0, 0, 7, 7], [7, 7, 0, 0, 0, 0, 0, 0, 0, 0, 0, 0, 7, 7], [7, 7, 0, 0, 0, 0, 0, 0, 0, 0, 0, 0, 7, 7], [7, 7, 0, 0, 0, 0, 0, 0, 0, 0, 0, 0, 7, 7], [7, 7, 0, 0, 0, 0, 0, 0, 0, 0, 0, 0, 7, 7], [7, 7, 0, 0, 0, 0, 0, 0, 0, 0, 0, 0, 7, 7], [7, 7, 0, 0, 0, 0, 0, 0, 0, 0, 0, 0, 7, 7], [7, 7, 0, 0, 0, 0, 0, 0, 0, 0, 0, 0, 7, 7], [7, 7, 3, 3, 3, 3, 0, 0, 3, 3, 3, 3, 7, 7], [7, 7, 3, 3, 3, 3, 3, 0, 3, 3, 3, 3, 7, 7], [7, 7, 7, 7, 7, 7, 7, 7, 7, 7, 7, 7, 7, 7], [7, 7, 7, 7, 7, 7, 7, 7, 7, 7, 7, 7, 7, 7]]\n",
      "[[7, 7, 0, 0, 0, 0, 0, 0, 0, 0, 0, 0, 7, 7], [7, 7, 0, 0, 0, 0, 0, 0, 0, 0, 0, 0, 7, 7], [7, 7, 0, 0, 0, 0, 0, 0, 0, 0, 0, 0, 7, 7], [7, 7, 0, 0, 0, 0, 0, 0, 0, 0, 0, 0, 7, 7], [7, 7, 0, 0, 0, 0, 0, 0, 0, 0, 0, 0, 7, 7], [7, 7, 0, 0, 0, 0, 0, 0, 0, 0, 0, 0, 7, 7], [7, 7, 0, 0, 0, 0, 0, 0, 0, 0, 0, 0, 7, 7], [7, 7, 0, 0, 0, 0, 0, 0, 0, 0, 0, 0, 7, 7], [7, 7, 0, 0, 0, 0, 0, 0, 0, 0, 0, 0, 7, 7], [7, 7, 0, 0, 0, 0, 0, 0, 0, 0, 0, 0, 7, 7], [7, 7, 0, 0, 0, 0, 0, 0, 0, 0, 0, 0, 7, 7], [7, 7, 0, 0, 0, 0, 0, 0, 0, 0, 0, 0, 7, 7], [7, 7, 0, 0, 0, 0, 0, 0, 0, 0, 0, 0, 7, 7], [7, 7, 0, 0, 0, 0, 0, 0, 0, 0, 0, 0, 7, 7], [7, 7, 0, 0, 0, 0, 0, 0, 0, 0, 0, 0, 7, 7], [7, 7, 0, 0, 0, 0, 0, 0, 0, 0, 0, 0, 7, 7], [7, 7, 0, 0, 0, 0, 0, 0, 0, 0, 0, 0, 7, 7], [7, 7, 0, 0, 0, 0, 0, 0, 0, 0, 0, 0, 7, 7], [7, 7, 0, 0, 0, 0, 0, 0, 0, 0, 0, 0, 7, 7], [7, 7, 0, 0, 0, 0, 0, 0, 0, 0, 0, 0, 7, 7], [7, 7, 0, 0, 0, 0, 0, 0, 0, 0, 0, 0, 7, 7], [7, 7, 3, 3, 3, 3, 0, 0, 3, 3, 3, 3, 7, 7], [7, 7, 3, 3, 3, 3, 3, 0, 3, 3, 3, 3, 7, 7], [7, 7, 7, 7, 7, 7, 7, 7, 7, 7, 7, 7, 7, 7], [7, 7, 7, 7, 7, 7, 7, 7, 7, 7, 7, 7, 7, 7]]\n",
      "[[7, 7, 0, 0, 0, 0, 0, 0, 0, 0, 0, 0, 7, 7], [7, 7, 0, 0, 0, 0, 0, 0, 0, 0, 0, 0, 7, 7], [7, 7, 0, 0, 0, 0, 0, 0, 0, 0, 0, 0, 7, 7], [7, 7, 0, 0, 0, 0, 0, 0, 0, 0, 0, 0, 7, 7], [7, 7, 0, 0, 0, 0, 0, 0, 0, 0, 0, 0, 7, 7], [7, 7, 0, 0, 0, 0, 0, 0, 0, 0, 0, 0, 7, 7], [7, 7, 0, 0, 0, 0, 0, 0, 0, 0, 0, 0, 7, 7], [7, 7, 0, 0, 0, 0, 0, 0, 0, 0, 0, 0, 7, 7], [7, 7, 0, 0, 0, 0, 0, 0, 0, 0, 0, 0, 7, 7], [7, 7, 0, 0, 0, 0, 0, 0, 0, 0, 0, 0, 7, 7], [7, 7, 0, 0, 0, 0, 0, 0, 0, 0, 0, 0, 7, 7], [7, 7, 0, 0, 0, 0, 0, 0, 0, 0, 0, 0, 7, 7], [7, 7, 0, 0, 0, 0, 0, 0, 0, 0, 0, 0, 7, 7], [7, 7, 0, 0, 0, 0, 0, 0, 0, 0, 0, 0, 7, 7], [7, 7, 0, 0, 0, 0, 0, 0, 0, 0, 0, 0, 7, 7], [7, 7, 0, 0, 0, 0, 0, 0, 0, 0, 0, 0, 7, 7], [7, 7, 0, 0, 0, 0, 0, 0, 0, 0, 0, 0, 7, 7], [7, 7, 0, 0, 0, 0, 0, 0, 0, 0, 0, 0, 7, 7], [7, 7, 0, 0, 0, 0, 0, 0, 0, 0, 0, 0, 7, 7], [7, 7, 0, 0, 0, 0, 0, 0, 0, 0, 0, 0, 7, 7], [7, 7, 0, 0, 0, 0, 0, 0, 0, 0, 0, 0, 7, 7], [7, 7, 3, 3, 3, 3, 0, 0, 3, 3, 3, 3, 7, 7], [7, 7, 3, 3, 3, 3, 3, 0, 3, 3, 3, 3, 7, 7], [7, 7, 7, 7, 7, 7, 7, 7, 7, 7, 7, 7, 7, 7], [7, 7, 7, 7, 7, 7, 7, 7, 7, 7, 7, 7, 7, 7]]\n",
      "[[7, 7, 0, 0, 0, 0, 0, 0, 0, 0, 0, 0, 7, 7], [7, 7, 0, 0, 0, 0, 0, 0, 0, 0, 0, 0, 7, 7], [7, 7, 0, 0, 0, 0, 0, 0, 0, 0, 0, 0, 7, 7], [7, 7, 0, 0, 0, 0, 0, 0, 0, 0, 0, 0, 7, 7], [7, 7, 0, 0, 0, 0, 0, 0, 0, 0, 0, 0, 7, 7], [7, 7, 0, 0, 0, 0, 0, 0, 0, 0, 0, 0, 7, 7], [7, 7, 0, 0, 0, 0, 0, 0, 0, 0, 0, 0, 7, 7], [7, 7, 0, 0, 0, 0, 0, 0, 0, 0, 0, 0, 7, 7], [7, 7, 0, 0, 0, 0, 0, 0, 0, 0, 0, 0, 7, 7], [7, 7, 0, 0, 0, 0, 0, 0, 0, 0, 0, 0, 7, 7], [7, 7, 0, 0, 0, 0, 0, 0, 0, 0, 0, 0, 7, 7], [7, 7, 0, 0, 0, 0, 0, 0, 0, 0, 0, 0, 7, 7], [7, 7, 0, 0, 0, 0, 0, 0, 0, 0, 0, 0, 7, 7], [7, 7, 0, 0, 0, 0, 0, 0, 0, 0, 0, 0, 7, 7], [7, 7, 0, 0, 0, 0, 0, 0, 0, 0, 0, 0, 7, 7], [7, 7, 0, 0, 0, 0, 0, 0, 0, 0, 0, 0, 7, 7], [7, 7, 0, 0, 0, 0, 0, 0, 0, 0, 0, 0, 7, 7], [7, 7, 0, 0, 0, 0, 0, 0, 0, 0, 0, 0, 7, 7], [7, 7, 0, 0, 0, 0, 0, 0, 0, 0, 0, 0, 7, 7], [7, 7, 0, 0, 0, 0, 0, 0, 0, 0, 0, 0, 7, 7], [7, 7, 0, 0, 0, 0, 0, 0, 0, 0, 0, 0, 7, 7], [7, 7, 3, 3, 3, 3, 0, 0, 3, 3, 3, 3, 7, 7], [7, 7, 3, 3, 3, 3, 3, 0, 3, 3, 3, 3, 7, 7], [7, 7, 7, 7, 7, 7, 7, 7, 7, 7, 7, 7, 7, 7], [7, 7, 7, 7, 7, 7, 7, 7, 7, 7, 7, 7, 7, 7]]\n"
     ]
    }
   ],
   "source": [
    "for acción in tetris.acciones_aplicables(estado1):\n",
    "    print(acción.aplicar(estado1))"
   ]
  },
  {
   "cell_type": "code",
   "execution_count": 236,
   "metadata": {},
   "outputs": [
    {
     "data": {
      "text/plain": [
       "['muevo abajo',\n",
       " 'muevo abajo',\n",
       " 'muevo abajo',\n",
       " 'muevo abajo',\n",
       " 'muevo abajo',\n",
       " 'muevo abajo',\n",
       " 'muevo abajo',\n",
       " 'muevo abajo',\n",
       " 'muevo abajo',\n",
       " 'muevo abajo',\n",
       " 'muevo abajo',\n",
       " 'muevo abajo',\n",
       " 'muevo abajo',\n",
       " 'muevo abajo',\n",
       " 'muevo abajo',\n",
       " 'muevo abajo',\n",
       " 'muevo abajo',\n",
       " 'muevo abajo',\n",
       " 'muevo abajo',\n",
       " 'muevo izquierda',\n",
       " 'muevo izquierda',\n",
       " 'Roto 90 grados',\n",
       " 'muevo abajo']"
      ]
     },
     "execution_count": 236,
     "metadata": {},
     "output_type": "execute_result"
    }
   ],
   "source": [
    "b_anchura = búsqee.BúsquedaEnAnchura(detallado=False)\n",
    "b_anchura.buscar(tetris)"
   ]
  },
  {
   "cell_type": "code",
   "execution_count": 237,
   "metadata": {},
   "outputs": [
    {
     "data": {
      "text/plain": [
       "['muevo abajo',\n",
       " 'muevo abajo',\n",
       " 'muevo abajo',\n",
       " 'muevo abajo',\n",
       " 'muevo abajo',\n",
       " 'muevo abajo',\n",
       " 'muevo abajo',\n",
       " 'muevo abajo',\n",
       " 'muevo abajo',\n",
       " 'muevo abajo',\n",
       " 'muevo abajo',\n",
       " 'muevo abajo',\n",
       " 'muevo abajo',\n",
       " 'muevo abajo',\n",
       " 'muevo abajo',\n",
       " 'muevo abajo',\n",
       " 'muevo abajo',\n",
       " 'muevo abajo',\n",
       " 'muevo abajo',\n",
       " 'muevo izquierda',\n",
       " 'muevo izquierda',\n",
       " 'Roto 90 grados',\n",
       " 'muevo abajo']"
      ]
     },
     "execution_count": 237,
     "metadata": {},
     "output_type": "execute_result"
    }
   ],
   "source": [
    "b_Optima = búsqee.BúsquedaÓptima(detallado=False)\n",
    "b_Optima.buscar(tetris)"
   ]
  },
  {
   "cell_type": "code",
   "execution_count": null,
   "metadata": {},
   "outputs": [],
   "source": [
    "#Fase 2"
   ]
  },
  {
   "cell_type": "code",
   "execution_count": 90,
   "metadata": {},
   "outputs": [],
   "source": [
    "class PruebaPoner(probee.Acción):\n",
    "    def __init__(self,x,y,pieza):\n",
    "        #nombre = 'probar a poner la matriz de la pieza en {}, {}'.format(x+2,y+2)\n",
    "        nombre=[x+2,y+2]\n",
    "        super().__init__(nombre)\n",
    "        self.x = x\n",
    "        self.y = y\n",
    "        \n",
    "        self.pieza=pieza\n",
    "      \n",
    "      \n",
    "        \n",
    "        \n",
    "    def es_aplicable(self,estado):\n",
    "        ans = PruebaPoner.comprobar(self,estado,self.pieza,self.x,self.y)\n",
    "        return ans #and estado[0][0]!=8\n",
    "    \n",
    "    def coste_de_aplicar(self,estado):\n",
    "        res=10000\n",
    "        valor_fila=0\n",
    "        for x, i in list(enumerate(estado)):\n",
    "            for y, j in list(enumerate(i)):\n",
    "                if j==1 or j==2:\n",
    "                    valor_fila=valor_fila+x\n",
    "        return res-valor_fila\n",
    "    \n",
    "    def comprobar(self, estado, pieza, x, y):\n",
    "        res=False\n",
    "        for a,j in reversed(list(enumerate(pieza))):\n",
    "            for b,k in list(enumerate(pieza)):\n",
    "                if pieza[a][b]==1 or pieza[a][b]==2:\n",
    "                    if estado[x+a][y+b]==3 or estado[x+a][y+b]==7:               #Comprobamos si choca con una pieza colocada en el tablero\n",
    "                        return False\n",
    "                    if estado[x+a+1][y+b]==3 or estado[x+a+1][y+b]==7:           #Comprobamos si la pieza está asentada sobre otra\n",
    "                        res= True\n",
    "                   \n",
    "        return res\n",
    "                \n",
    "    def aplicar(self,estado):\n",
    "        nuevo_estado = copy.deepcopy(estado)\n",
    "        for a,j in reversed(list(enumerate(self.pieza))):\n",
    "            for b,k in list(enumerate(self.pieza)):  #Adjudicamos valor a la casilla del nuevo estado\n",
    "                if self.pieza[a][b]==1 :\n",
    "                    nuevo_estado[self.x+a][self.y+b]=1\n",
    "                if self.pieza[a][b]==2:\n",
    "                     nuevo_estado[self.x+a][self.y+b]=2\n",
    "      #  nuevo_estado[0][0]=8\n",
    "        return nuevo_estado"
   ]
  },
  {
   "cell_type": "code",
   "execution_count": null,
   "metadata": {},
   "outputs": [],
   "source": []
  },
  {
   "cell_type": "code",
   "execution_count": 117,
   "metadata": {},
   "outputs": [
    {
     "name": "stdout",
     "output_type": "stream",
     "text": [
      "posibilidades:\n",
      "[[19, 2]]\n",
      "[[19, 3]]\n",
      "[[19, 3]]\n",
      "[[19, 3]]\n",
      "[[19, 4]]\n",
      "[[19, 4]]\n",
      "[[19, 4]]\n",
      "[[19, 5]]\n",
      "[[19, 5]]\n",
      "[[19, 5]]\n",
      "[[19, 8]]\n",
      "[[19, 8]]\n",
      "[[19, 8]]\n",
      "[[19, 9]]\n",
      "[[19, 9]]\n",
      "[[19, 9]]\n",
      "[[19, 10]]\n",
      "[[19, 10]]\n",
      "[[19, 10]]\n",
      "[[19, 11]]\n",
      "[[20, 3]]\n",
      "[[20, 4]]\n",
      "[[20, 5]]\n",
      "[[20, 6]]\n",
      "[[20, 6]]\n",
      "[[20, 6]]\n",
      "[[20, 6]]\n",
      "[[20, 7]]\n",
      "[[20, 7]]\n",
      "[[20, 7]]\n",
      "[[20, 8]]\n",
      "[[20, 9]]\n",
      "[[20, 10]]\n",
      "[[21, 7]]\n",
      "[[7, 7, 0, 0, 0, 0, 0, 0, 0, 0, 0, 0, 7, 7], [7, 7, 0, 0, 0, 0, 0, 0, 0, 0, 0, 0, 7, 7], [7, 7, 0, 0, 0, 0, 0, 0, 0, 0, 0, 0, 7, 7], [7, 7, 0, 0, 0, 0, 0, 0, 0, 0, 0, 0, 7, 7], [7, 7, 0, 0, 0, 0, 0, 0, 0, 0, 0, 0, 7, 7], [7, 7, 0, 0, 0, 0, 0, 0, 0, 0, 0, 0, 7, 7], [7, 7, 0, 0, 0, 0, 0, 0, 0, 0, 0, 0, 7, 7], [7, 7, 0, 0, 0, 0, 0, 0, 0, 0, 0, 0, 7, 7], [7, 7, 0, 0, 0, 0, 0, 0, 0, 0, 0, 0, 7, 7], [7, 7, 0, 0, 0, 0, 0, 0, 0, 0, 0, 0, 7, 7], [7, 7, 0, 0, 0, 0, 0, 0, 0, 0, 0, 0, 7, 7], [7, 7, 0, 0, 0, 0, 0, 0, 0, 0, 0, 0, 7, 7], [7, 7, 0, 0, 0, 0, 0, 0, 0, 0, 0, 0, 7, 7], [7, 7, 0, 0, 0, 0, 0, 0, 0, 0, 0, 0, 7, 7], [7, 7, 0, 0, 0, 0, 0, 0, 0, 0, 0, 0, 7, 7], [7, 7, 0, 0, 0, 0, 0, 0, 0, 0, 0, 0, 7, 7], [7, 7, 0, 0, 0, 0, 0, 0, 0, 0, 0, 0, 7, 7], [7, 7, 0, 0, 0, 0, 0, 0, 0, 0, 0, 0, 7, 7], [7, 7, 0, 0, 0, 0, 0, 0, 0, 0, 0, 0, 7, 7], [7, 7, 0, 0, 0, 0, 0, 0, 0, 0, 0, 0, 7, 7], [7, 7, 0, 0, 0, 0, 0, 1, 0, 0, 0, 0, 7, 7], [7, 7, 3, 3, 3, 3, 1, 2, 3, 3, 3, 3, 7, 7], [7, 7, 3, 3, 3, 3, 3, 1, 3, 3, 3, 3, 7, 7], [7, 7, 7, 7, 7, 7, 7, 7, 7, 7, 7, 7, 7, 7], [7, 7, 7, 7, 7, 7, 7, 7, 7, 7, 7, 7, 7, 7]]\n"
     ]
    }
   ],
   "source": [
    "\n",
    "pieza=[[0,0,0,0,0],[0,0,1,0,0],[0,1,2,1,0],[0,0,0,0,0],[0,0,0,0,0]]\n",
    "pieza2=Rotar.aplicar(pieza,pieza)\n",
    "pieza3=Rotar.aplicar(pieza2,pieza2)\n",
    "pieza4=Rotar.aplicar(pieza3,pieza3)\n",
    "piezas=[pieza,pieza2,pieza3,pieza4]\n",
    "acciones = [PruebaPoner(i, j,p) for i in range(0, 22) for j in range(0, 11) for p in piezas]\n",
    "\n",
    "estado_inicial = estado0\n",
    "estados_finales=[]\n",
    "posiblesSoluciones=set()\n",
    "print(\"posibilidades:\")\n",
    "for x in acciones:\n",
    "    if(x.es_aplicable(estado_inicial)):\n",
    "        estado_inicial = estado0\n",
    "        estados_finales.append(x.aplicar(estado_inicial)) \n",
    "        \n",
    "        listaacciones=[x]\n",
    "        tetrih = probee.ProblemaEspacioEstados(listaacciones, estado_inicial,estados_finales )                     \n",
    "        b_anchura = búsqee.BúsquedaEnAnchura(detallado=False)\n",
    "        print(b_anchura.buscar(tetrih))\n",
    "      \n",
    "        \n",
    "\n",
    "estado_inicial = estado0\n",
    "tetrih = probee.ProblemaEspacioEstados(\n",
    "    acciones, estado_inicial,estados_finales )\n",
    "    \n",
    "mejor=10000000\n",
    "for z in estados_finales:\n",
    "    if(PruebaPoner.coste_de_aplicar(z,z)<mejor):\n",
    "        mejor=PruebaPoner.coste_de_aplicar(z,z)\n",
    "        solucion=z\n",
    "        \n",
    "\n",
    "print(z)\n",
    "#print(PruebaPoner.comprobar(estado1,estado1,pieza,20,10))\n",
    "#b_Optima = búsqee.BúsquedaÓptima(detallado=True)\n",
    "#print(b_Optima.buscar(tetrih))\n",
    "#solucion=b_Optima.buscar(tetrih)\n",
    "#print(solucion[0])\n",
    "    \n",
    "\n",
    "#a_estrella = búsqee.BúsquedaAEstrella(heuristica,detallado=True)\n",
    "#print(a_estrella.buscar(tetrih))\n",
    "\n",
    "#b_anchura = búsqee.BúsquedaEnAnchura(detallado=True)\n",
    "#print(b_anchura.buscar(tetrih))\n",
    "\n"
   ]
  },
  {
   "cell_type": "code",
   "execution_count": 239,
   "metadata": {},
   "outputs": [],
   "source": [
    "\n",
    "def CalculoEstadoFinal(estado,pieza):\n",
    "    pieza=pieza\n",
    "    pieza2=Rotar.aplicar(pieza,pieza)\n",
    "    pieza3=Rotar.aplicar(pieza2,pieza2)\n",
    "    pieza4=Rotar.aplicar(pieza3,pieza3)\n",
    "    piezas=[pieza,pieza2,pieza3,pieza4]\n",
    "    acciones = [PruebaPoner(i, j,p) for i in range(0, 21) for j in range(0, 11) for p in piezas]\n",
    "    estado_inicial = estado\n",
    "    estados_finales=[]\n",
    "    for x in acciones:\n",
    "        if(x.es_aplicable(estado_inicial)):\n",
    "            estado_inicial = estado     \n",
    "            estados_finales.append(x.aplicar(estado_inicial))\n",
    "    mejor=10000000\n",
    "    for z in estados_finales:\n",
    "        if(PruebaPoner.coste_de_aplicar(z,z)<mejor):\n",
    "            mejor=PruebaPoner.coste_de_aplicar(z,z)\n",
    "            solucion=z\n",
    "    return(z)\n",
    "\n",
    "\n"
   ]
  },
  {
   "cell_type": "code",
   "execution_count": 138,
   "metadata": {},
   "outputs": [
    {
     "data": {
      "text/plain": [
       "[[7, 7, 0, 0, 0, 0, 0, 0, 0, 0, 0, 0, 7, 7],\n",
       " [7, 7, 0, 0, 0, 0, 0, 0, 0, 0, 0, 0, 7, 7],\n",
       " [7, 7, 0, 0, 0, 0, 0, 0, 0, 0, 0, 0, 7, 7],\n",
       " [7, 7, 0, 0, 0, 0, 0, 0, 0, 0, 0, 0, 7, 7],\n",
       " [7, 7, 0, 0, 0, 0, 0, 0, 0, 0, 0, 0, 7, 7],\n",
       " [7, 7, 0, 0, 0, 0, 0, 0, 0, 0, 0, 0, 7, 7],\n",
       " [7, 7, 0, 0, 0, 0, 0, 0, 0, 0, 0, 0, 7, 7],\n",
       " [7, 7, 0, 0, 0, 0, 0, 0, 0, 0, 0, 0, 7, 7],\n",
       " [7, 7, 0, 0, 0, 0, 0, 0, 0, 0, 0, 0, 7, 7],\n",
       " [7, 7, 0, 0, 0, 0, 0, 0, 0, 0, 0, 0, 7, 7],\n",
       " [7, 7, 0, 0, 0, 0, 0, 0, 0, 0, 0, 0, 7, 7],\n",
       " [7, 7, 0, 0, 0, 0, 0, 0, 0, 0, 0, 0, 7, 7],\n",
       " [7, 7, 0, 0, 0, 0, 0, 0, 0, 0, 0, 0, 7, 7],\n",
       " [7, 7, 0, 0, 0, 0, 0, 0, 0, 0, 0, 0, 7, 7],\n",
       " [7, 7, 0, 0, 0, 0, 0, 0, 0, 0, 0, 0, 7, 7],\n",
       " [7, 7, 0, 0, 0, 0, 0, 0, 0, 0, 0, 0, 7, 7],\n",
       " [7, 7, 0, 0, 0, 0, 0, 0, 0, 0, 0, 0, 7, 7],\n",
       " [7, 7, 0, 0, 0, 0, 0, 0, 0, 0, 0, 0, 7, 7],\n",
       " [7, 7, 0, 0, 0, 0, 0, 0, 0, 0, 0, 0, 7, 7],\n",
       " [7, 7, 0, 0, 0, 0, 0, 0, 0, 0, 0, 0, 7, 7],\n",
       " [7, 7, 0, 0, 0, 0, 0, 1, 0, 0, 0, 0, 7, 7],\n",
       " [7, 7, 3, 3, 3, 3, 1, 2, 3, 3, 3, 3, 7, 7],\n",
       " [7, 7, 3, 3, 3, 3, 3, 1, 3, 3, 3, 3, 7, 7],\n",
       " [7, 7, 7, 7, 7, 7, 7, 7, 7, 7, 7, 7, 7, 7],\n",
       " [7, 7, 7, 7, 7, 7, 7, 7, 7, 7, 7, 7, 7, 7]]"
      ]
     },
     "execution_count": 138,
     "metadata": {},
     "output_type": "execute_result"
    }
   ],
   "source": [
    "CalculoEstadoFinal(estado0,piezas[5])"
   ]
  },
  {
   "cell_type": "code",
   "execution_count": null,
   "metadata": {},
   "outputs": [],
   "source": [
    "#Fase 3"
   ]
  },
  {
   "cell_type": "code",
   "execution_count": 122,
   "metadata": {},
   "outputs": [],
   "source": [
    "piezas=[\n",
    "    [\n",
    "        [0,0,0,0,0],\n",
    "        [0,0,0,0,0],\n",
    "        [0,1,2,1,1],\n",
    "        [0,0,0,0,0],\n",
    "        [0,0,0,0,0]\n",
    "    ],[\n",
    "        [0,0,0,0,0],\n",
    "        [0,1,0,0,0],\n",
    "        [0,1,2,1,0],\n",
    "        [0,0,0,0,0],\n",
    "        [0,0,0,0,0]\n",
    "    ],[\n",
    "        [0,0,0,0,0],\n",
    "        [0,0,0,1,0],\n",
    "        [0,1,2,1,0],\n",
    "        [0,0,0,0,0],\n",
    "        [0,0,0,0,0]\n",
    "    ],[\n",
    "        [0,0,0,0,0],\n",
    "        [0,0,1,1,0],\n",
    "        [0,0,2,1,0],\n",
    "        [0,0,0,0,0],\n",
    "        [0,0,0,0,0]\n",
    "    ],[\n",
    "        [0,0,0,0,0],\n",
    "        [0,0,1,1,0],\n",
    "        [0,1,2,0,0],\n",
    "        [0,0,0,0,0],\n",
    "        [0,0,0,0,0]\n",
    "    ],[\n",
    "        [0,0,0,0,0],\n",
    "        [0,0,1,0,0],\n",
    "        [0,1,2,1,0],\n",
    "        [0,0,0,0,0],\n",
    "        [0,0,0,0,0]\n",
    "    ],[\n",
    "        [0,0,0,0,0],\n",
    "        [0,1,1,0,0],\n",
    "        [0,0,2,1,0],\n",
    "        [0,0,0,0,0],\n",
    "        [0,0,0,0,0]\n",
    "    ],\n",
    "]"
   ]
  },
  {
   "cell_type": "code",
   "execution_count": 129,
   "metadata": {},
   "outputs": [
    {
     "data": {
      "text/plain": [
       "['muevo abajo',\n",
       " 'muevo abajo',\n",
       " 'muevo abajo',\n",
       " 'muevo abajo',\n",
       " 'muevo abajo',\n",
       " 'muevo abajo',\n",
       " 'muevo abajo',\n",
       " 'muevo abajo',\n",
       " 'muevo abajo',\n",
       " 'muevo abajo',\n",
       " 'muevo abajo',\n",
       " 'muevo abajo',\n",
       " 'muevo abajo',\n",
       " 'muevo abajo',\n",
       " 'muevo abajo',\n",
       " 'muevo abajo',\n",
       " 'muevo abajo',\n",
       " 'muevo abajo',\n",
       " 'muevo abajo',\n",
       " 'muevo izquierda',\n",
       " 'muevo izquierda',\n",
       " 'Roto 90 grados',\n",
       " 'muevo abajo']"
      ]
     },
     "execution_count": 129,
     "metadata": {},
     "output_type": "execute_result"
    }
   ],
   "source": [
    "acciones =[MoverAbajo(),MoverIzquierda(),MoverDerecha(),Rotar()]\n",
    "estado_inicial = estado1\n",
    "estado_final = CalculoEstadoFinal(estado0,piezas[5])\n",
    "estadosFinales=[estado_final]\n",
    "tetris3=probee.ProblemaEspacioEstados(acciones,estado_inicial,estadosFinales)\n",
    "b_Optima = búsqee.BúsquedaÓptima(detallado=False)\n",
    "b_Optima.buscar(tetris3)"
   ]
  },
  {
   "cell_type": "code",
   "execution_count": 240,
   "metadata": {},
   "outputs": [],
   "source": [
    "def CalculoMovimientos(estado0,pieza):\n",
    "    acciones =[MoverAbajo(),MoverIzquierda(),MoverDerecha(),Rotar()]\n",
    "    estado_inicial = pon_ficha_nueva(estado0,pieza)\n",
    "    estado_final = CalculoEstadoFinal(estado0,pieza)\n",
    "    estadosFinales=[estado_final]\n",
    "    tetris3=probee.ProblemaEspacioEstados(acciones,estado_inicial,estadosFinales)\n",
    "    b_Optima = búsqee.BúsquedaÓptima(detallado=False)\n",
    "    return b_Optima.buscar(tetris3)"
   ]
  },
  {
   "cell_type": "code",
   "execution_count": 150,
   "metadata": {},
   "outputs": [
    {
     "data": {
      "text/plain": [
       "['muevo abajo',\n",
       " 'muevo abajo',\n",
       " 'muevo abajo',\n",
       " 'muevo abajo',\n",
       " 'muevo abajo',\n",
       " 'muevo abajo',\n",
       " 'muevo abajo',\n",
       " 'muevo abajo',\n",
       " 'muevo abajo',\n",
       " 'muevo abajo',\n",
       " 'muevo abajo',\n",
       " 'muevo abajo',\n",
       " 'muevo abajo',\n",
       " 'muevo abajo',\n",
       " 'muevo abajo',\n",
       " 'muevo abajo',\n",
       " 'muevo abajo',\n",
       " 'muevo abajo',\n",
       " 'muevo derecha',\n",
       " 'Roto 90 grados',\n",
       " 'muevo abajo']"
      ]
     },
     "execution_count": 150,
     "metadata": {},
     "output_type": "execute_result"
    }
   ],
   "source": [
    "CalculoMovimientos(estado0,piezas[5])"
   ]
  },
  {
   "cell_type": "code",
   "execution_count": 135,
   "metadata": {},
   "outputs": [],
   "source": [
    "#FaseFinal"
   ]
  },
  {
   "cell_type": "code",
   "execution_count": 146,
   "metadata": {},
   "outputs": [],
   "source": [
    "def pon_ficha_nueva(estado,pieza):\n",
    "        x=0\n",
    "        y=4\n",
    "        nuevo_estado = copy.deepcopy(estado)\n",
    "        for a,j in reversed(list(enumerate(pieza))):\n",
    "            for b,k in list(enumerate(pieza)):\n",
    "                if pieza[a][b]==1 or pieza[a][b]==2:\n",
    "                    nuevo_estado[x+a][y+b]=pieza[a][b]                                     #Adjudicamos valor a la casilla del nuevo estado\n",
    "        return nuevo_estado"
   ]
  },
  {
   "cell_type": "code",
   "execution_count": 147,
   "metadata": {},
   "outputs": [
    {
     "name": "stdout",
     "output_type": "stream",
     "text": [
      "[[7, 7, 0, 0, 0, 0, 0, 0, 0, 0, 0, 0, 7, 7], [7, 7, 0, 0, 0, 0, 0, 0, 0, 0, 0, 0, 7, 7], [7, 7, 0, 0, 0, 1, 2, 1, 1, 0, 0, 0, 7, 7], [7, 7, 0, 0, 0, 0, 0, 0, 0, 0, 0, 0, 7, 7], [7, 7, 0, 0, 0, 0, 0, 0, 0, 0, 0, 0, 7, 7], [7, 7, 0, 0, 0, 0, 0, 0, 0, 0, 0, 0, 7, 7], [7, 7, 0, 0, 0, 0, 0, 0, 0, 0, 0, 0, 7, 7], [7, 7, 0, 0, 0, 0, 0, 0, 0, 0, 0, 0, 7, 7], [7, 7, 0, 0, 0, 0, 0, 0, 0, 0, 0, 0, 7, 7], [7, 7, 0, 0, 0, 0, 0, 0, 0, 0, 0, 0, 7, 7], [7, 7, 0, 0, 0, 0, 0, 0, 0, 0, 0, 0, 7, 7], [7, 7, 0, 0, 0, 0, 0, 0, 0, 0, 0, 0, 7, 7], [7, 7, 0, 0, 0, 0, 0, 0, 0, 0, 0, 0, 7, 7], [7, 7, 0, 0, 0, 0, 0, 0, 0, 0, 0, 0, 7, 7], [7, 7, 0, 0, 0, 0, 0, 0, 0, 0, 0, 0, 7, 7], [7, 7, 0, 0, 0, 0, 0, 0, 0, 0, 0, 0, 7, 7], [7, 7, 0, 0, 0, 0, 0, 0, 0, 0, 0, 0, 7, 7], [7, 7, 0, 0, 0, 0, 0, 0, 0, 0, 0, 0, 7, 7], [7, 7, 0, 0, 0, 0, 0, 0, 0, 0, 0, 0, 7, 7], [7, 7, 0, 0, 0, 0, 0, 0, 0, 0, 0, 0, 7, 7], [7, 7, 0, 0, 0, 0, 0, 0, 0, 0, 0, 0, 7, 7], [7, 7, 3, 3, 3, 3, 0, 0, 3, 3, 3, 3, 7, 7], [7, 7, 3, 3, 3, 3, 3, 0, 3, 3, 3, 3, 7, 7], [7, 7, 7, 7, 7, 7, 7, 7, 7, 7, 7, 7, 7, 7], [7, 7, 7, 7, 7, 7, 7, 7, 7, 7, 7, 7, 7, 7]]\n"
     ]
    }
   ],
   "source": [
    "print(pon_ficha_nueva(estado0,piezas[0]))"
   ]
  },
  {
   "cell_type": "code",
   "execution_count": 242,
   "metadata": {
    "scrolled": false
   },
   "outputs": [
    {
     "data": {
      "text/html": [
       "<table><tr><td>7</td><td>7</td><td>0</td><td>0</td><td>0</td><td>0</td><td>0</td><td>0</td><td>0</td><td>0</td><td>0</td><td>0</td><td>7</td><td>7</td></tr><tr><td>7</td><td>7</td><td>0</td><td>0</td><td>0</td><td>0</td><td>0</td><td>0</td><td>0</td><td>0</td><td>0</td><td>0</td><td>7</td><td>7</td></tr><tr><td>7</td><td>7</td><td>0</td><td>0</td><td>0</td><td>0</td><td>0</td><td>0</td><td>0</td><td>0</td><td>0</td><td>0</td><td>7</td><td>7</td></tr><tr><td>7</td><td>7</td><td>0</td><td>0</td><td>0</td><td>0</td><td>0</td><td>0</td><td>0</td><td>0</td><td>0</td><td>0</td><td>7</td><td>7</td></tr><tr><td>7</td><td>7</td><td>0</td><td>0</td><td>0</td><td>0</td><td>0</td><td>0</td><td>0</td><td>0</td><td>0</td><td>0</td><td>7</td><td>7</td></tr><tr><td>7</td><td>7</td><td>0</td><td>0</td><td>0</td><td>0</td><td>0</td><td>0</td><td>0</td><td>0</td><td>0</td><td>0</td><td>7</td><td>7</td></tr><tr><td>7</td><td>7</td><td>0</td><td>0</td><td>0</td><td>0</td><td>0</td><td>0</td><td>0</td><td>0</td><td>0</td><td>0</td><td>7</td><td>7</td></tr><tr><td>7</td><td>7</td><td>0</td><td>0</td><td>0</td><td>0</td><td>0</td><td>0</td><td>0</td><td>0</td><td>0</td><td>0</td><td>7</td><td>7</td></tr><tr><td>7</td><td>7</td><td>0</td><td>0</td><td>0</td><td>0</td><td>0</td><td>0</td><td>0</td><td>0</td><td>0</td><td>0</td><td>7</td><td>7</td></tr><tr><td>7</td><td>7</td><td>0</td><td>0</td><td>0</td><td>0</td><td>0</td><td>0</td><td>0</td><td>0</td><td>0</td><td>0</td><td>7</td><td>7</td></tr><tr><td>7</td><td>7</td><td>0</td><td>0</td><td>0</td><td>0</td><td>0</td><td>0</td><td>0</td><td>0</td><td>0</td><td>0</td><td>7</td><td>7</td></tr><tr><td>7</td><td>7</td><td>0</td><td>0</td><td>0</td><td>0</td><td>0</td><td>0</td><td>0</td><td>0</td><td>0</td><td>0</td><td>7</td><td>7</td></tr><tr><td>7</td><td>7</td><td>0</td><td>0</td><td>0</td><td>0</td><td>0</td><td>0</td><td>0</td><td>0</td><td>0</td><td>0</td><td>7</td><td>7</td></tr><tr><td>7</td><td>7</td><td>0</td><td>0</td><td>0</td><td>0</td><td>0</td><td>0</td><td>0</td><td>0</td><td>0</td><td>0</td><td>7</td><td>7</td></tr><tr><td>7</td><td>7</td><td>0</td><td>0</td><td>0</td><td>0</td><td>0</td><td>0</td><td>0</td><td>0</td><td>0</td><td>0</td><td>7</td><td>7</td></tr><tr><td>7</td><td>7</td><td>0</td><td>0</td><td>0</td><td>0</td><td>0</td><td>0</td><td>0</td><td>0</td><td>0</td><td>0</td><td>7</td><td>7</td></tr><tr><td>7</td><td>7</td><td>0</td><td>0</td><td>0</td><td>0</td><td>0</td><td>0</td><td>0</td><td>0</td><td>0</td><td>0</td><td>7</td><td>7</td></tr><tr><td>7</td><td>7</td><td>0</td><td>0</td><td>0</td><td>0</td><td>0</td><td>0</td><td>0</td><td>0</td><td>0</td><td>0</td><td>7</td><td>7</td></tr><tr><td>7</td><td>7</td><td>0</td><td>0</td><td>0</td><td>0</td><td>0</td><td>0</td><td>0</td><td>0</td><td>0</td><td>0</td><td>7</td><td>7</td></tr><tr><td>7</td><td>7</td><td>0</td><td>0</td><td>0</td><td>0</td><td>0</td><td>0</td><td>0</td><td>0</td><td>0</td><td>0</td><td>7</td><td>7</td></tr><tr><td>7</td><td>7</td><td>0</td><td>0</td><td>0</td><td>0</td><td>0</td><td>0</td><td>0</td><td>0</td><td>0</td><td>0</td><td>7</td><td>7</td></tr><tr><td>7</td><td>7</td><td>3</td><td>3</td><td>3</td><td>3</td><td>0</td><td>0</td><td>3</td><td>3</td><td>3</td><td>3</td><td>7</td><td>7</td></tr><tr><td>7</td><td>7</td><td>3</td><td>3</td><td>3</td><td>3</td><td>3</td><td>0</td><td>3</td><td>3</td><td>3</td><td>3</td><td>7</td><td>7</td></tr><tr><td>7</td><td>7</td><td>7</td><td>7</td><td>7</td><td>7</td><td>7</td><td>7</td><td>7</td><td>7</td><td>7</td><td>7</td><td>7</td><td>7</td></tr><tr><td>7</td><td>7</td><td>7</td><td>7</td><td>7</td><td>7</td><td>7</td><td>7</td><td>7</td><td>7</td><td>7</td><td>7</td><td>7</td><td>7</td></tr></table>"
      ],
      "text/plain": [
       "<IPython.core.display.HTML object>"
      ]
     },
     "metadata": {},
     "output_type": "display_data"
    },
    {
     "name": "stdout",
     "output_type": "stream",
     "text": [
      "\n"
     ]
    },
    {
     "data": {
      "text/html": [
       "<table><tr><td>7</td><td>7</td><td>0</td><td>0</td><td>0</td><td>0</td><td>0</td><td>0</td><td>0</td><td>0</td><td>0</td><td>0</td><td>7</td><td>7</td></tr><tr><td>7</td><td>7</td><td>0</td><td>0</td><td>0</td><td>0</td><td>1</td><td>0</td><td>0</td><td>0</td><td>0</td><td>0</td><td>7</td><td>7</td></tr><tr><td>7</td><td>7</td><td>0</td><td>0</td><td>0</td><td>1</td><td>2</td><td>1</td><td>0</td><td>0</td><td>0</td><td>0</td><td>7</td><td>7</td></tr><tr><td>7</td><td>7</td><td>0</td><td>0</td><td>0</td><td>0</td><td>0</td><td>0</td><td>0</td><td>0</td><td>0</td><td>0</td><td>7</td><td>7</td></tr><tr><td>7</td><td>7</td><td>0</td><td>0</td><td>0</td><td>0</td><td>0</td><td>0</td><td>0</td><td>0</td><td>0</td><td>0</td><td>7</td><td>7</td></tr><tr><td>7</td><td>7</td><td>0</td><td>0</td><td>0</td><td>0</td><td>0</td><td>0</td><td>0</td><td>0</td><td>0</td><td>0</td><td>7</td><td>7</td></tr><tr><td>7</td><td>7</td><td>0</td><td>0</td><td>0</td><td>0</td><td>0</td><td>0</td><td>0</td><td>0</td><td>0</td><td>0</td><td>7</td><td>7</td></tr><tr><td>7</td><td>7</td><td>0</td><td>0</td><td>0</td><td>0</td><td>0</td><td>0</td><td>0</td><td>0</td><td>0</td><td>0</td><td>7</td><td>7</td></tr><tr><td>7</td><td>7</td><td>0</td><td>0</td><td>0</td><td>0</td><td>0</td><td>0</td><td>0</td><td>0</td><td>0</td><td>0</td><td>7</td><td>7</td></tr><tr><td>7</td><td>7</td><td>0</td><td>0</td><td>0</td><td>0</td><td>0</td><td>0</td><td>0</td><td>0</td><td>0</td><td>0</td><td>7</td><td>7</td></tr><tr><td>7</td><td>7</td><td>0</td><td>0</td><td>0</td><td>0</td><td>0</td><td>0</td><td>0</td><td>0</td><td>0</td><td>0</td><td>7</td><td>7</td></tr><tr><td>7</td><td>7</td><td>0</td><td>0</td><td>0</td><td>0</td><td>0</td><td>0</td><td>0</td><td>0</td><td>0</td><td>0</td><td>7</td><td>7</td></tr><tr><td>7</td><td>7</td><td>0</td><td>0</td><td>0</td><td>0</td><td>0</td><td>0</td><td>0</td><td>0</td><td>0</td><td>0</td><td>7</td><td>7</td></tr><tr><td>7</td><td>7</td><td>0</td><td>0</td><td>0</td><td>0</td><td>0</td><td>0</td><td>0</td><td>0</td><td>0</td><td>0</td><td>7</td><td>7</td></tr><tr><td>7</td><td>7</td><td>0</td><td>0</td><td>0</td><td>0</td><td>0</td><td>0</td><td>0</td><td>0</td><td>0</td><td>0</td><td>7</td><td>7</td></tr><tr><td>7</td><td>7</td><td>0</td><td>0</td><td>0</td><td>0</td><td>0</td><td>0</td><td>0</td><td>0</td><td>0</td><td>0</td><td>7</td><td>7</td></tr><tr><td>7</td><td>7</td><td>0</td><td>0</td><td>0</td><td>0</td><td>0</td><td>0</td><td>0</td><td>0</td><td>0</td><td>0</td><td>7</td><td>7</td></tr><tr><td>7</td><td>7</td><td>0</td><td>0</td><td>0</td><td>0</td><td>0</td><td>0</td><td>0</td><td>0</td><td>0</td><td>0</td><td>7</td><td>7</td></tr><tr><td>7</td><td>7</td><td>0</td><td>0</td><td>0</td><td>0</td><td>0</td><td>0</td><td>0</td><td>0</td><td>0</td><td>0</td><td>7</td><td>7</td></tr><tr><td>7</td><td>7</td><td>0</td><td>0</td><td>0</td><td>0</td><td>0</td><td>0</td><td>0</td><td>0</td><td>0</td><td>0</td><td>7</td><td>7</td></tr><tr><td>7</td><td>7</td><td>0</td><td>0</td><td>0</td><td>0</td><td>0</td><td>0</td><td>0</td><td>0</td><td>0</td><td>0</td><td>7</td><td>7</td></tr><tr><td>7</td><td>7</td><td>3</td><td>3</td><td>3</td><td>3</td><td>0</td><td>0</td><td>3</td><td>3</td><td>3</td><td>3</td><td>7</td><td>7</td></tr><tr><td>7</td><td>7</td><td>3</td><td>3</td><td>3</td><td>3</td><td>3</td><td>0</td><td>3</td><td>3</td><td>3</td><td>3</td><td>7</td><td>7</td></tr><tr><td>7</td><td>7</td><td>7</td><td>7</td><td>7</td><td>7</td><td>7</td><td>7</td><td>7</td><td>7</td><td>7</td><td>7</td><td>7</td><td>7</td></tr><tr><td>7</td><td>7</td><td>7</td><td>7</td><td>7</td><td>7</td><td>7</td><td>7</td><td>7</td><td>7</td><td>7</td><td>7</td><td>7</td><td>7</td></tr></table>"
      ],
      "text/plain": [
       "<IPython.core.display.HTML object>"
      ]
     },
     "metadata": {},
     "output_type": "display_data"
    },
    {
     "name": "stdout",
     "output_type": "stream",
     "text": [
      "['muevo abajo', 'muevo abajo', 'muevo abajo', 'muevo abajo', 'muevo abajo', 'muevo abajo', 'muevo abajo', 'muevo abajo', 'muevo abajo', 'muevo abajo', 'muevo abajo', 'muevo abajo', 'muevo abajo', 'muevo abajo', 'muevo abajo', 'muevo abajo', 'muevo abajo', 'muevo abajo', 'muevo derecha', 'Roto 90 grados', 'muevo abajo']\n"
     ]
    },
    {
     "data": {
      "text/html": [
       "<table><tr><td>7</td><td>7</td><td>0</td><td>0</td><td>0</td><td>0</td><td>0</td><td>0</td><td>0</td><td>0</td><td>0</td><td>0</td><td>7</td><td>7</td></tr><tr><td>7</td><td>7</td><td>0</td><td>0</td><td>0</td><td>0</td><td>0</td><td>0</td><td>0</td><td>0</td><td>0</td><td>0</td><td>7</td><td>7</td></tr><tr><td>7</td><td>7</td><td>0</td><td>0</td><td>0</td><td>0</td><td>0</td><td>0</td><td>0</td><td>0</td><td>0</td><td>0</td><td>7</td><td>7</td></tr><tr><td>7</td><td>7</td><td>0</td><td>0</td><td>0</td><td>0</td><td>0</td><td>0</td><td>0</td><td>0</td><td>0</td><td>0</td><td>7</td><td>7</td></tr><tr><td>7</td><td>7</td><td>0</td><td>0</td><td>0</td><td>0</td><td>0</td><td>0</td><td>0</td><td>0</td><td>0</td><td>0</td><td>7</td><td>7</td></tr><tr><td>7</td><td>7</td><td>0</td><td>0</td><td>0</td><td>0</td><td>0</td><td>0</td><td>0</td><td>0</td><td>0</td><td>0</td><td>7</td><td>7</td></tr><tr><td>7</td><td>7</td><td>0</td><td>0</td><td>0</td><td>0</td><td>0</td><td>0</td><td>0</td><td>0</td><td>0</td><td>0</td><td>7</td><td>7</td></tr><tr><td>7</td><td>7</td><td>0</td><td>0</td><td>0</td><td>0</td><td>0</td><td>0</td><td>0</td><td>0</td><td>0</td><td>0</td><td>7</td><td>7</td></tr><tr><td>7</td><td>7</td><td>0</td><td>0</td><td>0</td><td>0</td><td>0</td><td>0</td><td>0</td><td>0</td><td>0</td><td>0</td><td>7</td><td>7</td></tr><tr><td>7</td><td>7</td><td>0</td><td>0</td><td>0</td><td>0</td><td>0</td><td>0</td><td>0</td><td>0</td><td>0</td><td>0</td><td>7</td><td>7</td></tr><tr><td>7</td><td>7</td><td>0</td><td>0</td><td>0</td><td>0</td><td>0</td><td>0</td><td>0</td><td>0</td><td>0</td><td>0</td><td>7</td><td>7</td></tr><tr><td>7</td><td>7</td><td>0</td><td>0</td><td>0</td><td>0</td><td>0</td><td>0</td><td>0</td><td>0</td><td>0</td><td>0</td><td>7</td><td>7</td></tr><tr><td>7</td><td>7</td><td>0</td><td>0</td><td>0</td><td>0</td><td>0</td><td>0</td><td>0</td><td>0</td><td>0</td><td>0</td><td>7</td><td>7</td></tr><tr><td>7</td><td>7</td><td>0</td><td>0</td><td>0</td><td>0</td><td>0</td><td>0</td><td>0</td><td>0</td><td>0</td><td>0</td><td>7</td><td>7</td></tr><tr><td>7</td><td>7</td><td>0</td><td>0</td><td>0</td><td>0</td><td>0</td><td>0</td><td>0</td><td>0</td><td>0</td><td>0</td><td>7</td><td>7</td></tr><tr><td>7</td><td>7</td><td>0</td><td>0</td><td>0</td><td>0</td><td>0</td><td>0</td><td>0</td><td>0</td><td>0</td><td>0</td><td>7</td><td>7</td></tr><tr><td>7</td><td>7</td><td>0</td><td>0</td><td>0</td><td>0</td><td>0</td><td>0</td><td>0</td><td>0</td><td>0</td><td>0</td><td>7</td><td>7</td></tr><tr><td>7</td><td>7</td><td>0</td><td>0</td><td>0</td><td>0</td><td>0</td><td>0</td><td>0</td><td>0</td><td>0</td><td>0</td><td>7</td><td>7</td></tr><tr><td>7</td><td>7</td><td>0</td><td>0</td><td>0</td><td>0</td><td>0</td><td>0</td><td>0</td><td>0</td><td>0</td><td>0</td><td>7</td><td>7</td></tr><tr><td>7</td><td>7</td><td>0</td><td>0</td><td>0</td><td>0</td><td>0</td><td>0</td><td>0</td><td>0</td><td>0</td><td>0</td><td>7</td><td>7</td></tr><tr><td>7</td><td>7</td><td>0</td><td>0</td><td>0</td><td>0</td><td>0</td><td>1</td><td>0</td><td>0</td><td>0</td><td>0</td><td>7</td><td>7</td></tr><tr><td>7</td><td>7</td><td>3</td><td>3</td><td>3</td><td>3</td><td>1</td><td>2</td><td>3</td><td>3</td><td>3</td><td>3</td><td>7</td><td>7</td></tr><tr><td>7</td><td>7</td><td>3</td><td>3</td><td>3</td><td>3</td><td>3</td><td>1</td><td>3</td><td>3</td><td>3</td><td>3</td><td>7</td><td>7</td></tr><tr><td>7</td><td>7</td><td>7</td><td>7</td><td>7</td><td>7</td><td>7</td><td>7</td><td>7</td><td>7</td><td>7</td><td>7</td><td>7</td><td>7</td></tr><tr><td>7</td><td>7</td><td>7</td><td>7</td><td>7</td><td>7</td><td>7</td><td>7</td><td>7</td><td>7</td><td>7</td><td>7</td><td>7</td><td>7</td></tr></table>"
      ],
      "text/plain": [
       "<IPython.core.display.HTML object>"
      ]
     },
     "metadata": {},
     "output_type": "display_data"
    },
    {
     "data": {
      "text/html": [
       "<table><tr><td>7</td><td>7</td><td>0</td><td>0</td><td>0</td><td>0</td><td>0</td><td>0</td><td>0</td><td>0</td><td>0</td><td>0</td><td>7</td><td>7</td></tr><tr><td>7</td><td>7</td><td>0</td><td>0</td><td>0</td><td>0</td><td>0</td><td>0</td><td>0</td><td>0</td><td>0</td><td>0</td><td>7</td><td>7</td></tr><tr><td>7</td><td>7</td><td>0</td><td>0</td><td>0</td><td>0</td><td>0</td><td>0</td><td>0</td><td>0</td><td>0</td><td>0</td><td>7</td><td>7</td></tr><tr><td>7</td><td>7</td><td>0</td><td>0</td><td>0</td><td>0</td><td>0</td><td>0</td><td>0</td><td>0</td><td>0</td><td>0</td><td>7</td><td>7</td></tr><tr><td>7</td><td>7</td><td>0</td><td>0</td><td>0</td><td>0</td><td>0</td><td>0</td><td>0</td><td>0</td><td>0</td><td>0</td><td>7</td><td>7</td></tr><tr><td>7</td><td>7</td><td>0</td><td>0</td><td>0</td><td>0</td><td>0</td><td>0</td><td>0</td><td>0</td><td>0</td><td>0</td><td>7</td><td>7</td></tr><tr><td>7</td><td>7</td><td>0</td><td>0</td><td>0</td><td>0</td><td>0</td><td>0</td><td>0</td><td>0</td><td>0</td><td>0</td><td>7</td><td>7</td></tr><tr><td>7</td><td>7</td><td>0</td><td>0</td><td>0</td><td>0</td><td>0</td><td>0</td><td>0</td><td>0</td><td>0</td><td>0</td><td>7</td><td>7</td></tr><tr><td>7</td><td>7</td><td>0</td><td>0</td><td>0</td><td>0</td><td>0</td><td>0</td><td>0</td><td>0</td><td>0</td><td>0</td><td>7</td><td>7</td></tr><tr><td>7</td><td>7</td><td>0</td><td>0</td><td>0</td><td>0</td><td>0</td><td>0</td><td>0</td><td>0</td><td>0</td><td>0</td><td>7</td><td>7</td></tr><tr><td>7</td><td>7</td><td>0</td><td>0</td><td>0</td><td>0</td><td>0</td><td>0</td><td>0</td><td>0</td><td>0</td><td>0</td><td>7</td><td>7</td></tr><tr><td>7</td><td>7</td><td>0</td><td>0</td><td>0</td><td>0</td><td>0</td><td>0</td><td>0</td><td>0</td><td>0</td><td>0</td><td>7</td><td>7</td></tr><tr><td>7</td><td>7</td><td>0</td><td>0</td><td>0</td><td>0</td><td>0</td><td>0</td><td>0</td><td>0</td><td>0</td><td>0</td><td>7</td><td>7</td></tr><tr><td>7</td><td>7</td><td>0</td><td>0</td><td>0</td><td>0</td><td>0</td><td>0</td><td>0</td><td>0</td><td>0</td><td>0</td><td>7</td><td>7</td></tr><tr><td>7</td><td>7</td><td>0</td><td>0</td><td>0</td><td>0</td><td>0</td><td>0</td><td>0</td><td>0</td><td>0</td><td>0</td><td>7</td><td>7</td></tr><tr><td>7</td><td>7</td><td>0</td><td>0</td><td>0</td><td>0</td><td>0</td><td>0</td><td>0</td><td>0</td><td>0</td><td>0</td><td>7</td><td>7</td></tr><tr><td>7</td><td>7</td><td>0</td><td>0</td><td>0</td><td>0</td><td>0</td><td>0</td><td>0</td><td>0</td><td>0</td><td>0</td><td>7</td><td>7</td></tr><tr><td>7</td><td>7</td><td>0</td><td>0</td><td>0</td><td>0</td><td>0</td><td>0</td><td>0</td><td>0</td><td>0</td><td>0</td><td>7</td><td>7</td></tr><tr><td>7</td><td>7</td><td>0</td><td>0</td><td>0</td><td>0</td><td>0</td><td>0</td><td>0</td><td>0</td><td>0</td><td>0</td><td>7</td><td>7</td></tr><tr><td>7</td><td>7</td><td>0</td><td>0</td><td>0</td><td>0</td><td>0</td><td>0</td><td>0</td><td>0</td><td>0</td><td>0</td><td>7</td><td>7</td></tr><tr><td>7</td><td>7</td><td>0</td><td>0</td><td>0</td><td>0</td><td>0</td><td>0</td><td>0</td><td>0</td><td>0</td><td>0</td><td>7</td><td>7</td></tr><tr><td>7</td><td>7</td><td>0</td><td>0</td><td>0</td><td>0</td><td>0</td><td>0</td><td>0</td><td>0</td><td>0</td><td>0</td><td>7</td><td>7</td></tr><tr><td>7</td><td>7</td><td>0</td><td>0</td><td>0</td><td>0</td><td>0</td><td>3</td><td>0</td><td>0</td><td>0</td><td>0</td><td>7</td><td>7</td></tr><tr><td>7</td><td>7</td><td>7</td><td>7</td><td>7</td><td>7</td><td>7</td><td>7</td><td>7</td><td>7</td><td>7</td><td>7</td><td>7</td><td>7</td></tr><tr><td>7</td><td>7</td><td>7</td><td>7</td><td>7</td><td>7</td><td>7</td><td>7</td><td>7</td><td>7</td><td>7</td><td>7</td><td>7</td><td>7</td></tr></table>"
      ],
      "text/plain": [
       "<IPython.core.display.HTML object>"
      ]
     },
     "metadata": {},
     "output_type": "display_data"
    },
    {
     "data": {
      "text/html": [
       "<table><tr><td>7</td><td>7</td><td>0</td><td>0</td><td>0</td><td>0</td><td>0</td><td>0</td><td>0</td><td>0</td><td>0</td><td>0</td><td>7</td><td>7</td></tr><tr><td>7</td><td>7</td><td>0</td><td>0</td><td>0</td><td>0</td><td>0</td><td>0</td><td>0</td><td>0</td><td>0</td><td>0</td><td>7</td><td>7</td></tr><tr><td>7</td><td>7</td><td>0</td><td>0</td><td>0</td><td>1</td><td>2</td><td>1</td><td>1</td><td>0</td><td>0</td><td>0</td><td>7</td><td>7</td></tr><tr><td>7</td><td>7</td><td>0</td><td>0</td><td>0</td><td>0</td><td>0</td><td>0</td><td>0</td><td>0</td><td>0</td><td>0</td><td>7</td><td>7</td></tr><tr><td>7</td><td>7</td><td>0</td><td>0</td><td>0</td><td>0</td><td>0</td><td>0</td><td>0</td><td>0</td><td>0</td><td>0</td><td>7</td><td>7</td></tr><tr><td>7</td><td>7</td><td>0</td><td>0</td><td>0</td><td>0</td><td>0</td><td>0</td><td>0</td><td>0</td><td>0</td><td>0</td><td>7</td><td>7</td></tr><tr><td>7</td><td>7</td><td>0</td><td>0</td><td>0</td><td>0</td><td>0</td><td>0</td><td>0</td><td>0</td><td>0</td><td>0</td><td>7</td><td>7</td></tr><tr><td>7</td><td>7</td><td>0</td><td>0</td><td>0</td><td>0</td><td>0</td><td>0</td><td>0</td><td>0</td><td>0</td><td>0</td><td>7</td><td>7</td></tr><tr><td>7</td><td>7</td><td>0</td><td>0</td><td>0</td><td>0</td><td>0</td><td>0</td><td>0</td><td>0</td><td>0</td><td>0</td><td>7</td><td>7</td></tr><tr><td>7</td><td>7</td><td>0</td><td>0</td><td>0</td><td>0</td><td>0</td><td>0</td><td>0</td><td>0</td><td>0</td><td>0</td><td>7</td><td>7</td></tr><tr><td>7</td><td>7</td><td>0</td><td>0</td><td>0</td><td>0</td><td>0</td><td>0</td><td>0</td><td>0</td><td>0</td><td>0</td><td>7</td><td>7</td></tr><tr><td>7</td><td>7</td><td>0</td><td>0</td><td>0</td><td>0</td><td>0</td><td>0</td><td>0</td><td>0</td><td>0</td><td>0</td><td>7</td><td>7</td></tr><tr><td>7</td><td>7</td><td>0</td><td>0</td><td>0</td><td>0</td><td>0</td><td>0</td><td>0</td><td>0</td><td>0</td><td>0</td><td>7</td><td>7</td></tr><tr><td>7</td><td>7</td><td>0</td><td>0</td><td>0</td><td>0</td><td>0</td><td>0</td><td>0</td><td>0</td><td>0</td><td>0</td><td>7</td><td>7</td></tr><tr><td>7</td><td>7</td><td>0</td><td>0</td><td>0</td><td>0</td><td>0</td><td>0</td><td>0</td><td>0</td><td>0</td><td>0</td><td>7</td><td>7</td></tr><tr><td>7</td><td>7</td><td>0</td><td>0</td><td>0</td><td>0</td><td>0</td><td>0</td><td>0</td><td>0</td><td>0</td><td>0</td><td>7</td><td>7</td></tr><tr><td>7</td><td>7</td><td>0</td><td>0</td><td>0</td><td>0</td><td>0</td><td>0</td><td>0</td><td>0</td><td>0</td><td>0</td><td>7</td><td>7</td></tr><tr><td>7</td><td>7</td><td>0</td><td>0</td><td>0</td><td>0</td><td>0</td><td>0</td><td>0</td><td>0</td><td>0</td><td>0</td><td>7</td><td>7</td></tr><tr><td>7</td><td>7</td><td>0</td><td>0</td><td>0</td><td>0</td><td>0</td><td>0</td><td>0</td><td>0</td><td>0</td><td>0</td><td>7</td><td>7</td></tr><tr><td>7</td><td>7</td><td>0</td><td>0</td><td>0</td><td>0</td><td>0</td><td>0</td><td>0</td><td>0</td><td>0</td><td>0</td><td>7</td><td>7</td></tr><tr><td>7</td><td>7</td><td>0</td><td>0</td><td>0</td><td>0</td><td>0</td><td>0</td><td>0</td><td>0</td><td>0</td><td>0</td><td>7</td><td>7</td></tr><tr><td>7</td><td>7</td><td>0</td><td>0</td><td>0</td><td>0</td><td>0</td><td>0</td><td>0</td><td>0</td><td>0</td><td>0</td><td>7</td><td>7</td></tr><tr><td>7</td><td>7</td><td>0</td><td>0</td><td>0</td><td>0</td><td>0</td><td>3</td><td>0</td><td>0</td><td>0</td><td>0</td><td>7</td><td>7</td></tr><tr><td>7</td><td>7</td><td>7</td><td>7</td><td>7</td><td>7</td><td>7</td><td>7</td><td>7</td><td>7</td><td>7</td><td>7</td><td>7</td><td>7</td></tr><tr><td>7</td><td>7</td><td>7</td><td>7</td><td>7</td><td>7</td><td>7</td><td>7</td><td>7</td><td>7</td><td>7</td><td>7</td><td>7</td><td>7</td></tr></table>"
      ],
      "text/plain": [
       "<IPython.core.display.HTML object>"
      ]
     },
     "metadata": {},
     "output_type": "display_data"
    },
    {
     "name": "stdout",
     "output_type": "stream",
     "text": [
      "['muevo abajo', 'muevo abajo', 'muevo abajo', 'muevo abajo', 'muevo abajo', 'muevo abajo', 'muevo abajo', 'muevo abajo', 'muevo abajo', 'muevo abajo', 'muevo abajo', 'muevo abajo', 'muevo abajo', 'muevo abajo', 'muevo abajo', 'muevo abajo', 'muevo abajo', 'muevo abajo', 'muevo abajo', 'muevo derecha', 'muevo derecha', 'muevo derecha', 'Roto 90 grados', 'muevo derecha', 'Roto 90 grados', 'muevo abajo']\n"
     ]
    }
   ],
   "source": [
    "printBonito(estado0)\n",
    "print(\"\")\n",
    "printBonito(pon_ficha_nueva(estado0,piezas[5]))\n",
    "print(CalculoMovimientos(estado0,piezas[5]))\n",
    "nuevoEstado=CalculoEstadoFinal(estado0,piezas[5])\n",
    "printBonito(nuevoEstado)\n",
    "nuevoEstado=MoverAbajo.aplicar(nuevoEstado,nuevoEstado)\n",
    "printBonito(nuevoEstado)\n",
    "nuevoEstadoSinFicha=nuevoEstado\n",
    "nuevoEstado=pon_ficha_nueva(nuevoEstado,piezas[0])\n",
    "printBonito(nuevoEstado)\n",
    "print(CalculoMovimientos(nuevoEstadoSinFicha,piezas[0]))\n"
   ]
  }
 ],
 "metadata": {
  "kernelspec": {
   "display_name": "Python 3",
   "language": "python",
   "name": "python3"
  },
  "language_info": {
   "codemirror_mode": {
    "name": "ipython",
    "version": 3
   },
   "file_extension": ".py",
   "mimetype": "text/x-python",
   "name": "python",
   "nbconvert_exporter": "python",
   "pygments_lexer": "ipython3",
   "version": "3.6.4"
  }
 },
 "nbformat": 4,
 "nbformat_minor": 2
}
