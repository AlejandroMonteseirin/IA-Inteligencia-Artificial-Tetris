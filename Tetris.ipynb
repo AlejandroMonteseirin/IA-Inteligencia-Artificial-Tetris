{
 "cells": [
  {
   "cell_type": "code",
   "execution_count": 120,
   "metadata": {},
   "outputs": [],
   "source": [
    "import problema_espacio_estados as probee\n",
    "import búsqueda_espacio_estados as búsqee\n",
    "import copy"
   ]
  },
  {
   "cell_type": "code",
   "execution_count": 137,
   "metadata": {},
   "outputs": [],
   "source": [
    "estado1=   [[7,7,0, 0, 0, 0, 0, 0, 0, 1, 0, 0, 7,7],\n",
    "            [7,7,0, 0, 0, 0, 0, 0, 1, 2, 1, 0, 7,7],\n",
    "            [7,7,0, 0, 0, 0, 0, 0, 0, 0, 0, 0, 7,7],\n",
    "            [7,7,0, 0, 0, 0, 0, 0, 0, 0, 0, 0, 7,7],\n",
    "            [7,7,0, 0, 0, 0, 0, 0, 0, 0, 0, 0, 7,7],\n",
    "            [7,7,0, 0, 0, 0, 0, 0, 0, 0, 0, 0, 7,7],\n",
    "            [7,7,0, 0, 0, 0, 0, 0, 0, 0, 0, 0, 7,7],\n",
    "            [7,7,0, 0, 0, 0, 0, 0, 0, 0, 0, 0, 7,7],\n",
    "            [7,7,0, 0, 0, 0, 0, 0, 0, 0, 0, 0, 7,7],\n",
    "            [7,7,0, 0, 0, 0, 0, 0, 0, 0, 0, 0, 7,7],\n",
    "            [7,7,0, 0, 0, 0, 0, 0, 0, 0, 0, 0, 7,7],\n",
    "            [7,7,0, 0, 0, 0, 0, 0, 0, 0, 0, 0, 7,7],\n",
    "            [7,7,0, 0, 0, 0, 0, 0, 0, 0, 0, 0, 7,7],\n",
    "            [7,7,0, 0, 0, 0, 0, 0, 0, 0, 0, 0, 7,7],\n",
    "            [7,7,0, 0, 0, 0, 0, 0, 0, 0, 0, 0, 7,7],\n",
    "            [7,7,0, 0, 0, 0, 0, 0, 0, 0, 0, 0, 7,7],\n",
    "            [7,7,0, 0, 0, 0, 0, 0, 0, 0, 0, 0, 7,7],\n",
    "            [7,7,0, 0, 0, 0, 0, 0, 0, 0, 0, 0, 7,7],\n",
    "            [7,7,0, 0, 0, 0, 0, 0, 0, 0, 0, 0, 7,7],\n",
    "            [7,7,0, 0, 0, 0, 0, 0, 0, 0, 0, 0, 7,7],\n",
    "            [7,7,0, 0, 0, 0, 0, 0, 0, 0, 0, 0, 7,7],\n",
    "            [7,7,0, 0, 0, 0, 0, 0, 0, 0, 0, 0, 7,7],\n",
    "            [7,7,3, 3, 0, 0, 0, 3, 3, 3, 3, 3, 7,7],\n",
    "            [7,7,7, 7, 7, 7, 7, 7, 7, 7, 7, 7, 7,7],\n",
    "            [7,7,7, 7, 7, 7, 7, 7, 7, 7, 7, 7, 7,7]\n",
    "            ]\n",
    "   \n",
    "estado2=    [[7, 7, 0, 0, 0, 0, 0, 0, 0, 0, 0, 0, 7, 7],\n",
    "             [7, 7, 0, 0, 0, 0, 0, 0, 0, 0, 0, 0, 7, 7],\n",
    "             [7, 7, 0, 0, 0, 0, 0, 0, 0, 0, 0, 0, 7, 7],\n",
    "             [7, 7, 0, 0, 0, 0, 0, 0, 0, 0, 0, 0, 7, 7], \n",
    "             [7, 7, 0, 0, 0, 0, 0, 0, 0, 0, 0, 0, 7, 7], \n",
    "             [7, 7, 0, 0, 0, 0, 0, 0, 0, 0, 0, 0, 7, 7], \n",
    "             [7, 7, 0, 0, 0, 0, 0, 0, 0, 0, 0, 0, 7, 7], \n",
    "             [7, 7, 0, 0, 0, 0, 0, 0, 0, 0, 0, 0, 7, 7], \n",
    "             [7, 7, 0, 0, 0, 0, 0, 0, 0, 0, 0, 0, 7, 7], \n",
    "             [7, 7, 0, 0, 0, 0, 0, 0, 0, 0, 0, 0, 7, 7], \n",
    "             [7, 7, 0, 0, 0, 0, 0, 0, 0, 0, 0, 0, 7, 7], \n",
    "             [7, 7, 0, 0, 0, 0, 0, 0, 0, 0, 0, 0, 7, 7], \n",
    "             [7, 7, 0, 0, 0, 0, 0, 0, 0, 0, 0, 0, 7, 7], \n",
    "             [7, 7, 0, 0, 0, 0, 0, 0, 0, 0, 0, 0, 7, 7], \n",
    "             [7, 7, 0, 0, 0, 0, 0, 0, 0, 0, 0, 0, 7, 7], \n",
    "             [7, 7, 0, 0, 0, 0, 0, 0, 0, 0, 0, 0, 7, 7],\n",
    "             [7, 7, 0, 0, 0, 0, 0, 0, 0, 0, 0, 0, 7, 7], \n",
    "             [7, 7, 0, 0, 0, 0, 0, 0, 0, 0, 0, 0, 7, 7], \n",
    "             [7, 7, 0, 0, 0, 0, 0, 0, 0, 0, 0, 0, 7, 7], \n",
    "             [7, 7, 0, 0, 0, 0, 0, 0, 0, 0, 0, 0, 7, 7], \n",
    "             [7, 7, 0, 0, 0, 0, 0, 0, 0, 0, 0, 0, 7, 7], \n",
    "             [7, 7, 0, 0, 0, 0, 0, 0, 0, 0, 0, 0, 7, 7],\n",
    "             [7, 7, 0, 0, 0, 3, 0, 0, 0, 0, 0, 0, 7, 7],\n",
    "             [7, 7, 7, 7, 7, 7, 7, 7, 7, 7, 7, 7, 7, 7], \n",
    "             [7, 7, 7, 7, 7, 7, 7, 7, 7, 7, 7, 7, 7, 7]\n",
    "            ]\n",
    "\n",
    "\n"
   ]
  },
  {
   "cell_type": "code",
   "execution_count": 122,
   "metadata": {},
   "outputs": [],
   "source": [
    "class MoverAbajo(probee.Acción):\n",
    "    def __init__(self):\n",
    "        nombre = 'muevo abajo'\n",
    "        super().__init__(nombre)\n",
    "        \n",
    "    def es_aplicable(self,estado):\n",
    "        \n",
    "        return True\n",
    "        \n",
    "    def eliminar_filas_llenas(estado):\n",
    "        sehacefija=False\n",
    "        for x, i in list(enumerate(estado)):\n",
    "            numerode3=0\n",
    "            for y, j in list(enumerate(i)):\n",
    "                if j==3:\n",
    "                    numerode3=numerode3+1\n",
    "            if numerode3==10:\n",
    "                estado.pop(x)\n",
    "                estado.insert(0,[7,7,0,0,0,0,0,0,0,0,0,0,7,7])\n",
    "                \n",
    "        return estado\n",
    "    \n",
    "    def se_hace_fija(estado):\n",
    "        sehacefija=False\n",
    "        for x, i in list(enumerate(estado)):\n",
    "            for y, j in list(enumerate(i)):\n",
    "                if j==2:\n",
    "                    if(estado[x+1][y]==3 or estado[x+1][y]==7):\n",
    "                        sehacefija=True\n",
    "                if j==1:\n",
    "                    if(estado[x+1][y]==3 or estado[x+1][y]==7):\n",
    "                        sehacefija=True\n",
    "               \n",
    "        return sehacefija\n",
    "                \n",
    "    def aplicar(self,estado):\n",
    "        nuevo_estado = copy.deepcopy(estado)\n",
    "        if MoverAbajo.se_hace_fija(estado):\n",
    "            for y, i in reversed(list(enumerate(estado))):\n",
    "                for x, j in list(enumerate(i)):\n",
    "                    if j==1:\n",
    "                        nuevo_estado[y][x]=3\n",
    "                    if j==2:\n",
    "                        nuevo_estado[y][x]=3\n",
    "        nuevo_estado=MoverAbajo.eliminar_filas_llenas(nuevo_estado)\n",
    "        if not(MoverAbajo.se_hace_fija(estado)):\n",
    "            for y, i in reversed(list(enumerate(estado))):\n",
    "                for x, j in list(enumerate(i)):\n",
    "                    if j==1:\n",
    "                        nuevo_estado[y+1][x]=1\n",
    "                        nuevo_estado[y][x]=0\n",
    "                    if j==2:\n",
    "                        nuevo_estado[y+1][x]=2\n",
    "                        nuevo_estado[y][x]=0\n",
    "        return nuevo_estado       "
   ]
  },
  {
   "cell_type": "code",
   "execution_count": 123,
   "metadata": {},
   "outputs": [],
   "source": [
    "class MoverIzquierda(probee.Acción):\n",
    "    def __init__(self):\n",
    "        nombre = 'muevo izquierda'\n",
    "        super().__init__(nombre)\n",
    "        \n",
    "    def es_aplicable(self,estado):\n",
    "        res=True\n",
    "        for x, i in list(enumerate(estado)):\n",
    "            for y, j in list(enumerate(i)):\n",
    "                if j==2:\n",
    "                    if(estado[x][y-1]==3 or estado[x][y-1]==7):\n",
    "                        res=False\n",
    "                if j==1:\n",
    "                    if(estado[x][y-1]==3 or estado[x][y-1]==7):\n",
    "                        res=False  \n",
    "        return res\n",
    "                \n",
    "        \n",
    "\n",
    "    def aplicar(self,estado):\n",
    "        nuevo_estado = copy.deepcopy(estado)\n",
    "        for y, i in list(enumerate(estado)):\n",
    "            for x, j in list(enumerate(i)):\n",
    "                if j==1:\n",
    "                    nuevo_estado[y][x-1]=1\n",
    "                    nuevo_estado[y][x]=0\n",
    "                if j==2:\n",
    "                    nuevo_estado[y][x-1]=2\n",
    "                    nuevo_estado[y][x]=0\n",
    "        return nuevo_estado   \n",
    "                \n"
   ]
  },
  {
   "cell_type": "code",
   "execution_count": 124,
   "metadata": {},
   "outputs": [],
   "source": [
    "class MoverDerecha(probee.Acción):\n",
    "    def __init__(self):\n",
    "        nombre = 'muevo derecha'\n",
    "        super().__init__(nombre)\n",
    "        \n",
    "    def es_aplicable(self,estado):\n",
    "        res=True\n",
    "        for x, i in list(enumerate(estado)):\n",
    "            for y, j in list(enumerate(i)):\n",
    "                if j==2:\n",
    "                    if(estado[x][y+1]==3 or estado[x][y+1]==7):\n",
    "                        res=False\n",
    "                if j==1:\n",
    "                    if(estado[x][y+1]==3 or estado[x][y+1]==7):\n",
    "                        res=False  \n",
    "        return res\n",
    "                \n",
    "        \n",
    "\n",
    "    def aplicar(self,estado):\n",
    "        nuevo_estado = copy.deepcopy(estado)\n",
    "        for y, i in list(enumerate(estado)):\n",
    "            for x, j in reversed(list(enumerate(i))):\n",
    "                if j==1:\n",
    "                    nuevo_estado[y][x+1]=1\n",
    "                    nuevo_estado[y][x]=0\n",
    "                if j==2:\n",
    "                    nuevo_estado[y][x+1]=2\n",
    "                    nuevo_estado[y][x]=0\n",
    "        return nuevo_estado"
   ]
  },
  {
   "cell_type": "code",
   "execution_count": 125,
   "metadata": {},
   "outputs": [],
   "source": [
    "class Rotar(probee.Acción):\n",
    "    def __init__(self):\n",
    "        nombre = 'Roto 90 grados'\n",
    "        super().__init__(nombre)\n",
    "        \n",
    "    def es_de_cinco(estado):\n",
    "        for x, i in list(enumerate(estado)):\n",
    "            for y, j in list(enumerate(i)):\n",
    "                if j==2:\n",
    "                    return estado[x+2][y]==1 or estado[x-2][y]==1 or estado[x][y+2]==1 or estado[x][y-2]\n",
    "        \n",
    "    def es_aplicable(self,estado):\n",
    "        for y, i in list(enumerate(estado)):\n",
    "            for x, j in list(enumerate(i)):\n",
    "                if j==2:\n",
    "                    if estado[y][x+1]==1:\n",
    "                        if estado[y-1][x]==3 or estado[y-1][x]==7:\n",
    "                            return False\n",
    "                    if estado[y][x-1]==1:\n",
    "                        if estado[y+1][x]==3 or estado[y+1][x]==7:\n",
    "                            return False\n",
    "                    if estado[y+1][x]==1:\n",
    "                        if estado[y][x+1]==3 or estado[y][x+1]==7:\n",
    "                            return False\n",
    "                    if estado[y-1][x]==1:\n",
    "                         if estado[y][x-1]==3 or estado[y][x-1]==7:\n",
    "                            return False\n",
    "                    if estado[y-1][x-1]==1:\n",
    "                         if estado[y+1][x]==3 or estado[y+1][x]==7:\n",
    "                            return False\n",
    "                    if estado[y+1][x-1]==1:\n",
    "                        if estado[y+1][x+1]==3 or estado[y+1][x+1]==7:\n",
    "                            return False\n",
    "                    if estado[y+1][x+1]==1:\n",
    "                        if estado[y-1][x+1]==3 or estado[y-1][x+1]==7:\n",
    "                            return False\n",
    "                    if estado[y-1][x+1]==1:\n",
    "                        if estado[y-1][x-1]==3 or estado[y-1][x-1]==7:\n",
    "                            return False                    \n",
    "                    if Rotar.es_de_cinco(estado):\n",
    "                        if estado[y][x+2]==1:\n",
    "                            if estado[y-2][x]==3 or estado[y-2][x]==7:\n",
    "                                return False     \n",
    "                        if estado[y][x-2]==1:\n",
    "                             if estado[y+2][x]==3 or estado[y+2][x]==7:\n",
    "                                return False     \n",
    "                        if estado[y+2][x]==1:\n",
    "                            if estado[y][x+2]==3 or estado[y][x+2]==7:\n",
    "                                return False     \n",
    "                        if estado[y-2][x]==1:\n",
    "                            if estado[y][x-2]==3 or estado[y][x-2]==7:\n",
    "                                return False     \n",
    "        return True                \n",
    "        \n",
    "\n",
    "    def aplicar(self,estado):\n",
    "        nuevo_estado = copy.deepcopy(estado)\n",
    "        for y, i in list(enumerate(estado)):\n",
    "            for x, j in list(enumerate(i)):\n",
    "                if j==2:\n",
    "                    if estado[y-1][x-1]==1:\n",
    "                        nuevo_estado[y-1][x-1]=0\n",
    "                    if estado[y+1][x-1]==1:\n",
    "                        nuevo_estado[y+1][x-1]=0\n",
    "                    if estado[y+1][x+1]==1:\n",
    "                        nuevo_estado[y+1][x+1]=0\n",
    "                    if estado[y-1][x+1]==1:\n",
    "                        nuevo_estado[y-1][x+1]=0  \n",
    "                    if estado[y][x+1]==1:\n",
    "                        nuevo_estado[y][x+1]=0\n",
    "                    if estado[y][x-1]==1:\n",
    "                        nuevo_estado[y][x-1]=0\n",
    "                    if estado[y+1][x]==1:\n",
    "                        nuevo_estado[y+1][x]=0\n",
    "                    if estado[y-1][x]==1:\n",
    "                        nuevo_estado[y-1][x]=0\n",
    "                    if estado[y][x+1]==1:\n",
    "                        nuevo_estado[y-1][x]=1\n",
    "                    if estado[y][x-1]==1:\n",
    "                        nuevo_estado[y+1][x]=1\n",
    "                    if estado[y+1][x]==1:\n",
    "                        nuevo_estado[y][x+1]=1\n",
    "                    if estado[y-1][x]==1:\n",
    "                        nuevo_estado[y][x-1]=1\n",
    "                    if estado[y-1][x-1]==1:\n",
    "                        nuevo_estado[y+1][x-1]=1\n",
    "                    if estado[y+1][x-1]==1:\n",
    "                        nuevo_estado[y+1][x+1]=1\n",
    "                    if estado[y+1][x+1]==1:\n",
    "                        nuevo_estado[y-1][x+1]=1\n",
    "                    if estado[y-1][x+1]==1:\n",
    "                        nuevo_estado[y-1][x-1]=1                       \n",
    "                    if Rotar.es_de_cinco(estado):\n",
    "                        if estado[y][x+2]==1:\n",
    "                            nuevo_estado[y][x+2]=0\n",
    "                        if estado[y][x-2]==1:\n",
    "                            nuevo_estado[y][x-2]=0\n",
    "                        if estado[y+2][x]==1:\n",
    "                            nuevo_estado[y+2][x]=0\n",
    "                        if estado[y-2][x]==1:\n",
    "                            nuevo_estado[y-2][x]=0\n",
    "\n",
    "                        if estado[y][x+2]==1:\n",
    "                            nuevo_estado[y-2][x]=1\n",
    "                        if estado[y][x-2]==1:\n",
    "                            nuevo_estado[y+2][x]=1\n",
    "                        if estado[y+2][x]==1:\n",
    "                            nuevo_estado[y][x+2]=1\n",
    "                        if estado[y-2][x]==1:\n",
    "                            nuevo_estado[y][x-2]=1      \n",
    "        return nuevo_estado   \n",
    "                "
   ]
  },
  {
   "cell_type": "code",
   "execution_count": 126,
   "metadata": {},
   "outputs": [],
   "source": [
    "acciones =[MoverAbajo(),MoverIzquierda(),MoverDerecha(),Rotar()]\n",
    "estado_inicial = estado1\n",
    "estado_final = estado2\n",
    "tetris=probee.ProblemaEspacioEstados(acciones,estado_inicial,[estado_final])"
   ]
  },
  {
   "cell_type": "code",
   "execution_count": 127,
   "metadata": {},
   "outputs": [
    {
     "data": {
      "text/html": [
       "<table><tr><td>7</td><td>7</td><td>0</td><td>0</td><td>0</td><td>0</td><td>0</td><td>0</td><td>0</td><td>0</td><td>0</td><td>0</td><td>7</td><td>7</td></tr><tr><td>7</td><td>7</td><td>0</td><td>0</td><td>0</td><td>0</td><td>0</td><td>0</td><td>0</td><td>1</td><td>0</td><td>0</td><td>7</td><td>7</td></tr><tr><td>7</td><td>7</td><td>0</td><td>0</td><td>0</td><td>0</td><td>0</td><td>0</td><td>1</td><td>2</td><td>1</td><td>0</td><td>7</td><td>7</td></tr><tr><td>7</td><td>7</td><td>0</td><td>0</td><td>0</td><td>0</td><td>0</td><td>0</td><td>0</td><td>0</td><td>0</td><td>0</td><td>7</td><td>7</td></tr><tr><td>7</td><td>7</td><td>0</td><td>0</td><td>0</td><td>0</td><td>0</td><td>0</td><td>0</td><td>0</td><td>0</td><td>0</td><td>7</td><td>7</td></tr><tr><td>7</td><td>7</td><td>0</td><td>0</td><td>0</td><td>0</td><td>0</td><td>0</td><td>0</td><td>0</td><td>0</td><td>0</td><td>7</td><td>7</td></tr><tr><td>7</td><td>7</td><td>0</td><td>0</td><td>0</td><td>0</td><td>0</td><td>0</td><td>0</td><td>0</td><td>0</td><td>0</td><td>7</td><td>7</td></tr><tr><td>7</td><td>7</td><td>0</td><td>0</td><td>0</td><td>0</td><td>0</td><td>0</td><td>0</td><td>0</td><td>0</td><td>0</td><td>7</td><td>7</td></tr><tr><td>7</td><td>7</td><td>0</td><td>0</td><td>0</td><td>0</td><td>0</td><td>0</td><td>0</td><td>0</td><td>0</td><td>0</td><td>7</td><td>7</td></tr><tr><td>7</td><td>7</td><td>0</td><td>0</td><td>0</td><td>0</td><td>0</td><td>0</td><td>0</td><td>0</td><td>0</td><td>0</td><td>7</td><td>7</td></tr><tr><td>7</td><td>7</td><td>0</td><td>0</td><td>0</td><td>0</td><td>0</td><td>0</td><td>0</td><td>0</td><td>0</td><td>0</td><td>7</td><td>7</td></tr><tr><td>7</td><td>7</td><td>0</td><td>0</td><td>0</td><td>0</td><td>0</td><td>0</td><td>0</td><td>0</td><td>0</td><td>0</td><td>7</td><td>7</td></tr><tr><td>7</td><td>7</td><td>0</td><td>0</td><td>0</td><td>0</td><td>0</td><td>0</td><td>0</td><td>0</td><td>0</td><td>0</td><td>7</td><td>7</td></tr><tr><td>7</td><td>7</td><td>0</td><td>0</td><td>0</td><td>0</td><td>0</td><td>0</td><td>0</td><td>0</td><td>0</td><td>0</td><td>7</td><td>7</td></tr><tr><td>7</td><td>7</td><td>0</td><td>0</td><td>0</td><td>0</td><td>0</td><td>0</td><td>0</td><td>0</td><td>0</td><td>0</td><td>7</td><td>7</td></tr><tr><td>7</td><td>7</td><td>0</td><td>0</td><td>0</td><td>0</td><td>0</td><td>0</td><td>0</td><td>0</td><td>0</td><td>0</td><td>7</td><td>7</td></tr><tr><td>7</td><td>7</td><td>0</td><td>0</td><td>0</td><td>0</td><td>0</td><td>0</td><td>0</td><td>0</td><td>0</td><td>0</td><td>7</td><td>7</td></tr><tr><td>7</td><td>7</td><td>0</td><td>0</td><td>0</td><td>0</td><td>0</td><td>0</td><td>0</td><td>0</td><td>0</td><td>0</td><td>7</td><td>7</td></tr><tr><td>7</td><td>7</td><td>0</td><td>0</td><td>0</td><td>0</td><td>0</td><td>0</td><td>0</td><td>0</td><td>0</td><td>0</td><td>7</td><td>7</td></tr><tr><td>7</td><td>7</td><td>0</td><td>0</td><td>0</td><td>0</td><td>0</td><td>0</td><td>0</td><td>0</td><td>0</td><td>0</td><td>7</td><td>7</td></tr><tr><td>7</td><td>7</td><td>0</td><td>0</td><td>0</td><td>0</td><td>0</td><td>0</td><td>0</td><td>0</td><td>0</td><td>0</td><td>7</td><td>7</td></tr><tr><td>7</td><td>7</td><td>0</td><td>0</td><td>0</td><td>0</td><td>0</td><td>0</td><td>0</td><td>0</td><td>0</td><td>0</td><td>7</td><td>7</td></tr><tr><td>7</td><td>7</td><td>3</td><td>3</td><td>3</td><td>3</td><td>3</td><td>3</td><td>3</td><td>3</td><td>3</td><td>0</td><td>7</td><td>7</td></tr><tr><td>7</td><td>7</td><td>7</td><td>7</td><td>7</td><td>7</td><td>7</td><td>7</td><td>7</td><td>7</td><td>7</td><td>7</td><td>7</td><td>7</td></tr><tr><td>7</td><td>7</td><td>7</td><td>7</td><td>7</td><td>7</td><td>7</td><td>7</td><td>7</td><td>7</td><td>7</td><td>7</td><td>7</td><td>7</td></tr></table>"
      ],
      "text/plain": [
       "<IPython.core.display.HTML object>"
      ]
     },
     "metadata": {},
     "output_type": "display_data"
    },
    {
     "data": {
      "text/html": [
       "<table><tr><td>7</td><td>7</td><td>0</td><td>0</td><td>0</td><td>0</td><td>0</td><td>0</td><td>0</td><td>1</td><td>0</td><td>0</td><td>7</td><td>7</td></tr><tr><td>7</td><td>7</td><td>0</td><td>0</td><td>0</td><td>0</td><td>0</td><td>0</td><td>1</td><td>2</td><td>1</td><td>0</td><td>7</td><td>7</td></tr><tr><td>7</td><td>7</td><td>0</td><td>0</td><td>0</td><td>0</td><td>0</td><td>0</td><td>0</td><td>0</td><td>0</td><td>0</td><td>7</td><td>7</td></tr><tr><td>7</td><td>7</td><td>0</td><td>0</td><td>0</td><td>0</td><td>0</td><td>0</td><td>0</td><td>0</td><td>0</td><td>0</td><td>7</td><td>7</td></tr><tr><td>7</td><td>7</td><td>0</td><td>0</td><td>0</td><td>0</td><td>0</td><td>0</td><td>0</td><td>0</td><td>0</td><td>0</td><td>7</td><td>7</td></tr><tr><td>7</td><td>7</td><td>0</td><td>0</td><td>0</td><td>0</td><td>0</td><td>0</td><td>0</td><td>0</td><td>0</td><td>0</td><td>7</td><td>7</td></tr><tr><td>7</td><td>7</td><td>0</td><td>0</td><td>0</td><td>0</td><td>0</td><td>0</td><td>0</td><td>0</td><td>0</td><td>0</td><td>7</td><td>7</td></tr><tr><td>7</td><td>7</td><td>0</td><td>0</td><td>0</td><td>0</td><td>0</td><td>0</td><td>0</td><td>0</td><td>0</td><td>0</td><td>7</td><td>7</td></tr><tr><td>7</td><td>7</td><td>0</td><td>0</td><td>0</td><td>0</td><td>0</td><td>0</td><td>0</td><td>0</td><td>0</td><td>0</td><td>7</td><td>7</td></tr><tr><td>7</td><td>7</td><td>0</td><td>0</td><td>0</td><td>0</td><td>0</td><td>0</td><td>0</td><td>0</td><td>0</td><td>0</td><td>7</td><td>7</td></tr><tr><td>7</td><td>7</td><td>0</td><td>0</td><td>0</td><td>0</td><td>0</td><td>0</td><td>0</td><td>0</td><td>0</td><td>0</td><td>7</td><td>7</td></tr><tr><td>7</td><td>7</td><td>0</td><td>0</td><td>0</td><td>0</td><td>0</td><td>0</td><td>0</td><td>0</td><td>0</td><td>0</td><td>7</td><td>7</td></tr><tr><td>7</td><td>7</td><td>0</td><td>0</td><td>0</td><td>0</td><td>0</td><td>0</td><td>0</td><td>0</td><td>0</td><td>0</td><td>7</td><td>7</td></tr><tr><td>7</td><td>7</td><td>0</td><td>0</td><td>0</td><td>0</td><td>0</td><td>0</td><td>0</td><td>0</td><td>0</td><td>0</td><td>7</td><td>7</td></tr><tr><td>7</td><td>7</td><td>0</td><td>0</td><td>0</td><td>0</td><td>0</td><td>0</td><td>0</td><td>0</td><td>0</td><td>0</td><td>7</td><td>7</td></tr><tr><td>7</td><td>7</td><td>0</td><td>0</td><td>0</td><td>0</td><td>0</td><td>0</td><td>0</td><td>0</td><td>0</td><td>0</td><td>7</td><td>7</td></tr><tr><td>7</td><td>7</td><td>0</td><td>0</td><td>0</td><td>0</td><td>0</td><td>0</td><td>0</td><td>0</td><td>0</td><td>0</td><td>7</td><td>7</td></tr><tr><td>7</td><td>7</td><td>0</td><td>0</td><td>0</td><td>0</td><td>0</td><td>0</td><td>0</td><td>0</td><td>0</td><td>0</td><td>7</td><td>7</td></tr><tr><td>7</td><td>7</td><td>0</td><td>0</td><td>0</td><td>0</td><td>0</td><td>0</td><td>0</td><td>0</td><td>0</td><td>0</td><td>7</td><td>7</td></tr><tr><td>7</td><td>7</td><td>0</td><td>0</td><td>0</td><td>0</td><td>0</td><td>0</td><td>0</td><td>0</td><td>0</td><td>0</td><td>7</td><td>7</td></tr><tr><td>7</td><td>7</td><td>0</td><td>0</td><td>0</td><td>0</td><td>0</td><td>0</td><td>0</td><td>0</td><td>0</td><td>0</td><td>7</td><td>7</td></tr><tr><td>7</td><td>7</td><td>0</td><td>0</td><td>0</td><td>0</td><td>0</td><td>0</td><td>0</td><td>0</td><td>0</td><td>0</td><td>7</td><td>7</td></tr><tr><td>7</td><td>7</td><td>3</td><td>3</td><td>3</td><td>3</td><td>3</td><td>3</td><td>3</td><td>3</td><td>3</td><td>0</td><td>7</td><td>7</td></tr><tr><td>7</td><td>7</td><td>7</td><td>7</td><td>7</td><td>7</td><td>7</td><td>7</td><td>7</td><td>7</td><td>7</td><td>7</td><td>7</td><td>7</td></tr><tr><td>7</td><td>7</td><td>7</td><td>7</td><td>7</td><td>7</td><td>7</td><td>7</td><td>7</td><td>7</td><td>7</td><td>7</td><td>7</td><td>7</td></tr></table>"
      ],
      "text/plain": [
       "<IPython.core.display.HTML object>"
      ]
     },
     "metadata": {},
     "output_type": "display_data"
    }
   ],
   "source": [
    "from IPython.display import HTML, display\n",
    "\n",
    "display(HTML(\n",
    "    '<table><tr>{}</tr></table>'.format(\n",
    "        '</tr><tr>'.join(\n",
    "            '<td>{}</td>'.format('</td><td>'.join(str(_) for _ in row)) for row in MoverAbajo.aplicar(estado1,estado1))\n",
    "        )\n",
    " ))\n",
    "display(HTML(\n",
    "    '<table><tr>{}</tr></table>'.format(\n",
    "        '</tr><tr>'.join(\n",
    "            '<td>{}</td>'.format('</td><td>'.join(str(_) for _ in row)) for row in estado1)\n",
    "        )))"
   ]
  },
  {
   "cell_type": "code",
   "execution_count": 128,
   "metadata": {},
   "outputs": [
    {
     "data": {
      "text/plain": [
       "True"
      ]
     },
     "execution_count": 128,
     "metadata": {},
     "output_type": "execute_result"
    }
   ],
   "source": [
    "MoverIzquierda.es_aplicable(estado1,estado1)"
   ]
  },
  {
   "cell_type": "code",
   "execution_count": 129,
   "metadata": {},
   "outputs": [
    {
     "data": {
      "text/html": [
       "<table><tr><td>7</td><td>7</td><td>0</td><td>0</td><td>0</td><td>0</td><td>0</td><td>0</td><td>0</td><td>1</td><td>0</td><td>0</td><td>7</td><td>7</td></tr><tr><td>7</td><td>7</td><td>0</td><td>0</td><td>0</td><td>0</td><td>0</td><td>0</td><td>1</td><td>2</td><td>0</td><td>0</td><td>7</td><td>7</td></tr><tr><td>7</td><td>7</td><td>0</td><td>0</td><td>0</td><td>0</td><td>0</td><td>0</td><td>0</td><td>1</td><td>0</td><td>0</td><td>7</td><td>7</td></tr><tr><td>7</td><td>7</td><td>0</td><td>0</td><td>0</td><td>0</td><td>0</td><td>0</td><td>0</td><td>0</td><td>0</td><td>0</td><td>7</td><td>7</td></tr><tr><td>7</td><td>7</td><td>0</td><td>0</td><td>0</td><td>0</td><td>0</td><td>0</td><td>0</td><td>0</td><td>0</td><td>0</td><td>7</td><td>7</td></tr><tr><td>7</td><td>7</td><td>0</td><td>0</td><td>0</td><td>0</td><td>0</td><td>0</td><td>0</td><td>0</td><td>0</td><td>0</td><td>7</td><td>7</td></tr><tr><td>7</td><td>7</td><td>0</td><td>0</td><td>0</td><td>0</td><td>0</td><td>0</td><td>0</td><td>0</td><td>0</td><td>0</td><td>7</td><td>7</td></tr><tr><td>7</td><td>7</td><td>0</td><td>0</td><td>0</td><td>0</td><td>0</td><td>0</td><td>0</td><td>0</td><td>0</td><td>0</td><td>7</td><td>7</td></tr><tr><td>7</td><td>7</td><td>0</td><td>0</td><td>0</td><td>0</td><td>0</td><td>0</td><td>0</td><td>0</td><td>0</td><td>0</td><td>7</td><td>7</td></tr><tr><td>7</td><td>7</td><td>0</td><td>0</td><td>0</td><td>0</td><td>0</td><td>0</td><td>0</td><td>0</td><td>0</td><td>0</td><td>7</td><td>7</td></tr><tr><td>7</td><td>7</td><td>0</td><td>0</td><td>0</td><td>0</td><td>0</td><td>0</td><td>0</td><td>0</td><td>0</td><td>0</td><td>7</td><td>7</td></tr><tr><td>7</td><td>7</td><td>0</td><td>0</td><td>0</td><td>0</td><td>0</td><td>0</td><td>0</td><td>0</td><td>0</td><td>0</td><td>7</td><td>7</td></tr><tr><td>7</td><td>7</td><td>0</td><td>0</td><td>0</td><td>0</td><td>0</td><td>0</td><td>0</td><td>0</td><td>0</td><td>0</td><td>7</td><td>7</td></tr><tr><td>7</td><td>7</td><td>0</td><td>0</td><td>0</td><td>0</td><td>0</td><td>0</td><td>0</td><td>0</td><td>0</td><td>0</td><td>7</td><td>7</td></tr><tr><td>7</td><td>7</td><td>0</td><td>0</td><td>0</td><td>0</td><td>0</td><td>0</td><td>0</td><td>0</td><td>0</td><td>0</td><td>7</td><td>7</td></tr><tr><td>7</td><td>7</td><td>0</td><td>0</td><td>0</td><td>0</td><td>0</td><td>0</td><td>0</td><td>0</td><td>0</td><td>0</td><td>7</td><td>7</td></tr><tr><td>7</td><td>7</td><td>0</td><td>0</td><td>0</td><td>0</td><td>0</td><td>0</td><td>0</td><td>0</td><td>0</td><td>0</td><td>7</td><td>7</td></tr><tr><td>7</td><td>7</td><td>0</td><td>0</td><td>0</td><td>0</td><td>0</td><td>0</td><td>0</td><td>0</td><td>0</td><td>0</td><td>7</td><td>7</td></tr><tr><td>7</td><td>7</td><td>0</td><td>0</td><td>0</td><td>0</td><td>0</td><td>0</td><td>0</td><td>0</td><td>0</td><td>0</td><td>7</td><td>7</td></tr><tr><td>7</td><td>7</td><td>0</td><td>0</td><td>0</td><td>0</td><td>0</td><td>0</td><td>0</td><td>0</td><td>0</td><td>0</td><td>7</td><td>7</td></tr><tr><td>7</td><td>7</td><td>0</td><td>0</td><td>0</td><td>0</td><td>0</td><td>0</td><td>0</td><td>0</td><td>0</td><td>0</td><td>7</td><td>7</td></tr><tr><td>7</td><td>7</td><td>0</td><td>0</td><td>0</td><td>0</td><td>0</td><td>0</td><td>0</td><td>0</td><td>0</td><td>0</td><td>7</td><td>7</td></tr><tr><td>7</td><td>7</td><td>3</td><td>3</td><td>3</td><td>3</td><td>3</td><td>3</td><td>3</td><td>3</td><td>3</td><td>0</td><td>7</td><td>7</td></tr><tr><td>7</td><td>7</td><td>7</td><td>7</td><td>7</td><td>7</td><td>7</td><td>7</td><td>7</td><td>7</td><td>7</td><td>7</td><td>7</td><td>7</td></tr><tr><td>7</td><td>7</td><td>7</td><td>7</td><td>7</td><td>7</td><td>7</td><td>7</td><td>7</td><td>7</td><td>7</td><td>7</td><td>7</td><td>7</td></tr></table>"
      ],
      "text/plain": [
       "<IPython.core.display.HTML object>"
      ]
     },
     "metadata": {},
     "output_type": "display_data"
    },
    {
     "data": {
      "text/html": [
       "<table><tr><td>7</td><td>7</td><td>0</td><td>0</td><td>0</td><td>0</td><td>0</td><td>0</td><td>0</td><td>1</td><td>0</td><td>0</td><td>7</td><td>7</td></tr><tr><td>7</td><td>7</td><td>0</td><td>0</td><td>0</td><td>0</td><td>0</td><td>0</td><td>1</td><td>2</td><td>1</td><td>0</td><td>7</td><td>7</td></tr><tr><td>7</td><td>7</td><td>0</td><td>0</td><td>0</td><td>0</td><td>0</td><td>0</td><td>0</td><td>0</td><td>0</td><td>0</td><td>7</td><td>7</td></tr><tr><td>7</td><td>7</td><td>0</td><td>0</td><td>0</td><td>0</td><td>0</td><td>0</td><td>0</td><td>0</td><td>0</td><td>0</td><td>7</td><td>7</td></tr><tr><td>7</td><td>7</td><td>0</td><td>0</td><td>0</td><td>0</td><td>0</td><td>0</td><td>0</td><td>0</td><td>0</td><td>0</td><td>7</td><td>7</td></tr><tr><td>7</td><td>7</td><td>0</td><td>0</td><td>0</td><td>0</td><td>0</td><td>0</td><td>0</td><td>0</td><td>0</td><td>0</td><td>7</td><td>7</td></tr><tr><td>7</td><td>7</td><td>0</td><td>0</td><td>0</td><td>0</td><td>0</td><td>0</td><td>0</td><td>0</td><td>0</td><td>0</td><td>7</td><td>7</td></tr><tr><td>7</td><td>7</td><td>0</td><td>0</td><td>0</td><td>0</td><td>0</td><td>0</td><td>0</td><td>0</td><td>0</td><td>0</td><td>7</td><td>7</td></tr><tr><td>7</td><td>7</td><td>0</td><td>0</td><td>0</td><td>0</td><td>0</td><td>0</td><td>0</td><td>0</td><td>0</td><td>0</td><td>7</td><td>7</td></tr><tr><td>7</td><td>7</td><td>0</td><td>0</td><td>0</td><td>0</td><td>0</td><td>0</td><td>0</td><td>0</td><td>0</td><td>0</td><td>7</td><td>7</td></tr><tr><td>7</td><td>7</td><td>0</td><td>0</td><td>0</td><td>0</td><td>0</td><td>0</td><td>0</td><td>0</td><td>0</td><td>0</td><td>7</td><td>7</td></tr><tr><td>7</td><td>7</td><td>0</td><td>0</td><td>0</td><td>0</td><td>0</td><td>0</td><td>0</td><td>0</td><td>0</td><td>0</td><td>7</td><td>7</td></tr><tr><td>7</td><td>7</td><td>0</td><td>0</td><td>0</td><td>0</td><td>0</td><td>0</td><td>0</td><td>0</td><td>0</td><td>0</td><td>7</td><td>7</td></tr><tr><td>7</td><td>7</td><td>0</td><td>0</td><td>0</td><td>0</td><td>0</td><td>0</td><td>0</td><td>0</td><td>0</td><td>0</td><td>7</td><td>7</td></tr><tr><td>7</td><td>7</td><td>0</td><td>0</td><td>0</td><td>0</td><td>0</td><td>0</td><td>0</td><td>0</td><td>0</td><td>0</td><td>7</td><td>7</td></tr><tr><td>7</td><td>7</td><td>0</td><td>0</td><td>0</td><td>0</td><td>0</td><td>0</td><td>0</td><td>0</td><td>0</td><td>0</td><td>7</td><td>7</td></tr><tr><td>7</td><td>7</td><td>0</td><td>0</td><td>0</td><td>0</td><td>0</td><td>0</td><td>0</td><td>0</td><td>0</td><td>0</td><td>7</td><td>7</td></tr><tr><td>7</td><td>7</td><td>0</td><td>0</td><td>0</td><td>0</td><td>0</td><td>0</td><td>0</td><td>0</td><td>0</td><td>0</td><td>7</td><td>7</td></tr><tr><td>7</td><td>7</td><td>0</td><td>0</td><td>0</td><td>0</td><td>0</td><td>0</td><td>0</td><td>0</td><td>0</td><td>0</td><td>7</td><td>7</td></tr><tr><td>7</td><td>7</td><td>0</td><td>0</td><td>0</td><td>0</td><td>0</td><td>0</td><td>0</td><td>0</td><td>0</td><td>0</td><td>7</td><td>7</td></tr><tr><td>7</td><td>7</td><td>0</td><td>0</td><td>0</td><td>0</td><td>0</td><td>0</td><td>0</td><td>0</td><td>0</td><td>0</td><td>7</td><td>7</td></tr><tr><td>7</td><td>7</td><td>0</td><td>0</td><td>0</td><td>0</td><td>0</td><td>0</td><td>0</td><td>0</td><td>0</td><td>0</td><td>7</td><td>7</td></tr><tr><td>7</td><td>7</td><td>3</td><td>3</td><td>3</td><td>3</td><td>3</td><td>3</td><td>3</td><td>3</td><td>3</td><td>0</td><td>7</td><td>7</td></tr><tr><td>7</td><td>7</td><td>7</td><td>7</td><td>7</td><td>7</td><td>7</td><td>7</td><td>7</td><td>7</td><td>7</td><td>7</td><td>7</td><td>7</td></tr><tr><td>7</td><td>7</td><td>7</td><td>7</td><td>7</td><td>7</td><td>7</td><td>7</td><td>7</td><td>7</td><td>7</td><td>7</td><td>7</td><td>7</td></tr></table>"
      ],
      "text/plain": [
       "<IPython.core.display.HTML object>"
      ]
     },
     "metadata": {},
     "output_type": "display_data"
    }
   ],
   "source": [
    "from IPython.display import HTML, display\n",
    "\n",
    "display(HTML(\n",
    "    '<table><tr>{}</tr></table>'.format(\n",
    "        '</tr><tr>'.join(\n",
    "            '<td>{}</td>'.format('</td><td>'.join(str(_) for _ in row)) for row in Rotar.aplicar(estado1,estado1))\n",
    "        )\n",
    " ))\n",
    "display(HTML(\n",
    "    '<table><tr>{}</tr></table>'.format(\n",
    "        '</tr><tr>'.join(\n",
    "            '<td>{}</td>'.format('</td><td>'.join(str(_) for _ in row)) for row in estado1)\n",
    "        )))"
   ]
  },
  {
   "cell_type": "code",
   "execution_count": 130,
   "metadata": {},
   "outputs": [
    {
     "name": "stdout",
     "output_type": "stream",
     "text": [
      "[[7, 7, 0, 0, 0, 0, 0, 0, 0, 0, 1, 0, 7, 7], [7, 7, 0, 0, 0, 0, 0, 0, 0, 1, 2, 1, 7, 7], [7, 7, 0, 0, 0, 0, 0, 0, 0, 0, 0, 0, 7, 7], [7, 7, 0, 0, 0, 0, 0, 0, 0, 0, 0, 0, 7, 7], [7, 7, 0, 0, 0, 0, 0, 0, 0, 0, 0, 0, 7, 7], [7, 7, 0, 0, 0, 0, 0, 0, 0, 0, 0, 0, 7, 7], [7, 7, 0, 0, 0, 0, 0, 0, 0, 0, 0, 0, 7, 7], [7, 7, 0, 0, 0, 0, 0, 0, 0, 0, 0, 0, 7, 7], [7, 7, 0, 0, 0, 0, 0, 0, 0, 0, 0, 0, 7, 7], [7, 7, 0, 0, 0, 0, 0, 0, 0, 0, 0, 0, 7, 7], [7, 7, 0, 0, 0, 0, 0, 0, 0, 0, 0, 0, 7, 7], [7, 7, 0, 0, 0, 0, 0, 0, 0, 0, 0, 0, 7, 7], [7, 7, 0, 0, 0, 0, 0, 0, 0, 0, 0, 0, 7, 7], [7, 7, 0, 0, 0, 0, 0, 0, 0, 0, 0, 0, 7, 7], [7, 7, 0, 0, 0, 0, 0, 0, 0, 0, 0, 0, 7, 7], [7, 7, 0, 0, 0, 0, 0, 0, 0, 0, 0, 0, 7, 7], [7, 7, 0, 0, 0, 0, 0, 0, 0, 0, 0, 0, 7, 7], [7, 7, 0, 0, 0, 0, 0, 0, 0, 0, 0, 0, 7, 7], [7, 7, 0, 0, 0, 0, 0, 0, 0, 0, 0, 0, 7, 7], [7, 7, 0, 0, 0, 0, 0, 0, 0, 0, 0, 0, 7, 7], [7, 7, 0, 0, 0, 0, 0, 0, 0, 0, 0, 0, 7, 7], [7, 7, 0, 0, 0, 0, 0, 0, 0, 0, 0, 0, 7, 7], [7, 7, 3, 3, 3, 3, 3, 3, 3, 3, 3, 0, 7, 7], [7, 7, 7, 7, 7, 7, 7, 7, 7, 7, 7, 7, 7, 7], [7, 7, 7, 7, 7, 7, 7, 7, 7, 7, 7, 7, 7, 7]]\n"
     ]
    }
   ],
   "source": [
    "print(MoverDerecha.aplicar(estado1,estado1))"
   ]
  },
  {
   "cell_type": "code",
   "execution_count": 131,
   "metadata": {},
   "outputs": [
    {
     "name": "stdout",
     "output_type": "stream",
     "text": [
      "[[7, 7, 0, 0, 0, 0, 0, 0, 0, 1, 0, 0, 7, 7], [7, 7, 0, 0, 0, 0, 0, 0, 1, 2, 0, 0, 7, 7], [7, 7, 0, 0, 0, 0, 0, 0, 0, 1, 0, 0, 7, 7], [7, 7, 0, 0, 0, 0, 0, 0, 0, 0, 0, 0, 7, 7], [7, 7, 0, 0, 0, 0, 0, 0, 0, 0, 0, 0, 7, 7], [7, 7, 0, 0, 0, 0, 0, 0, 0, 0, 0, 0, 7, 7], [7, 7, 0, 0, 0, 0, 0, 0, 0, 0, 0, 0, 7, 7], [7, 7, 0, 0, 0, 0, 0, 0, 0, 0, 0, 0, 7, 7], [7, 7, 0, 0, 0, 0, 0, 0, 0, 0, 0, 0, 7, 7], [7, 7, 0, 0, 0, 0, 0, 0, 0, 0, 0, 0, 7, 7], [7, 7, 0, 0, 0, 0, 0, 0, 0, 0, 0, 0, 7, 7], [7, 7, 0, 0, 0, 0, 0, 0, 0, 0, 0, 0, 7, 7], [7, 7, 0, 0, 0, 0, 0, 0, 0, 0, 0, 0, 7, 7], [7, 7, 0, 0, 0, 0, 0, 0, 0, 0, 0, 0, 7, 7], [7, 7, 0, 0, 0, 0, 0, 0, 0, 0, 0, 0, 7, 7], [7, 7, 0, 0, 0, 0, 0, 0, 0, 0, 0, 0, 7, 7], [7, 7, 0, 0, 0, 0, 0, 0, 0, 0, 0, 0, 7, 7], [7, 7, 0, 0, 0, 0, 0, 0, 0, 0, 0, 0, 7, 7], [7, 7, 0, 0, 0, 0, 0, 0, 0, 0, 0, 0, 7, 7], [7, 7, 0, 0, 0, 0, 0, 0, 0, 0, 0, 0, 7, 7], [7, 7, 0, 0, 0, 0, 0, 0, 0, 0, 0, 0, 7, 7], [7, 7, 0, 0, 0, 0, 0, 0, 0, 0, 0, 0, 7, 7], [7, 7, 3, 3, 3, 3, 3, 3, 3, 3, 3, 0, 7, 7], [7, 7, 7, 7, 7, 7, 7, 7, 7, 7, 7, 7, 7, 7], [7, 7, 7, 7, 7, 7, 7, 7, 7, 7, 7, 7, 7, 7]]\n"
     ]
    }
   ],
   "source": [
    "estado1=Rotar.aplicar(estado1,estado1)\n",
    "print(estado1)"
   ]
  },
  {
   "cell_type": "code",
   "execution_count": 132,
   "metadata": {},
   "outputs": [
    {
     "name": "stdout",
     "output_type": "stream",
     "text": [
      "[[7, 7, 0, 0, 0, 0, 0, 0, 0, 0, 0, 0, 7, 7], [7, 7, 0, 0, 0, 0, 0, 0, 0, 1, 0, 0, 7, 7], [7, 7, 0, 0, 0, 0, 0, 0, 1, 2, 0, 0, 7, 7], [7, 7, 0, 0, 0, 0, 0, 0, 0, 1, 0, 0, 7, 7], [7, 7, 0, 0, 0, 0, 0, 0, 0, 0, 0, 0, 7, 7], [7, 7, 0, 0, 0, 0, 0, 0, 0, 0, 0, 0, 7, 7], [7, 7, 0, 0, 0, 0, 0, 0, 0, 0, 0, 0, 7, 7], [7, 7, 0, 0, 0, 0, 0, 0, 0, 0, 0, 0, 7, 7], [7, 7, 0, 0, 0, 0, 0, 0, 0, 0, 0, 0, 7, 7], [7, 7, 0, 0, 0, 0, 0, 0, 0, 0, 0, 0, 7, 7], [7, 7, 0, 0, 0, 0, 0, 0, 0, 0, 0, 0, 7, 7], [7, 7, 0, 0, 0, 0, 0, 0, 0, 0, 0, 0, 7, 7], [7, 7, 0, 0, 0, 0, 0, 0, 0, 0, 0, 0, 7, 7], [7, 7, 0, 0, 0, 0, 0, 0, 0, 0, 0, 0, 7, 7], [7, 7, 0, 0, 0, 0, 0, 0, 0, 0, 0, 0, 7, 7], [7, 7, 0, 0, 0, 0, 0, 0, 0, 0, 0, 0, 7, 7], [7, 7, 0, 0, 0, 0, 0, 0, 0, 0, 0, 0, 7, 7], [7, 7, 0, 0, 0, 0, 0, 0, 0, 0, 0, 0, 7, 7], [7, 7, 0, 0, 0, 0, 0, 0, 0, 0, 0, 0, 7, 7], [7, 7, 0, 0, 0, 0, 0, 0, 0, 0, 0, 0, 7, 7], [7, 7, 0, 0, 0, 0, 0, 0, 0, 0, 0, 0, 7, 7], [7, 7, 0, 0, 0, 0, 0, 0, 0, 0, 0, 0, 7, 7], [7, 7, 3, 3, 3, 3, 3, 3, 3, 3, 3, 0, 7, 7], [7, 7, 7, 7, 7, 7, 7, 7, 7, 7, 7, 7, 7, 7], [7, 7, 7, 7, 7, 7, 7, 7, 7, 7, 7, 7, 7, 7]]\n",
      "[[7, 7, 0, 0, 0, 0, 0, 0, 1, 0, 0, 0, 7, 7], [7, 7, 0, 0, 0, 0, 0, 1, 2, 0, 0, 0, 7, 7], [7, 7, 0, 0, 0, 0, 0, 0, 1, 0, 0, 0, 7, 7], [7, 7, 0, 0, 0, 0, 0, 0, 0, 0, 0, 0, 7, 7], [7, 7, 0, 0, 0, 0, 0, 0, 0, 0, 0, 0, 7, 7], [7, 7, 0, 0, 0, 0, 0, 0, 0, 0, 0, 0, 7, 7], [7, 7, 0, 0, 0, 0, 0, 0, 0, 0, 0, 0, 7, 7], [7, 7, 0, 0, 0, 0, 0, 0, 0, 0, 0, 0, 7, 7], [7, 7, 0, 0, 0, 0, 0, 0, 0, 0, 0, 0, 7, 7], [7, 7, 0, 0, 0, 0, 0, 0, 0, 0, 0, 0, 7, 7], [7, 7, 0, 0, 0, 0, 0, 0, 0, 0, 0, 0, 7, 7], [7, 7, 0, 0, 0, 0, 0, 0, 0, 0, 0, 0, 7, 7], [7, 7, 0, 0, 0, 0, 0, 0, 0, 0, 0, 0, 7, 7], [7, 7, 0, 0, 0, 0, 0, 0, 0, 0, 0, 0, 7, 7], [7, 7, 0, 0, 0, 0, 0, 0, 0, 0, 0, 0, 7, 7], [7, 7, 0, 0, 0, 0, 0, 0, 0, 0, 0, 0, 7, 7], [7, 7, 0, 0, 0, 0, 0, 0, 0, 0, 0, 0, 7, 7], [7, 7, 0, 0, 0, 0, 0, 0, 0, 0, 0, 0, 7, 7], [7, 7, 0, 0, 0, 0, 0, 0, 0, 0, 0, 0, 7, 7], [7, 7, 0, 0, 0, 0, 0, 0, 0, 0, 0, 0, 7, 7], [7, 7, 0, 0, 0, 0, 0, 0, 0, 0, 0, 0, 7, 7], [7, 7, 0, 0, 0, 0, 0, 0, 0, 0, 0, 0, 7, 7], [7, 7, 3, 3, 3, 3, 3, 3, 3, 3, 3, 0, 7, 7], [7, 7, 7, 7, 7, 7, 7, 7, 7, 7, 7, 7, 7, 7], [7, 7, 7, 7, 7, 7, 7, 7, 7, 7, 7, 7, 7, 7]]\n",
      "[[7, 7, 0, 0, 0, 0, 0, 0, 0, 0, 1, 0, 7, 7], [7, 7, 0, 0, 0, 0, 0, 0, 0, 1, 2, 0, 7, 7], [7, 7, 0, 0, 0, 0, 0, 0, 0, 0, 1, 0, 7, 7], [7, 7, 0, 0, 0, 0, 0, 0, 0, 0, 0, 0, 7, 7], [7, 7, 0, 0, 0, 0, 0, 0, 0, 0, 0, 0, 7, 7], [7, 7, 0, 0, 0, 0, 0, 0, 0, 0, 0, 0, 7, 7], [7, 7, 0, 0, 0, 0, 0, 0, 0, 0, 0, 0, 7, 7], [7, 7, 0, 0, 0, 0, 0, 0, 0, 0, 0, 0, 7, 7], [7, 7, 0, 0, 0, 0, 0, 0, 0, 0, 0, 0, 7, 7], [7, 7, 0, 0, 0, 0, 0, 0, 0, 0, 0, 0, 7, 7], [7, 7, 0, 0, 0, 0, 0, 0, 0, 0, 0, 0, 7, 7], [7, 7, 0, 0, 0, 0, 0, 0, 0, 0, 0, 0, 7, 7], [7, 7, 0, 0, 0, 0, 0, 0, 0, 0, 0, 0, 7, 7], [7, 7, 0, 0, 0, 0, 0, 0, 0, 0, 0, 0, 7, 7], [7, 7, 0, 0, 0, 0, 0, 0, 0, 0, 0, 0, 7, 7], [7, 7, 0, 0, 0, 0, 0, 0, 0, 0, 0, 0, 7, 7], [7, 7, 0, 0, 0, 0, 0, 0, 0, 0, 0, 0, 7, 7], [7, 7, 0, 0, 0, 0, 0, 0, 0, 0, 0, 0, 7, 7], [7, 7, 0, 0, 0, 0, 0, 0, 0, 0, 0, 0, 7, 7], [7, 7, 0, 0, 0, 0, 0, 0, 0, 0, 0, 0, 7, 7], [7, 7, 0, 0, 0, 0, 0, 0, 0, 0, 0, 0, 7, 7], [7, 7, 0, 0, 0, 0, 0, 0, 0, 0, 0, 0, 7, 7], [7, 7, 3, 3, 3, 3, 3, 3, 3, 3, 3, 0, 7, 7], [7, 7, 7, 7, 7, 7, 7, 7, 7, 7, 7, 7, 7, 7], [7, 7, 7, 7, 7, 7, 7, 7, 7, 7, 7, 7, 7, 7]]\n",
      "[[7, 7, 0, 0, 0, 0, 0, 0, 0, 0, 0, 0, 7, 7], [7, 7, 0, 0, 0, 0, 0, 0, 1, 2, 1, 0, 7, 7], [7, 7, 0, 0, 0, 0, 0, 0, 0, 1, 0, 0, 7, 7], [7, 7, 0, 0, 0, 0, 0, 0, 0, 0, 0, 0, 7, 7], [7, 7, 0, 0, 0, 0, 0, 0, 0, 0, 0, 0, 7, 7], [7, 7, 0, 0, 0, 0, 0, 0, 0, 0, 0, 0, 7, 7], [7, 7, 0, 0, 0, 0, 0, 0, 0, 0, 0, 0, 7, 7], [7, 7, 0, 0, 0, 0, 0, 0, 0, 0, 0, 0, 7, 7], [7, 7, 0, 0, 0, 0, 0, 0, 0, 0, 0, 0, 7, 7], [7, 7, 0, 0, 0, 0, 0, 0, 0, 0, 0, 0, 7, 7], [7, 7, 0, 0, 0, 0, 0, 0, 0, 0, 0, 0, 7, 7], [7, 7, 0, 0, 0, 0, 0, 0, 0, 0, 0, 0, 7, 7], [7, 7, 0, 0, 0, 0, 0, 0, 0, 0, 0, 0, 7, 7], [7, 7, 0, 0, 0, 0, 0, 0, 0, 0, 0, 0, 7, 7], [7, 7, 0, 0, 0, 0, 0, 0, 0, 0, 0, 0, 7, 7], [7, 7, 0, 0, 0, 0, 0, 0, 0, 0, 0, 0, 7, 7], [7, 7, 0, 0, 0, 0, 0, 0, 0, 0, 0, 0, 7, 7], [7, 7, 0, 0, 0, 0, 0, 0, 0, 0, 0, 0, 7, 7], [7, 7, 0, 0, 0, 0, 0, 0, 0, 0, 0, 0, 7, 7], [7, 7, 0, 0, 0, 0, 0, 0, 0, 0, 0, 0, 7, 7], [7, 7, 0, 0, 0, 0, 0, 0, 0, 0, 0, 0, 7, 7], [7, 7, 0, 0, 0, 0, 0, 0, 0, 0, 0, 0, 7, 7], [7, 7, 3, 3, 3, 3, 3, 3, 3, 3, 3, 0, 7, 7], [7, 7, 7, 7, 7, 7, 7, 7, 7, 7, 7, 7, 7, 7], [7, 7, 7, 7, 7, 7, 7, 7, 7, 7, 7, 7, 7, 7]]\n"
     ]
    }
   ],
   "source": [
    "for acción in tetris.acciones_aplicables(estado1):\n",
    "    print(acción.aplicar(estado1))"
   ]
  },
  {
   "cell_type": "code",
   "execution_count": 138,
   "metadata": {},
   "outputs": [
    {
     "data": {
      "text/plain": [
       "['muevo abajo',\n",
       " 'muevo abajo',\n",
       " 'muevo abajo',\n",
       " 'muevo abajo',\n",
       " 'muevo abajo',\n",
       " 'muevo abajo',\n",
       " 'muevo abajo',\n",
       " 'muevo abajo',\n",
       " 'muevo abajo',\n",
       " 'muevo abajo',\n",
       " 'muevo abajo',\n",
       " 'muevo abajo',\n",
       " 'muevo abajo',\n",
       " 'muevo abajo',\n",
       " 'muevo abajo',\n",
       " 'muevo abajo',\n",
       " 'muevo abajo',\n",
       " 'muevo abajo',\n",
       " 'muevo abajo',\n",
       " 'muevo abajo',\n",
       " 'muevo izquierda',\n",
       " 'muevo izquierda',\n",
       " 'muevo izquierda',\n",
       " 'muevo izquierda',\n",
       " 'muevo izquierda',\n",
       " 'muevo abajo']"
      ]
     },
     "execution_count": 138,
     "metadata": {},
     "output_type": "execute_result"
    }
   ],
   "source": [
    "b_anchura = búsqee.BúsquedaEnAnchura(detallado=False)\n",
    "b_anchura.buscar(tetris)"
   ]
  },
  {
   "cell_type": "code",
   "execution_count": 116,
   "metadata": {},
   "outputs": [
    {
     "ename": "KeyboardInterrupt",
     "evalue": "",
     "output_type": "error",
     "traceback": [
      "\u001b[1;31m---------------------------------------------------------------------------\u001b[0m",
      "\u001b[1;31mKeyboardInterrupt\u001b[0m                         Traceback (most recent call last)",
      "\u001b[1;32m<ipython-input-116-9913afce0744>\u001b[0m in \u001b[0;36m<module>\u001b[1;34m()\u001b[0m\n\u001b[0;32m      2\u001b[0m \u001b[0mb_profundidad\u001b[0m \u001b[1;33m=\u001b[0m \u001b[0mbúsqee\u001b[0m\u001b[1;33m.\u001b[0m\u001b[0mBúsquedaEnProfundidad\u001b[0m\u001b[1;33m(\u001b[0m\u001b[0mdetallado\u001b[0m\u001b[1;33m=\u001b[0m\u001b[1;32mFalse\u001b[0m\u001b[1;33m)\u001b[0m\u001b[1;33m\u001b[0m\u001b[0m\n\u001b[0;32m      3\u001b[0m \u001b[0mtiempo_inicial\u001b[0m \u001b[1;33m=\u001b[0m \u001b[0mtime\u001b[0m\u001b[1;33m(\u001b[0m\u001b[1;33m)\u001b[0m\u001b[1;33m\u001b[0m\u001b[0m\n\u001b[1;32m----> 4\u001b[1;33m \u001b[0mprint\u001b[0m\u001b[1;33m(\u001b[0m\u001b[0mb_profundidad\u001b[0m\u001b[1;33m.\u001b[0m\u001b[0mbuscar\u001b[0m\u001b[1;33m(\u001b[0m\u001b[0mtetris\u001b[0m\u001b[1;33m)\u001b[0m\u001b[1;33m)\u001b[0m\u001b[1;33m\u001b[0m\u001b[0m\n\u001b[0m\u001b[0;32m      5\u001b[0m \u001b[0mtiempo_final\u001b[0m \u001b[1;33m=\u001b[0m \u001b[0mtime\u001b[0m\u001b[1;33m(\u001b[0m\u001b[1;33m)\u001b[0m\u001b[1;33m\u001b[0m\u001b[0m\n\u001b[0;32m      6\u001b[0m \u001b[0mtiempo_ejecucion\u001b[0m \u001b[1;33m=\u001b[0m \u001b[0mtiempo_final\u001b[0m \u001b[1;33m-\u001b[0m \u001b[0mtiempo_inicial\u001b[0m\u001b[1;33m\u001b[0m\u001b[0m\n",
      "\u001b[1;32m~\\búsqueda_espacio_estados.py\u001b[0m in \u001b[0;36mbuscar\u001b[1;34m(self, problema)\u001b[0m\n\u001b[0;32m    143\u001b[0m                 \u001b[0mnodos_hijos\u001b[0m \u001b[1;33m=\u001b[0m \u001b[0mself\u001b[0m\u001b[1;33m.\u001b[0m\u001b[0mexpandir_nodo\u001b[0m\u001b[1;33m(\u001b[0m\u001b[0mnodo\u001b[0m\u001b[1;33m,\u001b[0m \u001b[0mproblema\u001b[0m\u001b[1;33m)\u001b[0m\u001b[1;33m\u001b[0m\u001b[0m\n\u001b[0;32m    144\u001b[0m                 \u001b[1;32mfor\u001b[0m \u001b[0mnodo_hijo\u001b[0m \u001b[1;32min\u001b[0m \u001b[0mnodos_hijos\u001b[0m\u001b[1;33m:\u001b[0m\u001b[1;33m\u001b[0m\u001b[0m\n\u001b[1;32m--> 145\u001b[1;33m                     \u001b[1;32mif\u001b[0m \u001b[0mself\u001b[0m\u001b[1;33m.\u001b[0m\u001b[0mes_nuevo\u001b[0m\u001b[1;33m(\u001b[0m\u001b[0mnodo_hijo\u001b[0m\u001b[1;33m)\u001b[0m\u001b[1;33m:\u001b[0m\u001b[1;33m\u001b[0m\u001b[0m\n\u001b[0m\u001b[0;32m    146\u001b[0m                         \u001b[0mself\u001b[0m\u001b[1;33m.\u001b[0m\u001b[0mfrontera\u001b[0m\u001b[1;33m.\u001b[0m\u001b[0mañadir\u001b[0m\u001b[1;33m(\u001b[0m\u001b[0mnodo_hijo\u001b[0m\u001b[1;33m)\u001b[0m\u001b[1;33m\u001b[0m\u001b[0m\n\u001b[0;32m    147\u001b[0m \u001b[1;33m\u001b[0m\u001b[0m\n",
      "\u001b[1;32m~\\búsqueda_espacio_estados.py\u001b[0m in \u001b[0;36mes_nuevo\u001b[1;34m(self, nodo)\u001b[0m\n\u001b[0;32m    125\u001b[0m     \u001b[1;32mdef\u001b[0m \u001b[0mes_nuevo\u001b[0m\u001b[1;33m(\u001b[0m\u001b[0mself\u001b[0m\u001b[1;33m,\u001b[0m \u001b[0mnodo\u001b[0m\u001b[1;33m)\u001b[0m\u001b[1;33m:\u001b[0m\u001b[1;33m\u001b[0m\u001b[0m\n\u001b[0;32m    126\u001b[0m         return (nodo not in self.frontera and\n\u001b[1;32m--> 127\u001b[1;33m                 nodo not in self.explorados)\n\u001b[0m\u001b[0;32m    128\u001b[0m \u001b[1;33m\u001b[0m\u001b[0m\n\u001b[0;32m    129\u001b[0m     \u001b[1;32mdef\u001b[0m \u001b[0mbuscar\u001b[0m\u001b[1;33m(\u001b[0m\u001b[0mself\u001b[0m\u001b[1;33m,\u001b[0m \u001b[0mproblema\u001b[0m\u001b[1;33m)\u001b[0m\u001b[1;33m:\u001b[0m\u001b[1;33m\u001b[0m\u001b[0m\n",
      "\u001b[1;32m~\\búsqueda_espacio_estados.py\u001b[0m in \u001b[0;36m__contains__\u001b[1;34m(self, nodo)\u001b[0m\n\u001b[0;32m     13\u001b[0m     \u001b[1;32mdef\u001b[0m \u001b[0m__contains__\u001b[0m\u001b[1;33m(\u001b[0m\u001b[0mself\u001b[0m\u001b[1;33m,\u001b[0m \u001b[0mnodo\u001b[0m\u001b[1;33m)\u001b[0m\u001b[1;33m:\u001b[0m\u001b[1;33m\u001b[0m\u001b[0m\n\u001b[0;32m     14\u001b[0m         return any(x.estado == nodo.estado\n\u001b[1;32m---> 15\u001b[1;33m                    for x in self)\n\u001b[0m\u001b[0;32m     16\u001b[0m \u001b[1;33m\u001b[0m\u001b[0m\n\u001b[0;32m     17\u001b[0m \u001b[1;33m\u001b[0m\u001b[0m\n",
      "\u001b[1;32m~\\búsqueda_espacio_estados.py\u001b[0m in \u001b[0;36m<genexpr>\u001b[1;34m(.0)\u001b[0m\n\u001b[0;32m     13\u001b[0m     \u001b[1;32mdef\u001b[0m \u001b[0m__contains__\u001b[0m\u001b[1;33m(\u001b[0m\u001b[0mself\u001b[0m\u001b[1;33m,\u001b[0m \u001b[0mnodo\u001b[0m\u001b[1;33m)\u001b[0m\u001b[1;33m:\u001b[0m\u001b[1;33m\u001b[0m\u001b[0m\n\u001b[0;32m     14\u001b[0m         return any(x.estado == nodo.estado\n\u001b[1;32m---> 15\u001b[1;33m                    for x in self)\n\u001b[0m\u001b[0;32m     16\u001b[0m \u001b[1;33m\u001b[0m\u001b[0m\n\u001b[0;32m     17\u001b[0m \u001b[1;33m\u001b[0m\u001b[0m\n",
      "\u001b[1;31mKeyboardInterrupt\u001b[0m: "
     ]
    }
   ],
   "source": [
    "from time import time\n",
    "b_profundidad = búsqee.BúsquedaEnProfundidad(detallado=False)\n",
    "tiempo_inicial = time() \n",
    "print(b_profundidad.buscar(tetris))\n",
    "tiempo_final = time() \n",
    "tiempo_ejecucion = tiempo_final - tiempo_inicial\n",
    "print (tiempo_ejecucion)\n"
   ]
  },
  {
   "cell_type": "code",
   "execution_count": 203,
   "metadata": {},
   "outputs": [],
   "source": [
    "class PruebaPoner(probee.Acción):\n",
    "    def __init__(self,x,y,pieza):\n",
    "        nombre = 'probar a poner en {}, {}'.format(x,y)\n",
    "        super().__init__(nombre)\n",
    "        self.x = x\n",
    "        self.y = y\n",
    "        self.pieza=pieza\n",
    "        self.fila=x\n",
    "      \n",
    "        \n",
    "        \n",
    "    def es_aplicable(self,estado):\n",
    "        ans = PruebaPoner.comprobar(self,estado,self.pieza,self.x,self.y)\n",
    "        return ans and estado[0][0]!=8\n",
    "    \n",
    "    def coste_de_aplicar(self,estado):\n",
    "        res=10000\n",
    "        cuentaCasillasVacias=0\n",
    "        for x, i in list(enumerate(estado)):\n",
    "            for y, j in list(enumerate(i)):\n",
    "                if j==0:\n",
    "                    cuentaCasillasVacias=cuentaCasillasVacias+1\n",
    "        return (res-cuentaCasillasVacias)*33333-self.fila\n",
    "    \n",
    "    def comprobar(self, estado, pieza, x, y):\n",
    "        for a,j in reversed(list(enumerate(pieza))):\n",
    "            for b,k in list(enumerate(pieza)):\n",
    "                if pieza[a][b]==1 or pieza[a][b]==2:\n",
    "                    if estado[x+a][y+b]==3 or estado[x+a][y+b]==7:               #Comprobamos si choca con una pieza colocada en el tablero\n",
    "                        return False\n",
    "                    if estado[x+a+1][y+b]==3 or estado[x+a+1][y+b]==7:           #Comprobamos si la pieza está asentada sobre otra\n",
    "                        return True\n",
    "                    break\n",
    "        return False\n",
    "                \n",
    "    def aplicar(self,estado):\n",
    "        nuevo_estado = copy.deepcopy(estado)\n",
    "        for a,j in reversed(list(enumerate(self.pieza))):\n",
    "            for b,k in list(enumerate(self.pieza)):\n",
    "                if self.pieza[a][b]==1 or self.pieza[a][b]==2:\n",
    "                    nuevo_estado[self.x+a][self.y+b]=3                                     #Adjudicamos valor a la casilla del nuevo estado\n",
    "        nuevo_estado[0][0]=8\n",
    "        return nuevo_estado"
   ]
  },
  {
   "cell_type": "code",
   "execution_count": 204,
   "metadata": {},
   "outputs": [
    {
     "name": "stdout",
     "output_type": "stream",
     "text": [
      "Nodo: Estado: [[7, 7, 0, 0, 0, 0, 0, 0, 0, 1, 0, 0, 7, 7], [7, 7, 0, 0, 0, 0, 0, 0, 1, 2, 1, 0, 7, 7], [7, 7, 0, 0, 0, 0, 0, 0, 0, 0, 0, 0, 7, 7], [7, 7, 0, 0, 0, 0, 0, 0, 0, 0, 0, 0, 7, 7], [7, 7, 0, 0, 0, 0, 0, 0, 0, 0, 0, 0, 7, 7], [7, 7, 0, 0, 0, 0, 0, 0, 0, 0, 0, 0, 7, 7], [7, 7, 0, 0, 0, 0, 0, 0, 0, 0, 0, 0, 7, 7], [7, 7, 0, 0, 0, 0, 0, 0, 0, 0, 0, 0, 7, 7], [7, 7, 0, 0, 0, 0, 0, 0, 0, 0, 0, 0, 7, 7], [7, 7, 0, 0, 0, 0, 0, 0, 0, 0, 0, 0, 7, 7], [7, 7, 0, 0, 0, 0, 0, 0, 0, 0, 0, 0, 7, 7], [7, 7, 0, 0, 0, 0, 0, 0, 0, 0, 0, 0, 7, 7], [7, 7, 0, 0, 0, 0, 0, 0, 0, 0, 0, 0, 7, 7], [7, 7, 0, 0, 0, 0, 0, 0, 0, 0, 0, 0, 7, 7], [7, 7, 0, 0, 0, 0, 0, 0, 0, 0, 0, 0, 7, 7], [7, 7, 0, 0, 0, 0, 0, 0, 0, 0, 0, 0, 7, 7], [7, 7, 0, 0, 0, 0, 0, 0, 0, 0, 0, 0, 7, 7], [7, 7, 0, 0, 0, 0, 0, 0, 0, 0, 0, 0, 7, 7], [7, 7, 0, 0, 0, 0, 0, 0, 0, 0, 0, 0, 7, 7], [7, 7, 0, 0, 0, 0, 0, 0, 0, 0, 0, 0, 7, 7], [7, 7, 0, 0, 0, 0, 0, 0, 0, 0, 0, 0, 7, 7], [7, 7, 0, 0, 0, 0, 0, 0, 0, 0, 0, 0, 7, 7], [7, 7, 3, 3, 0, 0, 0, 3, 3, 3, 3, 3, 7, 7], [7, 7, 7, 7, 7, 7, 7, 7, 7, 7, 7, 7, 7, 7], [7, 7, 7, 7, 7, 7, 7, 7, 7, 7, 7, 7, 7, 7]]; Prof: 0; Heur: 0; Coste: 0\n",
      "  Nodo: Estado: [[8, 7, 0, 0, 0, 0, 0, 0, 0, 1, 0, 0, 7, 7], [7, 7, 0, 0, 0, 0, 0, 0, 1, 2, 1, 0, 7, 7], [7, 7, 0, 0, 0, 0, 0, 0, 0, 0, 0, 0, 7, 7], [7, 7, 0, 0, 0, 0, 0, 0, 0, 0, 0, 0, 7, 7], [7, 7, 0, 0, 0, 0, 0, 0, 0, 0, 0, 0, 7, 7], [7, 7, 0, 0, 0, 0, 0, 0, 0, 0, 0, 0, 7, 7], [7, 7, 0, 0, 0, 0, 0, 0, 0, 0, 0, 0, 7, 7], [7, 7, 0, 0, 0, 0, 0, 0, 0, 0, 0, 0, 7, 7], [7, 7, 0, 0, 0, 0, 0, 0, 0, 0, 0, 0, 7, 7], [7, 7, 0, 0, 0, 0, 0, 0, 0, 0, 0, 0, 7, 7], [7, 7, 0, 0, 0, 0, 0, 0, 0, 0, 0, 0, 7, 7], [7, 7, 0, 0, 0, 0, 0, 0, 0, 0, 0, 0, 7, 7], [7, 7, 0, 0, 0, 0, 0, 0, 0, 0, 0, 0, 7, 7], [7, 7, 0, 0, 0, 0, 0, 0, 0, 0, 0, 0, 7, 7], [7, 7, 0, 0, 0, 0, 0, 0, 0, 0, 0, 0, 7, 7], [7, 7, 0, 0, 0, 0, 0, 0, 0, 0, 0, 0, 7, 7], [7, 7, 0, 0, 0, 0, 0, 0, 0, 0, 0, 0, 7, 7], [7, 7, 0, 0, 0, 0, 0, 0, 0, 0, 0, 0, 7, 7], [7, 7, 0, 0, 0, 0, 0, 0, 0, 0, 0, 0, 7, 7], [7, 7, 0, 0, 0, 0, 0, 0, 0, 0, 0, 0, 7, 7], [7, 7, 0, 0, 0, 0, 0, 0, 0, 0, 0, 0, 7, 7], [7, 7, 0, 0, 0, 3, 0, 0, 0, 0, 0, 0, 7, 7], [7, 7, 3, 3, 3, 3, 0, 3, 3, 3, 3, 3, 7, 7], [7, 7, 7, 7, 7, 7, 7, 7, 7, 7, 7, 7, 7, 7], [7, 7, 7, 7, 7, 7, 7, 7, 7, 7, 7, 7, 7, 7]]; Prof: 1; Heur: 326030052; Coste: 326030052\n",
      "  Nodo: Estado: [[8, 7, 0, 0, 0, 0, 0, 0, 0, 1, 0, 0, 7, 7], [7, 7, 0, 0, 0, 0, 0, 0, 1, 2, 1, 0, 7, 7], [7, 7, 0, 0, 0, 0, 0, 0, 0, 0, 0, 0, 7, 7], [7, 7, 0, 0, 0, 0, 0, 0, 0, 0, 0, 0, 7, 7], [7, 7, 0, 0, 0, 0, 0, 0, 0, 0, 0, 0, 7, 7], [7, 7, 0, 0, 0, 0, 0, 0, 0, 0, 0, 0, 7, 7], [7, 7, 0, 0, 0, 0, 0, 0, 0, 0, 0, 0, 7, 7], [7, 7, 0, 0, 0, 0, 0, 0, 0, 0, 0, 0, 7, 7], [7, 7, 0, 0, 0, 0, 0, 0, 0, 0, 0, 0, 7, 7], [7, 7, 0, 0, 0, 0, 0, 0, 0, 0, 0, 0, 7, 7], [7, 7, 0, 0, 0, 0, 0, 0, 0, 0, 0, 0, 7, 7], [7, 7, 0, 0, 0, 0, 0, 0, 0, 0, 0, 0, 7, 7], [7, 7, 0, 0, 0, 0, 0, 0, 0, 0, 0, 0, 7, 7], [7, 7, 0, 0, 0, 0, 0, 0, 0, 0, 0, 0, 7, 7], [7, 7, 0, 0, 0, 0, 0, 0, 0, 0, 0, 0, 7, 7], [7, 7, 0, 0, 0, 0, 0, 0, 0, 0, 0, 0, 7, 7], [7, 7, 0, 0, 0, 0, 0, 0, 0, 0, 0, 0, 7, 7], [7, 7, 0, 0, 0, 0, 0, 0, 0, 0, 0, 0, 7, 7], [7, 7, 0, 0, 0, 0, 0, 0, 0, 0, 0, 0, 7, 7], [7, 7, 0, 0, 0, 0, 0, 0, 0, 0, 0, 0, 7, 7], [7, 7, 0, 0, 0, 0, 0, 0, 0, 0, 0, 0, 7, 7], [7, 7, 0, 0, 0, 0, 3, 0, 0, 0, 0, 0, 7, 7], [7, 7, 3, 3, 0, 3, 3, 3, 3, 3, 3, 3, 7, 7], [7, 7, 7, 7, 7, 7, 7, 7, 7, 7, 7, 7, 7, 7], [7, 7, 7, 7, 7, 7, 7, 7, 7, 7, 7, 7, 7, 7]]; Prof: 1; Heur: 326030052; Coste: 326030052\n",
      "  Nodo: Estado: [[8, 7, 0, 0, 0, 0, 0, 0, 0, 1, 0, 0, 7, 7], [7, 7, 0, 0, 0, 0, 0, 0, 1, 2, 1, 0, 7, 7], [7, 7, 0, 0, 0, 0, 0, 0, 0, 0, 0, 0, 7, 7], [7, 7, 0, 0, 0, 0, 0, 0, 0, 0, 0, 0, 7, 7], [7, 7, 0, 0, 0, 0, 0, 0, 0, 0, 0, 0, 7, 7], [7, 7, 0, 0, 0, 0, 0, 0, 0, 0, 0, 0, 7, 7], [7, 7, 0, 0, 0, 0, 0, 0, 0, 0, 0, 0, 7, 7], [7, 7, 0, 0, 0, 0, 0, 0, 0, 0, 0, 0, 7, 7], [7, 7, 0, 0, 0, 0, 0, 0, 0, 0, 0, 0, 7, 7], [7, 7, 0, 0, 0, 0, 0, 0, 0, 0, 0, 0, 7, 7], [7, 7, 0, 0, 0, 0, 0, 0, 0, 0, 0, 0, 7, 7], [7, 7, 0, 0, 0, 0, 0, 0, 0, 0, 0, 0, 7, 7], [7, 7, 0, 0, 0, 0, 0, 0, 0, 0, 0, 0, 7, 7], [7, 7, 0, 0, 0, 0, 0, 0, 0, 0, 0, 0, 7, 7], [7, 7, 0, 0, 0, 0, 0, 0, 0, 0, 0, 0, 7, 7], [7, 7, 0, 0, 0, 0, 0, 0, 0, 0, 0, 0, 7, 7], [7, 7, 0, 0, 0, 0, 0, 0, 0, 0, 0, 0, 7, 7], [7, 7, 0, 0, 0, 0, 0, 0, 0, 0, 0, 0, 7, 7], [7, 7, 0, 0, 0, 0, 0, 0, 0, 0, 0, 0, 7, 7], [7, 7, 0, 0, 0, 0, 0, 0, 0, 0, 0, 0, 7, 7], [7, 7, 0, 0, 0, 0, 0, 0, 0, 0, 0, 0, 7, 7], [7, 7, 0, 0, 0, 0, 0, 3, 0, 0, 0, 0, 7, 7], [7, 7, 3, 3, 0, 0, 3, 3, 3, 3, 3, 3, 7, 7], [7, 7, 7, 7, 7, 7, 7, 7, 7, 7, 7, 7, 7, 7], [7, 7, 7, 7, 7, 7, 7, 7, 7, 7, 7, 7, 7, 7]]; Prof: 1; Heur: 326030052; Coste: 326030052\n",
      "  Nodo: Estado: [[8, 7, 0, 0, 0, 0, 0, 0, 0, 1, 0, 0, 7, 7], [7, 7, 0, 0, 0, 0, 0, 0, 1, 2, 1, 0, 7, 7], [7, 7, 0, 0, 0, 0, 0, 0, 0, 0, 0, 0, 7, 7], [7, 7, 0, 0, 0, 0, 0, 0, 0, 0, 0, 0, 7, 7], [7, 7, 0, 0, 0, 0, 0, 0, 0, 0, 0, 0, 7, 7], [7, 7, 0, 0, 0, 0, 0, 0, 0, 0, 0, 0, 7, 7], [7, 7, 0, 0, 0, 0, 0, 0, 0, 0, 0, 0, 7, 7], [7, 7, 0, 0, 0, 0, 0, 0, 0, 0, 0, 0, 7, 7], [7, 7, 0, 0, 0, 0, 0, 0, 0, 0, 0, 0, 7, 7], [7, 7, 0, 0, 0, 0, 0, 0, 0, 0, 0, 0, 7, 7], [7, 7, 0, 0, 0, 0, 0, 0, 0, 0, 0, 0, 7, 7], [7, 7, 0, 0, 0, 0, 0, 0, 0, 0, 0, 0, 7, 7], [7, 7, 0, 0, 0, 0, 0, 0, 0, 0, 0, 0, 7, 7], [7, 7, 0, 0, 0, 0, 0, 0, 0, 0, 0, 0, 7, 7], [7, 7, 0, 0, 0, 0, 0, 0, 0, 0, 0, 0, 7, 7], [7, 7, 0, 0, 0, 0, 0, 0, 0, 0, 0, 0, 7, 7], [7, 7, 0, 0, 0, 0, 0, 0, 0, 0, 0, 0, 7, 7], [7, 7, 0, 0, 0, 0, 0, 0, 0, 0, 0, 0, 7, 7], [7, 7, 0, 0, 0, 0, 0, 0, 0, 0, 0, 0, 7, 7], [7, 7, 0, 0, 0, 0, 0, 0, 0, 0, 0, 0, 7, 7], [7, 7, 0, 3, 0, 0, 0, 0, 0, 0, 0, 0, 7, 7], [7, 7, 3, 3, 0, 0, 0, 0, 0, 0, 0, 0, 7, 7], [7, 7, 3, 3, 0, 0, 0, 3, 3, 3, 3, 3, 7, 7], [7, 7, 7, 7, 7, 7, 7, 7, 7, 7, 7, 7, 7, 7], [7, 7, 7, 7, 7, 7, 7, 7, 7, 7, 7, 7, 7, 7]]; Prof: 1; Heur: 326030053; Coste: 326030053\n",
      "  Nodo: Estado: [[8, 7, 0, 0, 0, 0, 0, 0, 0, 1, 0, 0, 7, 7], [7, 7, 0, 0, 0, 0, 0, 0, 1, 2, 1, 0, 7, 7], [7, 7, 0, 0, 0, 0, 0, 0, 0, 0, 0, 0, 7, 7], [7, 7, 0, 0, 0, 0, 0, 0, 0, 0, 0, 0, 7, 7], [7, 7, 0, 0, 0, 0, 0, 0, 0, 0, 0, 0, 7, 7], [7, 7, 0, 0, 0, 0, 0, 0, 0, 0, 0, 0, 7, 7], [7, 7, 0, 0, 0, 0, 0, 0, 0, 0, 0, 0, 7, 7], [7, 7, 0, 0, 0, 0, 0, 0, 0, 0, 0, 0, 7, 7], [7, 7, 0, 0, 0, 0, 0, 0, 0, 0, 0, 0, 7, 7], [7, 7, 0, 0, 0, 0, 0, 0, 0, 0, 0, 0, 7, 7], [7, 7, 0, 0, 0, 0, 0, 0, 0, 0, 0, 0, 7, 7], [7, 7, 0, 0, 0, 0, 0, 0, 0, 0, 0, 0, 7, 7], [7, 7, 0, 0, 0, 0, 0, 0, 0, 0, 0, 0, 7, 7], [7, 7, 0, 0, 0, 0, 0, 0, 0, 0, 0, 0, 7, 7], [7, 7, 0, 0, 0, 0, 0, 0, 0, 0, 0, 0, 7, 7], [7, 7, 0, 0, 0, 0, 0, 0, 0, 0, 0, 0, 7, 7], [7, 7, 0, 0, 0, 0, 0, 0, 0, 0, 0, 0, 7, 7], [7, 7, 0, 0, 0, 0, 0, 0, 0, 0, 0, 0, 7, 7], [7, 7, 0, 0, 0, 0, 0, 0, 0, 0, 0, 0, 7, 7], [7, 7, 0, 0, 0, 0, 0, 0, 0, 0, 0, 0, 7, 7], [7, 7, 0, 0, 3, 0, 0, 0, 0, 0, 0, 0, 7, 7], [7, 7, 0, 3, 3, 0, 0, 0, 0, 0, 0, 0, 7, 7], [7, 7, 3, 3, 0, 0, 0, 3, 3, 3, 3, 3, 7, 7], [7, 7, 7, 7, 7, 7, 7, 7, 7, 7, 7, 7, 7, 7], [7, 7, 7, 7, 7, 7, 7, 7, 7, 7, 7, 7, 7, 7]]; Prof: 1; Heur: 326030053; Coste: 326030053\n",
      "  Nodo: Estado: [[8, 7, 0, 0, 0, 0, 0, 0, 0, 1, 0, 0, 7, 7], [7, 7, 0, 0, 0, 0, 0, 0, 1, 2, 1, 0, 7, 7], [7, 7, 0, 0, 0, 0, 0, 0, 0, 0, 0, 0, 7, 7], [7, 7, 0, 0, 0, 0, 0, 0, 0, 0, 0, 0, 7, 7], [7, 7, 0, 0, 0, 0, 0, 0, 0, 0, 0, 0, 7, 7], [7, 7, 0, 0, 0, 0, 0, 0, 0, 0, 0, 0, 7, 7], [7, 7, 0, 0, 0, 0, 0, 0, 0, 0, 0, 0, 7, 7], [7, 7, 0, 0, 0, 0, 0, 0, 0, 0, 0, 0, 7, 7], [7, 7, 0, 0, 0, 0, 0, 0, 0, 0, 0, 0, 7, 7], [7, 7, 0, 0, 0, 0, 0, 0, 0, 0, 0, 0, 7, 7], [7, 7, 0, 0, 0, 0, 0, 0, 0, 0, 0, 0, 7, 7], [7, 7, 0, 0, 0, 0, 0, 0, 0, 0, 0, 0, 7, 7], [7, 7, 0, 0, 0, 0, 0, 0, 0, 0, 0, 0, 7, 7], [7, 7, 0, 0, 0, 0, 0, 0, 0, 0, 0, 0, 7, 7], [7, 7, 0, 0, 0, 0, 0, 0, 0, 0, 0, 0, 7, 7], [7, 7, 0, 0, 0, 0, 0, 0, 0, 0, 0, 0, 7, 7], [7, 7, 0, 0, 0, 0, 0, 0, 0, 0, 0, 0, 7, 7], [7, 7, 0, 0, 0, 0, 0, 0, 0, 0, 0, 0, 7, 7], [7, 7, 0, 0, 0, 0, 0, 0, 0, 0, 0, 0, 7, 7], [7, 7, 0, 0, 0, 0, 0, 0, 0, 0, 0, 0, 7, 7], [7, 7, 0, 0, 0, 0, 0, 0, 3, 0, 0, 0, 7, 7], [7, 7, 0, 0, 0, 0, 0, 3, 3, 0, 0, 0, 7, 7], [7, 7, 3, 3, 0, 0, 0, 3, 3, 3, 3, 3, 7, 7], [7, 7, 7, 7, 7, 7, 7, 7, 7, 7, 7, 7, 7, 7], [7, 7, 7, 7, 7, 7, 7, 7, 7, 7, 7, 7, 7, 7]]; Prof: 1; Heur: 326030053; Coste: 326030053\n",
      "  Nodo: Estado: [[8, 7, 0, 0, 0, 0, 0, 0, 0, 1, 0, 0, 7, 7], [7, 7, 0, 0, 0, 0, 0, 0, 1, 2, 1, 0, 7, 7], [7, 7, 0, 0, 0, 0, 0, 0, 0, 0, 0, 0, 7, 7], [7, 7, 0, 0, 0, 0, 0, 0, 0, 0, 0, 0, 7, 7], [7, 7, 0, 0, 0, 0, 0, 0, 0, 0, 0, 0, 7, 7], [7, 7, 0, 0, 0, 0, 0, 0, 0, 0, 0, 0, 7, 7], [7, 7, 0, 0, 0, 0, 0, 0, 0, 0, 0, 0, 7, 7], [7, 7, 0, 0, 0, 0, 0, 0, 0, 0, 0, 0, 7, 7], [7, 7, 0, 0, 0, 0, 0, 0, 0, 0, 0, 0, 7, 7], [7, 7, 0, 0, 0, 0, 0, 0, 0, 0, 0, 0, 7, 7], [7, 7, 0, 0, 0, 0, 0, 0, 0, 0, 0, 0, 7, 7], [7, 7, 0, 0, 0, 0, 0, 0, 0, 0, 0, 0, 7, 7], [7, 7, 0, 0, 0, 0, 0, 0, 0, 0, 0, 0, 7, 7], [7, 7, 0, 0, 0, 0, 0, 0, 0, 0, 0, 0, 7, 7], [7, 7, 0, 0, 0, 0, 0, 0, 0, 0, 0, 0, 7, 7], [7, 7, 0, 0, 0, 0, 0, 0, 0, 0, 0, 0, 7, 7], [7, 7, 0, 0, 0, 0, 0, 0, 0, 0, 0, 0, 7, 7], [7, 7, 0, 0, 0, 0, 0, 0, 0, 0, 0, 0, 7, 7], [7, 7, 0, 0, 0, 0, 0, 0, 0, 0, 0, 0, 7, 7], [7, 7, 0, 0, 0, 0, 0, 0, 0, 0, 0, 0, 7, 7], [7, 7, 0, 0, 0, 0, 0, 0, 0, 3, 0, 0, 7, 7], [7, 7, 0, 0, 0, 0, 0, 0, 3, 3, 0, 0, 7, 7], [7, 7, 3, 3, 0, 0, 0, 3, 3, 3, 3, 3, 7, 7], [7, 7, 7, 7, 7, 7, 7, 7, 7, 7, 7, 7, 7, 7], [7, 7, 7, 7, 7, 7, 7, 7, 7, 7, 7, 7, 7, 7]]; Prof: 1; Heur: 326030053; Coste: 326030053\n",
      "  Nodo: Estado: [[8, 7, 0, 0, 0, 0, 0, 0, 0, 1, 0, 0, 7, 7], [7, 7, 0, 0, 0, 0, 0, 0, 1, 2, 1, 0, 7, 7], [7, 7, 0, 0, 0, 0, 0, 0, 0, 0, 0, 0, 7, 7], [7, 7, 0, 0, 0, 0, 0, 0, 0, 0, 0, 0, 7, 7], [7, 7, 0, 0, 0, 0, 0, 0, 0, 0, 0, 0, 7, 7], [7, 7, 0, 0, 0, 0, 0, 0, 0, 0, 0, 0, 7, 7], [7, 7, 0, 0, 0, 0, 0, 0, 0, 0, 0, 0, 7, 7], [7, 7, 0, 0, 0, 0, 0, 0, 0, 0, 0, 0, 7, 7], [7, 7, 0, 0, 0, 0, 0, 0, 0, 0, 0, 0, 7, 7], [7, 7, 0, 0, 0, 0, 0, 0, 0, 0, 0, 0, 7, 7], [7, 7, 0, 0, 0, 0, 0, 0, 0, 0, 0, 0, 7, 7], [7, 7, 0, 0, 0, 0, 0, 0, 0, 0, 0, 0, 7, 7], [7, 7, 0, 0, 0, 0, 0, 0, 0, 0, 0, 0, 7, 7], [7, 7, 0, 0, 0, 0, 0, 0, 0, 0, 0, 0, 7, 7], [7, 7, 0, 0, 0, 0, 0, 0, 0, 0, 0, 0, 7, 7], [7, 7, 0, 0, 0, 0, 0, 0, 0, 0, 0, 0, 7, 7], [7, 7, 0, 0, 0, 0, 0, 0, 0, 0, 0, 0, 7, 7], [7, 7, 0, 0, 0, 0, 0, 0, 0, 0, 0, 0, 7, 7], [7, 7, 0, 0, 0, 0, 0, 0, 0, 0, 0, 0, 7, 7], [7, 7, 0, 0, 0, 0, 0, 0, 0, 0, 0, 0, 7, 7], [7, 7, 0, 0, 0, 0, 0, 0, 0, 0, 3, 0, 7, 7], [7, 7, 0, 0, 0, 0, 0, 0, 0, 3, 3, 0, 7, 7], [7, 7, 3, 3, 0, 0, 0, 3, 3, 3, 3, 3, 7, 7], [7, 7, 7, 7, 7, 7, 7, 7, 7, 7, 7, 7, 7, 7], [7, 7, 7, 7, 7, 7, 7, 7, 7, 7, 7, 7, 7, 7]]; Prof: 1; Heur: 326030053; Coste: 326030053\n",
      "  Nodo: Estado: [[8, 7, 0, 0, 0, 0, 0, 0, 0, 1, 0, 0, 7, 7], [7, 7, 0, 0, 0, 0, 0, 0, 1, 2, 1, 0, 7, 7], [7, 7, 0, 0, 0, 0, 0, 0, 0, 0, 0, 0, 7, 7], [7, 7, 0, 0, 0, 0, 0, 0, 0, 0, 0, 0, 7, 7], [7, 7, 0, 0, 0, 0, 0, 0, 0, 0, 0, 0, 7, 7], [7, 7, 0, 0, 0, 0, 0, 0, 0, 0, 0, 0, 7, 7], [7, 7, 0, 0, 0, 0, 0, 0, 0, 0, 0, 0, 7, 7], [7, 7, 0, 0, 0, 0, 0, 0, 0, 0, 0, 0, 7, 7], [7, 7, 0, 0, 0, 0, 0, 0, 0, 0, 0, 0, 7, 7], [7, 7, 0, 0, 0, 0, 0, 0, 0, 0, 0, 0, 7, 7], [7, 7, 0, 0, 0, 0, 0, 0, 0, 0, 0, 0, 7, 7], [7, 7, 0, 0, 0, 0, 0, 0, 0, 0, 0, 0, 7, 7], [7, 7, 0, 0, 0, 0, 0, 0, 0, 0, 0, 0, 7, 7], [7, 7, 0, 0, 0, 0, 0, 0, 0, 0, 0, 0, 7, 7], [7, 7, 0, 0, 0, 0, 0, 0, 0, 0, 0, 0, 7, 7], [7, 7, 0, 0, 0, 0, 0, 0, 0, 0, 0, 0, 7, 7], [7, 7, 0, 0, 0, 0, 0, 0, 0, 0, 0, 0, 7, 7], [7, 7, 0, 0, 0, 0, 0, 0, 0, 0, 0, 0, 7, 7], [7, 7, 0, 0, 0, 0, 0, 0, 0, 0, 0, 0, 7, 7], [7, 7, 0, 0, 0, 0, 0, 0, 0, 0, 0, 0, 7, 7], [7, 7, 0, 0, 0, 0, 0, 0, 0, 0, 0, 3, 7, 7], [7, 7, 0, 0, 0, 0, 0, 0, 0, 0, 3, 3, 7, 7], [7, 7, 3, 3, 0, 0, 0, 3, 3, 3, 3, 3, 7, 7], [7, 7, 7, 7, 7, 7, 7, 7, 7, 7, 7, 7, 7, 7], [7, 7, 7, 7, 7, 7, 7, 7, 7, 7, 7, 7, 7, 7]]; Prof: 1; Heur: 326030053; Coste: 326030053\n"
     ]
    },
    {
     "ename": "IndexError",
     "evalue": "index out of range",
     "output_type": "error",
     "traceback": [
      "\u001b[1;31m---------------------------------------------------------------------------\u001b[0m",
      "\u001b[1;31mIndexError\u001b[0m                                Traceback (most recent call last)",
      "\u001b[1;32m<ipython-input-204-b974fb89839c>\u001b[0m in \u001b[0;36m<module>\u001b[1;34m()\u001b[0m\n\u001b[0;32m      7\u001b[0m \u001b[0mprofundidad\u001b[0m \u001b[1;33m=\u001b[0m \u001b[0mbúsqee\u001b[0m\u001b[1;33m.\u001b[0m\u001b[0mBúsquedaÓptima\u001b[0m\u001b[1;33m(\u001b[0m\u001b[0mdetallado\u001b[0m\u001b[1;33m=\u001b[0m\u001b[1;32mTrue\u001b[0m\u001b[1;33m)\u001b[0m\u001b[1;33m\u001b[0m\u001b[0m\n\u001b[0;32m      8\u001b[0m \u001b[1;33m\u001b[0m\u001b[0m\n\u001b[1;32m----> 9\u001b[1;33m \u001b[0msolucion\u001b[0m \u001b[1;33m=\u001b[0m \u001b[0mprofundidad\u001b[0m\u001b[1;33m.\u001b[0m\u001b[0mbuscar\u001b[0m\u001b[1;33m(\u001b[0m\u001b[0mtetrih\u001b[0m\u001b[1;33m)\u001b[0m\u001b[1;33m\u001b[0m\u001b[0m\n\u001b[0m",
      "\u001b[1;32m~\\búsqueda_espacio_estados.py\u001b[0m in \u001b[0;36mbuscar\u001b[1;34m(self, problema)\u001b[0m\n\u001b[0;32m    134\u001b[0m             \u001b[1;32mif\u001b[0m \u001b[1;32mnot\u001b[0m \u001b[0mself\u001b[0m\u001b[1;33m.\u001b[0m\u001b[0mfrontera\u001b[0m\u001b[1;33m:\u001b[0m\u001b[1;33m\u001b[0m\u001b[0m\n\u001b[0;32m    135\u001b[0m                 \u001b[1;32mreturn\u001b[0m \u001b[1;32mNone\u001b[0m\u001b[1;33m\u001b[0m\u001b[0m\n\u001b[1;32m--> 136\u001b[1;33m             \u001b[0mnodo\u001b[0m \u001b[1;33m=\u001b[0m \u001b[0mself\u001b[0m\u001b[1;33m.\u001b[0m\u001b[0mfrontera\u001b[0m\u001b[1;33m.\u001b[0m\u001b[0msacar\u001b[0m\u001b[1;33m(\u001b[0m\u001b[1;33m)\u001b[0m\u001b[1;33m\u001b[0m\u001b[0m\n\u001b[0m\u001b[0;32m    137\u001b[0m             \u001b[1;32mif\u001b[0m \u001b[0mself\u001b[0m\u001b[1;33m.\u001b[0m\u001b[0mdetallado\u001b[0m\u001b[1;33m:\u001b[0m\u001b[1;33m\u001b[0m\u001b[0m\n\u001b[0;32m    138\u001b[0m                 \u001b[0mprint\u001b[0m\u001b[1;33m(\u001b[0m\u001b[1;34m'{0}Nodo: {1}'\u001b[0m\u001b[1;33m.\u001b[0m\u001b[0mformat\u001b[0m\u001b[1;33m(\u001b[0m\u001b[1;34m'  '\u001b[0m \u001b[1;33m*\u001b[0m \u001b[0mnodo\u001b[0m\u001b[1;33m.\u001b[0m\u001b[0mprofundidad\u001b[0m\u001b[1;33m,\u001b[0m \u001b[0mnodo\u001b[0m\u001b[1;33m)\u001b[0m\u001b[1;33m)\u001b[0m\u001b[1;33m\u001b[0m\u001b[0m\n",
      "\u001b[1;32m~\\búsqueda_espacio_estados.py\u001b[0m in \u001b[0;36msacar\u001b[1;34m(self)\u001b[0m\n\u001b[0;32m     36\u001b[0m \u001b[1;33m\u001b[0m\u001b[0m\n\u001b[0;32m     37\u001b[0m     \u001b[1;32mdef\u001b[0m \u001b[0msacar\u001b[0m\u001b[1;33m(\u001b[0m\u001b[0mself\u001b[0m\u001b[1;33m)\u001b[0m\u001b[1;33m:\u001b[0m\u001b[1;33m\u001b[0m\u001b[0m\n\u001b[1;32m---> 38\u001b[1;33m         \u001b[1;32mreturn\u001b[0m \u001b[0mheapq\u001b[0m\u001b[1;33m.\u001b[0m\u001b[0mheappop\u001b[0m\u001b[1;33m(\u001b[0m\u001b[0mself\u001b[0m\u001b[1;33m.\u001b[0m\u001b[0mnodos\u001b[0m\u001b[1;33m)\u001b[0m\u001b[1;33m[\u001b[0m\u001b[1;36m2\u001b[0m\u001b[1;33m]\u001b[0m\u001b[1;33m\u001b[0m\u001b[0m\n\u001b[0m\u001b[0;32m     39\u001b[0m \u001b[1;33m\u001b[0m\u001b[0m\n\u001b[0;32m     40\u001b[0m     \u001b[1;32mdef\u001b[0m \u001b[0mvaciar\u001b[0m\u001b[1;33m(\u001b[0m\u001b[0mself\u001b[0m\u001b[1;33m)\u001b[0m\u001b[1;33m:\u001b[0m\u001b[1;33m\u001b[0m\u001b[0m\n",
      "\u001b[1;31mIndexError\u001b[0m: index out of range"
     ]
    }
   ],
   "source": [
    "pieza=[[0,1,0],[1,2,1]]\n",
    "acciones = [PruebaPoner(i, j,pieza) for i in range(0, 22) for j in range(2, 11)]\n",
    "estado_inicial = estado1\n",
    "\n",
    "tetrih = probee.ProblemaEspacioEstados(\n",
    "    acciones, estado_inicial, [estado_final])\n",
    "profundidad = búsqee.BúsquedaÓptima(detallado=True)\n",
    "\n",
    "solucion = profundidad.buscar(tetrih)\n"
   ]
  }
 ],
 "metadata": {
  "kernelspec": {
   "display_name": "Python 3",
   "language": "python",
   "name": "python3"
  },
  "language_info": {
   "codemirror_mode": {
    "name": "ipython",
    "version": 3
   },
   "file_extension": ".py",
   "mimetype": "text/x-python",
   "name": "python",
   "nbconvert_exporter": "python",
   "pygments_lexer": "ipython3",
   "version": "3.6.4"
  }
 },
 "nbformat": 4,
 "nbformat_minor": 2
}
