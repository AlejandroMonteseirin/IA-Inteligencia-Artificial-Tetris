{
 "cells": [
  {
   "cell_type": "code",
   "execution_count": 1,
   "metadata": {},
   "outputs": [],
   "source": [
    "#Importación de las clases que vamos a necesitar"
   ]
  },
  {
   "cell_type": "code",
   "execution_count": 2,
   "metadata": {},
   "outputs": [],
   "source": [
    "import problema_espacio_estados as probee\n",
    "import búsqueda_espacio_estados as búsqee\n",
    "import copy"
   ]
  },
  {
   "cell_type": "code",
   "execution_count": 3,
   "metadata": {},
   "outputs": [],
   "source": [
    "#Estados Iniciales que vamos a utilizar, los numeros 7 indican las \"paredes del tablero\" \n",
    "#los numeros 3 indican las fichas que ya se han colocado,los numeros 0 las casillas vacias\n",
    "#Los numeros 1 y 2 indican una ficha en movimiento, el 2 se utiliza para identificar el centro de la ficha.\n",
    "\n",
    "#Explicación de los estados:\n",
    "\n",
    "#Estado0: Tablero con fichas ya colocadas \n",
    "\n",
    "#Estado1: Tablero con fichas ya colocadas y una ficha en movimiento\n",
    "\n",
    "#Estado2: Tablero con fichas colocadas y una ficha en movimiento a punto de llegar al final\n",
    "#Tras realizar un ultimo \"mover abajo se eliminaran las filas correspondientes y todos los 1 y 2 se harán 3\n",
    "\n",
    "#Piezas que vamos a utilizar, en forma de matriz 5x5"
   ]
  },
  {
   "cell_type": "code",
   "execution_count": 4,
   "metadata": {},
   "outputs": [],
   "source": [
    "estadoVacio=   [[7,7,0, 0, 0, 0, 0, 0, 0, 0, 0, 0, 7,7],\n",
    "            [7,7,0, 0, 0, 0, 0, 0, 0, 0, 0, 0, 7,7],\n",
    "            [7,7,0, 0, 0, 0, 0, 0, 0, 0, 0, 0, 7,7],\n",
    "            [7,7,0, 0, 0, 0, 0, 0, 0, 0, 0, 0, 7,7],\n",
    "            [7,7,0, 0, 0, 0, 0, 0, 0, 0, 0, 0, 7,7],\n",
    "            [7,7,0, 0, 0, 0, 0, 0, 0, 0, 0, 0, 7,7],\n",
    "            [7,7,0, 0, 0, 0, 0, 0, 0, 0, 0, 0, 7,7],\n",
    "            [7,7,0, 0, 0, 0, 0, 0, 0, 0, 0, 0, 7,7],\n",
    "            [7,7,0, 0, 0, 0, 0, 0, 0, 0, 0, 0, 7,7],\n",
    "            [7,7,0, 0, 0, 0, 0, 0, 0, 0, 0, 0, 7,7],\n",
    "            [7,7,0, 0, 0, 0, 0, 0, 0, 0, 0, 0, 7,7],\n",
    "            [7,7,0, 0, 0, 0, 0, 0, 0, 0, 0, 0, 7,7],\n",
    "            [7,7,0, 0, 0, 0, 0, 0, 0, 0, 0, 0, 7,7],\n",
    "            [7,7,0, 0, 0, 0, 0, 0, 0, 0, 0, 0, 7,7],\n",
    "            [7,7,0, 0, 0, 0, 0, 0, 0, 0, 0, 0, 7,7],\n",
    "            [7,7,0, 0, 0, 0, 0, 0, 0, 0, 0, 0, 7,7],\n",
    "            [7,7,0, 0, 0, 0, 0, 0, 0, 0, 0, 0, 7,7],\n",
    "            [7,7,0, 0, 0, 0, 0, 0, 0, 0, 0, 0, 7,7],\n",
    "            [7,7,0, 0, 0, 0, 0, 0, 0, 0, 0, 0, 7,7],\n",
    "            [7,7,0, 0, 0, 0, 0, 0, 0, 0, 0, 0, 7,7],\n",
    "            [7,7,0, 0, 0, 0, 0, 0, 0, 0, 0, 0, 7,7],\n",
    "            [7,7,0, 0, 0, 0, 0, 0, 0, 0, 0, 0, 7,7],\n",
    "            [7,7,0, 0, 0, 0, 0, 0, 0, 0, 0, 0, 7,7],\n",
    "            [7,7,7, 7, 7, 7, 7, 7, 7, 7, 7, 7, 7,7],\n",
    "            [7,7,7, 7, 7, 7, 7, 7, 7, 7, 7, 7, 7,7]\n",
    "            ]\n",
    "estado0=   [[7,7,0, 0, 0, 0, 0, 0, 0, 0, 0, 0, 7,7],\n",
    "            [7,7,0, 0, 0, 0, 0, 0, 0, 0, 0, 0, 7,7],\n",
    "            [7,7,0, 0, 0, 0, 0, 0, 0, 0, 0, 0, 7,7],\n",
    "            [7,7,0, 0, 0, 0, 0, 0, 0, 0, 0, 0, 7,7],\n",
    "            [7,7,0, 0, 0, 0, 0, 0, 0, 0, 0, 0, 7,7],\n",
    "            [7,7,0, 0, 0, 0, 0, 0, 0, 0, 0, 0, 7,7],\n",
    "            [7,7,0, 0, 0, 0, 0, 0, 0, 0, 0, 0, 7,7],\n",
    "            [7,7,0, 0, 0, 0, 0, 0, 0, 0, 0, 0, 7,7],\n",
    "            [7,7,0, 0, 0, 0, 0, 0, 0, 0, 0, 0, 7,7],\n",
    "            [7,7,0, 0, 0, 0, 0, 0, 0, 0, 0, 0, 7,7],\n",
    "            [7,7,0, 0, 0, 0, 0, 0, 0, 0, 0, 0, 7,7],\n",
    "            [7,7,0, 0, 0, 0, 0, 0, 0, 0, 0, 0, 7,7],\n",
    "            [7,7,0, 0, 0, 0, 0, 0, 0, 0, 0, 0, 7,7],\n",
    "            [7,7,0, 0, 0, 0, 0, 0, 0, 0, 0, 0, 7,7],\n",
    "            [7,7,0, 0, 0, 0, 0, 0, 0, 0, 0, 0, 7,7],\n",
    "            [7,7,0, 0, 0, 0, 0, 0, 0, 0, 0, 0, 7,7],\n",
    "            [7,7,0, 0, 0, 0, 0, 0, 0, 0, 0, 0, 7,7],\n",
    "            [7,7,0, 0, 0, 0, 0, 0, 0, 0, 0, 0, 7,7],\n",
    "            [7,7,0, 0, 0, 0, 0, 0, 0, 0, 0, 0, 7,7],\n",
    "            [7,7,0, 0, 0, 0, 0, 0, 0, 0, 0, 0, 7,7],\n",
    "            [7,7,0, 0, 0, 0, 0, 0, 0, 0, 0, 0, 7,7],\n",
    "            [7,7,3, 3, 3, 3, 0, 0, 3, 3, 3, 3, 7,7],\n",
    "            [7,7,3, 3, 3, 3, 3, 0, 3, 3, 3, 3, 7,7],\n",
    "            [7,7,7, 7, 7, 7, 7, 7, 7, 7, 7, 7, 7,7],\n",
    "            [7,7,7, 7, 7, 7, 7, 7, 7, 7, 7, 7, 7,7]\n",
    "            ]\n",
    "   \n",
    "estado1=   [[7,7,0, 0, 0, 0, 0, 0, 0, 0, 0, 0, 7,7],\n",
    "            [7,7,0, 0, 0, 0, 0, 0, 1, 2, 1, 0, 7,7],\n",
    "            [7,7,0, 0, 0, 0, 0, 0, 0, 1, 0, 0, 7,7],\n",
    "            [7,7,0, 0, 0, 0, 0, 0, 0, 0, 0, 0, 7,7],\n",
    "            [7,7,0, 0, 0, 0, 0, 0, 0, 0, 0, 0, 7,7],\n",
    "            [7,7,0, 0, 0, 0, 0, 0, 0, 0, 0, 0, 7,7],\n",
    "            [7,7,0, 0, 0, 0, 0, 0, 0, 0, 0, 0, 7,7],\n",
    "            [7,7,0, 0, 0, 0, 0, 0, 0, 0, 0, 0, 7,7],\n",
    "            [7,7,0, 0, 0, 0, 0, 0, 0, 0, 0, 0, 7,7],\n",
    "            [7,7,0, 0, 0, 0, 0, 0, 0, 0, 0, 0, 7,7],\n",
    "            [7,7,0, 0, 0, 0, 0, 0, 0, 0, 0, 0, 7,7],\n",
    "            [7,7,0, 0, 0, 0, 0, 0, 0, 0, 0, 0, 7,7],\n",
    "            [7,7,0, 0, 0, 0, 0, 0, 0, 0, 0, 0, 7,7],\n",
    "            [7,7,0, 0, 0, 0, 0, 0, 0, 0, 0, 0, 7,7],\n",
    "            [7,7,0, 0, 0, 0, 0, 0, 0, 0, 0, 0, 7,7],\n",
    "            [7,7,0, 0, 0, 0, 0, 0, 0, 0, 0, 0, 7,7],\n",
    "            [7,7,0, 0, 0, 0, 0, 0, 0, 0, 0, 0, 7,7],\n",
    "            [7,7,0, 0, 0, 0, 0, 0, 0, 0, 0, 0, 7,7],\n",
    "            [7,7,0, 0, 0, 0, 0, 0, 0, 0, 0, 0, 7,7],\n",
    "            [7,7,0, 0, 0, 0, 0, 0, 0, 0, 0, 0, 7,7],\n",
    "            [7,7,0, 0, 0, 0, 0, 0, 0, 0, 0, 0, 7,7],\n",
    "            [7,7,3, 3, 3, 3, 0, 0, 3, 3, 3, 3, 7,7],\n",
    "            [7,7,3, 3, 3, 3, 3, 0, 3, 3, 3, 3, 7,7],\n",
    "            [7,7,7, 7, 7, 7, 7, 7, 7, 7, 7, 7, 7,7],\n",
    "            [7,7,7, 7, 7, 7, 7, 7, 7, 7, 7, 7, 7,7]\n",
    "            ]\n",
    "   \n",
    "estado2=    [[7, 7, 0, 0, 0, 0, 0, 0, 0, 0, 0, 0, 7, 7],\n",
    "             [7, 7, 0, 0, 0, 0, 0, 0, 0, 0, 0, 0, 7, 7],\n",
    "             [7, 7, 0, 0, 0, 0, 0, 0, 0, 0, 0, 0, 7, 7],\n",
    "             [7, 7, 0, 0, 0, 0, 0, 0, 0, 0, 0, 0, 7, 7], \n",
    "             [7, 7, 0, 0, 0, 0, 0, 0, 0, 0, 0, 0, 7, 7], \n",
    "             [7, 7, 0, 0, 0, 0, 0, 0, 0, 0, 0, 0, 7, 7], \n",
    "             [7, 7, 0, 0, 0, 0, 0, 0, 0, 0, 0, 0, 7, 7], \n",
    "             [7, 7, 0, 0, 0, 0, 0, 0, 0, 0, 0, 0, 7, 7], \n",
    "             [7, 7, 0, 0, 0, 0, 0, 0, 0, 0, 0, 0, 7, 7], \n",
    "             [7, 7, 0, 0, 0, 0, 0, 0, 0, 0, 0, 0, 7, 7],\n",
    "             [7, 7, 0, 0, 0, 0, 0, 0, 0, 0, 0, 0, 7, 7], \n",
    "             [7, 7, 0, 0, 0, 0, 0, 0, 0, 0, 0, 0, 7, 7], \n",
    "             [7, 7, 0, 0, 0, 0, 0, 0, 0, 0, 0, 0, 7, 7], \n",
    "             [7, 7, 0, 0, 0, 0, 0, 0, 0, 0, 0, 0, 7, 7], \n",
    "             [7, 7, 0, 0, 0, 0, 0, 0, 0, 0, 0, 0, 7, 7], \n",
    "             [7, 7, 0, 0, 0, 0, 0, 0, 0, 0, 0, 0, 7, 7],\n",
    "             [7, 7, 0, 0, 0, 0, 0, 0, 0, 0, 0, 0, 7, 7], \n",
    "             [7, 7, 0, 0, 0, 0, 0, 0, 0, 0, 0, 0, 7, 7], \n",
    "             [7, 7, 0, 0, 0, 0, 0, 0, 0, 0, 0, 0, 7, 7], \n",
    "             [7, 7, 0, 0, 0, 0, 0, 0, 0, 0, 0, 0, 7, 7], \n",
    "             [7, 7, 0, 0, 0, 0, 0, 1, 0, 0, 0, 0, 7, 7], \n",
    "             [7, 7, 3, 3, 3, 3, 1, 2, 3, 3, 3, 3, 7, 7],\n",
    "             [7, 7, 3, 3, 3, 3, 3, 1, 3, 3, 3, 3, 7, 7],\n",
    "             [7, 7, 7, 7, 7, 7, 7, 7, 7, 7, 7, 7, 7, 7], \n",
    "             [7, 7, 7, 7, 7, 7, 7, 7, 7, 7, 7, 7, 7, 7]\n",
    "            ]\n",
    "\n",
    "estado3=   [[7,7,0, 0, 0, 0, 0, 0, 0, 0, 0, 0, 7,7],\n",
    "            [7,7,0, 0, 0, 0, 0, 1, 0, 0, 0, 0, 7,7],\n",
    "            [7,7,0, 0, 0, 0, 0, 2, 0, 0, 0, 0, 7,7],\n",
    "            [7,7,0, 0, 0, 0, 0, 1, 0, 0, 0, 0, 7,7],\n",
    "            [7,7,0, 0, 0, 0, 0, 1, 0, 0, 0, 0, 7,7],\n",
    "            [7,7,0, 0, 0, 0, 0, 0, 0, 0, 0, 0, 7,7],\n",
    "            [7,7,0, 0, 0, 0, 0, 0, 0, 0, 0, 0, 7,7],\n",
    "            [7,7,0, 0, 0, 0, 0, 0, 0, 0, 0, 0, 7,7],\n",
    "            [7,7,0, 0, 0, 0, 0, 0, 0, 0, 0, 0, 7,7],\n",
    "            [7,7,0, 0, 0, 0, 0, 0, 0, 0, 0, 0, 7,7],\n",
    "            [7,7,0, 0, 0, 0, 0, 0, 0, 0, 0, 0, 7,7],\n",
    "            [7,7,0, 0, 0, 0, 0, 0, 0, 0, 0, 0, 7,7],\n",
    "            [7,7,0, 0, 0, 0, 0, 0, 0, 0, 0, 0, 7,7],\n",
    "            [7,7,0, 0, 0, 0, 0, 0, 0, 0, 0, 0, 7,7],\n",
    "            [7,7,0, 0, 0, 0, 0, 0, 0, 0, 0, 0, 7,7],\n",
    "            [7,7,0, 0, 0, 0, 0, 0, 0, 0, 0, 0, 7,7],\n",
    "            [7,7,0, 0, 0, 0, 0, 0, 0, 0, 0, 0, 7,7],\n",
    "            [7,7,0, 0, 0, 0, 0, 0, 0, 0, 0, 0, 7,7],\n",
    "            [7,7,0, 0, 0, 0, 0, 0, 0, 0, 0, 0, 7,7],\n",
    "            [7,7,0, 0, 0, 0, 0, 0, 0, 0, 0, 0, 7,7],\n",
    "            [7,7,0, 0, 0, 0, 0, 0, 0, 0, 0, 0, 7,7],\n",
    "            [7,7,3, 3, 3, 3, 0, 0, 3, 3, 3, 3, 7,7],\n",
    "            [7,7,3, 3, 3, 3, 3, 0, 3, 3, 3, 3, 7,7],\n",
    "            [7,7,7, 7, 7, 7, 7, 7, 7, 7, 7, 7, 7,7],\n",
    "            [7,7,7, 7, 7, 7, 7, 7, 7, 7, 7, 7, 7,7]\n",
    "            ]\n",
    "estadoConTrampa=   [[7,7,0, 0, 0, 0, 0, 0, 0, 0, 0, 0, 7,7],\n",
    "                    [7,7,0, 0, 0, 0, 0, 0, 0, 0, 0, 0, 7,7],\n",
    "                    [7,7,0, 0, 0, 0, 0, 0, 0, 0, 0, 0, 7,7],\n",
    "                    [7,7,0, 0, 0, 0, 0, 0, 0, 0, 0, 0, 7,7],\n",
    "                    [7,7,0, 0, 0, 0, 0, 0, 0, 0, 0, 0, 7,7],\n",
    "                    [7,7,0, 0, 0, 0, 0, 0, 0, 0, 0, 0, 7,7],\n",
    "                    [7,7,0, 0, 0, 0, 0, 0, 0, 0, 0, 0, 7,7],\n",
    "                    [7,7,0, 0, 0, 0, 0, 0, 0, 0, 0, 0, 7,7],\n",
    "                    [7,7,0, 0, 0, 0, 0, 0, 0, 0, 0, 0, 7,7],\n",
    "                    [7,7,0, 0, 0, 0, 0, 0, 0, 0, 0, 0, 7,7],\n",
    "                    [7,7,0, 0, 0, 0, 0, 0, 0, 0, 0, 0, 7,7],\n",
    "                    [7,7,0, 0, 0, 0, 0, 0, 0, 0, 0, 0, 7,7],\n",
    "                    [7,7,0, 0, 0, 0, 0, 0, 0, 0, 0, 0, 7,7],\n",
    "                    [7,7,0, 0, 0, 0, 3, 3, 3, 3, 3, 3, 7,7],\n",
    "                    [7,7,0, 0, 3, 3, 3, 3, 3, 0, 0, 0, 7,7],\n",
    "                    [7,7,3, 3, 3, 0, 0, 0, 0, 0, 0, 0, 7,7],\n",
    "                    [7,7,3, 0, 0, 0, 0, 0, 0, 0, 0, 0, 7,7],\n",
    "                    [7,7,3, 0, 0, 0, 0, 0, 0, 0, 0, 0, 7,7],\n",
    "                    [7,7,3, 0, 0, 0, 0, 0, 0, 0, 0, 0, 7,7],\n",
    "                    [7,7,3, 0, 0, 0, 0, 0, 0, 0, 0, 0, 7,7],\n",
    "                    [7,7,3, 0, 0, 0, 0, 0, 0, 0, 0, 0, 7,7],\n",
    "                    [7,7,3, 3, 3, 3, 0, 0, 3, 3, 3, 3, 7,7],\n",
    "                    [7,7,3, 3, 3, 3, 3, 0, 3, 3, 3, 3, 7,7],\n",
    "                    [7,7,7, 7, 7, 7, 7, 7, 7, 7, 7, 7, 7,7],\n",
    "                    [7,7,7, 7, 7, 7, 7, 7, 7, 7, 7, 7, 7,7]\n",
    "                    ]\n",
    "piezas=[\n",
    "    [\n",
    "        [0,0,0,0,0],\n",
    "        [0,0,0,0,0],\n",
    "        [0,1,2,1,1],\n",
    "        [0,0,0,0,0],\n",
    "        [0,0,0,0,0]\n",
    "    ],[\n",
    "        [0,0,0,0,0],\n",
    "        [0,1,0,0,0],\n",
    "        [0,1,2,1,0],\n",
    "        [0,0,0,0,0],\n",
    "        [0,0,0,0,0]\n",
    "    ],[\n",
    "        [0,0,0,0,0],\n",
    "        [0,0,0,1,0],\n",
    "        [0,1,2,1,0],\n",
    "        [0,0,0,0,0],\n",
    "        [0,0,0,0,0]\n",
    "    ],[\n",
    "        [0,0,0,0,0],\n",
    "        [0,0,1,1,0],\n",
    "        [0,0,2,1,0],\n",
    "        [0,0,0,0,0],\n",
    "        [0,0,0,0,0]\n",
    "    ],[\n",
    "        [0,0,0,0,0],\n",
    "        [0,0,1,1,0],\n",
    "        [0,1,2,0,0],\n",
    "        [0,0,0,0,0],\n",
    "        [0,0,0,0,0]\n",
    "    ],[\n",
    "        [0,0,0,0,0],\n",
    "        [0,0,1,0,0],\n",
    "        [0,1,2,1,0],\n",
    "        [0,0,0,0,0],\n",
    "        [0,0,0,0,0]\n",
    "    ],[\n",
    "        [0,0,0,0,0],\n",
    "        [0,1,1,0,0],\n",
    "        [0,0,2,1,0],\n",
    "        [0,0,0,0,0],\n",
    "        [0,0,0,0,0]\n",
    "    ],\n",
    "]"
   ]
  },
  {
   "cell_type": "code",
   "execution_count": 5,
   "metadata": {},
   "outputs": [],
   "source": [
    "#Acciones que vamos a utilizar"
   ]
  },
  {
   "cell_type": "code",
   "execution_count": 6,
   "metadata": {},
   "outputs": [],
   "source": [
    "class MoverIzquierda(probee.Acción):\n",
    "    def __init__(self):\n",
    "        nombre = 'muevo izquierda'\n",
    "        super().__init__(nombre)\n",
    "        \n",
    "    def es_aplicable(self,estado):\n",
    "        res=True\n",
    "        for x, i in list(enumerate(estado)):\n",
    "            for y, j in list(enumerate(i)):\n",
    "                if j==2:\n",
    "                    if(estado[x][y-1]==3 or estado[x][y-1]==7):\n",
    "                        res=False\n",
    "                if j==1:\n",
    "                    if(estado[x][y-1]==3 or estado[x][y-1]==7):\n",
    "                        res=False  \n",
    "        return res\n",
    "    def coste_de_aplicar(self,estado):    \n",
    "        return 1             \n",
    "        \n",
    "\n",
    "    def aplicar(self,estado):\n",
    "        nuevo_estado = copy.deepcopy(estado)\n",
    "        for y, i in list(enumerate(estado)):\n",
    "            for x, j in list(enumerate(i)):\n",
    "                if j==1:\n",
    "                    nuevo_estado[y][x-1]=1\n",
    "                    nuevo_estado[y][x]=0\n",
    "                if j==2:\n",
    "                    nuevo_estado[y][x-1]=2\n",
    "                    nuevo_estado[y][x]=0\n",
    "        return nuevo_estado  "
   ]
  },
  {
   "cell_type": "code",
   "execution_count": 7,
   "metadata": {},
   "outputs": [],
   "source": [
    "class MoverAbajo(probee.Acción):\n",
    "    def __init__(self):\n",
    "        nombre = 'muevo abajo'\n",
    "        super().__init__(nombre)\n",
    "        \n",
    "    def es_aplicable(self,estado):\n",
    "        return True\n",
    "    \n",
    "    \n",
    "    def coste_de_aplicar(self,estado):    \n",
    "        return 0\n",
    "    \n",
    "    def eliminar_filas_llenas(estado):\n",
    "        sehacefija=False\n",
    "        for x, i in list(enumerate(estado)):\n",
    "            numerode3=0\n",
    "            for y, j in list(enumerate(i)):\n",
    "                if j==3:\n",
    "                    numerode3=numerode3+1\n",
    "            if numerode3==10:\n",
    "                estado.pop(x)\n",
    "                estado.insert(0,[7,7,0,0,0,0,0,0,0,0,0,0,7,7])\n",
    "                \n",
    "        return estado\n",
    "    \n",
    "    def se_hace_fija(estado):\n",
    "        sehacefija=False\n",
    "        for x, i in list(enumerate(estado)):\n",
    "            for y, j in list(enumerate(i)):\n",
    "                if j==2:\n",
    "                    if(estado[x+1][y]==3 or estado[x+1][y]==7):\n",
    "                        sehacefija=True\n",
    "                if j==1:\n",
    "                    if(estado[x+1][y]==3 or estado[x+1][y]==7):\n",
    "                        sehacefija=True\n",
    "                if sehacefija:\n",
    "                    break\n",
    "            if sehacefija:\n",
    "                break\n",
    "        return sehacefija\n",
    "                \n",
    "    def aplicar(self,estado):\n",
    "        nuevo_estado = copy.deepcopy(estado)\n",
    "        if MoverAbajo.se_hace_fija(estado):\n",
    "            for y, i in reversed(list(enumerate(estado))):\n",
    "                for x, j in list(enumerate(i)):\n",
    "                    if j==1:\n",
    "                        nuevo_estado[y][x]=3\n",
    "                    if j==2:\n",
    "                        nuevo_estado[y][x]=3\n",
    "            nuevo_estado=MoverAbajo.eliminar_filas_llenas(nuevo_estado)\n",
    "        else:\n",
    "            for y, i in reversed(list(enumerate(estado))):\n",
    "                for x, j in list(enumerate(i)):\n",
    "                    if j==1:\n",
    "                        nuevo_estado[y+1][x]=1\n",
    "                        nuevo_estado[y][x]=0\n",
    "                    if j==2:\n",
    "                        nuevo_estado[y+1][x]=2\n",
    "                        nuevo_estado[y][x]=0\n",
    "        return nuevo_estado "
   ]
  },
  {
   "cell_type": "code",
   "execution_count": 8,
   "metadata": {},
   "outputs": [],
   "source": [
    "class MoverDerecha(probee.Acción):\n",
    "    def __init__(self):\n",
    "        nombre = 'muevo derecha'\n",
    "        super().__init__(nombre)\n",
    "        \n",
    "    def es_aplicable(self,estado):\n",
    "        res=True\n",
    "        for x, i in list(enumerate(estado)):\n",
    "            for y, j in list(enumerate(i)):\n",
    "                if j==2:\n",
    "                    if(estado[x][y+1]==3 or estado[x][y+1]==7):\n",
    "                        res=False\n",
    "                if j==1:\n",
    "                    if(estado[x][y+1]==3 or estado[x][y+1]==7):\n",
    "                        res=False  \n",
    "        return res\n",
    "    def coste_de_aplicar(self,estado):    \n",
    "        return 1           \n",
    "        \n",
    "\n",
    "    def aplicar(self,estado):\n",
    "        nuevo_estado = copy.deepcopy(estado)\n",
    "        for y, i in list(enumerate(estado)):\n",
    "            for x, j in reversed(list(enumerate(i))):\n",
    "                if j==1:\n",
    "                    nuevo_estado[y][x+1]=1\n",
    "                    nuevo_estado[y][x]=0\n",
    "                if j==2:\n",
    "                    nuevo_estado[y][x+1]=2\n",
    "                    nuevo_estado[y][x]=0\n",
    "        return nuevo_estado"
   ]
  },
  {
   "cell_type": "code",
   "execution_count": 9,
   "metadata": {},
   "outputs": [],
   "source": [
    "class Rotar(probee.Acción):\n",
    "    def __init__(self):\n",
    "        nombre = 'Roto 90 grados'\n",
    "        super().__init__(nombre)\n",
    "        \n",
    "    def es_de_cinco(estado):\n",
    "        for x, i in list(enumerate(estado)):\n",
    "            for y, j in list(enumerate(i)):\n",
    "                if j==2:\n",
    "                    return estado[x+2][y]==1 or estado[x-2][y]==1 or estado[x][y+2]==1 or estado[x][y-2]\n",
    "        \n",
    "    def coste_de_aplicar(self,estado):    \n",
    "        return 1\n",
    "    \n",
    "    def es_aplicable(self,estado):\n",
    "        for y, i in list(enumerate(estado)):\n",
    "            for x, j in list(enumerate(i)):\n",
    "                if j==2:\n",
    "                    if estado[y][x+1]==1:\n",
    "                        if estado[y-1][x]==3 or estado[y-1][x]==7:\n",
    "                            return False\n",
    "                    if estado[y][x-1]==1:\n",
    "                        if estado[y+1][x]==3 or estado[y+1][x]==7:\n",
    "                            return False\n",
    "                    if estado[y+1][x]==1:\n",
    "                        if estado[y][x+1]==3 or estado[y][x+1]==7:\n",
    "                            return False\n",
    "                    if estado[y-1][x]==1:\n",
    "                         if estado[y][x-1]==3 or estado[y][x-1]==7:\n",
    "                            return False\n",
    "                    if estado[y-1][x-1]==1:\n",
    "                         if estado[y+1][x]==3 or estado[y+1][x]==7:\n",
    "                            return False\n",
    "                    if estado[y+1][x-1]==1:\n",
    "                        if estado[y+1][x+1]==3 or estado[y+1][x+1]==7:\n",
    "                            return False\n",
    "                    if estado[y+1][x+1]==1:\n",
    "                        if estado[y-1][x+1]==3 or estado[y-1][x+1]==7:\n",
    "                            return False\n",
    "                    if estado[y-1][x+1]==1:\n",
    "                        if estado[y-1][x-1]==3 or estado[y-1][x-1]==7:\n",
    "                            return False                    \n",
    "                    if Rotar.es_de_cinco(estado):\n",
    "                        if estado[y][x+2]==1:\n",
    "                            if estado[y-2][x]==3 or estado[y-2][x]==7:\n",
    "                                return False     \n",
    "                        if estado[y][x-2]==1:\n",
    "                             if estado[y+2][x]==3 or estado[y+2][x]==7:\n",
    "                                return False     \n",
    "                        if estado[y+2][x]==1:\n",
    "                            if estado[y][x+2]==3 or estado[y][x+2]==7:\n",
    "                                return False     \n",
    "                        if estado[y-2][x]==1:\n",
    "                            if estado[y][x-2]==3 or estado[y][x-2]==7:\n",
    "                                return False     \n",
    "        return True                \n",
    "        \n",
    "\n",
    "    def aplicar(self,estado):\n",
    "        nuevo_estado = copy.deepcopy(estado)\n",
    "        for y, i in list(enumerate(estado)):\n",
    "            for x, j in list(enumerate(i)):\n",
    "                if j==2:\n",
    "                    if estado[y-1][x-1]==1:\n",
    "                        nuevo_estado[y-1][x-1]=0\n",
    "                    if estado[y+1][x-1]==1:\n",
    "                        nuevo_estado[y+1][x-1]=0\n",
    "                    if estado[y+1][x+1]==1:\n",
    "                        nuevo_estado[y+1][x+1]=0\n",
    "                    if estado[y-1][x+1]==1:\n",
    "                        nuevo_estado[y-1][x+1]=0  \n",
    "                    if estado[y][x+1]==1:\n",
    "                        nuevo_estado[y][x+1]=0\n",
    "                    if estado[y][x-1]==1:\n",
    "                        nuevo_estado[y][x-1]=0\n",
    "                    if estado[y+1][x]==1:\n",
    "                        nuevo_estado[y+1][x]=0\n",
    "                    if estado[y-1][x]==1:\n",
    "                        nuevo_estado[y-1][x]=0\n",
    "                    if estado[y][x+1]==1:\n",
    "                        nuevo_estado[y-1][x]=1\n",
    "                    if estado[y][x-1]==1:\n",
    "                        nuevo_estado[y+1][x]=1\n",
    "                    if estado[y+1][x]==1:\n",
    "                        nuevo_estado[y][x+1]=1\n",
    "                    if estado[y-1][x]==1:\n",
    "                        nuevo_estado[y][x-1]=1\n",
    "                    if estado[y-1][x-1]==1:\n",
    "                        nuevo_estado[y+1][x-1]=1\n",
    "                    if estado[y+1][x-1]==1:\n",
    "                        nuevo_estado[y+1][x+1]=1\n",
    "                    if estado[y+1][x+1]==1:\n",
    "                        nuevo_estado[y-1][x+1]=1\n",
    "                    if estado[y-1][x+1]==1:\n",
    "                        nuevo_estado[y-1][x-1]=1                       \n",
    "                    if Rotar.es_de_cinco(estado):\n",
    "                        if estado[y][x+2]==1:\n",
    "                            nuevo_estado[y][x+2]=0\n",
    "                        if estado[y][x-2]==1:\n",
    "                            nuevo_estado[y][x-2]=0\n",
    "                        if estado[y+2][x]==1:\n",
    "                            nuevo_estado[y+2][x]=0\n",
    "                        if estado[y-2][x]==1:\n",
    "                            nuevo_estado[y-2][x]=0\n",
    "\n",
    "                        if estado[y][x+2]==1:\n",
    "                            nuevo_estado[y-2][x]=1\n",
    "                        if estado[y][x-2]==1:\n",
    "                            nuevo_estado[y+2][x]=1\n",
    "                        if estado[y+2][x]==1:\n",
    "                            nuevo_estado[y][x+2]=1\n",
    "                        if estado[y-2][x]==1:\n",
    "                            nuevo_estado[y][x-2]=1      \n",
    "        return nuevo_estado   \n",
    "                "
   ]
  },
  {
   "cell_type": "code",
   "execution_count": 10,
   "metadata": {},
   "outputs": [],
   "source": [
    "class RotarInverso(probee.Acción):\n",
    "    def __init__(self):\n",
    "        nombre = 'Roto -90 grados'\n",
    "        super().__init__(nombre)\n",
    "        \n",
    "    def es_de_cinco(estado):\n",
    "        for x, i in list(enumerate(estado)):\n",
    "            for y, j in list(enumerate(i)):\n",
    "                if j==2:\n",
    "                    return estado[x+2][y]==1 or estado[x-2][y]==1 or estado[x][y+2]==1 or estado[x][y-2]\n",
    "        \n",
    "    def coste_de_aplicar(self,estado):    \n",
    "        return 1\n",
    "    \n",
    "    def es_aplicable(self,estado):\n",
    "        for y, i in list(enumerate(estado)):\n",
    "            for x, j in list(enumerate(i)):\n",
    "                if j==2:\n",
    "                    if estado[y][x+1]==1:\n",
    "                        if estado[y+1][x]==3 or estado[y+1][x]==7:\n",
    "                            return False\n",
    "                    if estado[y][x-1]==1:\n",
    "                        if estado[y-1][x]==3 or estado[y-1][x]==7:\n",
    "                            return False\n",
    "                    if estado[y+1][x]==1:\n",
    "                        if estado[y][x-1]==3 or estado[y][x-1]==7:\n",
    "                            return False\n",
    "                    if estado[y-1][x]==1:\n",
    "                         if estado[y][x+1]==3 or estado[y][x+1]==7:\n",
    "                            return False\n",
    "                    if estado[y-1][x-1]==1:\n",
    "                         if estado[y-1][x+1]==3 or estado[y-1][x+1]==7:\n",
    "                            return False\n",
    "                    if estado[y+1][x-1]==1:\n",
    "                        if estado[y-1][x-1]==3 or estado[y-1][x-1]==7:\n",
    "                            return False\n",
    "                    if estado[y+1][x+1]==1:\n",
    "                        if estado[y+1][x-1]==3 or estado[y+1][x-1]==7:\n",
    "                            return False\n",
    "                    if estado[y-1][x+1]==1:\n",
    "                        if estado[y+1][x+1]==3 or estado[y+1][x+1]==7:\n",
    "                            return False                    \n",
    "                    if Rotar.es_de_cinco(estado):\n",
    "                        if estado[y][x+2]==1:\n",
    "                            if estado[y+2][x]==3 or estado[y+2][x]==7:\n",
    "                                return False     \n",
    "                        if estado[y][x-2]==1:\n",
    "                             if estado[y-2][x]==3 or estado[y-2][x]==7:\n",
    "                                return False     \n",
    "                        if estado[y+2][x]==1:\n",
    "                            if estado[y][x-2]==3 or estado[y][x-2]==7:\n",
    "                                return False     \n",
    "                        if estado[y-2][x]==1:\n",
    "                            if estado[y][x+2]==3 or estado[y][x+2]==7:\n",
    "                                return False     \n",
    "        return True                \n",
    "        \n",
    "\n",
    "    def aplicar(self,estado):\n",
    "        nuevo_estado = copy.deepcopy(estado)\n",
    "        for y, i in list(enumerate(estado)):\n",
    "            for x, j in list(enumerate(i)):\n",
    "                if j==2:\n",
    "                    if estado[y-1][x-1]==1:\n",
    "                        nuevo_estado[y-1][x-1]=0\n",
    "                    if estado[y+1][x-1]==1:\n",
    "                        nuevo_estado[y+1][x-1]=0\n",
    "                    if estado[y+1][x+1]==1:\n",
    "                        nuevo_estado[y+1][x+1]=0\n",
    "                    if estado[y-1][x+1]==1:\n",
    "                        nuevo_estado[y-1][x+1]=0  \n",
    "                    if estado[y][x+1]==1:\n",
    "                        nuevo_estado[y][x+1]=0\n",
    "                    if estado[y][x-1]==1:\n",
    "                        nuevo_estado[y][x-1]=0\n",
    "                    if estado[y+1][x]==1:\n",
    "                        nuevo_estado[y+1][x]=0\n",
    "                    if estado[y-1][x]==1:\n",
    "                        nuevo_estado[y-1][x]=0\n",
    "                    if estado[y][x+1]==1:\n",
    "                        nuevo_estado[y+1][x]=1\n",
    "                    if estado[y][x-1]==1:\n",
    "                        nuevo_estado[y-1][x]=1\n",
    "                    if estado[y+1][x]==1:\n",
    "                        nuevo_estado[y][x-1]=1\n",
    "                    if estado[y-1][x]==1:\n",
    "                        nuevo_estado[y][x+1]=1\n",
    "                    if estado[y-1][x-1]==1:\n",
    "                        nuevo_estado[y-1][x+1]=1\n",
    "                    if estado[y+1][x-1]==1:\n",
    "                        nuevo_estado[y-1][x-1]=1\n",
    "                    if estado[y+1][x+1]==1:\n",
    "                        nuevo_estado[y+1][x-1]=1\n",
    "                    if estado[y-1][x+1]==1:\n",
    "                        nuevo_estado[y+1][x+1]=1                       \n",
    "                    if Rotar.es_de_cinco(estado):\n",
    "                        if estado[y][x+2]==1:\n",
    "                            nuevo_estado[y][x+2]=0\n",
    "                        if estado[y][x-2]==1:\n",
    "                            nuevo_estado[y][x-2]=0\n",
    "                        if estado[y+2][x]==1:\n",
    "                            nuevo_estado[y+2][x]=0\n",
    "                        if estado[y-2][x]==1:\n",
    "                            nuevo_estado[y-2][x]=0\n",
    "\n",
    "                        if estado[y][x+2]==1:\n",
    "                            nuevo_estado[y+2][x]=1\n",
    "                        if estado[y][x-2]==1:\n",
    "                            nuevo_estado[y-2][x]=1\n",
    "                        if estado[y+2][x]==1:\n",
    "                            nuevo_estado[y][x-2]=1\n",
    "                        if estado[y-2][x]==1:\n",
    "                            nuevo_estado[y][x+2]=1      \n",
    "        return nuevo_estado   "
   ]
  },
  {
   "cell_type": "code",
   "execution_count": 11,
   "metadata": {},
   "outputs": [],
   "source": [
    "#Funcion que utilizaremos para imprimir el tablero y que sea mas visual el resultado\n",
    "\n",
    "from IPython.display import HTML, display\n",
    "def printBonito(estado1):\n",
    "    display(HTML(\n",
    "        '<table><tr>{}</tr></table>'.format(\n",
    "            '</tr><tr>'.join(\n",
    "                '<td>{}</td>'.format('</td><td>'.join(str(_) for _ in row)) for row in estado1)\n",
    "            )))\n"
   ]
  },
  {
   "cell_type": "code",
   "execution_count": 12,
   "metadata": {},
   "outputs": [
    {
     "data": {
      "text/html": [
       "<table><tr><td>7</td><td>7</td><td>0</td><td>0</td><td>0</td><td>0</td><td>0</td><td>0</td><td>0</td><td>0</td><td>0</td><td>0</td><td>7</td><td>7</td></tr><tr><td>7</td><td>7</td><td>0</td><td>0</td><td>0</td><td>0</td><td>0</td><td>0</td><td>0</td><td>0</td><td>0</td><td>0</td><td>7</td><td>7</td></tr><tr><td>7</td><td>7</td><td>0</td><td>0</td><td>0</td><td>0</td><td>0</td><td>0</td><td>1</td><td>2</td><td>1</td><td>0</td><td>7</td><td>7</td></tr><tr><td>7</td><td>7</td><td>0</td><td>0</td><td>0</td><td>0</td><td>0</td><td>0</td><td>0</td><td>1</td><td>0</td><td>0</td><td>7</td><td>7</td></tr><tr><td>7</td><td>7</td><td>0</td><td>0</td><td>0</td><td>0</td><td>0</td><td>0</td><td>0</td><td>0</td><td>0</td><td>0</td><td>7</td><td>7</td></tr><tr><td>7</td><td>7</td><td>0</td><td>0</td><td>0</td><td>0</td><td>0</td><td>0</td><td>0</td><td>0</td><td>0</td><td>0</td><td>7</td><td>7</td></tr><tr><td>7</td><td>7</td><td>0</td><td>0</td><td>0</td><td>0</td><td>0</td><td>0</td><td>0</td><td>0</td><td>0</td><td>0</td><td>7</td><td>7</td></tr><tr><td>7</td><td>7</td><td>0</td><td>0</td><td>0</td><td>0</td><td>0</td><td>0</td><td>0</td><td>0</td><td>0</td><td>0</td><td>7</td><td>7</td></tr><tr><td>7</td><td>7</td><td>0</td><td>0</td><td>0</td><td>0</td><td>0</td><td>0</td><td>0</td><td>0</td><td>0</td><td>0</td><td>7</td><td>7</td></tr><tr><td>7</td><td>7</td><td>0</td><td>0</td><td>0</td><td>0</td><td>0</td><td>0</td><td>0</td><td>0</td><td>0</td><td>0</td><td>7</td><td>7</td></tr><tr><td>7</td><td>7</td><td>0</td><td>0</td><td>0</td><td>0</td><td>0</td><td>0</td><td>0</td><td>0</td><td>0</td><td>0</td><td>7</td><td>7</td></tr><tr><td>7</td><td>7</td><td>0</td><td>0</td><td>0</td><td>0</td><td>0</td><td>0</td><td>0</td><td>0</td><td>0</td><td>0</td><td>7</td><td>7</td></tr><tr><td>7</td><td>7</td><td>0</td><td>0</td><td>0</td><td>0</td><td>0</td><td>0</td><td>0</td><td>0</td><td>0</td><td>0</td><td>7</td><td>7</td></tr><tr><td>7</td><td>7</td><td>0</td><td>0</td><td>0</td><td>0</td><td>0</td><td>0</td><td>0</td><td>0</td><td>0</td><td>0</td><td>7</td><td>7</td></tr><tr><td>7</td><td>7</td><td>0</td><td>0</td><td>0</td><td>0</td><td>0</td><td>0</td><td>0</td><td>0</td><td>0</td><td>0</td><td>7</td><td>7</td></tr><tr><td>7</td><td>7</td><td>0</td><td>0</td><td>0</td><td>0</td><td>0</td><td>0</td><td>0</td><td>0</td><td>0</td><td>0</td><td>7</td><td>7</td></tr><tr><td>7</td><td>7</td><td>0</td><td>0</td><td>0</td><td>0</td><td>0</td><td>0</td><td>0</td><td>0</td><td>0</td><td>0</td><td>7</td><td>7</td></tr><tr><td>7</td><td>7</td><td>0</td><td>0</td><td>0</td><td>0</td><td>0</td><td>0</td><td>0</td><td>0</td><td>0</td><td>0</td><td>7</td><td>7</td></tr><tr><td>7</td><td>7</td><td>0</td><td>0</td><td>0</td><td>0</td><td>0</td><td>0</td><td>0</td><td>0</td><td>0</td><td>0</td><td>7</td><td>7</td></tr><tr><td>7</td><td>7</td><td>0</td><td>0</td><td>0</td><td>0</td><td>0</td><td>0</td><td>0</td><td>0</td><td>0</td><td>0</td><td>7</td><td>7</td></tr><tr><td>7</td><td>7</td><td>0</td><td>0</td><td>0</td><td>0</td><td>0</td><td>0</td><td>0</td><td>0</td><td>0</td><td>0</td><td>7</td><td>7</td></tr><tr><td>7</td><td>7</td><td>3</td><td>3</td><td>3</td><td>3</td><td>0</td><td>0</td><td>3</td><td>3</td><td>3</td><td>3</td><td>7</td><td>7</td></tr><tr><td>7</td><td>7</td><td>3</td><td>3</td><td>3</td><td>3</td><td>3</td><td>0</td><td>3</td><td>3</td><td>3</td><td>3</td><td>7</td><td>7</td></tr><tr><td>7</td><td>7</td><td>7</td><td>7</td><td>7</td><td>7</td><td>7</td><td>7</td><td>7</td><td>7</td><td>7</td><td>7</td><td>7</td><td>7</td></tr><tr><td>7</td><td>7</td><td>7</td><td>7</td><td>7</td><td>7</td><td>7</td><td>7</td><td>7</td><td>7</td><td>7</td><td>7</td><td>7</td><td>7</td></tr></table>"
      ],
      "text/plain": [
       "<IPython.core.display.HTML object>"
      ]
     },
     "metadata": {},
     "output_type": "display_data"
    }
   ],
   "source": [
    "#ejemplo del tablero tras realizar un movimiento de moverAbajo al estado1\n",
    "printBonito(MoverAbajo.aplicar(estado1,estado1))"
   ]
  },
  {
   "cell_type": "code",
   "execution_count": 13,
   "metadata": {},
   "outputs": [
    {
     "data": {
      "text/html": [
       "<table><tr><td>7</td><td>7</td><td>0</td><td>0</td><td>0</td><td>0</td><td>0</td><td>0</td><td>0</td><td>0</td><td>0</td><td>0</td><td>7</td><td>7</td></tr><tr><td>7</td><td>7</td><td>0</td><td>0</td><td>0</td><td>0</td><td>0</td><td>0</td><td>1</td><td>2</td><td>1</td><td>0</td><td>7</td><td>7</td></tr><tr><td>7</td><td>7</td><td>0</td><td>0</td><td>0</td><td>0</td><td>0</td><td>0</td><td>0</td><td>1</td><td>0</td><td>0</td><td>7</td><td>7</td></tr><tr><td>7</td><td>7</td><td>0</td><td>0</td><td>0</td><td>0</td><td>0</td><td>0</td><td>0</td><td>0</td><td>0</td><td>0</td><td>7</td><td>7</td></tr><tr><td>7</td><td>7</td><td>0</td><td>0</td><td>0</td><td>0</td><td>0</td><td>0</td><td>0</td><td>0</td><td>0</td><td>0</td><td>7</td><td>7</td></tr><tr><td>7</td><td>7</td><td>0</td><td>0</td><td>0</td><td>0</td><td>0</td><td>0</td><td>0</td><td>0</td><td>0</td><td>0</td><td>7</td><td>7</td></tr><tr><td>7</td><td>7</td><td>0</td><td>0</td><td>0</td><td>0</td><td>0</td><td>0</td><td>0</td><td>0</td><td>0</td><td>0</td><td>7</td><td>7</td></tr><tr><td>7</td><td>7</td><td>0</td><td>0</td><td>0</td><td>0</td><td>0</td><td>0</td><td>0</td><td>0</td><td>0</td><td>0</td><td>7</td><td>7</td></tr><tr><td>7</td><td>7</td><td>0</td><td>0</td><td>0</td><td>0</td><td>0</td><td>0</td><td>0</td><td>0</td><td>0</td><td>0</td><td>7</td><td>7</td></tr><tr><td>7</td><td>7</td><td>0</td><td>0</td><td>0</td><td>0</td><td>0</td><td>0</td><td>0</td><td>0</td><td>0</td><td>0</td><td>7</td><td>7</td></tr><tr><td>7</td><td>7</td><td>0</td><td>0</td><td>0</td><td>0</td><td>0</td><td>0</td><td>0</td><td>0</td><td>0</td><td>0</td><td>7</td><td>7</td></tr><tr><td>7</td><td>7</td><td>0</td><td>0</td><td>0</td><td>0</td><td>0</td><td>0</td><td>0</td><td>0</td><td>0</td><td>0</td><td>7</td><td>7</td></tr><tr><td>7</td><td>7</td><td>0</td><td>0</td><td>0</td><td>0</td><td>0</td><td>0</td><td>0</td><td>0</td><td>0</td><td>0</td><td>7</td><td>7</td></tr><tr><td>7</td><td>7</td><td>0</td><td>0</td><td>0</td><td>0</td><td>0</td><td>0</td><td>0</td><td>0</td><td>0</td><td>0</td><td>7</td><td>7</td></tr><tr><td>7</td><td>7</td><td>0</td><td>0</td><td>0</td><td>0</td><td>0</td><td>0</td><td>0</td><td>0</td><td>0</td><td>0</td><td>7</td><td>7</td></tr><tr><td>7</td><td>7</td><td>0</td><td>0</td><td>0</td><td>0</td><td>0</td><td>0</td><td>0</td><td>0</td><td>0</td><td>0</td><td>7</td><td>7</td></tr><tr><td>7</td><td>7</td><td>0</td><td>0</td><td>0</td><td>0</td><td>0</td><td>0</td><td>0</td><td>0</td><td>0</td><td>0</td><td>7</td><td>7</td></tr><tr><td>7</td><td>7</td><td>0</td><td>0</td><td>0</td><td>0</td><td>0</td><td>0</td><td>0</td><td>0</td><td>0</td><td>0</td><td>7</td><td>7</td></tr><tr><td>7</td><td>7</td><td>0</td><td>0</td><td>0</td><td>0</td><td>0</td><td>0</td><td>0</td><td>0</td><td>0</td><td>0</td><td>7</td><td>7</td></tr><tr><td>7</td><td>7</td><td>0</td><td>0</td><td>0</td><td>0</td><td>0</td><td>0</td><td>0</td><td>0</td><td>0</td><td>0</td><td>7</td><td>7</td></tr><tr><td>7</td><td>7</td><td>0</td><td>0</td><td>0</td><td>0</td><td>0</td><td>0</td><td>0</td><td>0</td><td>0</td><td>0</td><td>7</td><td>7</td></tr><tr><td>7</td><td>7</td><td>3</td><td>3</td><td>3</td><td>3</td><td>0</td><td>0</td><td>3</td><td>3</td><td>3</td><td>3</td><td>7</td><td>7</td></tr><tr><td>7</td><td>7</td><td>3</td><td>3</td><td>3</td><td>3</td><td>3</td><td>0</td><td>3</td><td>3</td><td>3</td><td>3</td><td>7</td><td>7</td></tr><tr><td>7</td><td>7</td><td>7</td><td>7</td><td>7</td><td>7</td><td>7</td><td>7</td><td>7</td><td>7</td><td>7</td><td>7</td><td>7</td><td>7</td></tr><tr><td>7</td><td>7</td><td>7</td><td>7</td><td>7</td><td>7</td><td>7</td><td>7</td><td>7</td><td>7</td><td>7</td><td>7</td><td>7</td><td>7</td></tr></table>"
      ],
      "text/plain": [
       "<IPython.core.display.HTML object>"
      ]
     },
     "metadata": {},
     "output_type": "display_data"
    },
    {
     "data": {
      "text/html": [
       "<table><tr><td>7</td><td>7</td><td>0</td><td>0</td><td>0</td><td>0</td><td>0</td><td>0</td><td>0</td><td>1</td><td>0</td><td>0</td><td>7</td><td>7</td></tr><tr><td>7</td><td>7</td><td>0</td><td>0</td><td>0</td><td>0</td><td>0</td><td>0</td><td>1</td><td>2</td><td>0</td><td>0</td><td>7</td><td>7</td></tr><tr><td>7</td><td>7</td><td>0</td><td>0</td><td>0</td><td>0</td><td>0</td><td>0</td><td>0</td><td>1</td><td>0</td><td>0</td><td>7</td><td>7</td></tr><tr><td>7</td><td>7</td><td>0</td><td>0</td><td>0</td><td>0</td><td>0</td><td>0</td><td>0</td><td>0</td><td>0</td><td>0</td><td>7</td><td>7</td></tr><tr><td>7</td><td>7</td><td>0</td><td>0</td><td>0</td><td>0</td><td>0</td><td>0</td><td>0</td><td>0</td><td>0</td><td>0</td><td>7</td><td>7</td></tr><tr><td>7</td><td>7</td><td>0</td><td>0</td><td>0</td><td>0</td><td>0</td><td>0</td><td>0</td><td>0</td><td>0</td><td>0</td><td>7</td><td>7</td></tr><tr><td>7</td><td>7</td><td>0</td><td>0</td><td>0</td><td>0</td><td>0</td><td>0</td><td>0</td><td>0</td><td>0</td><td>0</td><td>7</td><td>7</td></tr><tr><td>7</td><td>7</td><td>0</td><td>0</td><td>0</td><td>0</td><td>0</td><td>0</td><td>0</td><td>0</td><td>0</td><td>0</td><td>7</td><td>7</td></tr><tr><td>7</td><td>7</td><td>0</td><td>0</td><td>0</td><td>0</td><td>0</td><td>0</td><td>0</td><td>0</td><td>0</td><td>0</td><td>7</td><td>7</td></tr><tr><td>7</td><td>7</td><td>0</td><td>0</td><td>0</td><td>0</td><td>0</td><td>0</td><td>0</td><td>0</td><td>0</td><td>0</td><td>7</td><td>7</td></tr><tr><td>7</td><td>7</td><td>0</td><td>0</td><td>0</td><td>0</td><td>0</td><td>0</td><td>0</td><td>0</td><td>0</td><td>0</td><td>7</td><td>7</td></tr><tr><td>7</td><td>7</td><td>0</td><td>0</td><td>0</td><td>0</td><td>0</td><td>0</td><td>0</td><td>0</td><td>0</td><td>0</td><td>7</td><td>7</td></tr><tr><td>7</td><td>7</td><td>0</td><td>0</td><td>0</td><td>0</td><td>0</td><td>0</td><td>0</td><td>0</td><td>0</td><td>0</td><td>7</td><td>7</td></tr><tr><td>7</td><td>7</td><td>0</td><td>0</td><td>0</td><td>0</td><td>0</td><td>0</td><td>0</td><td>0</td><td>0</td><td>0</td><td>7</td><td>7</td></tr><tr><td>7</td><td>7</td><td>0</td><td>0</td><td>0</td><td>0</td><td>0</td><td>0</td><td>0</td><td>0</td><td>0</td><td>0</td><td>7</td><td>7</td></tr><tr><td>7</td><td>7</td><td>0</td><td>0</td><td>0</td><td>0</td><td>0</td><td>0</td><td>0</td><td>0</td><td>0</td><td>0</td><td>7</td><td>7</td></tr><tr><td>7</td><td>7</td><td>0</td><td>0</td><td>0</td><td>0</td><td>0</td><td>0</td><td>0</td><td>0</td><td>0</td><td>0</td><td>7</td><td>7</td></tr><tr><td>7</td><td>7</td><td>0</td><td>0</td><td>0</td><td>0</td><td>0</td><td>0</td><td>0</td><td>0</td><td>0</td><td>0</td><td>7</td><td>7</td></tr><tr><td>7</td><td>7</td><td>0</td><td>0</td><td>0</td><td>0</td><td>0</td><td>0</td><td>0</td><td>0</td><td>0</td><td>0</td><td>7</td><td>7</td></tr><tr><td>7</td><td>7</td><td>0</td><td>0</td><td>0</td><td>0</td><td>0</td><td>0</td><td>0</td><td>0</td><td>0</td><td>0</td><td>7</td><td>7</td></tr><tr><td>7</td><td>7</td><td>0</td><td>0</td><td>0</td><td>0</td><td>0</td><td>0</td><td>0</td><td>0</td><td>0</td><td>0</td><td>7</td><td>7</td></tr><tr><td>7</td><td>7</td><td>3</td><td>3</td><td>3</td><td>3</td><td>0</td><td>0</td><td>3</td><td>3</td><td>3</td><td>3</td><td>7</td><td>7</td></tr><tr><td>7</td><td>7</td><td>3</td><td>3</td><td>3</td><td>3</td><td>3</td><td>0</td><td>3</td><td>3</td><td>3</td><td>3</td><td>7</td><td>7</td></tr><tr><td>7</td><td>7</td><td>7</td><td>7</td><td>7</td><td>7</td><td>7</td><td>7</td><td>7</td><td>7</td><td>7</td><td>7</td><td>7</td><td>7</td></tr><tr><td>7</td><td>7</td><td>7</td><td>7</td><td>7</td><td>7</td><td>7</td><td>7</td><td>7</td><td>7</td><td>7</td><td>7</td><td>7</td><td>7</td></tr></table>"
      ],
      "text/plain": [
       "<IPython.core.display.HTML object>"
      ]
     },
     "metadata": {},
     "output_type": "display_data"
    },
    {
     "data": {
      "text/html": [
       "<table><tr><td>7</td><td>7</td><td>0</td><td>0</td><td>0</td><td>0</td><td>0</td><td>0</td><td>0</td><td>1</td><td>0</td><td>0</td><td>7</td><td>7</td></tr><tr><td>7</td><td>7</td><td>0</td><td>0</td><td>0</td><td>0</td><td>0</td><td>0</td><td>1</td><td>2</td><td>1</td><td>0</td><td>7</td><td>7</td></tr><tr><td>7</td><td>7</td><td>0</td><td>0</td><td>0</td><td>0</td><td>0</td><td>0</td><td>0</td><td>0</td><td>0</td><td>0</td><td>7</td><td>7</td></tr><tr><td>7</td><td>7</td><td>0</td><td>0</td><td>0</td><td>0</td><td>0</td><td>0</td><td>0</td><td>0</td><td>0</td><td>0</td><td>7</td><td>7</td></tr><tr><td>7</td><td>7</td><td>0</td><td>0</td><td>0</td><td>0</td><td>0</td><td>0</td><td>0</td><td>0</td><td>0</td><td>0</td><td>7</td><td>7</td></tr><tr><td>7</td><td>7</td><td>0</td><td>0</td><td>0</td><td>0</td><td>0</td><td>0</td><td>0</td><td>0</td><td>0</td><td>0</td><td>7</td><td>7</td></tr><tr><td>7</td><td>7</td><td>0</td><td>0</td><td>0</td><td>0</td><td>0</td><td>0</td><td>0</td><td>0</td><td>0</td><td>0</td><td>7</td><td>7</td></tr><tr><td>7</td><td>7</td><td>0</td><td>0</td><td>0</td><td>0</td><td>0</td><td>0</td><td>0</td><td>0</td><td>0</td><td>0</td><td>7</td><td>7</td></tr><tr><td>7</td><td>7</td><td>0</td><td>0</td><td>0</td><td>0</td><td>0</td><td>0</td><td>0</td><td>0</td><td>0</td><td>0</td><td>7</td><td>7</td></tr><tr><td>7</td><td>7</td><td>0</td><td>0</td><td>0</td><td>0</td><td>0</td><td>0</td><td>0</td><td>0</td><td>0</td><td>0</td><td>7</td><td>7</td></tr><tr><td>7</td><td>7</td><td>0</td><td>0</td><td>0</td><td>0</td><td>0</td><td>0</td><td>0</td><td>0</td><td>0</td><td>0</td><td>7</td><td>7</td></tr><tr><td>7</td><td>7</td><td>0</td><td>0</td><td>0</td><td>0</td><td>0</td><td>0</td><td>0</td><td>0</td><td>0</td><td>0</td><td>7</td><td>7</td></tr><tr><td>7</td><td>7</td><td>0</td><td>0</td><td>0</td><td>0</td><td>0</td><td>0</td><td>0</td><td>0</td><td>0</td><td>0</td><td>7</td><td>7</td></tr><tr><td>7</td><td>7</td><td>0</td><td>0</td><td>0</td><td>0</td><td>0</td><td>0</td><td>0</td><td>0</td><td>0</td><td>0</td><td>7</td><td>7</td></tr><tr><td>7</td><td>7</td><td>0</td><td>0</td><td>0</td><td>0</td><td>0</td><td>0</td><td>0</td><td>0</td><td>0</td><td>0</td><td>7</td><td>7</td></tr><tr><td>7</td><td>7</td><td>0</td><td>0</td><td>0</td><td>0</td><td>0</td><td>0</td><td>0</td><td>0</td><td>0</td><td>0</td><td>7</td><td>7</td></tr><tr><td>7</td><td>7</td><td>0</td><td>0</td><td>0</td><td>0</td><td>0</td><td>0</td><td>0</td><td>0</td><td>0</td><td>0</td><td>7</td><td>7</td></tr><tr><td>7</td><td>7</td><td>0</td><td>0</td><td>0</td><td>0</td><td>0</td><td>0</td><td>0</td><td>0</td><td>0</td><td>0</td><td>7</td><td>7</td></tr><tr><td>7</td><td>7</td><td>0</td><td>0</td><td>0</td><td>0</td><td>0</td><td>0</td><td>0</td><td>0</td><td>0</td><td>0</td><td>7</td><td>7</td></tr><tr><td>7</td><td>7</td><td>0</td><td>0</td><td>0</td><td>0</td><td>0</td><td>0</td><td>0</td><td>0</td><td>0</td><td>0</td><td>7</td><td>7</td></tr><tr><td>7</td><td>7</td><td>0</td><td>0</td><td>0</td><td>0</td><td>0</td><td>0</td><td>0</td><td>0</td><td>0</td><td>0</td><td>7</td><td>7</td></tr><tr><td>7</td><td>7</td><td>3</td><td>3</td><td>3</td><td>3</td><td>0</td><td>0</td><td>3</td><td>3</td><td>3</td><td>3</td><td>7</td><td>7</td></tr><tr><td>7</td><td>7</td><td>3</td><td>3</td><td>3</td><td>3</td><td>3</td><td>0</td><td>3</td><td>3</td><td>3</td><td>3</td><td>7</td><td>7</td></tr><tr><td>7</td><td>7</td><td>7</td><td>7</td><td>7</td><td>7</td><td>7</td><td>7</td><td>7</td><td>7</td><td>7</td><td>7</td><td>7</td><td>7</td></tr><tr><td>7</td><td>7</td><td>7</td><td>7</td><td>7</td><td>7</td><td>7</td><td>7</td><td>7</td><td>7</td><td>7</td><td>7</td><td>7</td><td>7</td></tr></table>"
      ],
      "text/plain": [
       "<IPython.core.display.HTML object>"
      ]
     },
     "metadata": {},
     "output_type": "display_data"
    },
    {
     "data": {
      "text/html": [
       "<table><tr><td>7</td><td>7</td><td>0</td><td>0</td><td>0</td><td>0</td><td>0</td><td>0</td><td>0</td><td>1</td><td>0</td><td>0</td><td>7</td><td>7</td></tr><tr><td>7</td><td>7</td><td>0</td><td>0</td><td>0</td><td>0</td><td>0</td><td>0</td><td>0</td><td>2</td><td>1</td><td>0</td><td>7</td><td>7</td></tr><tr><td>7</td><td>7</td><td>0</td><td>0</td><td>0</td><td>0</td><td>0</td><td>0</td><td>0</td><td>1</td><td>0</td><td>0</td><td>7</td><td>7</td></tr><tr><td>7</td><td>7</td><td>0</td><td>0</td><td>0</td><td>0</td><td>0</td><td>0</td><td>0</td><td>0</td><td>0</td><td>0</td><td>7</td><td>7</td></tr><tr><td>7</td><td>7</td><td>0</td><td>0</td><td>0</td><td>0</td><td>0</td><td>0</td><td>0</td><td>0</td><td>0</td><td>0</td><td>7</td><td>7</td></tr><tr><td>7</td><td>7</td><td>0</td><td>0</td><td>0</td><td>0</td><td>0</td><td>0</td><td>0</td><td>0</td><td>0</td><td>0</td><td>7</td><td>7</td></tr><tr><td>7</td><td>7</td><td>0</td><td>0</td><td>0</td><td>0</td><td>0</td><td>0</td><td>0</td><td>0</td><td>0</td><td>0</td><td>7</td><td>7</td></tr><tr><td>7</td><td>7</td><td>0</td><td>0</td><td>0</td><td>0</td><td>0</td><td>0</td><td>0</td><td>0</td><td>0</td><td>0</td><td>7</td><td>7</td></tr><tr><td>7</td><td>7</td><td>0</td><td>0</td><td>0</td><td>0</td><td>0</td><td>0</td><td>0</td><td>0</td><td>0</td><td>0</td><td>7</td><td>7</td></tr><tr><td>7</td><td>7</td><td>0</td><td>0</td><td>0</td><td>0</td><td>0</td><td>0</td><td>0</td><td>0</td><td>0</td><td>0</td><td>7</td><td>7</td></tr><tr><td>7</td><td>7</td><td>0</td><td>0</td><td>0</td><td>0</td><td>0</td><td>0</td><td>0</td><td>0</td><td>0</td><td>0</td><td>7</td><td>7</td></tr><tr><td>7</td><td>7</td><td>0</td><td>0</td><td>0</td><td>0</td><td>0</td><td>0</td><td>0</td><td>0</td><td>0</td><td>0</td><td>7</td><td>7</td></tr><tr><td>7</td><td>7</td><td>0</td><td>0</td><td>0</td><td>0</td><td>0</td><td>0</td><td>0</td><td>0</td><td>0</td><td>0</td><td>7</td><td>7</td></tr><tr><td>7</td><td>7</td><td>0</td><td>0</td><td>0</td><td>0</td><td>0</td><td>0</td><td>0</td><td>0</td><td>0</td><td>0</td><td>7</td><td>7</td></tr><tr><td>7</td><td>7</td><td>0</td><td>0</td><td>0</td><td>0</td><td>0</td><td>0</td><td>0</td><td>0</td><td>0</td><td>0</td><td>7</td><td>7</td></tr><tr><td>7</td><td>7</td><td>0</td><td>0</td><td>0</td><td>0</td><td>0</td><td>0</td><td>0</td><td>0</td><td>0</td><td>0</td><td>7</td><td>7</td></tr><tr><td>7</td><td>7</td><td>0</td><td>0</td><td>0</td><td>0</td><td>0</td><td>0</td><td>0</td><td>0</td><td>0</td><td>0</td><td>7</td><td>7</td></tr><tr><td>7</td><td>7</td><td>0</td><td>0</td><td>0</td><td>0</td><td>0</td><td>0</td><td>0</td><td>0</td><td>0</td><td>0</td><td>7</td><td>7</td></tr><tr><td>7</td><td>7</td><td>0</td><td>0</td><td>0</td><td>0</td><td>0</td><td>0</td><td>0</td><td>0</td><td>0</td><td>0</td><td>7</td><td>7</td></tr><tr><td>7</td><td>7</td><td>0</td><td>0</td><td>0</td><td>0</td><td>0</td><td>0</td><td>0</td><td>0</td><td>0</td><td>0</td><td>7</td><td>7</td></tr><tr><td>7</td><td>7</td><td>0</td><td>0</td><td>0</td><td>0</td><td>0</td><td>0</td><td>0</td><td>0</td><td>0</td><td>0</td><td>7</td><td>7</td></tr><tr><td>7</td><td>7</td><td>3</td><td>3</td><td>3</td><td>3</td><td>0</td><td>0</td><td>3</td><td>3</td><td>3</td><td>3</td><td>7</td><td>7</td></tr><tr><td>7</td><td>7</td><td>3</td><td>3</td><td>3</td><td>3</td><td>3</td><td>0</td><td>3</td><td>3</td><td>3</td><td>3</td><td>7</td><td>7</td></tr><tr><td>7</td><td>7</td><td>7</td><td>7</td><td>7</td><td>7</td><td>7</td><td>7</td><td>7</td><td>7</td><td>7</td><td>7</td><td>7</td><td>7</td></tr><tr><td>7</td><td>7</td><td>7</td><td>7</td><td>7</td><td>7</td><td>7</td><td>7</td><td>7</td><td>7</td><td>7</td><td>7</td><td>7</td><td>7</td></tr></table>"
      ],
      "text/plain": [
       "<IPython.core.display.HTML object>"
      ]
     },
     "metadata": {},
     "output_type": "display_data"
    },
    {
     "data": {
      "text/html": [
       "<table><tr><td>7</td><td>7</td><td>0</td><td>0</td><td>0</td><td>0</td><td>0</td><td>0</td><td>0</td><td>0</td><td>0</td><td>0</td><td>7</td><td>7</td></tr><tr><td>7</td><td>7</td><td>0</td><td>0</td><td>0</td><td>0</td><td>0</td><td>0</td><td>1</td><td>2</td><td>1</td><td>0</td><td>7</td><td>7</td></tr><tr><td>7</td><td>7</td><td>0</td><td>0</td><td>0</td><td>0</td><td>0</td><td>0</td><td>0</td><td>1</td><td>0</td><td>0</td><td>7</td><td>7</td></tr><tr><td>7</td><td>7</td><td>0</td><td>0</td><td>0</td><td>0</td><td>0</td><td>0</td><td>0</td><td>0</td><td>0</td><td>0</td><td>7</td><td>7</td></tr><tr><td>7</td><td>7</td><td>0</td><td>0</td><td>0</td><td>0</td><td>0</td><td>0</td><td>0</td><td>0</td><td>0</td><td>0</td><td>7</td><td>7</td></tr><tr><td>7</td><td>7</td><td>0</td><td>0</td><td>0</td><td>0</td><td>0</td><td>0</td><td>0</td><td>0</td><td>0</td><td>0</td><td>7</td><td>7</td></tr><tr><td>7</td><td>7</td><td>0</td><td>0</td><td>0</td><td>0</td><td>0</td><td>0</td><td>0</td><td>0</td><td>0</td><td>0</td><td>7</td><td>7</td></tr><tr><td>7</td><td>7</td><td>0</td><td>0</td><td>0</td><td>0</td><td>0</td><td>0</td><td>0</td><td>0</td><td>0</td><td>0</td><td>7</td><td>7</td></tr><tr><td>7</td><td>7</td><td>0</td><td>0</td><td>0</td><td>0</td><td>0</td><td>0</td><td>0</td><td>0</td><td>0</td><td>0</td><td>7</td><td>7</td></tr><tr><td>7</td><td>7</td><td>0</td><td>0</td><td>0</td><td>0</td><td>0</td><td>0</td><td>0</td><td>0</td><td>0</td><td>0</td><td>7</td><td>7</td></tr><tr><td>7</td><td>7</td><td>0</td><td>0</td><td>0</td><td>0</td><td>0</td><td>0</td><td>0</td><td>0</td><td>0</td><td>0</td><td>7</td><td>7</td></tr><tr><td>7</td><td>7</td><td>0</td><td>0</td><td>0</td><td>0</td><td>0</td><td>0</td><td>0</td><td>0</td><td>0</td><td>0</td><td>7</td><td>7</td></tr><tr><td>7</td><td>7</td><td>0</td><td>0</td><td>0</td><td>0</td><td>0</td><td>0</td><td>0</td><td>0</td><td>0</td><td>0</td><td>7</td><td>7</td></tr><tr><td>7</td><td>7</td><td>0</td><td>0</td><td>0</td><td>0</td><td>0</td><td>0</td><td>0</td><td>0</td><td>0</td><td>0</td><td>7</td><td>7</td></tr><tr><td>7</td><td>7</td><td>0</td><td>0</td><td>0</td><td>0</td><td>0</td><td>0</td><td>0</td><td>0</td><td>0</td><td>0</td><td>7</td><td>7</td></tr><tr><td>7</td><td>7</td><td>0</td><td>0</td><td>0</td><td>0</td><td>0</td><td>0</td><td>0</td><td>0</td><td>0</td><td>0</td><td>7</td><td>7</td></tr><tr><td>7</td><td>7</td><td>0</td><td>0</td><td>0</td><td>0</td><td>0</td><td>0</td><td>0</td><td>0</td><td>0</td><td>0</td><td>7</td><td>7</td></tr><tr><td>7</td><td>7</td><td>0</td><td>0</td><td>0</td><td>0</td><td>0</td><td>0</td><td>0</td><td>0</td><td>0</td><td>0</td><td>7</td><td>7</td></tr><tr><td>7</td><td>7</td><td>0</td><td>0</td><td>0</td><td>0</td><td>0</td><td>0</td><td>0</td><td>0</td><td>0</td><td>0</td><td>7</td><td>7</td></tr><tr><td>7</td><td>7</td><td>0</td><td>0</td><td>0</td><td>0</td><td>0</td><td>0</td><td>0</td><td>0</td><td>0</td><td>0</td><td>7</td><td>7</td></tr><tr><td>7</td><td>7</td><td>0</td><td>0</td><td>0</td><td>0</td><td>0</td><td>0</td><td>0</td><td>0</td><td>0</td><td>0</td><td>7</td><td>7</td></tr><tr><td>7</td><td>7</td><td>3</td><td>3</td><td>3</td><td>3</td><td>0</td><td>0</td><td>3</td><td>3</td><td>3</td><td>3</td><td>7</td><td>7</td></tr><tr><td>7</td><td>7</td><td>3</td><td>3</td><td>3</td><td>3</td><td>3</td><td>0</td><td>3</td><td>3</td><td>3</td><td>3</td><td>7</td><td>7</td></tr><tr><td>7</td><td>7</td><td>7</td><td>7</td><td>7</td><td>7</td><td>7</td><td>7</td><td>7</td><td>7</td><td>7</td><td>7</td><td>7</td><td>7</td></tr><tr><td>7</td><td>7</td><td>7</td><td>7</td><td>7</td><td>7</td><td>7</td><td>7</td><td>7</td><td>7</td><td>7</td><td>7</td><td>7</td><td>7</td></tr></table>"
      ],
      "text/plain": [
       "<IPython.core.display.HTML object>"
      ]
     },
     "metadata": {},
     "output_type": "display_data"
    }
   ],
   "source": [
    "#Ejemplo de rotaciones -90 grados\n",
    "estadoRotado=estado1\n",
    "for i in range (0,5):\n",
    "    printBonito(estadoRotado)\n",
    "    estadoRotado=RotarInverso.aplicar(estadoRotado,estadoRotado)\n",
    "\n"
   ]
  },
  {
   "cell_type": "code",
   "execution_count": 14,
   "metadata": {},
   "outputs": [
    {
     "data": {
      "text/html": [
       "<table><tr><td>7</td><td>7</td><td>0</td><td>0</td><td>0</td><td>0</td><td>0</td><td>0</td><td>0</td><td>0</td><td>0</td><td>0</td><td>7</td><td>7</td></tr><tr><td>7</td><td>7</td><td>0</td><td>0</td><td>0</td><td>0</td><td>0</td><td>0</td><td>1</td><td>2</td><td>1</td><td>0</td><td>7</td><td>7</td></tr><tr><td>7</td><td>7</td><td>0</td><td>0</td><td>0</td><td>0</td><td>0</td><td>0</td><td>0</td><td>1</td><td>0</td><td>0</td><td>7</td><td>7</td></tr><tr><td>7</td><td>7</td><td>0</td><td>0</td><td>0</td><td>0</td><td>0</td><td>0</td><td>0</td><td>0</td><td>0</td><td>0</td><td>7</td><td>7</td></tr><tr><td>7</td><td>7</td><td>0</td><td>0</td><td>0</td><td>0</td><td>0</td><td>0</td><td>0</td><td>0</td><td>0</td><td>0</td><td>7</td><td>7</td></tr><tr><td>7</td><td>7</td><td>0</td><td>0</td><td>0</td><td>0</td><td>0</td><td>0</td><td>0</td><td>0</td><td>0</td><td>0</td><td>7</td><td>7</td></tr><tr><td>7</td><td>7</td><td>0</td><td>0</td><td>0</td><td>0</td><td>0</td><td>0</td><td>0</td><td>0</td><td>0</td><td>0</td><td>7</td><td>7</td></tr><tr><td>7</td><td>7</td><td>0</td><td>0</td><td>0</td><td>0</td><td>0</td><td>0</td><td>0</td><td>0</td><td>0</td><td>0</td><td>7</td><td>7</td></tr><tr><td>7</td><td>7</td><td>0</td><td>0</td><td>0</td><td>0</td><td>0</td><td>0</td><td>0</td><td>0</td><td>0</td><td>0</td><td>7</td><td>7</td></tr><tr><td>7</td><td>7</td><td>0</td><td>0</td><td>0</td><td>0</td><td>0</td><td>0</td><td>0</td><td>0</td><td>0</td><td>0</td><td>7</td><td>7</td></tr><tr><td>7</td><td>7</td><td>0</td><td>0</td><td>0</td><td>0</td><td>0</td><td>0</td><td>0</td><td>0</td><td>0</td><td>0</td><td>7</td><td>7</td></tr><tr><td>7</td><td>7</td><td>0</td><td>0</td><td>0</td><td>0</td><td>0</td><td>0</td><td>0</td><td>0</td><td>0</td><td>0</td><td>7</td><td>7</td></tr><tr><td>7</td><td>7</td><td>0</td><td>0</td><td>0</td><td>0</td><td>0</td><td>0</td><td>0</td><td>0</td><td>0</td><td>0</td><td>7</td><td>7</td></tr><tr><td>7</td><td>7</td><td>0</td><td>0</td><td>0</td><td>0</td><td>0</td><td>0</td><td>0</td><td>0</td><td>0</td><td>0</td><td>7</td><td>7</td></tr><tr><td>7</td><td>7</td><td>0</td><td>0</td><td>0</td><td>0</td><td>0</td><td>0</td><td>0</td><td>0</td><td>0</td><td>0</td><td>7</td><td>7</td></tr><tr><td>7</td><td>7</td><td>0</td><td>0</td><td>0</td><td>0</td><td>0</td><td>0</td><td>0</td><td>0</td><td>0</td><td>0</td><td>7</td><td>7</td></tr><tr><td>7</td><td>7</td><td>0</td><td>0</td><td>0</td><td>0</td><td>0</td><td>0</td><td>0</td><td>0</td><td>0</td><td>0</td><td>7</td><td>7</td></tr><tr><td>7</td><td>7</td><td>0</td><td>0</td><td>0</td><td>0</td><td>0</td><td>0</td><td>0</td><td>0</td><td>0</td><td>0</td><td>7</td><td>7</td></tr><tr><td>7</td><td>7</td><td>0</td><td>0</td><td>0</td><td>0</td><td>0</td><td>0</td><td>0</td><td>0</td><td>0</td><td>0</td><td>7</td><td>7</td></tr><tr><td>7</td><td>7</td><td>0</td><td>0</td><td>0</td><td>0</td><td>0</td><td>0</td><td>0</td><td>0</td><td>0</td><td>0</td><td>7</td><td>7</td></tr><tr><td>7</td><td>7</td><td>0</td><td>0</td><td>0</td><td>0</td><td>0</td><td>0</td><td>0</td><td>0</td><td>0</td><td>0</td><td>7</td><td>7</td></tr><tr><td>7</td><td>7</td><td>3</td><td>3</td><td>3</td><td>3</td><td>0</td><td>0</td><td>3</td><td>3</td><td>3</td><td>3</td><td>7</td><td>7</td></tr><tr><td>7</td><td>7</td><td>3</td><td>3</td><td>3</td><td>3</td><td>3</td><td>0</td><td>3</td><td>3</td><td>3</td><td>3</td><td>7</td><td>7</td></tr><tr><td>7</td><td>7</td><td>7</td><td>7</td><td>7</td><td>7</td><td>7</td><td>7</td><td>7</td><td>7</td><td>7</td><td>7</td><td>7</td><td>7</td></tr><tr><td>7</td><td>7</td><td>7</td><td>7</td><td>7</td><td>7</td><td>7</td><td>7</td><td>7</td><td>7</td><td>7</td><td>7</td><td>7</td><td>7</td></tr></table>"
      ],
      "text/plain": [
       "<IPython.core.display.HTML object>"
      ]
     },
     "metadata": {},
     "output_type": "display_data"
    },
    {
     "data": {
      "text/html": [
       "<table><tr><td>7</td><td>7</td><td>0</td><td>0</td><td>0</td><td>0</td><td>0</td><td>0</td><td>0</td><td>1</td><td>0</td><td>0</td><td>7</td><td>7</td></tr><tr><td>7</td><td>7</td><td>0</td><td>0</td><td>0</td><td>0</td><td>0</td><td>0</td><td>0</td><td>2</td><td>1</td><td>0</td><td>7</td><td>7</td></tr><tr><td>7</td><td>7</td><td>0</td><td>0</td><td>0</td><td>0</td><td>0</td><td>0</td><td>0</td><td>1</td><td>0</td><td>0</td><td>7</td><td>7</td></tr><tr><td>7</td><td>7</td><td>0</td><td>0</td><td>0</td><td>0</td><td>0</td><td>0</td><td>0</td><td>0</td><td>0</td><td>0</td><td>7</td><td>7</td></tr><tr><td>7</td><td>7</td><td>0</td><td>0</td><td>0</td><td>0</td><td>0</td><td>0</td><td>0</td><td>0</td><td>0</td><td>0</td><td>7</td><td>7</td></tr><tr><td>7</td><td>7</td><td>0</td><td>0</td><td>0</td><td>0</td><td>0</td><td>0</td><td>0</td><td>0</td><td>0</td><td>0</td><td>7</td><td>7</td></tr><tr><td>7</td><td>7</td><td>0</td><td>0</td><td>0</td><td>0</td><td>0</td><td>0</td><td>0</td><td>0</td><td>0</td><td>0</td><td>7</td><td>7</td></tr><tr><td>7</td><td>7</td><td>0</td><td>0</td><td>0</td><td>0</td><td>0</td><td>0</td><td>0</td><td>0</td><td>0</td><td>0</td><td>7</td><td>7</td></tr><tr><td>7</td><td>7</td><td>0</td><td>0</td><td>0</td><td>0</td><td>0</td><td>0</td><td>0</td><td>0</td><td>0</td><td>0</td><td>7</td><td>7</td></tr><tr><td>7</td><td>7</td><td>0</td><td>0</td><td>0</td><td>0</td><td>0</td><td>0</td><td>0</td><td>0</td><td>0</td><td>0</td><td>7</td><td>7</td></tr><tr><td>7</td><td>7</td><td>0</td><td>0</td><td>0</td><td>0</td><td>0</td><td>0</td><td>0</td><td>0</td><td>0</td><td>0</td><td>7</td><td>7</td></tr><tr><td>7</td><td>7</td><td>0</td><td>0</td><td>0</td><td>0</td><td>0</td><td>0</td><td>0</td><td>0</td><td>0</td><td>0</td><td>7</td><td>7</td></tr><tr><td>7</td><td>7</td><td>0</td><td>0</td><td>0</td><td>0</td><td>0</td><td>0</td><td>0</td><td>0</td><td>0</td><td>0</td><td>7</td><td>7</td></tr><tr><td>7</td><td>7</td><td>0</td><td>0</td><td>0</td><td>0</td><td>0</td><td>0</td><td>0</td><td>0</td><td>0</td><td>0</td><td>7</td><td>7</td></tr><tr><td>7</td><td>7</td><td>0</td><td>0</td><td>0</td><td>0</td><td>0</td><td>0</td><td>0</td><td>0</td><td>0</td><td>0</td><td>7</td><td>7</td></tr><tr><td>7</td><td>7</td><td>0</td><td>0</td><td>0</td><td>0</td><td>0</td><td>0</td><td>0</td><td>0</td><td>0</td><td>0</td><td>7</td><td>7</td></tr><tr><td>7</td><td>7</td><td>0</td><td>0</td><td>0</td><td>0</td><td>0</td><td>0</td><td>0</td><td>0</td><td>0</td><td>0</td><td>7</td><td>7</td></tr><tr><td>7</td><td>7</td><td>0</td><td>0</td><td>0</td><td>0</td><td>0</td><td>0</td><td>0</td><td>0</td><td>0</td><td>0</td><td>7</td><td>7</td></tr><tr><td>7</td><td>7</td><td>0</td><td>0</td><td>0</td><td>0</td><td>0</td><td>0</td><td>0</td><td>0</td><td>0</td><td>0</td><td>7</td><td>7</td></tr><tr><td>7</td><td>7</td><td>0</td><td>0</td><td>0</td><td>0</td><td>0</td><td>0</td><td>0</td><td>0</td><td>0</td><td>0</td><td>7</td><td>7</td></tr><tr><td>7</td><td>7</td><td>0</td><td>0</td><td>0</td><td>0</td><td>0</td><td>0</td><td>0</td><td>0</td><td>0</td><td>0</td><td>7</td><td>7</td></tr><tr><td>7</td><td>7</td><td>3</td><td>3</td><td>3</td><td>3</td><td>0</td><td>0</td><td>3</td><td>3</td><td>3</td><td>3</td><td>7</td><td>7</td></tr><tr><td>7</td><td>7</td><td>3</td><td>3</td><td>3</td><td>3</td><td>3</td><td>0</td><td>3</td><td>3</td><td>3</td><td>3</td><td>7</td><td>7</td></tr><tr><td>7</td><td>7</td><td>7</td><td>7</td><td>7</td><td>7</td><td>7</td><td>7</td><td>7</td><td>7</td><td>7</td><td>7</td><td>7</td><td>7</td></tr><tr><td>7</td><td>7</td><td>7</td><td>7</td><td>7</td><td>7</td><td>7</td><td>7</td><td>7</td><td>7</td><td>7</td><td>7</td><td>7</td><td>7</td></tr></table>"
      ],
      "text/plain": [
       "<IPython.core.display.HTML object>"
      ]
     },
     "metadata": {},
     "output_type": "display_data"
    },
    {
     "data": {
      "text/html": [
       "<table><tr><td>7</td><td>7</td><td>0</td><td>0</td><td>0</td><td>0</td><td>0</td><td>0</td><td>0</td><td>1</td><td>0</td><td>0</td><td>7</td><td>7</td></tr><tr><td>7</td><td>7</td><td>0</td><td>0</td><td>0</td><td>0</td><td>0</td><td>0</td><td>1</td><td>2</td><td>1</td><td>0</td><td>7</td><td>7</td></tr><tr><td>7</td><td>7</td><td>0</td><td>0</td><td>0</td><td>0</td><td>0</td><td>0</td><td>0</td><td>0</td><td>0</td><td>0</td><td>7</td><td>7</td></tr><tr><td>7</td><td>7</td><td>0</td><td>0</td><td>0</td><td>0</td><td>0</td><td>0</td><td>0</td><td>0</td><td>0</td><td>0</td><td>7</td><td>7</td></tr><tr><td>7</td><td>7</td><td>0</td><td>0</td><td>0</td><td>0</td><td>0</td><td>0</td><td>0</td><td>0</td><td>0</td><td>0</td><td>7</td><td>7</td></tr><tr><td>7</td><td>7</td><td>0</td><td>0</td><td>0</td><td>0</td><td>0</td><td>0</td><td>0</td><td>0</td><td>0</td><td>0</td><td>7</td><td>7</td></tr><tr><td>7</td><td>7</td><td>0</td><td>0</td><td>0</td><td>0</td><td>0</td><td>0</td><td>0</td><td>0</td><td>0</td><td>0</td><td>7</td><td>7</td></tr><tr><td>7</td><td>7</td><td>0</td><td>0</td><td>0</td><td>0</td><td>0</td><td>0</td><td>0</td><td>0</td><td>0</td><td>0</td><td>7</td><td>7</td></tr><tr><td>7</td><td>7</td><td>0</td><td>0</td><td>0</td><td>0</td><td>0</td><td>0</td><td>0</td><td>0</td><td>0</td><td>0</td><td>7</td><td>7</td></tr><tr><td>7</td><td>7</td><td>0</td><td>0</td><td>0</td><td>0</td><td>0</td><td>0</td><td>0</td><td>0</td><td>0</td><td>0</td><td>7</td><td>7</td></tr><tr><td>7</td><td>7</td><td>0</td><td>0</td><td>0</td><td>0</td><td>0</td><td>0</td><td>0</td><td>0</td><td>0</td><td>0</td><td>7</td><td>7</td></tr><tr><td>7</td><td>7</td><td>0</td><td>0</td><td>0</td><td>0</td><td>0</td><td>0</td><td>0</td><td>0</td><td>0</td><td>0</td><td>7</td><td>7</td></tr><tr><td>7</td><td>7</td><td>0</td><td>0</td><td>0</td><td>0</td><td>0</td><td>0</td><td>0</td><td>0</td><td>0</td><td>0</td><td>7</td><td>7</td></tr><tr><td>7</td><td>7</td><td>0</td><td>0</td><td>0</td><td>0</td><td>0</td><td>0</td><td>0</td><td>0</td><td>0</td><td>0</td><td>7</td><td>7</td></tr><tr><td>7</td><td>7</td><td>0</td><td>0</td><td>0</td><td>0</td><td>0</td><td>0</td><td>0</td><td>0</td><td>0</td><td>0</td><td>7</td><td>7</td></tr><tr><td>7</td><td>7</td><td>0</td><td>0</td><td>0</td><td>0</td><td>0</td><td>0</td><td>0</td><td>0</td><td>0</td><td>0</td><td>7</td><td>7</td></tr><tr><td>7</td><td>7</td><td>0</td><td>0</td><td>0</td><td>0</td><td>0</td><td>0</td><td>0</td><td>0</td><td>0</td><td>0</td><td>7</td><td>7</td></tr><tr><td>7</td><td>7</td><td>0</td><td>0</td><td>0</td><td>0</td><td>0</td><td>0</td><td>0</td><td>0</td><td>0</td><td>0</td><td>7</td><td>7</td></tr><tr><td>7</td><td>7</td><td>0</td><td>0</td><td>0</td><td>0</td><td>0</td><td>0</td><td>0</td><td>0</td><td>0</td><td>0</td><td>7</td><td>7</td></tr><tr><td>7</td><td>7</td><td>0</td><td>0</td><td>0</td><td>0</td><td>0</td><td>0</td><td>0</td><td>0</td><td>0</td><td>0</td><td>7</td><td>7</td></tr><tr><td>7</td><td>7</td><td>0</td><td>0</td><td>0</td><td>0</td><td>0</td><td>0</td><td>0</td><td>0</td><td>0</td><td>0</td><td>7</td><td>7</td></tr><tr><td>7</td><td>7</td><td>3</td><td>3</td><td>3</td><td>3</td><td>0</td><td>0</td><td>3</td><td>3</td><td>3</td><td>3</td><td>7</td><td>7</td></tr><tr><td>7</td><td>7</td><td>3</td><td>3</td><td>3</td><td>3</td><td>3</td><td>0</td><td>3</td><td>3</td><td>3</td><td>3</td><td>7</td><td>7</td></tr><tr><td>7</td><td>7</td><td>7</td><td>7</td><td>7</td><td>7</td><td>7</td><td>7</td><td>7</td><td>7</td><td>7</td><td>7</td><td>7</td><td>7</td></tr><tr><td>7</td><td>7</td><td>7</td><td>7</td><td>7</td><td>7</td><td>7</td><td>7</td><td>7</td><td>7</td><td>7</td><td>7</td><td>7</td><td>7</td></tr></table>"
      ],
      "text/plain": [
       "<IPython.core.display.HTML object>"
      ]
     },
     "metadata": {},
     "output_type": "display_data"
    },
    {
     "data": {
      "text/html": [
       "<table><tr><td>7</td><td>7</td><td>0</td><td>0</td><td>0</td><td>0</td><td>0</td><td>0</td><td>0</td><td>1</td><td>0</td><td>0</td><td>7</td><td>7</td></tr><tr><td>7</td><td>7</td><td>0</td><td>0</td><td>0</td><td>0</td><td>0</td><td>0</td><td>1</td><td>2</td><td>0</td><td>0</td><td>7</td><td>7</td></tr><tr><td>7</td><td>7</td><td>0</td><td>0</td><td>0</td><td>0</td><td>0</td><td>0</td><td>0</td><td>1</td><td>0</td><td>0</td><td>7</td><td>7</td></tr><tr><td>7</td><td>7</td><td>0</td><td>0</td><td>0</td><td>0</td><td>0</td><td>0</td><td>0</td><td>0</td><td>0</td><td>0</td><td>7</td><td>7</td></tr><tr><td>7</td><td>7</td><td>0</td><td>0</td><td>0</td><td>0</td><td>0</td><td>0</td><td>0</td><td>0</td><td>0</td><td>0</td><td>7</td><td>7</td></tr><tr><td>7</td><td>7</td><td>0</td><td>0</td><td>0</td><td>0</td><td>0</td><td>0</td><td>0</td><td>0</td><td>0</td><td>0</td><td>7</td><td>7</td></tr><tr><td>7</td><td>7</td><td>0</td><td>0</td><td>0</td><td>0</td><td>0</td><td>0</td><td>0</td><td>0</td><td>0</td><td>0</td><td>7</td><td>7</td></tr><tr><td>7</td><td>7</td><td>0</td><td>0</td><td>0</td><td>0</td><td>0</td><td>0</td><td>0</td><td>0</td><td>0</td><td>0</td><td>7</td><td>7</td></tr><tr><td>7</td><td>7</td><td>0</td><td>0</td><td>0</td><td>0</td><td>0</td><td>0</td><td>0</td><td>0</td><td>0</td><td>0</td><td>7</td><td>7</td></tr><tr><td>7</td><td>7</td><td>0</td><td>0</td><td>0</td><td>0</td><td>0</td><td>0</td><td>0</td><td>0</td><td>0</td><td>0</td><td>7</td><td>7</td></tr><tr><td>7</td><td>7</td><td>0</td><td>0</td><td>0</td><td>0</td><td>0</td><td>0</td><td>0</td><td>0</td><td>0</td><td>0</td><td>7</td><td>7</td></tr><tr><td>7</td><td>7</td><td>0</td><td>0</td><td>0</td><td>0</td><td>0</td><td>0</td><td>0</td><td>0</td><td>0</td><td>0</td><td>7</td><td>7</td></tr><tr><td>7</td><td>7</td><td>0</td><td>0</td><td>0</td><td>0</td><td>0</td><td>0</td><td>0</td><td>0</td><td>0</td><td>0</td><td>7</td><td>7</td></tr><tr><td>7</td><td>7</td><td>0</td><td>0</td><td>0</td><td>0</td><td>0</td><td>0</td><td>0</td><td>0</td><td>0</td><td>0</td><td>7</td><td>7</td></tr><tr><td>7</td><td>7</td><td>0</td><td>0</td><td>0</td><td>0</td><td>0</td><td>0</td><td>0</td><td>0</td><td>0</td><td>0</td><td>7</td><td>7</td></tr><tr><td>7</td><td>7</td><td>0</td><td>0</td><td>0</td><td>0</td><td>0</td><td>0</td><td>0</td><td>0</td><td>0</td><td>0</td><td>7</td><td>7</td></tr><tr><td>7</td><td>7</td><td>0</td><td>0</td><td>0</td><td>0</td><td>0</td><td>0</td><td>0</td><td>0</td><td>0</td><td>0</td><td>7</td><td>7</td></tr><tr><td>7</td><td>7</td><td>0</td><td>0</td><td>0</td><td>0</td><td>0</td><td>0</td><td>0</td><td>0</td><td>0</td><td>0</td><td>7</td><td>7</td></tr><tr><td>7</td><td>7</td><td>0</td><td>0</td><td>0</td><td>0</td><td>0</td><td>0</td><td>0</td><td>0</td><td>0</td><td>0</td><td>7</td><td>7</td></tr><tr><td>7</td><td>7</td><td>0</td><td>0</td><td>0</td><td>0</td><td>0</td><td>0</td><td>0</td><td>0</td><td>0</td><td>0</td><td>7</td><td>7</td></tr><tr><td>7</td><td>7</td><td>0</td><td>0</td><td>0</td><td>0</td><td>0</td><td>0</td><td>0</td><td>0</td><td>0</td><td>0</td><td>7</td><td>7</td></tr><tr><td>7</td><td>7</td><td>3</td><td>3</td><td>3</td><td>3</td><td>0</td><td>0</td><td>3</td><td>3</td><td>3</td><td>3</td><td>7</td><td>7</td></tr><tr><td>7</td><td>7</td><td>3</td><td>3</td><td>3</td><td>3</td><td>3</td><td>0</td><td>3</td><td>3</td><td>3</td><td>3</td><td>7</td><td>7</td></tr><tr><td>7</td><td>7</td><td>7</td><td>7</td><td>7</td><td>7</td><td>7</td><td>7</td><td>7</td><td>7</td><td>7</td><td>7</td><td>7</td><td>7</td></tr><tr><td>7</td><td>7</td><td>7</td><td>7</td><td>7</td><td>7</td><td>7</td><td>7</td><td>7</td><td>7</td><td>7</td><td>7</td><td>7</td><td>7</td></tr></table>"
      ],
      "text/plain": [
       "<IPython.core.display.HTML object>"
      ]
     },
     "metadata": {},
     "output_type": "display_data"
    },
    {
     "data": {
      "text/html": [
       "<table><tr><td>7</td><td>7</td><td>0</td><td>0</td><td>0</td><td>0</td><td>0</td><td>0</td><td>0</td><td>0</td><td>0</td><td>0</td><td>7</td><td>7</td></tr><tr><td>7</td><td>7</td><td>0</td><td>0</td><td>0</td><td>0</td><td>0</td><td>0</td><td>1</td><td>2</td><td>1</td><td>0</td><td>7</td><td>7</td></tr><tr><td>7</td><td>7</td><td>0</td><td>0</td><td>0</td><td>0</td><td>0</td><td>0</td><td>0</td><td>1</td><td>0</td><td>0</td><td>7</td><td>7</td></tr><tr><td>7</td><td>7</td><td>0</td><td>0</td><td>0</td><td>0</td><td>0</td><td>0</td><td>0</td><td>0</td><td>0</td><td>0</td><td>7</td><td>7</td></tr><tr><td>7</td><td>7</td><td>0</td><td>0</td><td>0</td><td>0</td><td>0</td><td>0</td><td>0</td><td>0</td><td>0</td><td>0</td><td>7</td><td>7</td></tr><tr><td>7</td><td>7</td><td>0</td><td>0</td><td>0</td><td>0</td><td>0</td><td>0</td><td>0</td><td>0</td><td>0</td><td>0</td><td>7</td><td>7</td></tr><tr><td>7</td><td>7</td><td>0</td><td>0</td><td>0</td><td>0</td><td>0</td><td>0</td><td>0</td><td>0</td><td>0</td><td>0</td><td>7</td><td>7</td></tr><tr><td>7</td><td>7</td><td>0</td><td>0</td><td>0</td><td>0</td><td>0</td><td>0</td><td>0</td><td>0</td><td>0</td><td>0</td><td>7</td><td>7</td></tr><tr><td>7</td><td>7</td><td>0</td><td>0</td><td>0</td><td>0</td><td>0</td><td>0</td><td>0</td><td>0</td><td>0</td><td>0</td><td>7</td><td>7</td></tr><tr><td>7</td><td>7</td><td>0</td><td>0</td><td>0</td><td>0</td><td>0</td><td>0</td><td>0</td><td>0</td><td>0</td><td>0</td><td>7</td><td>7</td></tr><tr><td>7</td><td>7</td><td>0</td><td>0</td><td>0</td><td>0</td><td>0</td><td>0</td><td>0</td><td>0</td><td>0</td><td>0</td><td>7</td><td>7</td></tr><tr><td>7</td><td>7</td><td>0</td><td>0</td><td>0</td><td>0</td><td>0</td><td>0</td><td>0</td><td>0</td><td>0</td><td>0</td><td>7</td><td>7</td></tr><tr><td>7</td><td>7</td><td>0</td><td>0</td><td>0</td><td>0</td><td>0</td><td>0</td><td>0</td><td>0</td><td>0</td><td>0</td><td>7</td><td>7</td></tr><tr><td>7</td><td>7</td><td>0</td><td>0</td><td>0</td><td>0</td><td>0</td><td>0</td><td>0</td><td>0</td><td>0</td><td>0</td><td>7</td><td>7</td></tr><tr><td>7</td><td>7</td><td>0</td><td>0</td><td>0</td><td>0</td><td>0</td><td>0</td><td>0</td><td>0</td><td>0</td><td>0</td><td>7</td><td>7</td></tr><tr><td>7</td><td>7</td><td>0</td><td>0</td><td>0</td><td>0</td><td>0</td><td>0</td><td>0</td><td>0</td><td>0</td><td>0</td><td>7</td><td>7</td></tr><tr><td>7</td><td>7</td><td>0</td><td>0</td><td>0</td><td>0</td><td>0</td><td>0</td><td>0</td><td>0</td><td>0</td><td>0</td><td>7</td><td>7</td></tr><tr><td>7</td><td>7</td><td>0</td><td>0</td><td>0</td><td>0</td><td>0</td><td>0</td><td>0</td><td>0</td><td>0</td><td>0</td><td>7</td><td>7</td></tr><tr><td>7</td><td>7</td><td>0</td><td>0</td><td>0</td><td>0</td><td>0</td><td>0</td><td>0</td><td>0</td><td>0</td><td>0</td><td>7</td><td>7</td></tr><tr><td>7</td><td>7</td><td>0</td><td>0</td><td>0</td><td>0</td><td>0</td><td>0</td><td>0</td><td>0</td><td>0</td><td>0</td><td>7</td><td>7</td></tr><tr><td>7</td><td>7</td><td>0</td><td>0</td><td>0</td><td>0</td><td>0</td><td>0</td><td>0</td><td>0</td><td>0</td><td>0</td><td>7</td><td>7</td></tr><tr><td>7</td><td>7</td><td>3</td><td>3</td><td>3</td><td>3</td><td>0</td><td>0</td><td>3</td><td>3</td><td>3</td><td>3</td><td>7</td><td>7</td></tr><tr><td>7</td><td>7</td><td>3</td><td>3</td><td>3</td><td>3</td><td>3</td><td>0</td><td>3</td><td>3</td><td>3</td><td>3</td><td>7</td><td>7</td></tr><tr><td>7</td><td>7</td><td>7</td><td>7</td><td>7</td><td>7</td><td>7</td><td>7</td><td>7</td><td>7</td><td>7</td><td>7</td><td>7</td><td>7</td></tr><tr><td>7</td><td>7</td><td>7</td><td>7</td><td>7</td><td>7</td><td>7</td><td>7</td><td>7</td><td>7</td><td>7</td><td>7</td><td>7</td><td>7</td></tr></table>"
      ],
      "text/plain": [
       "<IPython.core.display.HTML object>"
      ]
     },
     "metadata": {},
     "output_type": "display_data"
    }
   ],
   "source": [
    "#Ejemplo de rotaciones 90 grados\n",
    "estadoRotado=estado1\n",
    "for i in range (0,5):\n",
    "    printBonito(estadoRotado)\n",
    "    estadoRotado=Rotar.aplicar(estadoRotado,estadoRotado)\n"
   ]
  },
  {
   "cell_type": "code",
   "execution_count": 15,
   "metadata": {},
   "outputs": [
    {
     "data": {
      "text/html": [
       "<table><tr><td>7</td><td>7</td><td>0</td><td>0</td><td>0</td><td>0</td><td>0</td><td>0</td><td>0</td><td>0</td><td>0</td><td>0</td><td>7</td><td>7</td></tr><tr><td>7</td><td>7</td><td>0</td><td>0</td><td>0</td><td>0</td><td>0</td><td>1</td><td>0</td><td>0</td><td>0</td><td>0</td><td>7</td><td>7</td></tr><tr><td>7</td><td>7</td><td>0</td><td>0</td><td>0</td><td>0</td><td>0</td><td>2</td><td>0</td><td>0</td><td>0</td><td>0</td><td>7</td><td>7</td></tr><tr><td>7</td><td>7</td><td>0</td><td>0</td><td>0</td><td>0</td><td>0</td><td>1</td><td>0</td><td>0</td><td>0</td><td>0</td><td>7</td><td>7</td></tr><tr><td>7</td><td>7</td><td>0</td><td>0</td><td>0</td><td>0</td><td>0</td><td>1</td><td>0</td><td>0</td><td>0</td><td>0</td><td>7</td><td>7</td></tr><tr><td>7</td><td>7</td><td>0</td><td>0</td><td>0</td><td>0</td><td>0</td><td>0</td><td>0</td><td>0</td><td>0</td><td>0</td><td>7</td><td>7</td></tr><tr><td>7</td><td>7</td><td>0</td><td>0</td><td>0</td><td>0</td><td>0</td><td>0</td><td>0</td><td>0</td><td>0</td><td>0</td><td>7</td><td>7</td></tr><tr><td>7</td><td>7</td><td>0</td><td>0</td><td>0</td><td>0</td><td>0</td><td>0</td><td>0</td><td>0</td><td>0</td><td>0</td><td>7</td><td>7</td></tr><tr><td>7</td><td>7</td><td>0</td><td>0</td><td>0</td><td>0</td><td>0</td><td>0</td><td>0</td><td>0</td><td>0</td><td>0</td><td>7</td><td>7</td></tr><tr><td>7</td><td>7</td><td>0</td><td>0</td><td>0</td><td>0</td><td>0</td><td>0</td><td>0</td><td>0</td><td>0</td><td>0</td><td>7</td><td>7</td></tr><tr><td>7</td><td>7</td><td>0</td><td>0</td><td>0</td><td>0</td><td>0</td><td>0</td><td>0</td><td>0</td><td>0</td><td>0</td><td>7</td><td>7</td></tr><tr><td>7</td><td>7</td><td>0</td><td>0</td><td>0</td><td>0</td><td>0</td><td>0</td><td>0</td><td>0</td><td>0</td><td>0</td><td>7</td><td>7</td></tr><tr><td>7</td><td>7</td><td>0</td><td>0</td><td>0</td><td>0</td><td>0</td><td>0</td><td>0</td><td>0</td><td>0</td><td>0</td><td>7</td><td>7</td></tr><tr><td>7</td><td>7</td><td>0</td><td>0</td><td>0</td><td>0</td><td>0</td><td>0</td><td>0</td><td>0</td><td>0</td><td>0</td><td>7</td><td>7</td></tr><tr><td>7</td><td>7</td><td>0</td><td>0</td><td>0</td><td>0</td><td>0</td><td>0</td><td>0</td><td>0</td><td>0</td><td>0</td><td>7</td><td>7</td></tr><tr><td>7</td><td>7</td><td>0</td><td>0</td><td>0</td><td>0</td><td>0</td><td>0</td><td>0</td><td>0</td><td>0</td><td>0</td><td>7</td><td>7</td></tr><tr><td>7</td><td>7</td><td>0</td><td>0</td><td>0</td><td>0</td><td>0</td><td>0</td><td>0</td><td>0</td><td>0</td><td>0</td><td>7</td><td>7</td></tr><tr><td>7</td><td>7</td><td>0</td><td>0</td><td>0</td><td>0</td><td>0</td><td>0</td><td>0</td><td>0</td><td>0</td><td>0</td><td>7</td><td>7</td></tr><tr><td>7</td><td>7</td><td>0</td><td>0</td><td>0</td><td>0</td><td>0</td><td>0</td><td>0</td><td>0</td><td>0</td><td>0</td><td>7</td><td>7</td></tr><tr><td>7</td><td>7</td><td>0</td><td>0</td><td>0</td><td>0</td><td>0</td><td>0</td><td>0</td><td>0</td><td>0</td><td>0</td><td>7</td><td>7</td></tr><tr><td>7</td><td>7</td><td>0</td><td>0</td><td>0</td><td>0</td><td>0</td><td>0</td><td>0</td><td>0</td><td>0</td><td>0</td><td>7</td><td>7</td></tr><tr><td>7</td><td>7</td><td>3</td><td>3</td><td>3</td><td>3</td><td>0</td><td>0</td><td>3</td><td>3</td><td>3</td><td>3</td><td>7</td><td>7</td></tr><tr><td>7</td><td>7</td><td>3</td><td>3</td><td>3</td><td>3</td><td>3</td><td>0</td><td>3</td><td>3</td><td>3</td><td>3</td><td>7</td><td>7</td></tr><tr><td>7</td><td>7</td><td>7</td><td>7</td><td>7</td><td>7</td><td>7</td><td>7</td><td>7</td><td>7</td><td>7</td><td>7</td><td>7</td><td>7</td></tr><tr><td>7</td><td>7</td><td>7</td><td>7</td><td>7</td><td>7</td><td>7</td><td>7</td><td>7</td><td>7</td><td>7</td><td>7</td><td>7</td><td>7</td></tr></table>"
      ],
      "text/plain": [
       "<IPython.core.display.HTML object>"
      ]
     },
     "metadata": {},
     "output_type": "display_data"
    },
    {
     "data": {
      "text/html": [
       "<table><tr><td>7</td><td>7</td><td>0</td><td>0</td><td>0</td><td>0</td><td>0</td><td>0</td><td>0</td><td>0</td><td>0</td><td>0</td><td>7</td><td>7</td></tr><tr><td>7</td><td>7</td><td>0</td><td>0</td><td>0</td><td>0</td><td>0</td><td>0</td><td>0</td><td>0</td><td>0</td><td>0</td><td>7</td><td>7</td></tr><tr><td>7</td><td>7</td><td>0</td><td>0</td><td>0</td><td>1</td><td>1</td><td>2</td><td>1</td><td>0</td><td>0</td><td>0</td><td>7</td><td>7</td></tr><tr><td>7</td><td>7</td><td>0</td><td>0</td><td>0</td><td>0</td><td>0</td><td>0</td><td>0</td><td>0</td><td>0</td><td>0</td><td>7</td><td>7</td></tr><tr><td>7</td><td>7</td><td>0</td><td>0</td><td>0</td><td>0</td><td>0</td><td>0</td><td>0</td><td>0</td><td>0</td><td>0</td><td>7</td><td>7</td></tr><tr><td>7</td><td>7</td><td>0</td><td>0</td><td>0</td><td>0</td><td>0</td><td>0</td><td>0</td><td>0</td><td>0</td><td>0</td><td>7</td><td>7</td></tr><tr><td>7</td><td>7</td><td>0</td><td>0</td><td>0</td><td>0</td><td>0</td><td>0</td><td>0</td><td>0</td><td>0</td><td>0</td><td>7</td><td>7</td></tr><tr><td>7</td><td>7</td><td>0</td><td>0</td><td>0</td><td>0</td><td>0</td><td>0</td><td>0</td><td>0</td><td>0</td><td>0</td><td>7</td><td>7</td></tr><tr><td>7</td><td>7</td><td>0</td><td>0</td><td>0</td><td>0</td><td>0</td><td>0</td><td>0</td><td>0</td><td>0</td><td>0</td><td>7</td><td>7</td></tr><tr><td>7</td><td>7</td><td>0</td><td>0</td><td>0</td><td>0</td><td>0</td><td>0</td><td>0</td><td>0</td><td>0</td><td>0</td><td>7</td><td>7</td></tr><tr><td>7</td><td>7</td><td>0</td><td>0</td><td>0</td><td>0</td><td>0</td><td>0</td><td>0</td><td>0</td><td>0</td><td>0</td><td>7</td><td>7</td></tr><tr><td>7</td><td>7</td><td>0</td><td>0</td><td>0</td><td>0</td><td>0</td><td>0</td><td>0</td><td>0</td><td>0</td><td>0</td><td>7</td><td>7</td></tr><tr><td>7</td><td>7</td><td>0</td><td>0</td><td>0</td><td>0</td><td>0</td><td>0</td><td>0</td><td>0</td><td>0</td><td>0</td><td>7</td><td>7</td></tr><tr><td>7</td><td>7</td><td>0</td><td>0</td><td>0</td><td>0</td><td>0</td><td>0</td><td>0</td><td>0</td><td>0</td><td>0</td><td>7</td><td>7</td></tr><tr><td>7</td><td>7</td><td>0</td><td>0</td><td>0</td><td>0</td><td>0</td><td>0</td><td>0</td><td>0</td><td>0</td><td>0</td><td>7</td><td>7</td></tr><tr><td>7</td><td>7</td><td>0</td><td>0</td><td>0</td><td>0</td><td>0</td><td>0</td><td>0</td><td>0</td><td>0</td><td>0</td><td>7</td><td>7</td></tr><tr><td>7</td><td>7</td><td>0</td><td>0</td><td>0</td><td>0</td><td>0</td><td>0</td><td>0</td><td>0</td><td>0</td><td>0</td><td>7</td><td>7</td></tr><tr><td>7</td><td>7</td><td>0</td><td>0</td><td>0</td><td>0</td><td>0</td><td>0</td><td>0</td><td>0</td><td>0</td><td>0</td><td>7</td><td>7</td></tr><tr><td>7</td><td>7</td><td>0</td><td>0</td><td>0</td><td>0</td><td>0</td><td>0</td><td>0</td><td>0</td><td>0</td><td>0</td><td>7</td><td>7</td></tr><tr><td>7</td><td>7</td><td>0</td><td>0</td><td>0</td><td>0</td><td>0</td><td>0</td><td>0</td><td>0</td><td>0</td><td>0</td><td>7</td><td>7</td></tr><tr><td>7</td><td>7</td><td>0</td><td>0</td><td>0</td><td>0</td><td>0</td><td>0</td><td>0</td><td>0</td><td>0</td><td>0</td><td>7</td><td>7</td></tr><tr><td>7</td><td>7</td><td>3</td><td>3</td><td>3</td><td>3</td><td>0</td><td>0</td><td>3</td><td>3</td><td>3</td><td>3</td><td>7</td><td>7</td></tr><tr><td>7</td><td>7</td><td>3</td><td>3</td><td>3</td><td>3</td><td>3</td><td>0</td><td>3</td><td>3</td><td>3</td><td>3</td><td>7</td><td>7</td></tr><tr><td>7</td><td>7</td><td>7</td><td>7</td><td>7</td><td>7</td><td>7</td><td>7</td><td>7</td><td>7</td><td>7</td><td>7</td><td>7</td><td>7</td></tr><tr><td>7</td><td>7</td><td>7</td><td>7</td><td>7</td><td>7</td><td>7</td><td>7</td><td>7</td><td>7</td><td>7</td><td>7</td><td>7</td><td>7</td></tr></table>"
      ],
      "text/plain": [
       "<IPython.core.display.HTML object>"
      ]
     },
     "metadata": {},
     "output_type": "display_data"
    },
    {
     "data": {
      "text/html": [
       "<table><tr><td>7</td><td>7</td><td>0</td><td>0</td><td>0</td><td>0</td><td>0</td><td>1</td><td>0</td><td>0</td><td>0</td><td>0</td><td>7</td><td>7</td></tr><tr><td>7</td><td>7</td><td>0</td><td>0</td><td>0</td><td>0</td><td>0</td><td>1</td><td>0</td><td>0</td><td>0</td><td>0</td><td>7</td><td>7</td></tr><tr><td>7</td><td>7</td><td>0</td><td>0</td><td>0</td><td>0</td><td>0</td><td>2</td><td>0</td><td>0</td><td>0</td><td>0</td><td>7</td><td>7</td></tr><tr><td>7</td><td>7</td><td>0</td><td>0</td><td>0</td><td>0</td><td>0</td><td>1</td><td>0</td><td>0</td><td>0</td><td>0</td><td>7</td><td>7</td></tr><tr><td>7</td><td>7</td><td>0</td><td>0</td><td>0</td><td>0</td><td>0</td><td>0</td><td>0</td><td>0</td><td>0</td><td>0</td><td>7</td><td>7</td></tr><tr><td>7</td><td>7</td><td>0</td><td>0</td><td>0</td><td>0</td><td>0</td><td>0</td><td>0</td><td>0</td><td>0</td><td>0</td><td>7</td><td>7</td></tr><tr><td>7</td><td>7</td><td>0</td><td>0</td><td>0</td><td>0</td><td>0</td><td>0</td><td>0</td><td>0</td><td>0</td><td>0</td><td>7</td><td>7</td></tr><tr><td>7</td><td>7</td><td>0</td><td>0</td><td>0</td><td>0</td><td>0</td><td>0</td><td>0</td><td>0</td><td>0</td><td>0</td><td>7</td><td>7</td></tr><tr><td>7</td><td>7</td><td>0</td><td>0</td><td>0</td><td>0</td><td>0</td><td>0</td><td>0</td><td>0</td><td>0</td><td>0</td><td>7</td><td>7</td></tr><tr><td>7</td><td>7</td><td>0</td><td>0</td><td>0</td><td>0</td><td>0</td><td>0</td><td>0</td><td>0</td><td>0</td><td>0</td><td>7</td><td>7</td></tr><tr><td>7</td><td>7</td><td>0</td><td>0</td><td>0</td><td>0</td><td>0</td><td>0</td><td>0</td><td>0</td><td>0</td><td>0</td><td>7</td><td>7</td></tr><tr><td>7</td><td>7</td><td>0</td><td>0</td><td>0</td><td>0</td><td>0</td><td>0</td><td>0</td><td>0</td><td>0</td><td>0</td><td>7</td><td>7</td></tr><tr><td>7</td><td>7</td><td>0</td><td>0</td><td>0</td><td>0</td><td>0</td><td>0</td><td>0</td><td>0</td><td>0</td><td>0</td><td>7</td><td>7</td></tr><tr><td>7</td><td>7</td><td>0</td><td>0</td><td>0</td><td>0</td><td>0</td><td>0</td><td>0</td><td>0</td><td>0</td><td>0</td><td>7</td><td>7</td></tr><tr><td>7</td><td>7</td><td>0</td><td>0</td><td>0</td><td>0</td><td>0</td><td>0</td><td>0</td><td>0</td><td>0</td><td>0</td><td>7</td><td>7</td></tr><tr><td>7</td><td>7</td><td>0</td><td>0</td><td>0</td><td>0</td><td>0</td><td>0</td><td>0</td><td>0</td><td>0</td><td>0</td><td>7</td><td>7</td></tr><tr><td>7</td><td>7</td><td>0</td><td>0</td><td>0</td><td>0</td><td>0</td><td>0</td><td>0</td><td>0</td><td>0</td><td>0</td><td>7</td><td>7</td></tr><tr><td>7</td><td>7</td><td>0</td><td>0</td><td>0</td><td>0</td><td>0</td><td>0</td><td>0</td><td>0</td><td>0</td><td>0</td><td>7</td><td>7</td></tr><tr><td>7</td><td>7</td><td>0</td><td>0</td><td>0</td><td>0</td><td>0</td><td>0</td><td>0</td><td>0</td><td>0</td><td>0</td><td>7</td><td>7</td></tr><tr><td>7</td><td>7</td><td>0</td><td>0</td><td>0</td><td>0</td><td>0</td><td>0</td><td>0</td><td>0</td><td>0</td><td>0</td><td>7</td><td>7</td></tr><tr><td>7</td><td>7</td><td>0</td><td>0</td><td>0</td><td>0</td><td>0</td><td>0</td><td>0</td><td>0</td><td>0</td><td>0</td><td>7</td><td>7</td></tr><tr><td>7</td><td>7</td><td>3</td><td>3</td><td>3</td><td>3</td><td>0</td><td>0</td><td>3</td><td>3</td><td>3</td><td>3</td><td>7</td><td>7</td></tr><tr><td>7</td><td>7</td><td>3</td><td>3</td><td>3</td><td>3</td><td>3</td><td>0</td><td>3</td><td>3</td><td>3</td><td>3</td><td>7</td><td>7</td></tr><tr><td>7</td><td>7</td><td>7</td><td>7</td><td>7</td><td>7</td><td>7</td><td>7</td><td>7</td><td>7</td><td>7</td><td>7</td><td>7</td><td>7</td></tr><tr><td>7</td><td>7</td><td>7</td><td>7</td><td>7</td><td>7</td><td>7</td><td>7</td><td>7</td><td>7</td><td>7</td><td>7</td><td>7</td><td>7</td></tr></table>"
      ],
      "text/plain": [
       "<IPython.core.display.HTML object>"
      ]
     },
     "metadata": {},
     "output_type": "display_data"
    },
    {
     "data": {
      "text/html": [
       "<table><tr><td>7</td><td>7</td><td>0</td><td>0</td><td>0</td><td>0</td><td>0</td><td>0</td><td>0</td><td>0</td><td>0</td><td>0</td><td>7</td><td>7</td></tr><tr><td>7</td><td>7</td><td>0</td><td>0</td><td>0</td><td>0</td><td>0</td><td>0</td><td>0</td><td>0</td><td>0</td><td>0</td><td>7</td><td>7</td></tr><tr><td>7</td><td>7</td><td>0</td><td>0</td><td>0</td><td>0</td><td>1</td><td>2</td><td>1</td><td>1</td><td>0</td><td>0</td><td>7</td><td>7</td></tr><tr><td>7</td><td>7</td><td>0</td><td>0</td><td>0</td><td>0</td><td>0</td><td>0</td><td>0</td><td>0</td><td>0</td><td>0</td><td>7</td><td>7</td></tr><tr><td>7</td><td>7</td><td>0</td><td>0</td><td>0</td><td>0</td><td>0</td><td>0</td><td>0</td><td>0</td><td>0</td><td>0</td><td>7</td><td>7</td></tr><tr><td>7</td><td>7</td><td>0</td><td>0</td><td>0</td><td>0</td><td>0</td><td>0</td><td>0</td><td>0</td><td>0</td><td>0</td><td>7</td><td>7</td></tr><tr><td>7</td><td>7</td><td>0</td><td>0</td><td>0</td><td>0</td><td>0</td><td>0</td><td>0</td><td>0</td><td>0</td><td>0</td><td>7</td><td>7</td></tr><tr><td>7</td><td>7</td><td>0</td><td>0</td><td>0</td><td>0</td><td>0</td><td>0</td><td>0</td><td>0</td><td>0</td><td>0</td><td>7</td><td>7</td></tr><tr><td>7</td><td>7</td><td>0</td><td>0</td><td>0</td><td>0</td><td>0</td><td>0</td><td>0</td><td>0</td><td>0</td><td>0</td><td>7</td><td>7</td></tr><tr><td>7</td><td>7</td><td>0</td><td>0</td><td>0</td><td>0</td><td>0</td><td>0</td><td>0</td><td>0</td><td>0</td><td>0</td><td>7</td><td>7</td></tr><tr><td>7</td><td>7</td><td>0</td><td>0</td><td>0</td><td>0</td><td>0</td><td>0</td><td>0</td><td>0</td><td>0</td><td>0</td><td>7</td><td>7</td></tr><tr><td>7</td><td>7</td><td>0</td><td>0</td><td>0</td><td>0</td><td>0</td><td>0</td><td>0</td><td>0</td><td>0</td><td>0</td><td>7</td><td>7</td></tr><tr><td>7</td><td>7</td><td>0</td><td>0</td><td>0</td><td>0</td><td>0</td><td>0</td><td>0</td><td>0</td><td>0</td><td>0</td><td>7</td><td>7</td></tr><tr><td>7</td><td>7</td><td>0</td><td>0</td><td>0</td><td>0</td><td>0</td><td>0</td><td>0</td><td>0</td><td>0</td><td>0</td><td>7</td><td>7</td></tr><tr><td>7</td><td>7</td><td>0</td><td>0</td><td>0</td><td>0</td><td>0</td><td>0</td><td>0</td><td>0</td><td>0</td><td>0</td><td>7</td><td>7</td></tr><tr><td>7</td><td>7</td><td>0</td><td>0</td><td>0</td><td>0</td><td>0</td><td>0</td><td>0</td><td>0</td><td>0</td><td>0</td><td>7</td><td>7</td></tr><tr><td>7</td><td>7</td><td>0</td><td>0</td><td>0</td><td>0</td><td>0</td><td>0</td><td>0</td><td>0</td><td>0</td><td>0</td><td>7</td><td>7</td></tr><tr><td>7</td><td>7</td><td>0</td><td>0</td><td>0</td><td>0</td><td>0</td><td>0</td><td>0</td><td>0</td><td>0</td><td>0</td><td>7</td><td>7</td></tr><tr><td>7</td><td>7</td><td>0</td><td>0</td><td>0</td><td>0</td><td>0</td><td>0</td><td>0</td><td>0</td><td>0</td><td>0</td><td>7</td><td>7</td></tr><tr><td>7</td><td>7</td><td>0</td><td>0</td><td>0</td><td>0</td><td>0</td><td>0</td><td>0</td><td>0</td><td>0</td><td>0</td><td>7</td><td>7</td></tr><tr><td>7</td><td>7</td><td>0</td><td>0</td><td>0</td><td>0</td><td>0</td><td>0</td><td>0</td><td>0</td><td>0</td><td>0</td><td>7</td><td>7</td></tr><tr><td>7</td><td>7</td><td>3</td><td>3</td><td>3</td><td>3</td><td>0</td><td>0</td><td>3</td><td>3</td><td>3</td><td>3</td><td>7</td><td>7</td></tr><tr><td>7</td><td>7</td><td>3</td><td>3</td><td>3</td><td>3</td><td>3</td><td>0</td><td>3</td><td>3</td><td>3</td><td>3</td><td>7</td><td>7</td></tr><tr><td>7</td><td>7</td><td>7</td><td>7</td><td>7</td><td>7</td><td>7</td><td>7</td><td>7</td><td>7</td><td>7</td><td>7</td><td>7</td><td>7</td></tr><tr><td>7</td><td>7</td><td>7</td><td>7</td><td>7</td><td>7</td><td>7</td><td>7</td><td>7</td><td>7</td><td>7</td><td>7</td><td>7</td><td>7</td></tr></table>"
      ],
      "text/plain": [
       "<IPython.core.display.HTML object>"
      ]
     },
     "metadata": {},
     "output_type": "display_data"
    },
    {
     "data": {
      "text/html": [
       "<table><tr><td>7</td><td>7</td><td>0</td><td>0</td><td>0</td><td>0</td><td>0</td><td>0</td><td>0</td><td>0</td><td>0</td><td>0</td><td>7</td><td>7</td></tr><tr><td>7</td><td>7</td><td>0</td><td>0</td><td>0</td><td>0</td><td>0</td><td>1</td><td>0</td><td>0</td><td>0</td><td>0</td><td>7</td><td>7</td></tr><tr><td>7</td><td>7</td><td>0</td><td>0</td><td>0</td><td>0</td><td>0</td><td>2</td><td>0</td><td>0</td><td>0</td><td>0</td><td>7</td><td>7</td></tr><tr><td>7</td><td>7</td><td>0</td><td>0</td><td>0</td><td>0</td><td>0</td><td>1</td><td>0</td><td>0</td><td>0</td><td>0</td><td>7</td><td>7</td></tr><tr><td>7</td><td>7</td><td>0</td><td>0</td><td>0</td><td>0</td><td>0</td><td>1</td><td>0</td><td>0</td><td>0</td><td>0</td><td>7</td><td>7</td></tr><tr><td>7</td><td>7</td><td>0</td><td>0</td><td>0</td><td>0</td><td>0</td><td>0</td><td>0</td><td>0</td><td>0</td><td>0</td><td>7</td><td>7</td></tr><tr><td>7</td><td>7</td><td>0</td><td>0</td><td>0</td><td>0</td><td>0</td><td>0</td><td>0</td><td>0</td><td>0</td><td>0</td><td>7</td><td>7</td></tr><tr><td>7</td><td>7</td><td>0</td><td>0</td><td>0</td><td>0</td><td>0</td><td>0</td><td>0</td><td>0</td><td>0</td><td>0</td><td>7</td><td>7</td></tr><tr><td>7</td><td>7</td><td>0</td><td>0</td><td>0</td><td>0</td><td>0</td><td>0</td><td>0</td><td>0</td><td>0</td><td>0</td><td>7</td><td>7</td></tr><tr><td>7</td><td>7</td><td>0</td><td>0</td><td>0</td><td>0</td><td>0</td><td>0</td><td>0</td><td>0</td><td>0</td><td>0</td><td>7</td><td>7</td></tr><tr><td>7</td><td>7</td><td>0</td><td>0</td><td>0</td><td>0</td><td>0</td><td>0</td><td>0</td><td>0</td><td>0</td><td>0</td><td>7</td><td>7</td></tr><tr><td>7</td><td>7</td><td>0</td><td>0</td><td>0</td><td>0</td><td>0</td><td>0</td><td>0</td><td>0</td><td>0</td><td>0</td><td>7</td><td>7</td></tr><tr><td>7</td><td>7</td><td>0</td><td>0</td><td>0</td><td>0</td><td>0</td><td>0</td><td>0</td><td>0</td><td>0</td><td>0</td><td>7</td><td>7</td></tr><tr><td>7</td><td>7</td><td>0</td><td>0</td><td>0</td><td>0</td><td>0</td><td>0</td><td>0</td><td>0</td><td>0</td><td>0</td><td>7</td><td>7</td></tr><tr><td>7</td><td>7</td><td>0</td><td>0</td><td>0</td><td>0</td><td>0</td><td>0</td><td>0</td><td>0</td><td>0</td><td>0</td><td>7</td><td>7</td></tr><tr><td>7</td><td>7</td><td>0</td><td>0</td><td>0</td><td>0</td><td>0</td><td>0</td><td>0</td><td>0</td><td>0</td><td>0</td><td>7</td><td>7</td></tr><tr><td>7</td><td>7</td><td>0</td><td>0</td><td>0</td><td>0</td><td>0</td><td>0</td><td>0</td><td>0</td><td>0</td><td>0</td><td>7</td><td>7</td></tr><tr><td>7</td><td>7</td><td>0</td><td>0</td><td>0</td><td>0</td><td>0</td><td>0</td><td>0</td><td>0</td><td>0</td><td>0</td><td>7</td><td>7</td></tr><tr><td>7</td><td>7</td><td>0</td><td>0</td><td>0</td><td>0</td><td>0</td><td>0</td><td>0</td><td>0</td><td>0</td><td>0</td><td>7</td><td>7</td></tr><tr><td>7</td><td>7</td><td>0</td><td>0</td><td>0</td><td>0</td><td>0</td><td>0</td><td>0</td><td>0</td><td>0</td><td>0</td><td>7</td><td>7</td></tr><tr><td>7</td><td>7</td><td>0</td><td>0</td><td>0</td><td>0</td><td>0</td><td>0</td><td>0</td><td>0</td><td>0</td><td>0</td><td>7</td><td>7</td></tr><tr><td>7</td><td>7</td><td>3</td><td>3</td><td>3</td><td>3</td><td>0</td><td>0</td><td>3</td><td>3</td><td>3</td><td>3</td><td>7</td><td>7</td></tr><tr><td>7</td><td>7</td><td>3</td><td>3</td><td>3</td><td>3</td><td>3</td><td>0</td><td>3</td><td>3</td><td>3</td><td>3</td><td>7</td><td>7</td></tr><tr><td>7</td><td>7</td><td>7</td><td>7</td><td>7</td><td>7</td><td>7</td><td>7</td><td>7</td><td>7</td><td>7</td><td>7</td><td>7</td><td>7</td></tr><tr><td>7</td><td>7</td><td>7</td><td>7</td><td>7</td><td>7</td><td>7</td><td>7</td><td>7</td><td>7</td><td>7</td><td>7</td><td>7</td><td>7</td></tr></table>"
      ],
      "text/plain": [
       "<IPython.core.display.HTML object>"
      ]
     },
     "metadata": {},
     "output_type": "display_data"
    }
   ],
   "source": [
    "#Ejemplo de Rotacion Ficha \"larga\"\n",
    "estadoRotado=estado3\n",
    "for i in range (0,5):\n",
    "    printBonito(estadoRotado)\n",
    "    estadoRotado=RotarInverso.aplicar(estadoRotado,estadoRotado)\n"
   ]
  },
  {
   "cell_type": "code",
   "execution_count": 16,
   "metadata": {},
   "outputs": [],
   "source": [
    "#Inicializamos el problema de espacio de estados"
   ]
  },
  {
   "cell_type": "code",
   "execution_count": 17,
   "metadata": {},
   "outputs": [],
   "source": [
    "acciones =[MoverAbajo(),MoverIzquierda(),MoverDerecha(),Rotar(),RotarInverso()]\n",
    "estado_inicial = estado1\n",
    "estado_final = estado2\n",
    "tetris=probee.ProblemaEspacioEstados(acciones,estado_inicial,[estado_final])"
   ]
  },
  {
   "cell_type": "code",
   "execution_count": 18,
   "metadata": {},
   "outputs": [
    {
     "data": {
      "text/plain": [
       "['muevo abajo',\n",
       " 'muevo abajo',\n",
       " 'muevo abajo',\n",
       " 'muevo abajo',\n",
       " 'muevo abajo',\n",
       " 'muevo abajo',\n",
       " 'muevo abajo',\n",
       " 'muevo abajo',\n",
       " 'muevo abajo',\n",
       " 'muevo abajo',\n",
       " 'muevo abajo',\n",
       " 'muevo abajo',\n",
       " 'muevo abajo',\n",
       " 'muevo abajo',\n",
       " 'muevo abajo',\n",
       " 'muevo abajo',\n",
       " 'muevo abajo',\n",
       " 'muevo abajo',\n",
       " 'muevo izquierda',\n",
       " 'muevo izquierda',\n",
       " 'muevo abajo',\n",
       " 'Roto -90 grados',\n",
       " 'muevo abajo']"
      ]
     },
     "execution_count": 18,
     "metadata": {},
     "output_type": "execute_result"
    }
   ],
   "source": [
    "#Resultado de una busqueda en Anchura\n",
    "b_anchura = búsqee.BúsquedaEnAnchura(detallado=False)\n",
    "b_anchura.buscar(tetris)"
   ]
  },
  {
   "cell_type": "code",
   "execution_count": 19,
   "metadata": {},
   "outputs": [
    {
     "data": {
      "text/plain": [
       "['muevo abajo',\n",
       " 'muevo abajo',\n",
       " 'muevo abajo',\n",
       " 'muevo abajo',\n",
       " 'muevo abajo',\n",
       " 'muevo abajo',\n",
       " 'muevo abajo',\n",
       " 'muevo abajo',\n",
       " 'muevo abajo',\n",
       " 'muevo abajo',\n",
       " 'muevo abajo',\n",
       " 'muevo abajo',\n",
       " 'muevo abajo',\n",
       " 'muevo abajo',\n",
       " 'muevo abajo',\n",
       " 'muevo abajo',\n",
       " 'muevo abajo',\n",
       " 'muevo abajo',\n",
       " 'muevo izquierda',\n",
       " 'muevo izquierda',\n",
       " 'muevo abajo',\n",
       " 'Roto -90 grados',\n",
       " 'muevo abajo']"
      ]
     },
     "execution_count": 19,
     "metadata": {},
     "output_type": "execute_result"
    }
   ],
   "source": [
    "#Resultado de una busqueda del tipo óptima\n",
    "b_Optima = búsqee.BúsquedaÓptima(detallado=False)\n",
    "b_Optima.buscar(tetris)"
   ]
  },
  {
   "cell_type": "code",
   "execution_count": 20,
   "metadata": {},
   "outputs": [],
   "source": [
    "# Como heurística para el A* ponemos que la ficha este más cerca del punto objetivo, calculamos el centro actual de la ficha y lo comparamos\n",
    "# con el final\n",
    "\n",
    "def heuristica(nodo):\n",
    "    estado = nodo.estado\n",
    "    hayEstado=0\n",
    "    for x, i in list(enumerate(estado)):\n",
    "        for y, j in list(enumerate(i)):\n",
    "            if j==2:\n",
    "                xFicha=x\n",
    "                yFicha=y\n",
    "                hayEstado=1\n",
    "    for x2, i in list(enumerate(estado_final)):\n",
    "        for y2, j in list(enumerate(i)):\n",
    "            if j==2:\n",
    "                xFinal=x2\n",
    "                yFinal=y2\n",
    "                hayEstado=hayEstado+1\n",
    "    #en el caso de que la ficha se haya hecho final sin llegar al estado final, consideramos 1000 el coste\n",
    "    puntuacion=1000\n",
    "    if hayEstado==2:\n",
    "        puntuacion= abs(xFicha-xFinal)+abs(yFicha-yFinal)\n",
    "    return puntuacion\n",
    "    "
   ]
  },
  {
   "cell_type": "code",
   "execution_count": 21,
   "metadata": {},
   "outputs": [
    {
     "data": {
      "text/plain": [
       "['muevo abajo',\n",
       " 'muevo abajo',\n",
       " 'muevo abajo',\n",
       " 'muevo abajo',\n",
       " 'muevo abajo',\n",
       " 'muevo abajo',\n",
       " 'muevo abajo',\n",
       " 'muevo abajo',\n",
       " 'muevo abajo',\n",
       " 'muevo abajo',\n",
       " 'muevo abajo',\n",
       " 'muevo abajo',\n",
       " 'muevo abajo',\n",
       " 'muevo abajo',\n",
       " 'muevo abajo',\n",
       " 'muevo abajo',\n",
       " 'muevo abajo',\n",
       " 'muevo abajo',\n",
       " 'muevo izquierda',\n",
       " 'muevo izquierda',\n",
       " 'muevo abajo',\n",
       " 'Roto -90 grados',\n",
       " 'muevo abajo']"
      ]
     },
     "execution_count": 21,
     "metadata": {},
     "output_type": "execute_result"
    }
   ],
   "source": [
    "#Resultado de una busqueda A*\n",
    "b_Estrella = búsqee.BúsquedaAEstrella(heuristica,detallado=False)\n",
    "b_Estrella.buscar(tetris)"
   ]
  },
  {
   "cell_type": "code",
   "execution_count": 22,
   "metadata": {},
   "outputs": [],
   "source": [
    "#Fase 2"
   ]
  },
  {
   "cell_type": "code",
   "execution_count": 23,
   "metadata": {},
   "outputs": [],
   "source": [
    "#Para averiguar el estado final óptimo utilizamos la acción \"prueba a poner\" que dado una pieza concreta una X y una Y permite\n",
    "#principalmente calcular la puntuación de esa posicion y ver si es posible colocar ahi.\n",
    "\n",
    "class PruebaPoner(probee.Acción):\n",
    "    def __init__(self,x,y,pieza):\n",
    "        nombre=[x+2,y+2]\n",
    "        super().__init__(nombre)\n",
    "        self.x = x\n",
    "        self.y = y\n",
    "        self.pieza=pieza\n",
    "      \n",
    "      \n",
    "        \n",
    "        \n",
    "    def es_aplicable(self,estado):\n",
    "        ans = PruebaPoner.comprobar(self,estado,self.pieza,self.x,self.y)\n",
    "        return ans \n",
    "    \n",
    "    #El coste de aplicar que sera menor si elimina una fila o cuanto mas abajo en el tablero se encuentre,si tapa un hueco sera penalizado\n",
    "    def coste_de_aplicar(self,estado):\n",
    "        res=10000\n",
    "        valor_fila=0\n",
    "        filaEliminada=0\n",
    "        tapandoHueco=0\n",
    "        for x, i in list(enumerate(estado)):\n",
    "            numerodefichas=0\n",
    "            for y, j in list(enumerate(i)):\n",
    "                if j==1 or j==2:\n",
    "                    valor_fila=valor_fila+x\n",
    "                    numerodefichas=numerodefichas+1\n",
    "                    if estado[x+1][y] ==0:\n",
    "                        tapandoHueco=tapandoHueco+1\n",
    "                if j==3:\n",
    "                    numerodefichas=numerodefichas+1\n",
    "            #lleno una fila\n",
    "            if numerodefichas==10:\n",
    "                filaEliminada=filaEliminada+1\n",
    "           \n",
    "        return res-valor_fila-(filaEliminada*10000)+(tapandoHueco*1000)\n",
    "    \n",
    "    def comprobar(self, estado, pieza, x, y):\n",
    "        res=False\n",
    "        for a,j in reversed(list(enumerate(pieza))):\n",
    "            for b,k in list(enumerate(pieza)):\n",
    "                if pieza[a][b]==1 or pieza[a][b]==2:\n",
    "                    if estado[x+a][y+b]==3 or estado[x+a][y+b]==7:           #Comprobamos si choca con una pieza colocada en el tablero\n",
    "                        return False\n",
    "                    if estado[x+a+1][y+b]==3 or estado[x+a+1][y+b]==7:       #Comprobamos si la pieza está asentada sobre otra\n",
    "                        res= True\n",
    "                   \n",
    "        return res\n",
    "                \n",
    "    def aplicar(self,estado):\n",
    "        nuevo_estado = copy.deepcopy(estado)\n",
    "        for a,j in reversed(list(enumerate(self.pieza))):\n",
    "            for b,k in list(enumerate(self.pieza)):  #Adjudicamos valor a la casilla del nuevo estado\n",
    "                if self.pieza[a][b]==1 :\n",
    "                    nuevo_estado[self.x+a][self.y+b]=1\n",
    "                if self.pieza[a][b]==2:\n",
    "                     nuevo_estado[self.x+a][self.y+b]=2\n",
    "     \n",
    "        return nuevo_estado"
   ]
  },
  {
   "cell_type": "code",
   "execution_count": 24,
   "metadata": {},
   "outputs": [],
   "source": [
    "#Este ejemplo muestra todas las posibilidades dada una pieza y un tablero, en este caso el estado0 y escoje la mejor \n",
    "#mostrando por pantalla el resultado escogido, que es el de menor coste."
   ]
  },
  {
   "cell_type": "code",
   "execution_count": 25,
   "metadata": {},
   "outputs": [
    {
     "name": "stdout",
     "output_type": "stream",
     "text": [
      "Resultado Escogido:\n"
     ]
    },
    {
     "data": {
      "text/html": [
       "<table><tr><td>7</td><td>7</td><td>0</td><td>0</td><td>0</td><td>0</td><td>0</td><td>0</td><td>0</td><td>0</td><td>0</td><td>0</td><td>7</td><td>7</td></tr><tr><td>7</td><td>7</td><td>0</td><td>0</td><td>0</td><td>0</td><td>0</td><td>0</td><td>0</td><td>0</td><td>0</td><td>0</td><td>7</td><td>7</td></tr><tr><td>7</td><td>7</td><td>0</td><td>0</td><td>0</td><td>0</td><td>0</td><td>0</td><td>0</td><td>0</td><td>0</td><td>0</td><td>7</td><td>7</td></tr><tr><td>7</td><td>7</td><td>0</td><td>0</td><td>0</td><td>0</td><td>0</td><td>0</td><td>0</td><td>0</td><td>0</td><td>0</td><td>7</td><td>7</td></tr><tr><td>7</td><td>7</td><td>0</td><td>0</td><td>0</td><td>0</td><td>0</td><td>0</td><td>0</td><td>0</td><td>0</td><td>0</td><td>7</td><td>7</td></tr><tr><td>7</td><td>7</td><td>0</td><td>0</td><td>0</td><td>0</td><td>0</td><td>0</td><td>0</td><td>0</td><td>0</td><td>0</td><td>7</td><td>7</td></tr><tr><td>7</td><td>7</td><td>0</td><td>0</td><td>0</td><td>0</td><td>0</td><td>0</td><td>0</td><td>0</td><td>0</td><td>0</td><td>7</td><td>7</td></tr><tr><td>7</td><td>7</td><td>0</td><td>0</td><td>0</td><td>0</td><td>0</td><td>0</td><td>0</td><td>0</td><td>0</td><td>0</td><td>7</td><td>7</td></tr><tr><td>7</td><td>7</td><td>0</td><td>0</td><td>0</td><td>0</td><td>0</td><td>0</td><td>0</td><td>0</td><td>0</td><td>0</td><td>7</td><td>7</td></tr><tr><td>7</td><td>7</td><td>0</td><td>0</td><td>0</td><td>0</td><td>0</td><td>0</td><td>0</td><td>0</td><td>0</td><td>0</td><td>7</td><td>7</td></tr><tr><td>7</td><td>7</td><td>0</td><td>0</td><td>0</td><td>0</td><td>0</td><td>0</td><td>0</td><td>0</td><td>0</td><td>0</td><td>7</td><td>7</td></tr><tr><td>7</td><td>7</td><td>0</td><td>0</td><td>0</td><td>0</td><td>0</td><td>0</td><td>0</td><td>0</td><td>0</td><td>0</td><td>7</td><td>7</td></tr><tr><td>7</td><td>7</td><td>0</td><td>0</td><td>0</td><td>0</td><td>0</td><td>0</td><td>0</td><td>0</td><td>0</td><td>0</td><td>7</td><td>7</td></tr><tr><td>7</td><td>7</td><td>0</td><td>0</td><td>0</td><td>0</td><td>0</td><td>0</td><td>0</td><td>0</td><td>0</td><td>0</td><td>7</td><td>7</td></tr><tr><td>7</td><td>7</td><td>0</td><td>0</td><td>0</td><td>0</td><td>0</td><td>0</td><td>0</td><td>0</td><td>0</td><td>0</td><td>7</td><td>7</td></tr><tr><td>7</td><td>7</td><td>0</td><td>0</td><td>0</td><td>0</td><td>0</td><td>0</td><td>0</td><td>0</td><td>0</td><td>0</td><td>7</td><td>7</td></tr><tr><td>7</td><td>7</td><td>0</td><td>0</td><td>0</td><td>0</td><td>0</td><td>0</td><td>0</td><td>0</td><td>0</td><td>0</td><td>7</td><td>7</td></tr><tr><td>7</td><td>7</td><td>0</td><td>0</td><td>0</td><td>0</td><td>0</td><td>0</td><td>0</td><td>0</td><td>0</td><td>0</td><td>7</td><td>7</td></tr><tr><td>7</td><td>7</td><td>0</td><td>0</td><td>0</td><td>0</td><td>0</td><td>0</td><td>0</td><td>0</td><td>0</td><td>0</td><td>7</td><td>7</td></tr><tr><td>7</td><td>7</td><td>0</td><td>0</td><td>0</td><td>0</td><td>0</td><td>0</td><td>0</td><td>0</td><td>0</td><td>0</td><td>7</td><td>7</td></tr><tr><td>7</td><td>7</td><td>0</td><td>0</td><td>0</td><td>0</td><td>0</td><td>1</td><td>0</td><td>0</td><td>0</td><td>0</td><td>7</td><td>7</td></tr><tr><td>7</td><td>7</td><td>3</td><td>3</td><td>3</td><td>3</td><td>1</td><td>2</td><td>3</td><td>3</td><td>3</td><td>3</td><td>7</td><td>7</td></tr><tr><td>7</td><td>7</td><td>3</td><td>3</td><td>3</td><td>3</td><td>3</td><td>1</td><td>3</td><td>3</td><td>3</td><td>3</td><td>7</td><td>7</td></tr><tr><td>7</td><td>7</td><td>7</td><td>7</td><td>7</td><td>7</td><td>7</td><td>7</td><td>7</td><td>7</td><td>7</td><td>7</td><td>7</td><td>7</td></tr><tr><td>7</td><td>7</td><td>7</td><td>7</td><td>7</td><td>7</td><td>7</td><td>7</td><td>7</td><td>7</td><td>7</td><td>7</td><td>7</td><td>7</td></tr></table>"
      ],
      "text/plain": [
       "<IPython.core.display.HTML object>"
      ]
     },
     "metadata": {},
     "output_type": "display_data"
    },
    {
     "name": "stdout",
     "output_type": "stream",
     "text": [
      "coste del resutado escogido:\n",
      "-10084\n"
     ]
    }
   ],
   "source": [
    "\n",
    "pieza=[[0,0,0,0,0],[0,0,1,0,0],[0,1,2,1,0],[0,0,0,0,0],[0,0,0,0,0]]\n",
    "pieza2=Rotar.aplicar(pieza,pieza)\n",
    "pieza3=Rotar.aplicar(pieza2,pieza2)\n",
    "pieza4=Rotar.aplicar(pieza3,pieza3)\n",
    "piezasF=[pieza,pieza2,pieza3,pieza4]\n",
    "acciones = [PruebaPoner(i, j,p) for i in range(0, 22) for j in range(0, 11) for p in piezasF]\n",
    "\n",
    "estado_inicial = estado0\n",
    "estados_finales=[]\n",
    "posiblesSoluciones=set()\n",
    "print(\"Resultado Escogido:\")\n",
    "for x in acciones:\n",
    "    if(x.es_aplicable(estado_inicial)):\n",
    "        estado_inicial = estado0\n",
    "        estados_finales.append(x.aplicar(estado_inicial)) \n",
    "        \n",
    "        listaacciones=[x]\n",
    "             \n",
    "        \n",
    "        \n",
    "      \n",
    "        \n",
    "\n",
    "estado_inicial = estado0\n",
    "tetrih = probee.ProblemaEspacioEstados(\n",
    "    acciones, estado_inicial,estados_finales )\n",
    "    \n",
    "mejor=100000000\n",
    "for z in estados_finales:\n",
    "    if(PruebaPoner.coste_de_aplicar(z,z)<mejor):\n",
    "        mejor=PruebaPoner.coste_de_aplicar(z,z)\n",
    "        solucion=z\n",
    "        \n",
    "\n",
    "printBonito(z)\n",
    "print(\"coste del resutado escogido:\")\n",
    "print(PruebaPoner.coste_de_aplicar(z,z))\n",
    "\n",
    "\n"
   ]
  },
  {
   "cell_type": "code",
   "execution_count": 26,
   "metadata": {},
   "outputs": [],
   "source": [
    "#En forma de funcion recibiendo un estado y una pieza devuelve el estado final\n",
    "def CalculoEstadoFinal(estado,pieza):\n",
    "    pieza=pieza\n",
    "    pieza2=Rotar.aplicar(pieza,pieza)\n",
    "    pieza3=Rotar.aplicar(pieza2,pieza2)\n",
    "    pieza4=Rotar.aplicar(pieza3,pieza3)\n",
    "    piezasFF=[pieza,pieza2,pieza3,pieza4]\n",
    "    acciones = [PruebaPoner(i, j,p) for i in range(0, 21) for j in range(0, 11) for p in piezasFF]\n",
    "    estado_inicial = estado\n",
    "    estados_finales=[]\n",
    "    for x in acciones:\n",
    "        if(x.es_aplicable(estado_inicial)):   \n",
    "            estados_finales.append(x.aplicar(estado_inicial))\n",
    "    mejor=10000000\n",
    "    for z in estados_finales:\n",
    "        if(PruebaPoner.coste_de_aplicar(z,z)<mejor):\n",
    "            mejor=PruebaPoner.coste_de_aplicar(z,z)\n",
    "            solucion=z\n",
    "    return(z)\n",
    "\n",
    "\n"
   ]
  },
  {
   "cell_type": "code",
   "execution_count": 27,
   "metadata": {},
   "outputs": [
    {
     "data": {
      "text/plain": [
       "[[7, 7, 0, 0, 0, 0, 0, 0, 0, 0, 0, 0, 7, 7],\n",
       " [7, 7, 0, 0, 0, 0, 0, 0, 0, 0, 0, 0, 7, 7],\n",
       " [7, 7, 0, 0, 0, 0, 0, 0, 0, 0, 0, 0, 7, 7],\n",
       " [7, 7, 0, 0, 0, 0, 0, 0, 0, 0, 0, 0, 7, 7],\n",
       " [7, 7, 0, 0, 0, 0, 0, 0, 0, 0, 0, 0, 7, 7],\n",
       " [7, 7, 0, 0, 0, 0, 0, 0, 0, 0, 0, 0, 7, 7],\n",
       " [7, 7, 0, 0, 0, 0, 0, 0, 0, 0, 0, 0, 7, 7],\n",
       " [7, 7, 0, 0, 0, 0, 0, 0, 0, 0, 0, 0, 7, 7],\n",
       " [7, 7, 0, 0, 0, 0, 0, 0, 0, 0, 0, 0, 7, 7],\n",
       " [7, 7, 0, 0, 0, 0, 0, 0, 0, 0, 0, 0, 7, 7],\n",
       " [7, 7, 0, 0, 0, 0, 0, 0, 0, 0, 0, 0, 7, 7],\n",
       " [7, 7, 0, 0, 0, 0, 0, 0, 0, 0, 0, 0, 7, 7],\n",
       " [7, 7, 0, 0, 0, 0, 0, 0, 0, 0, 0, 0, 7, 7],\n",
       " [7, 7, 0, 0, 0, 0, 0, 0, 0, 0, 0, 0, 7, 7],\n",
       " [7, 7, 0, 0, 0, 0, 0, 0, 0, 0, 0, 0, 7, 7],\n",
       " [7, 7, 0, 0, 0, 0, 0, 0, 0, 0, 0, 0, 7, 7],\n",
       " [7, 7, 0, 0, 0, 0, 0, 0, 0, 0, 0, 0, 7, 7],\n",
       " [7, 7, 0, 0, 0, 0, 0, 0, 0, 0, 0, 0, 7, 7],\n",
       " [7, 7, 0, 0, 0, 0, 0, 0, 0, 0, 0, 0, 7, 7],\n",
       " [7, 7, 0, 0, 0, 0, 0, 0, 0, 0, 0, 0, 7, 7],\n",
       " [7, 7, 0, 0, 0, 0, 0, 1, 0, 0, 0, 0, 7, 7],\n",
       " [7, 7, 3, 3, 3, 3, 1, 2, 3, 3, 3, 3, 7, 7],\n",
       " [7, 7, 3, 3, 3, 3, 3, 1, 3, 3, 3, 3, 7, 7],\n",
       " [7, 7, 7, 7, 7, 7, 7, 7, 7, 7, 7, 7, 7, 7],\n",
       " [7, 7, 7, 7, 7, 7, 7, 7, 7, 7, 7, 7, 7, 7]]"
      ]
     },
     "execution_count": 27,
     "metadata": {},
     "output_type": "execute_result"
    }
   ],
   "source": [
    "#Ejemplo de su Uso en el estado0 que tiene un hueco claro para la ficha[5]\n",
    "CalculoEstadoFinal(estado0,piezas[5])"
   ]
  },
  {
   "cell_type": "code",
   "execution_count": 28,
   "metadata": {},
   "outputs": [],
   "source": [
    "#En forma de funcion recibiendo un estado y una pieza devuelve una lista de estados ordenada de mejor a peor\n",
    "def valora(estado):\n",
    "    return PruebaPoner.coste_de_aplicar(estado,estado)\n",
    "\n",
    "def CalculoEstadosFinalesOrdenados(estado,pieza):\n",
    "    pieza=pieza\n",
    "    pieza2=Rotar.aplicar(pieza,pieza)\n",
    "    pieza3=Rotar.aplicar(pieza2,pieza2)\n",
    "    pieza4=Rotar.aplicar(pieza3,pieza3)\n",
    "    piezasFFF=[pieza,pieza2,pieza3,pieza4]\n",
    "    acciones = [PruebaPoner(i, j,p) for i in range(0, 21) for j in range(0, 11) for p in piezasFFF]\n",
    "    estado_inicial = estado\n",
    "    estados_finales=[]\n",
    "    for x in acciones:\n",
    "        estado_inicial = estado     \n",
    "        if(x.es_aplicable(estado_inicial)):\n",
    "            estados_finales.append(x.aplicar(estado_inicial))\n",
    "    return( sorted(estados_finales, key=valora))\n",
    "\n",
    "\n"
   ]
  },
  {
   "cell_type": "code",
   "execution_count": 29,
   "metadata": {},
   "outputs": [
    {
     "data": {
      "text/plain": [
       "[[[7, 7, 0, 0, 0, 0, 0, 0, 0, 0, 0, 0, 7, 7],\n",
       "  [7, 7, 0, 0, 0, 0, 0, 0, 0, 0, 0, 0, 7, 7],\n",
       "  [7, 7, 0, 0, 0, 0, 0, 0, 0, 0, 0, 0, 7, 7],\n",
       "  [7, 7, 0, 0, 0, 0, 0, 0, 0, 0, 0, 0, 7, 7],\n",
       "  [7, 7, 0, 0, 0, 0, 0, 0, 0, 0, 0, 0, 7, 7],\n",
       "  [7, 7, 0, 0, 0, 0, 0, 0, 0, 0, 0, 0, 7, 7],\n",
       "  [7, 7, 0, 0, 0, 0, 0, 0, 0, 0, 0, 0, 7, 7],\n",
       "  [7, 7, 0, 0, 0, 0, 0, 0, 0, 0, 0, 0, 7, 7],\n",
       "  [7, 7, 0, 0, 0, 0, 0, 0, 0, 0, 0, 0, 7, 7],\n",
       "  [7, 7, 0, 0, 0, 0, 0, 0, 0, 0, 0, 0, 7, 7],\n",
       "  [7, 7, 0, 0, 0, 0, 0, 0, 0, 0, 0, 0, 7, 7],\n",
       "  [7, 7, 0, 0, 0, 0, 0, 0, 0, 0, 0, 0, 7, 7],\n",
       "  [7, 7, 0, 0, 0, 0, 0, 0, 0, 0, 0, 0, 7, 7],\n",
       "  [7, 7, 0, 0, 0, 0, 0, 0, 0, 0, 0, 0, 7, 7],\n",
       "  [7, 7, 0, 0, 0, 0, 0, 0, 0, 0, 0, 0, 7, 7],\n",
       "  [7, 7, 0, 0, 0, 0, 0, 0, 0, 0, 0, 0, 7, 7],\n",
       "  [7, 7, 0, 0, 0, 0, 0, 0, 0, 0, 0, 0, 7, 7],\n",
       "  [7, 7, 0, 0, 0, 0, 0, 0, 0, 0, 0, 0, 7, 7],\n",
       "  [7, 7, 0, 0, 0, 0, 0, 0, 0, 0, 0, 0, 7, 7],\n",
       "  [7, 7, 0, 0, 0, 0, 0, 0, 0, 0, 0, 0, 7, 7],\n",
       "  [7, 7, 0, 0, 0, 0, 0, 1, 0, 0, 0, 0, 7, 7],\n",
       "  [7, 7, 3, 3, 3, 3, 1, 2, 3, 3, 3, 3, 7, 7],\n",
       "  [7, 7, 3, 3, 3, 3, 3, 1, 3, 3, 3, 3, 7, 7],\n",
       "  [7, 7, 7, 7, 7, 7, 7, 7, 7, 7, 7, 7, 7, 7],\n",
       "  [7, 7, 7, 7, 7, 7, 7, 7, 7, 7, 7, 7, 7, 7]],\n",
       " [[7, 7, 0, 0, 0, 0, 0, 0, 0, 0, 0, 0, 7, 7],\n",
       "  [7, 7, 0, 0, 0, 0, 0, 0, 0, 0, 0, 0, 7, 7],\n",
       "  [7, 7, 0, 0, 0, 0, 0, 0, 0, 0, 0, 0, 7, 7],\n",
       "  [7, 7, 0, 0, 0, 0, 0, 0, 0, 0, 0, 0, 7, 7],\n",
       "  [7, 7, 0, 0, 0, 0, 0, 0, 0, 0, 0, 0, 7, 7],\n",
       "  [7, 7, 0, 0, 0, 0, 0, 0, 0, 0, 0, 0, 7, 7],\n",
       "  [7, 7, 0, 0, 0, 0, 0, 0, 0, 0, 0, 0, 7, 7],\n",
       "  [7, 7, 0, 0, 0, 0, 0, 0, 0, 0, 0, 0, 7, 7],\n",
       "  [7, 7, 0, 0, 0, 0, 0, 0, 0, 0, 0, 0, 7, 7],\n",
       "  [7, 7, 0, 0, 0, 0, 0, 0, 0, 0, 0, 0, 7, 7],\n",
       "  [7, 7, 0, 0, 0, 0, 0, 0, 0, 0, 0, 0, 7, 7],\n",
       "  [7, 7, 0, 0, 0, 0, 0, 0, 0, 0, 0, 0, 7, 7],\n",
       "  [7, 7, 0, 0, 0, 0, 0, 0, 0, 0, 0, 0, 7, 7],\n",
       "  [7, 7, 0, 0, 0, 0, 0, 0, 0, 0, 0, 0, 7, 7],\n",
       "  [7, 7, 0, 0, 0, 0, 0, 0, 0, 0, 0, 0, 7, 7],\n",
       "  [7, 7, 0, 0, 0, 0, 0, 0, 0, 0, 0, 0, 7, 7],\n",
       "  [7, 7, 0, 0, 0, 0, 0, 0, 0, 0, 0, 0, 7, 7],\n",
       "  [7, 7, 0, 0, 0, 0, 0, 0, 0, 0, 0, 0, 7, 7],\n",
       "  [7, 7, 0, 0, 0, 0, 0, 0, 0, 0, 0, 0, 7, 7],\n",
       "  [7, 7, 0, 0, 0, 0, 1, 0, 0, 0, 0, 0, 7, 7],\n",
       "  [7, 7, 0, 0, 0, 1, 2, 0, 0, 0, 0, 0, 7, 7],\n",
       "  [7, 7, 3, 3, 3, 3, 1, 0, 3, 3, 3, 3, 7, 7],\n",
       "  [7, 7, 3, 3, 3, 3, 3, 0, 3, 3, 3, 3, 7, 7],\n",
       "  [7, 7, 7, 7, 7, 7, 7, 7, 7, 7, 7, 7, 7, 7],\n",
       "  [7, 7, 7, 7, 7, 7, 7, 7, 7, 7, 7, 7, 7, 7]],\n",
       " [[7, 7, 0, 0, 0, 0, 0, 0, 0, 0, 0, 0, 7, 7],\n",
       "  [7, 7, 0, 0, 0, 0, 0, 0, 0, 0, 0, 0, 7, 7],\n",
       "  [7, 7, 0, 0, 0, 0, 0, 0, 0, 0, 0, 0, 7, 7],\n",
       "  [7, 7, 0, 0, 0, 0, 0, 0, 0, 0, 0, 0, 7, 7],\n",
       "  [7, 7, 0, 0, 0, 0, 0, 0, 0, 0, 0, 0, 7, 7],\n",
       "  [7, 7, 0, 0, 0, 0, 0, 0, 0, 0, 0, 0, 7, 7],\n",
       "  [7, 7, 0, 0, 0, 0, 0, 0, 0, 0, 0, 0, 7, 7],\n",
       "  [7, 7, 0, 0, 0, 0, 0, 0, 0, 0, 0, 0, 7, 7],\n",
       "  [7, 7, 0, 0, 0, 0, 0, 0, 0, 0, 0, 0, 7, 7],\n",
       "  [7, 7, 0, 0, 0, 0, 0, 0, 0, 0, 0, 0, 7, 7],\n",
       "  [7, 7, 0, 0, 0, 0, 0, 0, 0, 0, 0, 0, 7, 7],\n",
       "  [7, 7, 0, 0, 0, 0, 0, 0, 0, 0, 0, 0, 7, 7],\n",
       "  [7, 7, 0, 0, 0, 0, 0, 0, 0, 0, 0, 0, 7, 7],\n",
       "  [7, 7, 0, 0, 0, 0, 0, 0, 0, 0, 0, 0, 7, 7],\n",
       "  [7, 7, 0, 0, 0, 0, 0, 0, 0, 0, 0, 0, 7, 7],\n",
       "  [7, 7, 0, 0, 0, 0, 0, 0, 0, 0, 0, 0, 7, 7],\n",
       "  [7, 7, 0, 0, 0, 0, 0, 0, 0, 0, 0, 0, 7, 7],\n",
       "  [7, 7, 0, 0, 0, 0, 0, 0, 0, 0, 0, 0, 7, 7],\n",
       "  [7, 7, 0, 0, 0, 0, 0, 0, 0, 0, 0, 0, 7, 7],\n",
       "  [7, 7, 0, 1, 0, 0, 0, 0, 0, 0, 0, 0, 7, 7],\n",
       "  [7, 7, 1, 2, 1, 0, 0, 0, 0, 0, 0, 0, 7, 7],\n",
       "  [7, 7, 3, 3, 3, 3, 0, 0, 3, 3, 3, 3, 7, 7],\n",
       "  [7, 7, 3, 3, 3, 3, 3, 0, 3, 3, 3, 3, 7, 7],\n",
       "  [7, 7, 7, 7, 7, 7, 7, 7, 7, 7, 7, 7, 7, 7],\n",
       "  [7, 7, 7, 7, 7, 7, 7, 7, 7, 7, 7, 7, 7, 7]],\n",
       " [[7, 7, 0, 0, 0, 0, 0, 0, 0, 0, 0, 0, 7, 7],\n",
       "  [7, 7, 0, 0, 0, 0, 0, 0, 0, 0, 0, 0, 7, 7],\n",
       "  [7, 7, 0, 0, 0, 0, 0, 0, 0, 0, 0, 0, 7, 7],\n",
       "  [7, 7, 0, 0, 0, 0, 0, 0, 0, 0, 0, 0, 7, 7],\n",
       "  [7, 7, 0, 0, 0, 0, 0, 0, 0, 0, 0, 0, 7, 7],\n",
       "  [7, 7, 0, 0, 0, 0, 0, 0, 0, 0, 0, 0, 7, 7],\n",
       "  [7, 7, 0, 0, 0, 0, 0, 0, 0, 0, 0, 0, 7, 7],\n",
       "  [7, 7, 0, 0, 0, 0, 0, 0, 0, 0, 0, 0, 7, 7],\n",
       "  [7, 7, 0, 0, 0, 0, 0, 0, 0, 0, 0, 0, 7, 7],\n",
       "  [7, 7, 0, 0, 0, 0, 0, 0, 0, 0, 0, 0, 7, 7],\n",
       "  [7, 7, 0, 0, 0, 0, 0, 0, 0, 0, 0, 0, 7, 7],\n",
       "  [7, 7, 0, 0, 0, 0, 0, 0, 0, 0, 0, 0, 7, 7],\n",
       "  [7, 7, 0, 0, 0, 0, 0, 0, 0, 0, 0, 0, 7, 7],\n",
       "  [7, 7, 0, 0, 0, 0, 0, 0, 0, 0, 0, 0, 7, 7],\n",
       "  [7, 7, 0, 0, 0, 0, 0, 0, 0, 0, 0, 0, 7, 7],\n",
       "  [7, 7, 0, 0, 0, 0, 0, 0, 0, 0, 0, 0, 7, 7],\n",
       "  [7, 7, 0, 0, 0, 0, 0, 0, 0, 0, 0, 0, 7, 7],\n",
       "  [7, 7, 0, 0, 0, 0, 0, 0, 0, 0, 0, 0, 7, 7],\n",
       "  [7, 7, 0, 0, 0, 0, 0, 0, 0, 0, 0, 0, 7, 7],\n",
       "  [7, 7, 0, 0, 1, 0, 0, 0, 0, 0, 0, 0, 7, 7],\n",
       "  [7, 7, 0, 1, 2, 1, 0, 0, 0, 0, 0, 0, 7, 7],\n",
       "  [7, 7, 3, 3, 3, 3, 0, 0, 3, 3, 3, 3, 7, 7],\n",
       "  [7, 7, 3, 3, 3, 3, 3, 0, 3, 3, 3, 3, 7, 7],\n",
       "  [7, 7, 7, 7, 7, 7, 7, 7, 7, 7, 7, 7, 7, 7],\n",
       "  [7, 7, 7, 7, 7, 7, 7, 7, 7, 7, 7, 7, 7, 7]],\n",
       " [[7, 7, 0, 0, 0, 0, 0, 0, 0, 0, 0, 0, 7, 7],\n",
       "  [7, 7, 0, 0, 0, 0, 0, 0, 0, 0, 0, 0, 7, 7],\n",
       "  [7, 7, 0, 0, 0, 0, 0, 0, 0, 0, 0, 0, 7, 7],\n",
       "  [7, 7, 0, 0, 0, 0, 0, 0, 0, 0, 0, 0, 7, 7],\n",
       "  [7, 7, 0, 0, 0, 0, 0, 0, 0, 0, 0, 0, 7, 7],\n",
       "  [7, 7, 0, 0, 0, 0, 0, 0, 0, 0, 0, 0, 7, 7],\n",
       "  [7, 7, 0, 0, 0, 0, 0, 0, 0, 0, 0, 0, 7, 7],\n",
       "  [7, 7, 0, 0, 0, 0, 0, 0, 0, 0, 0, 0, 7, 7],\n",
       "  [7, 7, 0, 0, 0, 0, 0, 0, 0, 0, 0, 0, 7, 7],\n",
       "  [7, 7, 0, 0, 0, 0, 0, 0, 0, 0, 0, 0, 7, 7],\n",
       "  [7, 7, 0, 0, 0, 0, 0, 0, 0, 0, 0, 0, 7, 7],\n",
       "  [7, 7, 0, 0, 0, 0, 0, 0, 0, 0, 0, 0, 7, 7],\n",
       "  [7, 7, 0, 0, 0, 0, 0, 0, 0, 0, 0, 0, 7, 7],\n",
       "  [7, 7, 0, 0, 0, 0, 0, 0, 0, 0, 0, 0, 7, 7],\n",
       "  [7, 7, 0, 0, 0, 0, 0, 0, 0, 0, 0, 0, 7, 7],\n",
       "  [7, 7, 0, 0, 0, 0, 0, 0, 0, 0, 0, 0, 7, 7],\n",
       "  [7, 7, 0, 0, 0, 0, 0, 0, 0, 0, 0, 0, 7, 7],\n",
       "  [7, 7, 0, 0, 0, 0, 0, 0, 0, 0, 0, 0, 7, 7],\n",
       "  [7, 7, 0, 0, 0, 0, 0, 0, 0, 0, 0, 0, 7, 7],\n",
       "  [7, 7, 0, 0, 0, 0, 0, 0, 0, 1, 0, 0, 7, 7],\n",
       "  [7, 7, 0, 0, 0, 0, 0, 0, 1, 2, 1, 0, 7, 7],\n",
       "  [7, 7, 3, 3, 3, 3, 0, 0, 3, 3, 3, 3, 7, 7],\n",
       "  [7, 7, 3, 3, 3, 3, 3, 0, 3, 3, 3, 3, 7, 7],\n",
       "  [7, 7, 7, 7, 7, 7, 7, 7, 7, 7, 7, 7, 7, 7],\n",
       "  [7, 7, 7, 7, 7, 7, 7, 7, 7, 7, 7, 7, 7, 7]],\n",
       " [[7, 7, 0, 0, 0, 0, 0, 0, 0, 0, 0, 0, 7, 7],\n",
       "  [7, 7, 0, 0, 0, 0, 0, 0, 0, 0, 0, 0, 7, 7],\n",
       "  [7, 7, 0, 0, 0, 0, 0, 0, 0, 0, 0, 0, 7, 7],\n",
       "  [7, 7, 0, 0, 0, 0, 0, 0, 0, 0, 0, 0, 7, 7],\n",
       "  [7, 7, 0, 0, 0, 0, 0, 0, 0, 0, 0, 0, 7, 7],\n",
       "  [7, 7, 0, 0, 0, 0, 0, 0, 0, 0, 0, 0, 7, 7],\n",
       "  [7, 7, 0, 0, 0, 0, 0, 0, 0, 0, 0, 0, 7, 7],\n",
       "  [7, 7, 0, 0, 0, 0, 0, 0, 0, 0, 0, 0, 7, 7],\n",
       "  [7, 7, 0, 0, 0, 0, 0, 0, 0, 0, 0, 0, 7, 7],\n",
       "  [7, 7, 0, 0, 0, 0, 0, 0, 0, 0, 0, 0, 7, 7],\n",
       "  [7, 7, 0, 0, 0, 0, 0, 0, 0, 0, 0, 0, 7, 7],\n",
       "  [7, 7, 0, 0, 0, 0, 0, 0, 0, 0, 0, 0, 7, 7],\n",
       "  [7, 7, 0, 0, 0, 0, 0, 0, 0, 0, 0, 0, 7, 7],\n",
       "  [7, 7, 0, 0, 0, 0, 0, 0, 0, 0, 0, 0, 7, 7],\n",
       "  [7, 7, 0, 0, 0, 0, 0, 0, 0, 0, 0, 0, 7, 7],\n",
       "  [7, 7, 0, 0, 0, 0, 0, 0, 0, 0, 0, 0, 7, 7],\n",
       "  [7, 7, 0, 0, 0, 0, 0, 0, 0, 0, 0, 0, 7, 7],\n",
       "  [7, 7, 0, 0, 0, 0, 0, 0, 0, 0, 0, 0, 7, 7],\n",
       "  [7, 7, 0, 0, 0, 0, 0, 0, 0, 0, 0, 0, 7, 7],\n",
       "  [7, 7, 0, 0, 0, 0, 0, 0, 0, 0, 1, 0, 7, 7],\n",
       "  [7, 7, 0, 0, 0, 0, 0, 0, 0, 1, 2, 1, 7, 7],\n",
       "  [7, 7, 3, 3, 3, 3, 0, 0, 3, 3, 3, 3, 7, 7],\n",
       "  [7, 7, 3, 3, 3, 3, 3, 0, 3, 3, 3, 3, 7, 7],\n",
       "  [7, 7, 7, 7, 7, 7, 7, 7, 7, 7, 7, 7, 7, 7],\n",
       "  [7, 7, 7, 7, 7, 7, 7, 7, 7, 7, 7, 7, 7, 7]],\n",
       " [[7, 7, 0, 0, 0, 0, 0, 0, 0, 0, 0, 0, 7, 7],\n",
       "  [7, 7, 0, 0, 0, 0, 0, 0, 0, 0, 0, 0, 7, 7],\n",
       "  [7, 7, 0, 0, 0, 0, 0, 0, 0, 0, 0, 0, 7, 7],\n",
       "  [7, 7, 0, 0, 0, 0, 0, 0, 0, 0, 0, 0, 7, 7],\n",
       "  [7, 7, 0, 0, 0, 0, 0, 0, 0, 0, 0, 0, 7, 7],\n",
       "  [7, 7, 0, 0, 0, 0, 0, 0, 0, 0, 0, 0, 7, 7],\n",
       "  [7, 7, 0, 0, 0, 0, 0, 0, 0, 0, 0, 0, 7, 7],\n",
       "  [7, 7, 0, 0, 0, 0, 0, 0, 0, 0, 0, 0, 7, 7],\n",
       "  [7, 7, 0, 0, 0, 0, 0, 0, 0, 0, 0, 0, 7, 7],\n",
       "  [7, 7, 0, 0, 0, 0, 0, 0, 0, 0, 0, 0, 7, 7],\n",
       "  [7, 7, 0, 0, 0, 0, 0, 0, 0, 0, 0, 0, 7, 7],\n",
       "  [7, 7, 0, 0, 0, 0, 0, 0, 0, 0, 0, 0, 7, 7],\n",
       "  [7, 7, 0, 0, 0, 0, 0, 0, 0, 0, 0, 0, 7, 7],\n",
       "  [7, 7, 0, 0, 0, 0, 0, 0, 0, 0, 0, 0, 7, 7],\n",
       "  [7, 7, 0, 0, 0, 0, 0, 0, 0, 0, 0, 0, 7, 7],\n",
       "  [7, 7, 0, 0, 0, 0, 0, 0, 0, 0, 0, 0, 7, 7],\n",
       "  [7, 7, 0, 0, 0, 0, 0, 0, 0, 0, 0, 0, 7, 7],\n",
       "  [7, 7, 0, 0, 0, 0, 0, 0, 0, 0, 0, 0, 7, 7],\n",
       "  [7, 7, 0, 0, 0, 0, 0, 0, 0, 0, 0, 0, 7, 7],\n",
       "  [7, 7, 0, 0, 0, 0, 0, 0, 0, 0, 0, 0, 7, 7],\n",
       "  [7, 7, 0, 0, 0, 1, 2, 1, 0, 0, 0, 0, 7, 7],\n",
       "  [7, 7, 3, 3, 3, 3, 1, 0, 3, 3, 3, 3, 7, 7],\n",
       "  [7, 7, 3, 3, 3, 3, 3, 0, 3, 3, 3, 3, 7, 7],\n",
       "  [7, 7, 7, 7, 7, 7, 7, 7, 7, 7, 7, 7, 7, 7],\n",
       "  [7, 7, 7, 7, 7, 7, 7, 7, 7, 7, 7, 7, 7, 7]],\n",
       " [[7, 7, 0, 0, 0, 0, 0, 0, 0, 0, 0, 0, 7, 7],\n",
       "  [7, 7, 0, 0, 0, 0, 0, 0, 0, 0, 0, 0, 7, 7],\n",
       "  [7, 7, 0, 0, 0, 0, 0, 0, 0, 0, 0, 0, 7, 7],\n",
       "  [7, 7, 0, 0, 0, 0, 0, 0, 0, 0, 0, 0, 7, 7],\n",
       "  [7, 7, 0, 0, 0, 0, 0, 0, 0, 0, 0, 0, 7, 7],\n",
       "  [7, 7, 0, 0, 0, 0, 0, 0, 0, 0, 0, 0, 7, 7],\n",
       "  [7, 7, 0, 0, 0, 0, 0, 0, 0, 0, 0, 0, 7, 7],\n",
       "  [7, 7, 0, 0, 0, 0, 0, 0, 0, 0, 0, 0, 7, 7],\n",
       "  [7, 7, 0, 0, 0, 0, 0, 0, 0, 0, 0, 0, 7, 7],\n",
       "  [7, 7, 0, 0, 0, 0, 0, 0, 0, 0, 0, 0, 7, 7],\n",
       "  [7, 7, 0, 0, 0, 0, 0, 0, 0, 0, 0, 0, 7, 7],\n",
       "  [7, 7, 0, 0, 0, 0, 0, 0, 0, 0, 0, 0, 7, 7],\n",
       "  [7, 7, 0, 0, 0, 0, 0, 0, 0, 0, 0, 0, 7, 7],\n",
       "  [7, 7, 0, 0, 0, 0, 0, 0, 0, 0, 0, 0, 7, 7],\n",
       "  [7, 7, 0, 0, 0, 0, 0, 0, 0, 0, 0, 0, 7, 7],\n",
       "  [7, 7, 0, 0, 0, 0, 0, 0, 0, 0, 0, 0, 7, 7],\n",
       "  [7, 7, 0, 0, 0, 0, 0, 0, 0, 0, 0, 0, 7, 7],\n",
       "  [7, 7, 0, 0, 0, 0, 0, 0, 0, 0, 0, 0, 7, 7],\n",
       "  [7, 7, 0, 0, 0, 0, 0, 0, 0, 0, 0, 0, 7, 7],\n",
       "  [7, 7, 0, 0, 0, 0, 1, 0, 0, 0, 0, 0, 7, 7],\n",
       "  [7, 7, 0, 0, 0, 0, 2, 1, 0, 0, 0, 0, 7, 7],\n",
       "  [7, 7, 3, 3, 3, 3, 1, 0, 3, 3, 3, 3, 7, 7],\n",
       "  [7, 7, 3, 3, 3, 3, 3, 0, 3, 3, 3, 3, 7, 7],\n",
       "  [7, 7, 7, 7, 7, 7, 7, 7, 7, 7, 7, 7, 7, 7],\n",
       "  [7, 7, 7, 7, 7, 7, 7, 7, 7, 7, 7, 7, 7, 7]],\n",
       " [[7, 7, 0, 0, 0, 0, 0, 0, 0, 0, 0, 0, 7, 7],\n",
       "  [7, 7, 0, 0, 0, 0, 0, 0, 0, 0, 0, 0, 7, 7],\n",
       "  [7, 7, 0, 0, 0, 0, 0, 0, 0, 0, 0, 0, 7, 7],\n",
       "  [7, 7, 0, 0, 0, 0, 0, 0, 0, 0, 0, 0, 7, 7],\n",
       "  [7, 7, 0, 0, 0, 0, 0, 0, 0, 0, 0, 0, 7, 7],\n",
       "  [7, 7, 0, 0, 0, 0, 0, 0, 0, 0, 0, 0, 7, 7],\n",
       "  [7, 7, 0, 0, 0, 0, 0, 0, 0, 0, 0, 0, 7, 7],\n",
       "  [7, 7, 0, 0, 0, 0, 0, 0, 0, 0, 0, 0, 7, 7],\n",
       "  [7, 7, 0, 0, 0, 0, 0, 0, 0, 0, 0, 0, 7, 7],\n",
       "  [7, 7, 0, 0, 0, 0, 0, 0, 0, 0, 0, 0, 7, 7],\n",
       "  [7, 7, 0, 0, 0, 0, 0, 0, 0, 0, 0, 0, 7, 7],\n",
       "  [7, 7, 0, 0, 0, 0, 0, 0, 0, 0, 0, 0, 7, 7],\n",
       "  [7, 7, 0, 0, 0, 0, 0, 0, 0, 0, 0, 0, 7, 7],\n",
       "  [7, 7, 0, 0, 0, 0, 0, 0, 0, 0, 0, 0, 7, 7],\n",
       "  [7, 7, 0, 0, 0, 0, 0, 0, 0, 0, 0, 0, 7, 7],\n",
       "  [7, 7, 0, 0, 0, 0, 0, 0, 0, 0, 0, 0, 7, 7],\n",
       "  [7, 7, 0, 0, 0, 0, 0, 0, 0, 0, 0, 0, 7, 7],\n",
       "  [7, 7, 0, 0, 0, 0, 0, 0, 0, 0, 0, 0, 7, 7],\n",
       "  [7, 7, 0, 0, 0, 0, 0, 0, 0, 0, 0, 0, 7, 7],\n",
       "  [7, 7, 0, 0, 0, 0, 0, 1, 0, 0, 0, 0, 7, 7],\n",
       "  [7, 7, 0, 0, 0, 0, 0, 2, 1, 0, 0, 0, 7, 7],\n",
       "  [7, 7, 3, 3, 3, 3, 0, 1, 3, 3, 3, 3, 7, 7],\n",
       "  [7, 7, 3, 3, 3, 3, 3, 0, 3, 3, 3, 3, 7, 7],\n",
       "  [7, 7, 7, 7, 7, 7, 7, 7, 7, 7, 7, 7, 7, 7],\n",
       "  [7, 7, 7, 7, 7, 7, 7, 7, 7, 7, 7, 7, 7, 7]],\n",
       " [[7, 7, 0, 0, 0, 0, 0, 0, 0, 0, 0, 0, 7, 7],\n",
       "  [7, 7, 0, 0, 0, 0, 0, 0, 0, 0, 0, 0, 7, 7],\n",
       "  [7, 7, 0, 0, 0, 0, 0, 0, 0, 0, 0, 0, 7, 7],\n",
       "  [7, 7, 0, 0, 0, 0, 0, 0, 0, 0, 0, 0, 7, 7],\n",
       "  [7, 7, 0, 0, 0, 0, 0, 0, 0, 0, 0, 0, 7, 7],\n",
       "  [7, 7, 0, 0, 0, 0, 0, 0, 0, 0, 0, 0, 7, 7],\n",
       "  [7, 7, 0, 0, 0, 0, 0, 0, 0, 0, 0, 0, 7, 7],\n",
       "  [7, 7, 0, 0, 0, 0, 0, 0, 0, 0, 0, 0, 7, 7],\n",
       "  [7, 7, 0, 0, 0, 0, 0, 0, 0, 0, 0, 0, 7, 7],\n",
       "  [7, 7, 0, 0, 0, 0, 0, 0, 0, 0, 0, 0, 7, 7],\n",
       "  [7, 7, 0, 0, 0, 0, 0, 0, 0, 0, 0, 0, 7, 7],\n",
       "  [7, 7, 0, 0, 0, 0, 0, 0, 0, 0, 0, 0, 7, 7],\n",
       "  [7, 7, 0, 0, 0, 0, 0, 0, 0, 0, 0, 0, 7, 7],\n",
       "  [7, 7, 0, 0, 0, 0, 0, 0, 0, 0, 0, 0, 7, 7],\n",
       "  [7, 7, 0, 0, 0, 0, 0, 0, 0, 0, 0, 0, 7, 7],\n",
       "  [7, 7, 0, 0, 0, 0, 0, 0, 0, 0, 0, 0, 7, 7],\n",
       "  [7, 7, 0, 0, 0, 0, 0, 0, 0, 0, 0, 0, 7, 7],\n",
       "  [7, 7, 0, 0, 0, 0, 0, 0, 0, 0, 0, 0, 7, 7],\n",
       "  [7, 7, 0, 0, 0, 0, 0, 0, 0, 0, 0, 0, 7, 7],\n",
       "  [7, 7, 0, 0, 0, 1, 0, 0, 0, 0, 0, 0, 7, 7],\n",
       "  [7, 7, 0, 0, 1, 2, 1, 0, 0, 0, 0, 0, 7, 7],\n",
       "  [7, 7, 3, 3, 3, 3, 0, 0, 3, 3, 3, 3, 7, 7],\n",
       "  [7, 7, 3, 3, 3, 3, 3, 0, 3, 3, 3, 3, 7, 7],\n",
       "  [7, 7, 7, 7, 7, 7, 7, 7, 7, 7, 7, 7, 7, 7],\n",
       "  [7, 7, 7, 7, 7, 7, 7, 7, 7, 7, 7, 7, 7, 7]],\n",
       " [[7, 7, 0, 0, 0, 0, 0, 0, 0, 0, 0, 0, 7, 7],\n",
       "  [7, 7, 0, 0, 0, 0, 0, 0, 0, 0, 0, 0, 7, 7],\n",
       "  [7, 7, 0, 0, 0, 0, 0, 0, 0, 0, 0, 0, 7, 7],\n",
       "  [7, 7, 0, 0, 0, 0, 0, 0, 0, 0, 0, 0, 7, 7],\n",
       "  [7, 7, 0, 0, 0, 0, 0, 0, 0, 0, 0, 0, 7, 7],\n",
       "  [7, 7, 0, 0, 0, 0, 0, 0, 0, 0, 0, 0, 7, 7],\n",
       "  [7, 7, 0, 0, 0, 0, 0, 0, 0, 0, 0, 0, 7, 7],\n",
       "  [7, 7, 0, 0, 0, 0, 0, 0, 0, 0, 0, 0, 7, 7],\n",
       "  [7, 7, 0, 0, 0, 0, 0, 0, 0, 0, 0, 0, 7, 7],\n",
       "  [7, 7, 0, 0, 0, 0, 0, 0, 0, 0, 0, 0, 7, 7],\n",
       "  [7, 7, 0, 0, 0, 0, 0, 0, 0, 0, 0, 0, 7, 7],\n",
       "  [7, 7, 0, 0, 0, 0, 0, 0, 0, 0, 0, 0, 7, 7],\n",
       "  [7, 7, 0, 0, 0, 0, 0, 0, 0, 0, 0, 0, 7, 7],\n",
       "  [7, 7, 0, 0, 0, 0, 0, 0, 0, 0, 0, 0, 7, 7],\n",
       "  [7, 7, 0, 0, 0, 0, 0, 0, 0, 0, 0, 0, 7, 7],\n",
       "  [7, 7, 0, 0, 0, 0, 0, 0, 0, 0, 0, 0, 7, 7],\n",
       "  [7, 7, 0, 0, 0, 0, 0, 0, 0, 0, 0, 0, 7, 7],\n",
       "  [7, 7, 0, 0, 0, 0, 0, 0, 0, 0, 0, 0, 7, 7],\n",
       "  [7, 7, 0, 0, 0, 0, 0, 0, 0, 0, 0, 0, 7, 7],\n",
       "  [7, 7, 0, 0, 0, 0, 0, 0, 1, 0, 0, 0, 7, 7],\n",
       "  [7, 7, 0, 0, 0, 0, 0, 1, 2, 1, 0, 0, 7, 7],\n",
       "  [7, 7, 3, 3, 3, 3, 0, 0, 3, 3, 3, 3, 7, 7],\n",
       "  [7, 7, 3, 3, 3, 3, 3, 0, 3, 3, 3, 3, 7, 7],\n",
       "  [7, 7, 7, 7, 7, 7, 7, 7, 7, 7, 7, 7, 7, 7],\n",
       "  [7, 7, 7, 7, 7, 7, 7, 7, 7, 7, 7, 7, 7, 7]],\n",
       " [[7, 7, 0, 0, 0, 0, 0, 0, 0, 0, 0, 0, 7, 7],\n",
       "  [7, 7, 0, 0, 0, 0, 0, 0, 0, 0, 0, 0, 7, 7],\n",
       "  [7, 7, 0, 0, 0, 0, 0, 0, 0, 0, 0, 0, 7, 7],\n",
       "  [7, 7, 0, 0, 0, 0, 0, 0, 0, 0, 0, 0, 7, 7],\n",
       "  [7, 7, 0, 0, 0, 0, 0, 0, 0, 0, 0, 0, 7, 7],\n",
       "  [7, 7, 0, 0, 0, 0, 0, 0, 0, 0, 0, 0, 7, 7],\n",
       "  [7, 7, 0, 0, 0, 0, 0, 0, 0, 0, 0, 0, 7, 7],\n",
       "  [7, 7, 0, 0, 0, 0, 0, 0, 0, 0, 0, 0, 7, 7],\n",
       "  [7, 7, 0, 0, 0, 0, 0, 0, 0, 0, 0, 0, 7, 7],\n",
       "  [7, 7, 0, 0, 0, 0, 0, 0, 0, 0, 0, 0, 7, 7],\n",
       "  [7, 7, 0, 0, 0, 0, 0, 0, 0, 0, 0, 0, 7, 7],\n",
       "  [7, 7, 0, 0, 0, 0, 0, 0, 0, 0, 0, 0, 7, 7],\n",
       "  [7, 7, 0, 0, 0, 0, 0, 0, 0, 0, 0, 0, 7, 7],\n",
       "  [7, 7, 0, 0, 0, 0, 0, 0, 0, 0, 0, 0, 7, 7],\n",
       "  [7, 7, 0, 0, 0, 0, 0, 0, 0, 0, 0, 0, 7, 7],\n",
       "  [7, 7, 0, 0, 0, 0, 0, 0, 0, 0, 0, 0, 7, 7],\n",
       "  [7, 7, 0, 0, 0, 0, 0, 0, 0, 0, 0, 0, 7, 7],\n",
       "  [7, 7, 0, 0, 0, 0, 0, 0, 0, 0, 0, 0, 7, 7],\n",
       "  [7, 7, 1, 0, 0, 0, 0, 0, 0, 0, 0, 0, 7, 7],\n",
       "  [7, 7, 2, 1, 0, 0, 0, 0, 0, 0, 0, 0, 7, 7],\n",
       "  [7, 7, 1, 0, 0, 0, 0, 0, 0, 0, 0, 0, 7, 7],\n",
       "  [7, 7, 3, 3, 3, 3, 0, 0, 3, 3, 3, 3, 7, 7],\n",
       "  [7, 7, 3, 3, 3, 3, 3, 0, 3, 3, 3, 3, 7, 7],\n",
       "  [7, 7, 7, 7, 7, 7, 7, 7, 7, 7, 7, 7, 7, 7],\n",
       "  [7, 7, 7, 7, 7, 7, 7, 7, 7, 7, 7, 7, 7, 7]],\n",
       " [[7, 7, 0, 0, 0, 0, 0, 0, 0, 0, 0, 0, 7, 7],\n",
       "  [7, 7, 0, 0, 0, 0, 0, 0, 0, 0, 0, 0, 7, 7],\n",
       "  [7, 7, 0, 0, 0, 0, 0, 0, 0, 0, 0, 0, 7, 7],\n",
       "  [7, 7, 0, 0, 0, 0, 0, 0, 0, 0, 0, 0, 7, 7],\n",
       "  [7, 7, 0, 0, 0, 0, 0, 0, 0, 0, 0, 0, 7, 7],\n",
       "  [7, 7, 0, 0, 0, 0, 0, 0, 0, 0, 0, 0, 7, 7],\n",
       "  [7, 7, 0, 0, 0, 0, 0, 0, 0, 0, 0, 0, 7, 7],\n",
       "  [7, 7, 0, 0, 0, 0, 0, 0, 0, 0, 0, 0, 7, 7],\n",
       "  [7, 7, 0, 0, 0, 0, 0, 0, 0, 0, 0, 0, 7, 7],\n",
       "  [7, 7, 0, 0, 0, 0, 0, 0, 0, 0, 0, 0, 7, 7],\n",
       "  [7, 7, 0, 0, 0, 0, 0, 0, 0, 0, 0, 0, 7, 7],\n",
       "  [7, 7, 0, 0, 0, 0, 0, 0, 0, 0, 0, 0, 7, 7],\n",
       "  [7, 7, 0, 0, 0, 0, 0, 0, 0, 0, 0, 0, 7, 7],\n",
       "  [7, 7, 0, 0, 0, 0, 0, 0, 0, 0, 0, 0, 7, 7],\n",
       "  [7, 7, 0, 0, 0, 0, 0, 0, 0, 0, 0, 0, 7, 7],\n",
       "  [7, 7, 0, 0, 0, 0, 0, 0, 0, 0, 0, 0, 7, 7],\n",
       "  [7, 7, 0, 0, 0, 0, 0, 0, 0, 0, 0, 0, 7, 7],\n",
       "  [7, 7, 0, 0, 0, 0, 0, 0, 0, 0, 0, 0, 7, 7],\n",
       "  [7, 7, 0, 1, 0, 0, 0, 0, 0, 0, 0, 0, 7, 7],\n",
       "  [7, 7, 1, 2, 0, 0, 0, 0, 0, 0, 0, 0, 7, 7],\n",
       "  [7, 7, 0, 1, 0, 0, 0, 0, 0, 0, 0, 0, 7, 7],\n",
       "  [7, 7, 3, 3, 3, 3, 0, 0, 3, 3, 3, 3, 7, 7],\n",
       "  [7, 7, 3, 3, 3, 3, 3, 0, 3, 3, 3, 3, 7, 7],\n",
       "  [7, 7, 7, 7, 7, 7, 7, 7, 7, 7, 7, 7, 7, 7],\n",
       "  [7, 7, 7, 7, 7, 7, 7, 7, 7, 7, 7, 7, 7, 7]],\n",
       " [[7, 7, 0, 0, 0, 0, 0, 0, 0, 0, 0, 0, 7, 7],\n",
       "  [7, 7, 0, 0, 0, 0, 0, 0, 0, 0, 0, 0, 7, 7],\n",
       "  [7, 7, 0, 0, 0, 0, 0, 0, 0, 0, 0, 0, 7, 7],\n",
       "  [7, 7, 0, 0, 0, 0, 0, 0, 0, 0, 0, 0, 7, 7],\n",
       "  [7, 7, 0, 0, 0, 0, 0, 0, 0, 0, 0, 0, 7, 7],\n",
       "  [7, 7, 0, 0, 0, 0, 0, 0, 0, 0, 0, 0, 7, 7],\n",
       "  [7, 7, 0, 0, 0, 0, 0, 0, 0, 0, 0, 0, 7, 7],\n",
       "  [7, 7, 0, 0, 0, 0, 0, 0, 0, 0, 0, 0, 7, 7],\n",
       "  [7, 7, 0, 0, 0, 0, 0, 0, 0, 0, 0, 0, 7, 7],\n",
       "  [7, 7, 0, 0, 0, 0, 0, 0, 0, 0, 0, 0, 7, 7],\n",
       "  [7, 7, 0, 0, 0, 0, 0, 0, 0, 0, 0, 0, 7, 7],\n",
       "  [7, 7, 0, 0, 0, 0, 0, 0, 0, 0, 0, 0, 7, 7],\n",
       "  [7, 7, 0, 0, 0, 0, 0, 0, 0, 0, 0, 0, 7, 7],\n",
       "  [7, 7, 0, 0, 0, 0, 0, 0, 0, 0, 0, 0, 7, 7],\n",
       "  [7, 7, 0, 0, 0, 0, 0, 0, 0, 0, 0, 0, 7, 7],\n",
       "  [7, 7, 0, 0, 0, 0, 0, 0, 0, 0, 0, 0, 7, 7],\n",
       "  [7, 7, 0, 0, 0, 0, 0, 0, 0, 0, 0, 0, 7, 7],\n",
       "  [7, 7, 0, 0, 0, 0, 0, 0, 0, 0, 0, 0, 7, 7],\n",
       "  [7, 7, 0, 1, 0, 0, 0, 0, 0, 0, 0, 0, 7, 7],\n",
       "  [7, 7, 0, 2, 1, 0, 0, 0, 0, 0, 0, 0, 7, 7],\n",
       "  [7, 7, 0, 1, 0, 0, 0, 0, 0, 0, 0, 0, 7, 7],\n",
       "  [7, 7, 3, 3, 3, 3, 0, 0, 3, 3, 3, 3, 7, 7],\n",
       "  [7, 7, 3, 3, 3, 3, 3, 0, 3, 3, 3, 3, 7, 7],\n",
       "  [7, 7, 7, 7, 7, 7, 7, 7, 7, 7, 7, 7, 7, 7],\n",
       "  [7, 7, 7, 7, 7, 7, 7, 7, 7, 7, 7, 7, 7, 7]],\n",
       " [[7, 7, 0, 0, 0, 0, 0, 0, 0, 0, 0, 0, 7, 7],\n",
       "  [7, 7, 0, 0, 0, 0, 0, 0, 0, 0, 0, 0, 7, 7],\n",
       "  [7, 7, 0, 0, 0, 0, 0, 0, 0, 0, 0, 0, 7, 7],\n",
       "  [7, 7, 0, 0, 0, 0, 0, 0, 0, 0, 0, 0, 7, 7],\n",
       "  [7, 7, 0, 0, 0, 0, 0, 0, 0, 0, 0, 0, 7, 7],\n",
       "  [7, 7, 0, 0, 0, 0, 0, 0, 0, 0, 0, 0, 7, 7],\n",
       "  [7, 7, 0, 0, 0, 0, 0, 0, 0, 0, 0, 0, 7, 7],\n",
       "  [7, 7, 0, 0, 0, 0, 0, 0, 0, 0, 0, 0, 7, 7],\n",
       "  [7, 7, 0, 0, 0, 0, 0, 0, 0, 0, 0, 0, 7, 7],\n",
       "  [7, 7, 0, 0, 0, 0, 0, 0, 0, 0, 0, 0, 7, 7],\n",
       "  [7, 7, 0, 0, 0, 0, 0, 0, 0, 0, 0, 0, 7, 7],\n",
       "  [7, 7, 0, 0, 0, 0, 0, 0, 0, 0, 0, 0, 7, 7],\n",
       "  [7, 7, 0, 0, 0, 0, 0, 0, 0, 0, 0, 0, 7, 7],\n",
       "  [7, 7, 0, 0, 0, 0, 0, 0, 0, 0, 0, 0, 7, 7],\n",
       "  [7, 7, 0, 0, 0, 0, 0, 0, 0, 0, 0, 0, 7, 7],\n",
       "  [7, 7, 0, 0, 0, 0, 0, 0, 0, 0, 0, 0, 7, 7],\n",
       "  [7, 7, 0, 0, 0, 0, 0, 0, 0, 0, 0, 0, 7, 7],\n",
       "  [7, 7, 0, 0, 0, 0, 0, 0, 0, 0, 0, 0, 7, 7],\n",
       "  [7, 7, 0, 0, 1, 0, 0, 0, 0, 0, 0, 0, 7, 7],\n",
       "  [7, 7, 0, 1, 2, 0, 0, 0, 0, 0, 0, 0, 7, 7],\n",
       "  [7, 7, 0, 0, 1, 0, 0, 0, 0, 0, 0, 0, 7, 7],\n",
       "  [7, 7, 3, 3, 3, 3, 0, 0, 3, 3, 3, 3, 7, 7],\n",
       "  [7, 7, 3, 3, 3, 3, 3, 0, 3, 3, 3, 3, 7, 7],\n",
       "  [7, 7, 7, 7, 7, 7, 7, 7, 7, 7, 7, 7, 7, 7],\n",
       "  [7, 7, 7, 7, 7, 7, 7, 7, 7, 7, 7, 7, 7, 7]],\n",
       " [[7, 7, 0, 0, 0, 0, 0, 0, 0, 0, 0, 0, 7, 7],\n",
       "  [7, 7, 0, 0, 0, 0, 0, 0, 0, 0, 0, 0, 7, 7],\n",
       "  [7, 7, 0, 0, 0, 0, 0, 0, 0, 0, 0, 0, 7, 7],\n",
       "  [7, 7, 0, 0, 0, 0, 0, 0, 0, 0, 0, 0, 7, 7],\n",
       "  [7, 7, 0, 0, 0, 0, 0, 0, 0, 0, 0, 0, 7, 7],\n",
       "  [7, 7, 0, 0, 0, 0, 0, 0, 0, 0, 0, 0, 7, 7],\n",
       "  [7, 7, 0, 0, 0, 0, 0, 0, 0, 0, 0, 0, 7, 7],\n",
       "  [7, 7, 0, 0, 0, 0, 0, 0, 0, 0, 0, 0, 7, 7],\n",
       "  [7, 7, 0, 0, 0, 0, 0, 0, 0, 0, 0, 0, 7, 7],\n",
       "  [7, 7, 0, 0, 0, 0, 0, 0, 0, 0, 0, 0, 7, 7],\n",
       "  [7, 7, 0, 0, 0, 0, 0, 0, 0, 0, 0, 0, 7, 7],\n",
       "  [7, 7, 0, 0, 0, 0, 0, 0, 0, 0, 0, 0, 7, 7],\n",
       "  [7, 7, 0, 0, 0, 0, 0, 0, 0, 0, 0, 0, 7, 7],\n",
       "  [7, 7, 0, 0, 0, 0, 0, 0, 0, 0, 0, 0, 7, 7],\n",
       "  [7, 7, 0, 0, 0, 0, 0, 0, 0, 0, 0, 0, 7, 7],\n",
       "  [7, 7, 0, 0, 0, 0, 0, 0, 0, 0, 0, 0, 7, 7],\n",
       "  [7, 7, 0, 0, 0, 0, 0, 0, 0, 0, 0, 0, 7, 7],\n",
       "  [7, 7, 0, 0, 0, 0, 0, 0, 0, 0, 0, 0, 7, 7],\n",
       "  [7, 7, 0, 0, 1, 0, 0, 0, 0, 0, 0, 0, 7, 7],\n",
       "  [7, 7, 0, 0, 2, 1, 0, 0, 0, 0, 0, 0, 7, 7],\n",
       "  [7, 7, 0, 0, 1, 0, 0, 0, 0, 0, 0, 0, 7, 7],\n",
       "  [7, 7, 3, 3, 3, 3, 0, 0, 3, 3, 3, 3, 7, 7],\n",
       "  [7, 7, 3, 3, 3, 3, 3, 0, 3, 3, 3, 3, 7, 7],\n",
       "  [7, 7, 7, 7, 7, 7, 7, 7, 7, 7, 7, 7, 7, 7],\n",
       "  [7, 7, 7, 7, 7, 7, 7, 7, 7, 7, 7, 7, 7, 7]],\n",
       " [[7, 7, 0, 0, 0, 0, 0, 0, 0, 0, 0, 0, 7, 7],\n",
       "  [7, 7, 0, 0, 0, 0, 0, 0, 0, 0, 0, 0, 7, 7],\n",
       "  [7, 7, 0, 0, 0, 0, 0, 0, 0, 0, 0, 0, 7, 7],\n",
       "  [7, 7, 0, 0, 0, 0, 0, 0, 0, 0, 0, 0, 7, 7],\n",
       "  [7, 7, 0, 0, 0, 0, 0, 0, 0, 0, 0, 0, 7, 7],\n",
       "  [7, 7, 0, 0, 0, 0, 0, 0, 0, 0, 0, 0, 7, 7],\n",
       "  [7, 7, 0, 0, 0, 0, 0, 0, 0, 0, 0, 0, 7, 7],\n",
       "  [7, 7, 0, 0, 0, 0, 0, 0, 0, 0, 0, 0, 7, 7],\n",
       "  [7, 7, 0, 0, 0, 0, 0, 0, 0, 0, 0, 0, 7, 7],\n",
       "  [7, 7, 0, 0, 0, 0, 0, 0, 0, 0, 0, 0, 7, 7],\n",
       "  [7, 7, 0, 0, 0, 0, 0, 0, 0, 0, 0, 0, 7, 7],\n",
       "  [7, 7, 0, 0, 0, 0, 0, 0, 0, 0, 0, 0, 7, 7],\n",
       "  [7, 7, 0, 0, 0, 0, 0, 0, 0, 0, 0, 0, 7, 7],\n",
       "  [7, 7, 0, 0, 0, 0, 0, 0, 0, 0, 0, 0, 7, 7],\n",
       "  [7, 7, 0, 0, 0, 0, 0, 0, 0, 0, 0, 0, 7, 7],\n",
       "  [7, 7, 0, 0, 0, 0, 0, 0, 0, 0, 0, 0, 7, 7],\n",
       "  [7, 7, 0, 0, 0, 0, 0, 0, 0, 0, 0, 0, 7, 7],\n",
       "  [7, 7, 0, 0, 0, 0, 0, 0, 0, 0, 0, 0, 7, 7],\n",
       "  [7, 7, 0, 0, 0, 1, 0, 0, 0, 0, 0, 0, 7, 7],\n",
       "  [7, 7, 0, 0, 1, 2, 0, 0, 0, 0, 0, 0, 7, 7],\n",
       "  [7, 7, 0, 0, 0, 1, 0, 0, 0, 0, 0, 0, 7, 7],\n",
       "  [7, 7, 3, 3, 3, 3, 0, 0, 3, 3, 3, 3, 7, 7],\n",
       "  [7, 7, 3, 3, 3, 3, 3, 0, 3, 3, 3, 3, 7, 7],\n",
       "  [7, 7, 7, 7, 7, 7, 7, 7, 7, 7, 7, 7, 7, 7],\n",
       "  [7, 7, 7, 7, 7, 7, 7, 7, 7, 7, 7, 7, 7, 7]],\n",
       " [[7, 7, 0, 0, 0, 0, 0, 0, 0, 0, 0, 0, 7, 7],\n",
       "  [7, 7, 0, 0, 0, 0, 0, 0, 0, 0, 0, 0, 7, 7],\n",
       "  [7, 7, 0, 0, 0, 0, 0, 0, 0, 0, 0, 0, 7, 7],\n",
       "  [7, 7, 0, 0, 0, 0, 0, 0, 0, 0, 0, 0, 7, 7],\n",
       "  [7, 7, 0, 0, 0, 0, 0, 0, 0, 0, 0, 0, 7, 7],\n",
       "  [7, 7, 0, 0, 0, 0, 0, 0, 0, 0, 0, 0, 7, 7],\n",
       "  [7, 7, 0, 0, 0, 0, 0, 0, 0, 0, 0, 0, 7, 7],\n",
       "  [7, 7, 0, 0, 0, 0, 0, 0, 0, 0, 0, 0, 7, 7],\n",
       "  [7, 7, 0, 0, 0, 0, 0, 0, 0, 0, 0, 0, 7, 7],\n",
       "  [7, 7, 0, 0, 0, 0, 0, 0, 0, 0, 0, 0, 7, 7],\n",
       "  [7, 7, 0, 0, 0, 0, 0, 0, 0, 0, 0, 0, 7, 7],\n",
       "  [7, 7, 0, 0, 0, 0, 0, 0, 0, 0, 0, 0, 7, 7],\n",
       "  [7, 7, 0, 0, 0, 0, 0, 0, 0, 0, 0, 0, 7, 7],\n",
       "  [7, 7, 0, 0, 0, 0, 0, 0, 0, 0, 0, 0, 7, 7],\n",
       "  [7, 7, 0, 0, 0, 0, 0, 0, 0, 0, 0, 0, 7, 7],\n",
       "  [7, 7, 0, 0, 0, 0, 0, 0, 0, 0, 0, 0, 7, 7],\n",
       "  [7, 7, 0, 0, 0, 0, 0, 0, 0, 0, 0, 0, 7, 7],\n",
       "  [7, 7, 0, 0, 0, 0, 0, 0, 0, 0, 0, 0, 7, 7],\n",
       "  [7, 7, 0, 0, 0, 1, 0, 0, 0, 0, 0, 0, 7, 7],\n",
       "  [7, 7, 0, 0, 0, 2, 1, 0, 0, 0, 0, 0, 7, 7],\n",
       "  [7, 7, 0, 0, 0, 1, 0, 0, 0, 0, 0, 0, 7, 7],\n",
       "  [7, 7, 3, 3, 3, 3, 0, 0, 3, 3, 3, 3, 7, 7],\n",
       "  [7, 7, 3, 3, 3, 3, 3, 0, 3, 3, 3, 3, 7, 7],\n",
       "  [7, 7, 7, 7, 7, 7, 7, 7, 7, 7, 7, 7, 7, 7],\n",
       "  [7, 7, 7, 7, 7, 7, 7, 7, 7, 7, 7, 7, 7, 7]],\n",
       " [[7, 7, 0, 0, 0, 0, 0, 0, 0, 0, 0, 0, 7, 7],\n",
       "  [7, 7, 0, 0, 0, 0, 0, 0, 0, 0, 0, 0, 7, 7],\n",
       "  [7, 7, 0, 0, 0, 0, 0, 0, 0, 0, 0, 0, 7, 7],\n",
       "  [7, 7, 0, 0, 0, 0, 0, 0, 0, 0, 0, 0, 7, 7],\n",
       "  [7, 7, 0, 0, 0, 0, 0, 0, 0, 0, 0, 0, 7, 7],\n",
       "  [7, 7, 0, 0, 0, 0, 0, 0, 0, 0, 0, 0, 7, 7],\n",
       "  [7, 7, 0, 0, 0, 0, 0, 0, 0, 0, 0, 0, 7, 7],\n",
       "  [7, 7, 0, 0, 0, 0, 0, 0, 0, 0, 0, 0, 7, 7],\n",
       "  [7, 7, 0, 0, 0, 0, 0, 0, 0, 0, 0, 0, 7, 7],\n",
       "  [7, 7, 0, 0, 0, 0, 0, 0, 0, 0, 0, 0, 7, 7],\n",
       "  [7, 7, 0, 0, 0, 0, 0, 0, 0, 0, 0, 0, 7, 7],\n",
       "  [7, 7, 0, 0, 0, 0, 0, 0, 0, 0, 0, 0, 7, 7],\n",
       "  [7, 7, 0, 0, 0, 0, 0, 0, 0, 0, 0, 0, 7, 7],\n",
       "  [7, 7, 0, 0, 0, 0, 0, 0, 0, 0, 0, 0, 7, 7],\n",
       "  [7, 7, 0, 0, 0, 0, 0, 0, 0, 0, 0, 0, 7, 7],\n",
       "  [7, 7, 0, 0, 0, 0, 0, 0, 0, 0, 0, 0, 7, 7],\n",
       "  [7, 7, 0, 0, 0, 0, 0, 0, 0, 0, 0, 0, 7, 7],\n",
       "  [7, 7, 0, 0, 0, 0, 0, 0, 0, 0, 0, 0, 7, 7],\n",
       "  [7, 7, 0, 0, 0, 0, 0, 0, 1, 0, 0, 0, 7, 7],\n",
       "  [7, 7, 0, 0, 0, 0, 0, 1, 2, 0, 0, 0, 7, 7],\n",
       "  [7, 7, 0, 0, 0, 0, 0, 0, 1, 0, 0, 0, 7, 7],\n",
       "  [7, 7, 3, 3, 3, 3, 0, 0, 3, 3, 3, 3, 7, 7],\n",
       "  [7, 7, 3, 3, 3, 3, 3, 0, 3, 3, 3, 3, 7, 7],\n",
       "  [7, 7, 7, 7, 7, 7, 7, 7, 7, 7, 7, 7, 7, 7],\n",
       "  [7, 7, 7, 7, 7, 7, 7, 7, 7, 7, 7, 7, 7, 7]],\n",
       " [[7, 7, 0, 0, 0, 0, 0, 0, 0, 0, 0, 0, 7, 7],\n",
       "  [7, 7, 0, 0, 0, 0, 0, 0, 0, 0, 0, 0, 7, 7],\n",
       "  [7, 7, 0, 0, 0, 0, 0, 0, 0, 0, 0, 0, 7, 7],\n",
       "  [7, 7, 0, 0, 0, 0, 0, 0, 0, 0, 0, 0, 7, 7],\n",
       "  [7, 7, 0, 0, 0, 0, 0, 0, 0, 0, 0, 0, 7, 7],\n",
       "  [7, 7, 0, 0, 0, 0, 0, 0, 0, 0, 0, 0, 7, 7],\n",
       "  [7, 7, 0, 0, 0, 0, 0, 0, 0, 0, 0, 0, 7, 7],\n",
       "  [7, 7, 0, 0, 0, 0, 0, 0, 0, 0, 0, 0, 7, 7],\n",
       "  [7, 7, 0, 0, 0, 0, 0, 0, 0, 0, 0, 0, 7, 7],\n",
       "  [7, 7, 0, 0, 0, 0, 0, 0, 0, 0, 0, 0, 7, 7],\n",
       "  [7, 7, 0, 0, 0, 0, 0, 0, 0, 0, 0, 0, 7, 7],\n",
       "  [7, 7, 0, 0, 0, 0, 0, 0, 0, 0, 0, 0, 7, 7],\n",
       "  [7, 7, 0, 0, 0, 0, 0, 0, 0, 0, 0, 0, 7, 7],\n",
       "  [7, 7, 0, 0, 0, 0, 0, 0, 0, 0, 0, 0, 7, 7],\n",
       "  [7, 7, 0, 0, 0, 0, 0, 0, 0, 0, 0, 0, 7, 7],\n",
       "  [7, 7, 0, 0, 0, 0, 0, 0, 0, 0, 0, 0, 7, 7],\n",
       "  [7, 7, 0, 0, 0, 0, 0, 0, 0, 0, 0, 0, 7, 7],\n",
       "  [7, 7, 0, 0, 0, 0, 0, 0, 0, 0, 0, 0, 7, 7],\n",
       "  [7, 7, 0, 0, 0, 0, 0, 0, 1, 0, 0, 0, 7, 7],\n",
       "  [7, 7, 0, 0, 0, 0, 0, 0, 2, 1, 0, 0, 7, 7],\n",
       "  [7, 7, 0, 0, 0, 0, 0, 0, 1, 0, 0, 0, 7, 7],\n",
       "  [7, 7, 3, 3, 3, 3, 0, 0, 3, 3, 3, 3, 7, 7],\n",
       "  [7, 7, 3, 3, 3, 3, 3, 0, 3, 3, 3, 3, 7, 7],\n",
       "  [7, 7, 7, 7, 7, 7, 7, 7, 7, 7, 7, 7, 7, 7],\n",
       "  [7, 7, 7, 7, 7, 7, 7, 7, 7, 7, 7, 7, 7, 7]],\n",
       " [[7, 7, 0, 0, 0, 0, 0, 0, 0, 0, 0, 0, 7, 7],\n",
       "  [7, 7, 0, 0, 0, 0, 0, 0, 0, 0, 0, 0, 7, 7],\n",
       "  [7, 7, 0, 0, 0, 0, 0, 0, 0, 0, 0, 0, 7, 7],\n",
       "  [7, 7, 0, 0, 0, 0, 0, 0, 0, 0, 0, 0, 7, 7],\n",
       "  [7, 7, 0, 0, 0, 0, 0, 0, 0, 0, 0, 0, 7, 7],\n",
       "  [7, 7, 0, 0, 0, 0, 0, 0, 0, 0, 0, 0, 7, 7],\n",
       "  [7, 7, 0, 0, 0, 0, 0, 0, 0, 0, 0, 0, 7, 7],\n",
       "  [7, 7, 0, 0, 0, 0, 0, 0, 0, 0, 0, 0, 7, 7],\n",
       "  [7, 7, 0, 0, 0, 0, 0, 0, 0, 0, 0, 0, 7, 7],\n",
       "  [7, 7, 0, 0, 0, 0, 0, 0, 0, 0, 0, 0, 7, 7],\n",
       "  [7, 7, 0, 0, 0, 0, 0, 0, 0, 0, 0, 0, 7, 7],\n",
       "  [7, 7, 0, 0, 0, 0, 0, 0, 0, 0, 0, 0, 7, 7],\n",
       "  [7, 7, 0, 0, 0, 0, 0, 0, 0, 0, 0, 0, 7, 7],\n",
       "  [7, 7, 0, 0, 0, 0, 0, 0, 0, 0, 0, 0, 7, 7],\n",
       "  [7, 7, 0, 0, 0, 0, 0, 0, 0, 0, 0, 0, 7, 7],\n",
       "  [7, 7, 0, 0, 0, 0, 0, 0, 0, 0, 0, 0, 7, 7],\n",
       "  [7, 7, 0, 0, 0, 0, 0, 0, 0, 0, 0, 0, 7, 7],\n",
       "  [7, 7, 0, 0, 0, 0, 0, 0, 0, 0, 0, 0, 7, 7],\n",
       "  [7, 7, 0, 0, 0, 0, 0, 0, 0, 1, 0, 0, 7, 7],\n",
       "  [7, 7, 0, 0, 0, 0, 0, 0, 1, 2, 0, 0, 7, 7],\n",
       "  [7, 7, 0, 0, 0, 0, 0, 0, 0, 1, 0, 0, 7, 7],\n",
       "  [7, 7, 3, 3, 3, 3, 0, 0, 3, 3, 3, 3, 7, 7],\n",
       "  [7, 7, 3, 3, 3, 3, 3, 0, 3, 3, 3, 3, 7, 7],\n",
       "  [7, 7, 7, 7, 7, 7, 7, 7, 7, 7, 7, 7, 7, 7],\n",
       "  [7, 7, 7, 7, 7, 7, 7, 7, 7, 7, 7, 7, 7, 7]],\n",
       " [[7, 7, 0, 0, 0, 0, 0, 0, 0, 0, 0, 0, 7, 7],\n",
       "  [7, 7, 0, 0, 0, 0, 0, 0, 0, 0, 0, 0, 7, 7],\n",
       "  [7, 7, 0, 0, 0, 0, 0, 0, 0, 0, 0, 0, 7, 7],\n",
       "  [7, 7, 0, 0, 0, 0, 0, 0, 0, 0, 0, 0, 7, 7],\n",
       "  [7, 7, 0, 0, 0, 0, 0, 0, 0, 0, 0, 0, 7, 7],\n",
       "  [7, 7, 0, 0, 0, 0, 0, 0, 0, 0, 0, 0, 7, 7],\n",
       "  [7, 7, 0, 0, 0, 0, 0, 0, 0, 0, 0, 0, 7, 7],\n",
       "  [7, 7, 0, 0, 0, 0, 0, 0, 0, 0, 0, 0, 7, 7],\n",
       "  [7, 7, 0, 0, 0, 0, 0, 0, 0, 0, 0, 0, 7, 7],\n",
       "  [7, 7, 0, 0, 0, 0, 0, 0, 0, 0, 0, 0, 7, 7],\n",
       "  [7, 7, 0, 0, 0, 0, 0, 0, 0, 0, 0, 0, 7, 7],\n",
       "  [7, 7, 0, 0, 0, 0, 0, 0, 0, 0, 0, 0, 7, 7],\n",
       "  [7, 7, 0, 0, 0, 0, 0, 0, 0, 0, 0, 0, 7, 7],\n",
       "  [7, 7, 0, 0, 0, 0, 0, 0, 0, 0, 0, 0, 7, 7],\n",
       "  [7, 7, 0, 0, 0, 0, 0, 0, 0, 0, 0, 0, 7, 7],\n",
       "  [7, 7, 0, 0, 0, 0, 0, 0, 0, 0, 0, 0, 7, 7],\n",
       "  [7, 7, 0, 0, 0, 0, 0, 0, 0, 0, 0, 0, 7, 7],\n",
       "  [7, 7, 0, 0, 0, 0, 0, 0, 0, 0, 0, 0, 7, 7],\n",
       "  [7, 7, 0, 0, 0, 0, 0, 0, 0, 1, 0, 0, 7, 7],\n",
       "  [7, 7, 0, 0, 0, 0, 0, 0, 0, 2, 1, 0, 7, 7],\n",
       "  [7, 7, 0, 0, 0, 0, 0, 0, 0, 1, 0, 0, 7, 7],\n",
       "  [7, 7, 3, 3, 3, 3, 0, 0, 3, 3, 3, 3, 7, 7],\n",
       "  [7, 7, 3, 3, 3, 3, 3, 0, 3, 3, 3, 3, 7, 7],\n",
       "  [7, 7, 7, 7, 7, 7, 7, 7, 7, 7, 7, 7, 7, 7],\n",
       "  [7, 7, 7, 7, 7, 7, 7, 7, 7, 7, 7, 7, 7, 7]],\n",
       " [[7, 7, 0, 0, 0, 0, 0, 0, 0, 0, 0, 0, 7, 7],\n",
       "  [7, 7, 0, 0, 0, 0, 0, 0, 0, 0, 0, 0, 7, 7],\n",
       "  [7, 7, 0, 0, 0, 0, 0, 0, 0, 0, 0, 0, 7, 7],\n",
       "  [7, 7, 0, 0, 0, 0, 0, 0, 0, 0, 0, 0, 7, 7],\n",
       "  [7, 7, 0, 0, 0, 0, 0, 0, 0, 0, 0, 0, 7, 7],\n",
       "  [7, 7, 0, 0, 0, 0, 0, 0, 0, 0, 0, 0, 7, 7],\n",
       "  [7, 7, 0, 0, 0, 0, 0, 0, 0, 0, 0, 0, 7, 7],\n",
       "  [7, 7, 0, 0, 0, 0, 0, 0, 0, 0, 0, 0, 7, 7],\n",
       "  [7, 7, 0, 0, 0, 0, 0, 0, 0, 0, 0, 0, 7, 7],\n",
       "  [7, 7, 0, 0, 0, 0, 0, 0, 0, 0, 0, 0, 7, 7],\n",
       "  [7, 7, 0, 0, 0, 0, 0, 0, 0, 0, 0, 0, 7, 7],\n",
       "  [7, 7, 0, 0, 0, 0, 0, 0, 0, 0, 0, 0, 7, 7],\n",
       "  [7, 7, 0, 0, 0, 0, 0, 0, 0, 0, 0, 0, 7, 7],\n",
       "  [7, 7, 0, 0, 0, 0, 0, 0, 0, 0, 0, 0, 7, 7],\n",
       "  [7, 7, 0, 0, 0, 0, 0, 0, 0, 0, 0, 0, 7, 7],\n",
       "  [7, 7, 0, 0, 0, 0, 0, 0, 0, 0, 0, 0, 7, 7],\n",
       "  [7, 7, 0, 0, 0, 0, 0, 0, 0, 0, 0, 0, 7, 7],\n",
       "  [7, 7, 0, 0, 0, 0, 0, 0, 0, 0, 0, 0, 7, 7],\n",
       "  [7, 7, 0, 0, 0, 0, 0, 0, 0, 0, 1, 0, 7, 7],\n",
       "  [7, 7, 0, 0, 0, 0, 0, 0, 0, 1, 2, 0, 7, 7],\n",
       "  [7, 7, 0, 0, 0, 0, 0, 0, 0, 0, 1, 0, 7, 7],\n",
       "  [7, 7, 3, 3, 3, 3, 0, 0, 3, 3, 3, 3, 7, 7],\n",
       "  [7, 7, 3, 3, 3, 3, 3, 0, 3, 3, 3, 3, 7, 7],\n",
       "  [7, 7, 7, 7, 7, 7, 7, 7, 7, 7, 7, 7, 7, 7],\n",
       "  [7, 7, 7, 7, 7, 7, 7, 7, 7, 7, 7, 7, 7, 7]],\n",
       " [[7, 7, 0, 0, 0, 0, 0, 0, 0, 0, 0, 0, 7, 7],\n",
       "  [7, 7, 0, 0, 0, 0, 0, 0, 0, 0, 0, 0, 7, 7],\n",
       "  [7, 7, 0, 0, 0, 0, 0, 0, 0, 0, 0, 0, 7, 7],\n",
       "  [7, 7, 0, 0, 0, 0, 0, 0, 0, 0, 0, 0, 7, 7],\n",
       "  [7, 7, 0, 0, 0, 0, 0, 0, 0, 0, 0, 0, 7, 7],\n",
       "  [7, 7, 0, 0, 0, 0, 0, 0, 0, 0, 0, 0, 7, 7],\n",
       "  [7, 7, 0, 0, 0, 0, 0, 0, 0, 0, 0, 0, 7, 7],\n",
       "  [7, 7, 0, 0, 0, 0, 0, 0, 0, 0, 0, 0, 7, 7],\n",
       "  [7, 7, 0, 0, 0, 0, 0, 0, 0, 0, 0, 0, 7, 7],\n",
       "  [7, 7, 0, 0, 0, 0, 0, 0, 0, 0, 0, 0, 7, 7],\n",
       "  [7, 7, 0, 0, 0, 0, 0, 0, 0, 0, 0, 0, 7, 7],\n",
       "  [7, 7, 0, 0, 0, 0, 0, 0, 0, 0, 0, 0, 7, 7],\n",
       "  [7, 7, 0, 0, 0, 0, 0, 0, 0, 0, 0, 0, 7, 7],\n",
       "  [7, 7, 0, 0, 0, 0, 0, 0, 0, 0, 0, 0, 7, 7],\n",
       "  [7, 7, 0, 0, 0, 0, 0, 0, 0, 0, 0, 0, 7, 7],\n",
       "  [7, 7, 0, 0, 0, 0, 0, 0, 0, 0, 0, 0, 7, 7],\n",
       "  [7, 7, 0, 0, 0, 0, 0, 0, 0, 0, 0, 0, 7, 7],\n",
       "  [7, 7, 0, 0, 0, 0, 0, 0, 0, 0, 0, 0, 7, 7],\n",
       "  [7, 7, 0, 0, 0, 0, 0, 0, 0, 0, 1, 0, 7, 7],\n",
       "  [7, 7, 0, 0, 0, 0, 0, 0, 0, 0, 2, 1, 7, 7],\n",
       "  [7, 7, 0, 0, 0, 0, 0, 0, 0, 0, 1, 0, 7, 7],\n",
       "  [7, 7, 3, 3, 3, 3, 0, 0, 3, 3, 3, 3, 7, 7],\n",
       "  [7, 7, 3, 3, 3, 3, 3, 0, 3, 3, 3, 3, 7, 7],\n",
       "  [7, 7, 7, 7, 7, 7, 7, 7, 7, 7, 7, 7, 7, 7],\n",
       "  [7, 7, 7, 7, 7, 7, 7, 7, 7, 7, 7, 7, 7, 7]],\n",
       " [[7, 7, 0, 0, 0, 0, 0, 0, 0, 0, 0, 0, 7, 7],\n",
       "  [7, 7, 0, 0, 0, 0, 0, 0, 0, 0, 0, 0, 7, 7],\n",
       "  [7, 7, 0, 0, 0, 0, 0, 0, 0, 0, 0, 0, 7, 7],\n",
       "  [7, 7, 0, 0, 0, 0, 0, 0, 0, 0, 0, 0, 7, 7],\n",
       "  [7, 7, 0, 0, 0, 0, 0, 0, 0, 0, 0, 0, 7, 7],\n",
       "  [7, 7, 0, 0, 0, 0, 0, 0, 0, 0, 0, 0, 7, 7],\n",
       "  [7, 7, 0, 0, 0, 0, 0, 0, 0, 0, 0, 0, 7, 7],\n",
       "  [7, 7, 0, 0, 0, 0, 0, 0, 0, 0, 0, 0, 7, 7],\n",
       "  [7, 7, 0, 0, 0, 0, 0, 0, 0, 0, 0, 0, 7, 7],\n",
       "  [7, 7, 0, 0, 0, 0, 0, 0, 0, 0, 0, 0, 7, 7],\n",
       "  [7, 7, 0, 0, 0, 0, 0, 0, 0, 0, 0, 0, 7, 7],\n",
       "  [7, 7, 0, 0, 0, 0, 0, 0, 0, 0, 0, 0, 7, 7],\n",
       "  [7, 7, 0, 0, 0, 0, 0, 0, 0, 0, 0, 0, 7, 7],\n",
       "  [7, 7, 0, 0, 0, 0, 0, 0, 0, 0, 0, 0, 7, 7],\n",
       "  [7, 7, 0, 0, 0, 0, 0, 0, 0, 0, 0, 0, 7, 7],\n",
       "  [7, 7, 0, 0, 0, 0, 0, 0, 0, 0, 0, 0, 7, 7],\n",
       "  [7, 7, 0, 0, 0, 0, 0, 0, 0, 0, 0, 0, 7, 7],\n",
       "  [7, 7, 0, 0, 0, 0, 0, 0, 0, 0, 0, 0, 7, 7],\n",
       "  [7, 7, 0, 0, 0, 0, 0, 0, 0, 0, 0, 1, 7, 7],\n",
       "  [7, 7, 0, 0, 0, 0, 0, 0, 0, 0, 1, 2, 7, 7],\n",
       "  [7, 7, 0, 0, 0, 0, 0, 0, 0, 0, 0, 1, 7, 7],\n",
       "  [7, 7, 3, 3, 3, 3, 0, 0, 3, 3, 3, 3, 7, 7],\n",
       "  [7, 7, 3, 3, 3, 3, 3, 0, 3, 3, 3, 3, 7, 7],\n",
       "  [7, 7, 7, 7, 7, 7, 7, 7, 7, 7, 7, 7, 7, 7],\n",
       "  [7, 7, 7, 7, 7, 7, 7, 7, 7, 7, 7, 7, 7, 7]],\n",
       " [[7, 7, 0, 0, 0, 0, 0, 0, 0, 0, 0, 0, 7, 7],\n",
       "  [7, 7, 0, 0, 0, 0, 0, 0, 0, 0, 0, 0, 7, 7],\n",
       "  [7, 7, 0, 0, 0, 0, 0, 0, 0, 0, 0, 0, 7, 7],\n",
       "  [7, 7, 0, 0, 0, 0, 0, 0, 0, 0, 0, 0, 7, 7],\n",
       "  [7, 7, 0, 0, 0, 0, 0, 0, 0, 0, 0, 0, 7, 7],\n",
       "  [7, 7, 0, 0, 0, 0, 0, 0, 0, 0, 0, 0, 7, 7],\n",
       "  [7, 7, 0, 0, 0, 0, 0, 0, 0, 0, 0, 0, 7, 7],\n",
       "  [7, 7, 0, 0, 0, 0, 0, 0, 0, 0, 0, 0, 7, 7],\n",
       "  [7, 7, 0, 0, 0, 0, 0, 0, 0, 0, 0, 0, 7, 7],\n",
       "  [7, 7, 0, 0, 0, 0, 0, 0, 0, 0, 0, 0, 7, 7],\n",
       "  [7, 7, 0, 0, 0, 0, 0, 0, 0, 0, 0, 0, 7, 7],\n",
       "  [7, 7, 0, 0, 0, 0, 0, 0, 0, 0, 0, 0, 7, 7],\n",
       "  [7, 7, 0, 0, 0, 0, 0, 0, 0, 0, 0, 0, 7, 7],\n",
       "  [7, 7, 0, 0, 0, 0, 0, 0, 0, 0, 0, 0, 7, 7],\n",
       "  [7, 7, 0, 0, 0, 0, 0, 0, 0, 0, 0, 0, 7, 7],\n",
       "  [7, 7, 0, 0, 0, 0, 0, 0, 0, 0, 0, 0, 7, 7],\n",
       "  [7, 7, 0, 0, 0, 0, 0, 0, 0, 0, 0, 0, 7, 7],\n",
       "  [7, 7, 0, 0, 0, 0, 0, 0, 0, 0, 0, 0, 7, 7],\n",
       "  [7, 7, 0, 0, 0, 0, 0, 0, 0, 0, 0, 0, 7, 7],\n",
       "  [7, 7, 0, 0, 0, 0, 0, 0, 0, 0, 0, 0, 7, 7],\n",
       "  [7, 7, 0, 0, 0, 0, 1, 2, 1, 0, 0, 0, 7, 7],\n",
       "  [7, 7, 3, 3, 3, 3, 0, 1, 3, 3, 3, 3, 7, 7],\n",
       "  [7, 7, 3, 3, 3, 3, 3, 0, 3, 3, 3, 3, 7, 7],\n",
       "  [7, 7, 7, 7, 7, 7, 7, 7, 7, 7, 7, 7, 7, 7],\n",
       "  [7, 7, 7, 7, 7, 7, 7, 7, 7, 7, 7, 7, 7, 7]],\n",
       " [[7, 7, 0, 0, 0, 0, 0, 0, 0, 0, 0, 0, 7, 7],\n",
       "  [7, 7, 0, 0, 0, 0, 0, 0, 0, 0, 0, 0, 7, 7],\n",
       "  [7, 7, 0, 0, 0, 0, 0, 0, 0, 0, 0, 0, 7, 7],\n",
       "  [7, 7, 0, 0, 0, 0, 0, 0, 0, 0, 0, 0, 7, 7],\n",
       "  [7, 7, 0, 0, 0, 0, 0, 0, 0, 0, 0, 0, 7, 7],\n",
       "  [7, 7, 0, 0, 0, 0, 0, 0, 0, 0, 0, 0, 7, 7],\n",
       "  [7, 7, 0, 0, 0, 0, 0, 0, 0, 0, 0, 0, 7, 7],\n",
       "  [7, 7, 0, 0, 0, 0, 0, 0, 0, 0, 0, 0, 7, 7],\n",
       "  [7, 7, 0, 0, 0, 0, 0, 0, 0, 0, 0, 0, 7, 7],\n",
       "  [7, 7, 0, 0, 0, 0, 0, 0, 0, 0, 0, 0, 7, 7],\n",
       "  [7, 7, 0, 0, 0, 0, 0, 0, 0, 0, 0, 0, 7, 7],\n",
       "  [7, 7, 0, 0, 0, 0, 0, 0, 0, 0, 0, 0, 7, 7],\n",
       "  [7, 7, 0, 0, 0, 0, 0, 0, 0, 0, 0, 0, 7, 7],\n",
       "  [7, 7, 0, 0, 0, 0, 0, 0, 0, 0, 0, 0, 7, 7],\n",
       "  [7, 7, 0, 0, 0, 0, 0, 0, 0, 0, 0, 0, 7, 7],\n",
       "  [7, 7, 0, 0, 0, 0, 0, 0, 0, 0, 0, 0, 7, 7],\n",
       "  [7, 7, 0, 0, 0, 0, 0, 0, 0, 0, 0, 0, 7, 7],\n",
       "  [7, 7, 0, 0, 0, 0, 0, 0, 0, 0, 0, 0, 7, 7],\n",
       "  [7, 7, 0, 0, 0, 0, 0, 0, 0, 0, 0, 0, 7, 7],\n",
       "  [7, 7, 0, 0, 0, 0, 1, 0, 0, 0, 0, 0, 7, 7],\n",
       "  [7, 7, 0, 0, 0, 1, 2, 1, 0, 0, 0, 0, 7, 7],\n",
       "  [7, 7, 3, 3, 3, 3, 0, 0, 3, 3, 3, 3, 7, 7],\n",
       "  [7, 7, 3, 3, 3, 3, 3, 0, 3, 3, 3, 3, 7, 7],\n",
       "  [7, 7, 7, 7, 7, 7, 7, 7, 7, 7, 7, 7, 7, 7],\n",
       "  [7, 7, 7, 7, 7, 7, 7, 7, 7, 7, 7, 7, 7, 7]],\n",
       " [[7, 7, 0, 0, 0, 0, 0, 0, 0, 0, 0, 0, 7, 7],\n",
       "  [7, 7, 0, 0, 0, 0, 0, 0, 0, 0, 0, 0, 7, 7],\n",
       "  [7, 7, 0, 0, 0, 0, 0, 0, 0, 0, 0, 0, 7, 7],\n",
       "  [7, 7, 0, 0, 0, 0, 0, 0, 0, 0, 0, 0, 7, 7],\n",
       "  [7, 7, 0, 0, 0, 0, 0, 0, 0, 0, 0, 0, 7, 7],\n",
       "  [7, 7, 0, 0, 0, 0, 0, 0, 0, 0, 0, 0, 7, 7],\n",
       "  [7, 7, 0, 0, 0, 0, 0, 0, 0, 0, 0, 0, 7, 7],\n",
       "  [7, 7, 0, 0, 0, 0, 0, 0, 0, 0, 0, 0, 7, 7],\n",
       "  [7, 7, 0, 0, 0, 0, 0, 0, 0, 0, 0, 0, 7, 7],\n",
       "  [7, 7, 0, 0, 0, 0, 0, 0, 0, 0, 0, 0, 7, 7],\n",
       "  [7, 7, 0, 0, 0, 0, 0, 0, 0, 0, 0, 0, 7, 7],\n",
       "  [7, 7, 0, 0, 0, 0, 0, 0, 0, 0, 0, 0, 7, 7],\n",
       "  [7, 7, 0, 0, 0, 0, 0, 0, 0, 0, 0, 0, 7, 7],\n",
       "  [7, 7, 0, 0, 0, 0, 0, 0, 0, 0, 0, 0, 7, 7],\n",
       "  [7, 7, 0, 0, 0, 0, 0, 0, 0, 0, 0, 0, 7, 7],\n",
       "  [7, 7, 0, 0, 0, 0, 0, 0, 0, 0, 0, 0, 7, 7],\n",
       "  [7, 7, 0, 0, 0, 0, 0, 0, 0, 0, 0, 0, 7, 7],\n",
       "  [7, 7, 0, 0, 0, 0, 0, 0, 0, 0, 0, 0, 7, 7],\n",
       "  [7, 7, 0, 0, 0, 0, 0, 0, 0, 0, 0, 0, 7, 7],\n",
       "  [7, 7, 0, 0, 0, 0, 0, 1, 0, 0, 0, 0, 7, 7],\n",
       "  [7, 7, 0, 0, 0, 0, 1, 2, 1, 0, 0, 0, 7, 7],\n",
       "  [7, 7, 3, 3, 3, 3, 0, 0, 3, 3, 3, 3, 7, 7],\n",
       "  [7, 7, 3, 3, 3, 3, 3, 0, 3, 3, 3, 3, 7, 7],\n",
       "  [7, 7, 7, 7, 7, 7, 7, 7, 7, 7, 7, 7, 7, 7],\n",
       "  [7, 7, 7, 7, 7, 7, 7, 7, 7, 7, 7, 7, 7, 7]],\n",
       " [[7, 7, 0, 0, 0, 0, 0, 0, 0, 0, 0, 0, 7, 7],\n",
       "  [7, 7, 0, 0, 0, 0, 0, 0, 0, 0, 0, 0, 7, 7],\n",
       "  [7, 7, 0, 0, 0, 0, 0, 0, 0, 0, 0, 0, 7, 7],\n",
       "  [7, 7, 0, 0, 0, 0, 0, 0, 0, 0, 0, 0, 7, 7],\n",
       "  [7, 7, 0, 0, 0, 0, 0, 0, 0, 0, 0, 0, 7, 7],\n",
       "  [7, 7, 0, 0, 0, 0, 0, 0, 0, 0, 0, 0, 7, 7],\n",
       "  [7, 7, 0, 0, 0, 0, 0, 0, 0, 0, 0, 0, 7, 7],\n",
       "  [7, 7, 0, 0, 0, 0, 0, 0, 0, 0, 0, 0, 7, 7],\n",
       "  [7, 7, 0, 0, 0, 0, 0, 0, 0, 0, 0, 0, 7, 7],\n",
       "  [7, 7, 0, 0, 0, 0, 0, 0, 0, 0, 0, 0, 7, 7],\n",
       "  [7, 7, 0, 0, 0, 0, 0, 0, 0, 0, 0, 0, 7, 7],\n",
       "  [7, 7, 0, 0, 0, 0, 0, 0, 0, 0, 0, 0, 7, 7],\n",
       "  [7, 7, 0, 0, 0, 0, 0, 0, 0, 0, 0, 0, 7, 7],\n",
       "  [7, 7, 0, 0, 0, 0, 0, 0, 0, 0, 0, 0, 7, 7],\n",
       "  [7, 7, 0, 0, 0, 0, 0, 0, 0, 0, 0, 0, 7, 7],\n",
       "  [7, 7, 0, 0, 0, 0, 0, 0, 0, 0, 0, 0, 7, 7],\n",
       "  [7, 7, 0, 0, 0, 0, 0, 0, 0, 0, 0, 0, 7, 7],\n",
       "  [7, 7, 0, 0, 0, 0, 0, 0, 0, 0, 0, 0, 7, 7],\n",
       "  [7, 7, 0, 0, 0, 0, 0, 0, 0, 0, 0, 0, 7, 7],\n",
       "  [7, 7, 1, 2, 1, 0, 0, 0, 0, 0, 0, 0, 7, 7],\n",
       "  [7, 7, 0, 1, 0, 0, 0, 0, 0, 0, 0, 0, 7, 7],\n",
       "  [7, 7, 3, 3, 3, 3, 0, 0, 3, 3, 3, 3, 7, 7],\n",
       "  [7, 7, 3, 3, 3, 3, 3, 0, 3, 3, 3, 3, 7, 7],\n",
       "  [7, 7, 7, 7, 7, 7, 7, 7, 7, 7, 7, 7, 7, 7],\n",
       "  [7, 7, 7, 7, 7, 7, 7, 7, 7, 7, 7, 7, 7, 7]],\n",
       " [[7, 7, 0, 0, 0, 0, 0, 0, 0, 0, 0, 0, 7, 7],\n",
       "  [7, 7, 0, 0, 0, 0, 0, 0, 0, 0, 0, 0, 7, 7],\n",
       "  [7, 7, 0, 0, 0, 0, 0, 0, 0, 0, 0, 0, 7, 7],\n",
       "  [7, 7, 0, 0, 0, 0, 0, 0, 0, 0, 0, 0, 7, 7],\n",
       "  [7, 7, 0, 0, 0, 0, 0, 0, 0, 0, 0, 0, 7, 7],\n",
       "  [7, 7, 0, 0, 0, 0, 0, 0, 0, 0, 0, 0, 7, 7],\n",
       "  [7, 7, 0, 0, 0, 0, 0, 0, 0, 0, 0, 0, 7, 7],\n",
       "  [7, 7, 0, 0, 0, 0, 0, 0, 0, 0, 0, 0, 7, 7],\n",
       "  [7, 7, 0, 0, 0, 0, 0, 0, 0, 0, 0, 0, 7, 7],\n",
       "  [7, 7, 0, 0, 0, 0, 0, 0, 0, 0, 0, 0, 7, 7],\n",
       "  [7, 7, 0, 0, 0, 0, 0, 0, 0, 0, 0, 0, 7, 7],\n",
       "  [7, 7, 0, 0, 0, 0, 0, 0, 0, 0, 0, 0, 7, 7],\n",
       "  [7, 7, 0, 0, 0, 0, 0, 0, 0, 0, 0, 0, 7, 7],\n",
       "  [7, 7, 0, 0, 0, 0, 0, 0, 0, 0, 0, 0, 7, 7],\n",
       "  [7, 7, 0, 0, 0, 0, 0, 0, 0, 0, 0, 0, 7, 7],\n",
       "  [7, 7, 0, 0, 0, 0, 0, 0, 0, 0, 0, 0, 7, 7],\n",
       "  [7, 7, 0, 0, 0, 0, 0, 0, 0, 0, 0, 0, 7, 7],\n",
       "  [7, 7, 0, 0, 0, 0, 0, 0, 0, 0, 0, 0, 7, 7],\n",
       "  [7, 7, 0, 0, 0, 0, 0, 0, 0, 0, 0, 0, 7, 7],\n",
       "  [7, 7, 0, 1, 2, 1, 0, 0, 0, 0, 0, 0, 7, 7],\n",
       "  [7, 7, 0, 0, 1, 0, 0, 0, 0, 0, 0, 0, 7, 7],\n",
       "  [7, 7, 3, 3, 3, 3, 0, 0, 3, 3, 3, 3, 7, 7],\n",
       "  [7, 7, 3, 3, 3, 3, 3, 0, 3, 3, 3, 3, 7, 7],\n",
       "  [7, 7, 7, 7, 7, 7, 7, 7, 7, 7, 7, 7, 7, 7],\n",
       "  [7, 7, 7, 7, 7, 7, 7, 7, 7, 7, 7, 7, 7, 7]],\n",
       " [[7, 7, 0, 0, 0, 0, 0, 0, 0, 0, 0, 0, 7, 7],\n",
       "  [7, 7, 0, 0, 0, 0, 0, 0, 0, 0, 0, 0, 7, 7],\n",
       "  [7, 7, 0, 0, 0, 0, 0, 0, 0, 0, 0, 0, 7, 7],\n",
       "  [7, 7, 0, 0, 0, 0, 0, 0, 0, 0, 0, 0, 7, 7],\n",
       "  [7, 7, 0, 0, 0, 0, 0, 0, 0, 0, 0, 0, 7, 7],\n",
       "  [7, 7, 0, 0, 0, 0, 0, 0, 0, 0, 0, 0, 7, 7],\n",
       "  [7, 7, 0, 0, 0, 0, 0, 0, 0, 0, 0, 0, 7, 7],\n",
       "  [7, 7, 0, 0, 0, 0, 0, 0, 0, 0, 0, 0, 7, 7],\n",
       "  [7, 7, 0, 0, 0, 0, 0, 0, 0, 0, 0, 0, 7, 7],\n",
       "  [7, 7, 0, 0, 0, 0, 0, 0, 0, 0, 0, 0, 7, 7],\n",
       "  [7, 7, 0, 0, 0, 0, 0, 0, 0, 0, 0, 0, 7, 7],\n",
       "  [7, 7, 0, 0, 0, 0, 0, 0, 0, 0, 0, 0, 7, 7],\n",
       "  [7, 7, 0, 0, 0, 0, 0, 0, 0, 0, 0, 0, 7, 7],\n",
       "  [7, 7, 0, 0, 0, 0, 0, 0, 0, 0, 0, 0, 7, 7],\n",
       "  [7, 7, 0, 0, 0, 0, 0, 0, 0, 0, 0, 0, 7, 7],\n",
       "  [7, 7, 0, 0, 0, 0, 0, 0, 0, 0, 0, 0, 7, 7],\n",
       "  [7, 7, 0, 0, 0, 0, 0, 0, 0, 0, 0, 0, 7, 7],\n",
       "  [7, 7, 0, 0, 0, 0, 0, 0, 0, 0, 0, 0, 7, 7],\n",
       "  [7, 7, 0, 0, 0, 0, 0, 0, 0, 0, 0, 0, 7, 7],\n",
       "  [7, 7, 0, 0, 1, 2, 1, 0, 0, 0, 0, 0, 7, 7],\n",
       "  [7, 7, 0, 0, 0, 1, 0, 0, 0, 0, 0, 0, 7, 7],\n",
       "  [7, 7, 3, 3, 3, 3, 0, 0, 3, 3, 3, 3, 7, 7],\n",
       "  [7, 7, 3, 3, 3, 3, 3, 0, 3, 3, 3, 3, 7, 7],\n",
       "  [7, 7, 7, 7, 7, 7, 7, 7, 7, 7, 7, 7, 7, 7],\n",
       "  [7, 7, 7, 7, 7, 7, 7, 7, 7, 7, 7, 7, 7, 7]],\n",
       " [[7, 7, 0, 0, 0, 0, 0, 0, 0, 0, 0, 0, 7, 7],\n",
       "  [7, 7, 0, 0, 0, 0, 0, 0, 0, 0, 0, 0, 7, 7],\n",
       "  [7, 7, 0, 0, 0, 0, 0, 0, 0, 0, 0, 0, 7, 7],\n",
       "  [7, 7, 0, 0, 0, 0, 0, 0, 0, 0, 0, 0, 7, 7],\n",
       "  [7, 7, 0, 0, 0, 0, 0, 0, 0, 0, 0, 0, 7, 7],\n",
       "  [7, 7, 0, 0, 0, 0, 0, 0, 0, 0, 0, 0, 7, 7],\n",
       "  [7, 7, 0, 0, 0, 0, 0, 0, 0, 0, 0, 0, 7, 7],\n",
       "  [7, 7, 0, 0, 0, 0, 0, 0, 0, 0, 0, 0, 7, 7],\n",
       "  [7, 7, 0, 0, 0, 0, 0, 0, 0, 0, 0, 0, 7, 7],\n",
       "  [7, 7, 0, 0, 0, 0, 0, 0, 0, 0, 0, 0, 7, 7],\n",
       "  [7, 7, 0, 0, 0, 0, 0, 0, 0, 0, 0, 0, 7, 7],\n",
       "  [7, 7, 0, 0, 0, 0, 0, 0, 0, 0, 0, 0, 7, 7],\n",
       "  [7, 7, 0, 0, 0, 0, 0, 0, 0, 0, 0, 0, 7, 7],\n",
       "  [7, 7, 0, 0, 0, 0, 0, 0, 0, 0, 0, 0, 7, 7],\n",
       "  [7, 7, 0, 0, 0, 0, 0, 0, 0, 0, 0, 0, 7, 7],\n",
       "  [7, 7, 0, 0, 0, 0, 0, 0, 0, 0, 0, 0, 7, 7],\n",
       "  [7, 7, 0, 0, 0, 0, 0, 0, 0, 0, 0, 0, 7, 7],\n",
       "  [7, 7, 0, 0, 0, 0, 0, 0, 0, 0, 0, 0, 7, 7],\n",
       "  [7, 7, 0, 0, 0, 0, 0, 0, 0, 0, 0, 0, 7, 7],\n",
       "  [7, 7, 0, 0, 0, 0, 0, 1, 2, 1, 0, 0, 7, 7],\n",
       "  [7, 7, 0, 0, 0, 0, 0, 0, 1, 0, 0, 0, 7, 7],\n",
       "  [7, 7, 3, 3, 3, 3, 0, 0, 3, 3, 3, 3, 7, 7],\n",
       "  [7, 7, 3, 3, 3, 3, 3, 0, 3, 3, 3, 3, 7, 7],\n",
       "  [7, 7, 7, 7, 7, 7, 7, 7, 7, 7, 7, 7, 7, 7],\n",
       "  [7, 7, 7, 7, 7, 7, 7, 7, 7, 7, 7, 7, 7, 7]],\n",
       " [[7, 7, 0, 0, 0, 0, 0, 0, 0, 0, 0, 0, 7, 7],\n",
       "  [7, 7, 0, 0, 0, 0, 0, 0, 0, 0, 0, 0, 7, 7],\n",
       "  [7, 7, 0, 0, 0, 0, 0, 0, 0, 0, 0, 0, 7, 7],\n",
       "  [7, 7, 0, 0, 0, 0, 0, 0, 0, 0, 0, 0, 7, 7],\n",
       "  [7, 7, 0, 0, 0, 0, 0, 0, 0, 0, 0, 0, 7, 7],\n",
       "  [7, 7, 0, 0, 0, 0, 0, 0, 0, 0, 0, 0, 7, 7],\n",
       "  [7, 7, 0, 0, 0, 0, 0, 0, 0, 0, 0, 0, 7, 7],\n",
       "  [7, 7, 0, 0, 0, 0, 0, 0, 0, 0, 0, 0, 7, 7],\n",
       "  [7, 7, 0, 0, 0, 0, 0, 0, 0, 0, 0, 0, 7, 7],\n",
       "  [7, 7, 0, 0, 0, 0, 0, 0, 0, 0, 0, 0, 7, 7],\n",
       "  [7, 7, 0, 0, 0, 0, 0, 0, 0, 0, 0, 0, 7, 7],\n",
       "  [7, 7, 0, 0, 0, 0, 0, 0, 0, 0, 0, 0, 7, 7],\n",
       "  [7, 7, 0, 0, 0, 0, 0, 0, 0, 0, 0, 0, 7, 7],\n",
       "  [7, 7, 0, 0, 0, 0, 0, 0, 0, 0, 0, 0, 7, 7],\n",
       "  [7, 7, 0, 0, 0, 0, 0, 0, 0, 0, 0, 0, 7, 7],\n",
       "  [7, 7, 0, 0, 0, 0, 0, 0, 0, 0, 0, 0, 7, 7],\n",
       "  [7, 7, 0, 0, 0, 0, 0, 0, 0, 0, 0, 0, 7, 7],\n",
       "  [7, 7, 0, 0, 0, 0, 0, 0, 0, 0, 0, 0, 7, 7],\n",
       "  [7, 7, 0, 0, 0, 0, 0, 0, 0, 0, 0, 0, 7, 7],\n",
       "  [7, 7, 0, 0, 0, 0, 0, 0, 1, 2, 1, 0, 7, 7],\n",
       "  [7, 7, 0, 0, 0, 0, 0, 0, 0, 1, 0, 0, 7, 7],\n",
       "  [7, 7, 3, 3, 3, 3, 0, 0, 3, 3, 3, 3, 7, 7],\n",
       "  [7, 7, 3, 3, 3, 3, 3, 0, 3, 3, 3, 3, 7, 7],\n",
       "  [7, 7, 7, 7, 7, 7, 7, 7, 7, 7, 7, 7, 7, 7],\n",
       "  [7, 7, 7, 7, 7, 7, 7, 7, 7, 7, 7, 7, 7, 7]],\n",
       " [[7, 7, 0, 0, 0, 0, 0, 0, 0, 0, 0, 0, 7, 7],\n",
       "  [7, 7, 0, 0, 0, 0, 0, 0, 0, 0, 0, 0, 7, 7],\n",
       "  [7, 7, 0, 0, 0, 0, 0, 0, 0, 0, 0, 0, 7, 7],\n",
       "  [7, 7, 0, 0, 0, 0, 0, 0, 0, 0, 0, 0, 7, 7],\n",
       "  [7, 7, 0, 0, 0, 0, 0, 0, 0, 0, 0, 0, 7, 7],\n",
       "  [7, 7, 0, 0, 0, 0, 0, 0, 0, 0, 0, 0, 7, 7],\n",
       "  [7, 7, 0, 0, 0, 0, 0, 0, 0, 0, 0, 0, 7, 7],\n",
       "  [7, 7, 0, 0, 0, 0, 0, 0, 0, 0, 0, 0, 7, 7],\n",
       "  [7, 7, 0, 0, 0, 0, 0, 0, 0, 0, 0, 0, 7, 7],\n",
       "  [7, 7, 0, 0, 0, 0, 0, 0, 0, 0, 0, 0, 7, 7],\n",
       "  [7, 7, 0, 0, 0, 0, 0, 0, 0, 0, 0, 0, 7, 7],\n",
       "  [7, 7, 0, 0, 0, 0, 0, 0, 0, 0, 0, 0, 7, 7],\n",
       "  [7, 7, 0, 0, 0, 0, 0, 0, 0, 0, 0, 0, 7, 7],\n",
       "  [7, 7, 0, 0, 0, 0, 0, 0, 0, 0, 0, 0, 7, 7],\n",
       "  [7, 7, 0, 0, 0, 0, 0, 0, 0, 0, 0, 0, 7, 7],\n",
       "  [7, 7, 0, 0, 0, 0, 0, 0, 0, 0, 0, 0, 7, 7],\n",
       "  [7, 7, 0, 0, 0, 0, 0, 0, 0, 0, 0, 0, 7, 7],\n",
       "  [7, 7, 0, 0, 0, 0, 0, 0, 0, 0, 0, 0, 7, 7],\n",
       "  [7, 7, 0, 0, 0, 0, 0, 0, 0, 0, 0, 0, 7, 7],\n",
       "  [7, 7, 0, 0, 0, 0, 0, 0, 0, 1, 2, 1, 7, 7],\n",
       "  [7, 7, 0, 0, 0, 0, 0, 0, 0, 0, 1, 0, 7, 7],\n",
       "  [7, 7, 3, 3, 3, 3, 0, 0, 3, 3, 3, 3, 7, 7],\n",
       "  [7, 7, 3, 3, 3, 3, 3, 0, 3, 3, 3, 3, 7, 7],\n",
       "  [7, 7, 7, 7, 7, 7, 7, 7, 7, 7, 7, 7, 7, 7],\n",
       "  [7, 7, 7, 7, 7, 7, 7, 7, 7, 7, 7, 7, 7, 7]]]"
      ]
     },
     "execution_count": 29,
     "metadata": {},
     "output_type": "execute_result"
    }
   ],
   "source": [
    "#Ejemplo de su Uso, devuelve una lista de los estados de mejor a peor\n",
    "CalculoEstadosFinalesOrdenados(estado0,piezas[5])"
   ]
  },
  {
   "cell_type": "code",
   "execution_count": 30,
   "metadata": {},
   "outputs": [],
   "source": [
    "#Apartado 3"
   ]
  },
  {
   "cell_type": "code",
   "execution_count": 31,
   "metadata": {},
   "outputs": [],
   "source": [
    "#dado un estado y una ficha, la inserta en el tablero"
   ]
  },
  {
   "cell_type": "code",
   "execution_count": 32,
   "metadata": {},
   "outputs": [],
   "source": [
    "\n",
    "def pon_ficha_nueva(estado,pieza):\n",
    "        x=0\n",
    "        y=4\n",
    "        nuevo_estado = copy.deepcopy(estado)\n",
    "        for a,j in reversed(list(enumerate(pieza))):\n",
    "            for b,k in list(enumerate(pieza)):\n",
    "                if pieza[a][b]==1 or pieza[a][b]==2:\n",
    "                    nuevo_estado[x+a][y+b]=pieza[a][b]                                     #Adjudicamos valor a la casilla del nuevo estado\n",
    "        return nuevo_estado"
   ]
  },
  {
   "cell_type": "code",
   "execution_count": 33,
   "metadata": {},
   "outputs": [],
   "source": [
    "#Dado un estado inicial, y una pieza te calcula los movimientos para llegar al estado mas óptimo, en el caso de no encontrarlo \n",
    "#va probando los siguientes estados hasta llegar a uno"
   ]
  },
  {
   "cell_type": "code",
   "execution_count": 34,
   "metadata": {},
   "outputs": [],
   "source": [
    "#Dado un estado y una pieza (y un numero de intentos, inicializar a 0) devuelve un par de los movimientos que dar y el intento en el cual se consiguio\n",
    "\n",
    "def CalculoMovimientos(estado0,pieza,intentos):\n",
    "   \n",
    "   \n",
    "    if(intentos<len(CalculoEstadosFinalesOrdenados(estado0,pieza))-1):\n",
    "        try:\n",
    "            acciones =[MoverAbajo(),MoverIzquierda(),MoverDerecha(),Rotar(),RotarInverso()]\n",
    "            estado_inicial = pon_ficha_nueva(estado0,pieza)\n",
    "            estados_finales = CalculoEstadosFinalesOrdenados(estado0,pieza)\n",
    "            estado_final = estados_finales[intentos]\n",
    "            estadosFinales=[estado_final]\n",
    "            tetris3=probee.ProblemaEspacioEstados(acciones,estado_inicial,estadosFinales)\n",
    "            b_Estrella = búsqee.BúsquedaAEstrella(heuristica,detallado=False)\n",
    "            res= b_Estrella.buscar(tetris3)\n",
    "            return res,intentos\n",
    "            \n",
    "        except:\n",
    "            print(\"no encontrada solucion, probando de nuevo con otro estado intento numero:\"+ str(intentos+1)+ \"de\" + str(len(CalculoEstadosFinalesOrdenados(estado0,pieza))))\n",
    "            return CalculoMovimientos(estado0,pieza,intentos+1)      \n",
    "\n",
    "    else:\n",
    "        print(\"No Encontrada Solucion\")\n",
    "        return 777\n",
    "       "
   ]
  },
  {
   "cell_type": "code",
   "execution_count": 35,
   "metadata": {},
   "outputs": [],
   "source": [
    "#ejemplo en un tablero normal"
   ]
  },
  {
   "cell_type": "code",
   "execution_count": 36,
   "metadata": {},
   "outputs": [
    {
     "data": {
      "text/plain": [
       "(['muevo abajo',\n",
       "  'muevo abajo',\n",
       "  'muevo abajo',\n",
       "  'muevo abajo',\n",
       "  'muevo abajo',\n",
       "  'muevo abajo',\n",
       "  'muevo abajo',\n",
       "  'muevo abajo',\n",
       "  'muevo abajo',\n",
       "  'muevo abajo',\n",
       "  'muevo abajo',\n",
       "  'muevo abajo',\n",
       "  'muevo abajo',\n",
       "  'muevo abajo',\n",
       "  'muevo abajo',\n",
       "  'muevo abajo',\n",
       "  'muevo abajo',\n",
       "  'muevo abajo',\n",
       "  'muevo derecha',\n",
       "  'Roto 90 grados',\n",
       "  'muevo abajo'],\n",
       " 0)"
      ]
     },
     "execution_count": 36,
     "metadata": {},
     "output_type": "execute_result"
    }
   ],
   "source": [
    "CalculoMovimientos(estado0,piezas[2],0)"
   ]
  },
  {
   "cell_type": "code",
   "execution_count": 37,
   "metadata": {},
   "outputs": [],
   "source": [
    "#Ejemplo en un tablero creado con malicia, los primeros 29 posibles estados son imposibles de alcanzar"
   ]
  },
  {
   "cell_type": "code",
   "execution_count": 38,
   "metadata": {},
   "outputs": [
    {
     "name": "stdout",
     "output_type": "stream",
     "text": [
      "no encontrada solucion, probando de nuevo con otro estado intento numero:1de64\n",
      "no encontrada solucion, probando de nuevo con otro estado intento numero:2de64\n",
      "no encontrada solucion, probando de nuevo con otro estado intento numero:3de64\n",
      "no encontrada solucion, probando de nuevo con otro estado intento numero:4de64\n",
      "no encontrada solucion, probando de nuevo con otro estado intento numero:5de64\n",
      "no encontrada solucion, probando de nuevo con otro estado intento numero:6de64\n",
      "no encontrada solucion, probando de nuevo con otro estado intento numero:7de64\n",
      "no encontrada solucion, probando de nuevo con otro estado intento numero:8de64\n",
      "no encontrada solucion, probando de nuevo con otro estado intento numero:9de64\n",
      "no encontrada solucion, probando de nuevo con otro estado intento numero:10de64\n",
      "(['muevo abajo', 'muevo abajo', 'muevo abajo', 'muevo abajo', 'muevo abajo', 'muevo abajo', 'muevo abajo', 'muevo abajo', 'muevo abajo', 'muevo abajo', 'muevo izquierda', 'muevo izquierda', 'Roto -90 grados', 'muevo izquierda', 'muevo izquierda', 'muevo abajo'], 10)\n"
     ]
    }
   ],
   "source": [
    "res=CalculoMovimientos(estadoConTrampa,piezas[2],0)\n",
    "print(res)"
   ]
  },
  {
   "cell_type": "code",
   "execution_count": 39,
   "metadata": {},
   "outputs": [],
   "source": [
    "#Dado un estado inicial vacio, inserta la ficha 5, calcula sus movimientos, la mueve al objetivo e inserta la ficha 0"
   ]
  },
  {
   "cell_type": "code",
   "execution_count": 40,
   "metadata": {
    "scrolled": false
   },
   "outputs": [
    {
     "data": {
      "text/html": [
       "<table><tr><td>7</td><td>7</td><td>0</td><td>0</td><td>0</td><td>0</td><td>0</td><td>0</td><td>0</td><td>0</td><td>0</td><td>0</td><td>7</td><td>7</td></tr><tr><td>7</td><td>7</td><td>0</td><td>0</td><td>0</td><td>0</td><td>0</td><td>0</td><td>0</td><td>0</td><td>0</td><td>0</td><td>7</td><td>7</td></tr><tr><td>7</td><td>7</td><td>0</td><td>0</td><td>0</td><td>0</td><td>0</td><td>0</td><td>0</td><td>0</td><td>0</td><td>0</td><td>7</td><td>7</td></tr><tr><td>7</td><td>7</td><td>0</td><td>0</td><td>0</td><td>0</td><td>0</td><td>0</td><td>0</td><td>0</td><td>0</td><td>0</td><td>7</td><td>7</td></tr><tr><td>7</td><td>7</td><td>0</td><td>0</td><td>0</td><td>0</td><td>0</td><td>0</td><td>0</td><td>0</td><td>0</td><td>0</td><td>7</td><td>7</td></tr><tr><td>7</td><td>7</td><td>0</td><td>0</td><td>0</td><td>0</td><td>0</td><td>0</td><td>0</td><td>0</td><td>0</td><td>0</td><td>7</td><td>7</td></tr><tr><td>7</td><td>7</td><td>0</td><td>0</td><td>0</td><td>0</td><td>0</td><td>0</td><td>0</td><td>0</td><td>0</td><td>0</td><td>7</td><td>7</td></tr><tr><td>7</td><td>7</td><td>0</td><td>0</td><td>0</td><td>0</td><td>0</td><td>0</td><td>0</td><td>0</td><td>0</td><td>0</td><td>7</td><td>7</td></tr><tr><td>7</td><td>7</td><td>0</td><td>0</td><td>0</td><td>0</td><td>0</td><td>0</td><td>0</td><td>0</td><td>0</td><td>0</td><td>7</td><td>7</td></tr><tr><td>7</td><td>7</td><td>0</td><td>0</td><td>0</td><td>0</td><td>0</td><td>0</td><td>0</td><td>0</td><td>0</td><td>0</td><td>7</td><td>7</td></tr><tr><td>7</td><td>7</td><td>0</td><td>0</td><td>0</td><td>0</td><td>0</td><td>0</td><td>0</td><td>0</td><td>0</td><td>0</td><td>7</td><td>7</td></tr><tr><td>7</td><td>7</td><td>0</td><td>0</td><td>0</td><td>0</td><td>0</td><td>0</td><td>0</td><td>0</td><td>0</td><td>0</td><td>7</td><td>7</td></tr><tr><td>7</td><td>7</td><td>0</td><td>0</td><td>0</td><td>0</td><td>0</td><td>0</td><td>0</td><td>0</td><td>0</td><td>0</td><td>7</td><td>7</td></tr><tr><td>7</td><td>7</td><td>0</td><td>0</td><td>0</td><td>0</td><td>0</td><td>0</td><td>0</td><td>0</td><td>0</td><td>0</td><td>7</td><td>7</td></tr><tr><td>7</td><td>7</td><td>0</td><td>0</td><td>0</td><td>0</td><td>0</td><td>0</td><td>0</td><td>0</td><td>0</td><td>0</td><td>7</td><td>7</td></tr><tr><td>7</td><td>7</td><td>0</td><td>0</td><td>0</td><td>0</td><td>0</td><td>0</td><td>0</td><td>0</td><td>0</td><td>0</td><td>7</td><td>7</td></tr><tr><td>7</td><td>7</td><td>0</td><td>0</td><td>0</td><td>0</td><td>0</td><td>0</td><td>0</td><td>0</td><td>0</td><td>0</td><td>7</td><td>7</td></tr><tr><td>7</td><td>7</td><td>0</td><td>0</td><td>0</td><td>0</td><td>0</td><td>0</td><td>0</td><td>0</td><td>0</td><td>0</td><td>7</td><td>7</td></tr><tr><td>7</td><td>7</td><td>0</td><td>0</td><td>0</td><td>0</td><td>0</td><td>0</td><td>0</td><td>0</td><td>0</td><td>0</td><td>7</td><td>7</td></tr><tr><td>7</td><td>7</td><td>0</td><td>0</td><td>0</td><td>0</td><td>0</td><td>0</td><td>0</td><td>0</td><td>0</td><td>0</td><td>7</td><td>7</td></tr><tr><td>7</td><td>7</td><td>0</td><td>0</td><td>0</td><td>0</td><td>0</td><td>0</td><td>0</td><td>0</td><td>0</td><td>0</td><td>7</td><td>7</td></tr><tr><td>7</td><td>7</td><td>3</td><td>3</td><td>3</td><td>3</td><td>0</td><td>0</td><td>3</td><td>3</td><td>3</td><td>3</td><td>7</td><td>7</td></tr><tr><td>7</td><td>7</td><td>3</td><td>3</td><td>3</td><td>3</td><td>3</td><td>0</td><td>3</td><td>3</td><td>3</td><td>3</td><td>7</td><td>7</td></tr><tr><td>7</td><td>7</td><td>7</td><td>7</td><td>7</td><td>7</td><td>7</td><td>7</td><td>7</td><td>7</td><td>7</td><td>7</td><td>7</td><td>7</td></tr><tr><td>7</td><td>7</td><td>7</td><td>7</td><td>7</td><td>7</td><td>7</td><td>7</td><td>7</td><td>7</td><td>7</td><td>7</td><td>7</td><td>7</td></tr></table>"
      ],
      "text/plain": [
       "<IPython.core.display.HTML object>"
      ]
     },
     "metadata": {},
     "output_type": "display_data"
    },
    {
     "name": "stdout",
     "output_type": "stream",
     "text": [
      "\n"
     ]
    },
    {
     "data": {
      "text/html": [
       "<table><tr><td>7</td><td>7</td><td>0</td><td>0</td><td>0</td><td>0</td><td>0</td><td>0</td><td>0</td><td>0</td><td>0</td><td>0</td><td>7</td><td>7</td></tr><tr><td>7</td><td>7</td><td>0</td><td>0</td><td>0</td><td>0</td><td>1</td><td>0</td><td>0</td><td>0</td><td>0</td><td>0</td><td>7</td><td>7</td></tr><tr><td>7</td><td>7</td><td>0</td><td>0</td><td>0</td><td>1</td><td>2</td><td>1</td><td>0</td><td>0</td><td>0</td><td>0</td><td>7</td><td>7</td></tr><tr><td>7</td><td>7</td><td>0</td><td>0</td><td>0</td><td>0</td><td>0</td><td>0</td><td>0</td><td>0</td><td>0</td><td>0</td><td>7</td><td>7</td></tr><tr><td>7</td><td>7</td><td>0</td><td>0</td><td>0</td><td>0</td><td>0</td><td>0</td><td>0</td><td>0</td><td>0</td><td>0</td><td>7</td><td>7</td></tr><tr><td>7</td><td>7</td><td>0</td><td>0</td><td>0</td><td>0</td><td>0</td><td>0</td><td>0</td><td>0</td><td>0</td><td>0</td><td>7</td><td>7</td></tr><tr><td>7</td><td>7</td><td>0</td><td>0</td><td>0</td><td>0</td><td>0</td><td>0</td><td>0</td><td>0</td><td>0</td><td>0</td><td>7</td><td>7</td></tr><tr><td>7</td><td>7</td><td>0</td><td>0</td><td>0</td><td>0</td><td>0</td><td>0</td><td>0</td><td>0</td><td>0</td><td>0</td><td>7</td><td>7</td></tr><tr><td>7</td><td>7</td><td>0</td><td>0</td><td>0</td><td>0</td><td>0</td><td>0</td><td>0</td><td>0</td><td>0</td><td>0</td><td>7</td><td>7</td></tr><tr><td>7</td><td>7</td><td>0</td><td>0</td><td>0</td><td>0</td><td>0</td><td>0</td><td>0</td><td>0</td><td>0</td><td>0</td><td>7</td><td>7</td></tr><tr><td>7</td><td>7</td><td>0</td><td>0</td><td>0</td><td>0</td><td>0</td><td>0</td><td>0</td><td>0</td><td>0</td><td>0</td><td>7</td><td>7</td></tr><tr><td>7</td><td>7</td><td>0</td><td>0</td><td>0</td><td>0</td><td>0</td><td>0</td><td>0</td><td>0</td><td>0</td><td>0</td><td>7</td><td>7</td></tr><tr><td>7</td><td>7</td><td>0</td><td>0</td><td>0</td><td>0</td><td>0</td><td>0</td><td>0</td><td>0</td><td>0</td><td>0</td><td>7</td><td>7</td></tr><tr><td>7</td><td>7</td><td>0</td><td>0</td><td>0</td><td>0</td><td>0</td><td>0</td><td>0</td><td>0</td><td>0</td><td>0</td><td>7</td><td>7</td></tr><tr><td>7</td><td>7</td><td>0</td><td>0</td><td>0</td><td>0</td><td>0</td><td>0</td><td>0</td><td>0</td><td>0</td><td>0</td><td>7</td><td>7</td></tr><tr><td>7</td><td>7</td><td>0</td><td>0</td><td>0</td><td>0</td><td>0</td><td>0</td><td>0</td><td>0</td><td>0</td><td>0</td><td>7</td><td>7</td></tr><tr><td>7</td><td>7</td><td>0</td><td>0</td><td>0</td><td>0</td><td>0</td><td>0</td><td>0</td><td>0</td><td>0</td><td>0</td><td>7</td><td>7</td></tr><tr><td>7</td><td>7</td><td>0</td><td>0</td><td>0</td><td>0</td><td>0</td><td>0</td><td>0</td><td>0</td><td>0</td><td>0</td><td>7</td><td>7</td></tr><tr><td>7</td><td>7</td><td>0</td><td>0</td><td>0</td><td>0</td><td>0</td><td>0</td><td>0</td><td>0</td><td>0</td><td>0</td><td>7</td><td>7</td></tr><tr><td>7</td><td>7</td><td>0</td><td>0</td><td>0</td><td>0</td><td>0</td><td>0</td><td>0</td><td>0</td><td>0</td><td>0</td><td>7</td><td>7</td></tr><tr><td>7</td><td>7</td><td>0</td><td>0</td><td>0</td><td>0</td><td>0</td><td>0</td><td>0</td><td>0</td><td>0</td><td>0</td><td>7</td><td>7</td></tr><tr><td>7</td><td>7</td><td>3</td><td>3</td><td>3</td><td>3</td><td>0</td><td>0</td><td>3</td><td>3</td><td>3</td><td>3</td><td>7</td><td>7</td></tr><tr><td>7</td><td>7</td><td>3</td><td>3</td><td>3</td><td>3</td><td>3</td><td>0</td><td>3</td><td>3</td><td>3</td><td>3</td><td>7</td><td>7</td></tr><tr><td>7</td><td>7</td><td>7</td><td>7</td><td>7</td><td>7</td><td>7</td><td>7</td><td>7</td><td>7</td><td>7</td><td>7</td><td>7</td><td>7</td></tr><tr><td>7</td><td>7</td><td>7</td><td>7</td><td>7</td><td>7</td><td>7</td><td>7</td><td>7</td><td>7</td><td>7</td><td>7</td><td>7</td><td>7</td></tr></table>"
      ],
      "text/plain": [
       "<IPython.core.display.HTML object>"
      ]
     },
     "metadata": {},
     "output_type": "display_data"
    },
    {
     "name": "stdout",
     "output_type": "stream",
     "text": [
      "(['muevo abajo', 'muevo abajo', 'muevo abajo', 'muevo abajo', 'muevo abajo', 'muevo abajo', 'muevo abajo', 'muevo abajo', 'muevo abajo', 'muevo abajo', 'muevo abajo', 'muevo abajo', 'muevo abajo', 'muevo abajo', 'muevo abajo', 'muevo abajo', 'muevo abajo', 'muevo abajo', 'muevo derecha', 'Roto 90 grados', 'muevo abajo'], 0)\n"
     ]
    },
    {
     "data": {
      "text/html": [
       "<table><tr><td>7</td><td>7</td><td>0</td><td>0</td><td>0</td><td>0</td><td>0</td><td>0</td><td>0</td><td>0</td><td>0</td><td>0</td><td>7</td><td>7</td></tr><tr><td>7</td><td>7</td><td>0</td><td>0</td><td>0</td><td>0</td><td>0</td><td>0</td><td>0</td><td>0</td><td>0</td><td>0</td><td>7</td><td>7</td></tr><tr><td>7</td><td>7</td><td>0</td><td>0</td><td>0</td><td>0</td><td>0</td><td>0</td><td>0</td><td>0</td><td>0</td><td>0</td><td>7</td><td>7</td></tr><tr><td>7</td><td>7</td><td>0</td><td>0</td><td>0</td><td>0</td><td>0</td><td>0</td><td>0</td><td>0</td><td>0</td><td>0</td><td>7</td><td>7</td></tr><tr><td>7</td><td>7</td><td>0</td><td>0</td><td>0</td><td>0</td><td>0</td><td>0</td><td>0</td><td>0</td><td>0</td><td>0</td><td>7</td><td>7</td></tr><tr><td>7</td><td>7</td><td>0</td><td>0</td><td>0</td><td>0</td><td>0</td><td>0</td><td>0</td><td>0</td><td>0</td><td>0</td><td>7</td><td>7</td></tr><tr><td>7</td><td>7</td><td>0</td><td>0</td><td>0</td><td>0</td><td>0</td><td>0</td><td>0</td><td>0</td><td>0</td><td>0</td><td>7</td><td>7</td></tr><tr><td>7</td><td>7</td><td>0</td><td>0</td><td>0</td><td>0</td><td>0</td><td>0</td><td>0</td><td>0</td><td>0</td><td>0</td><td>7</td><td>7</td></tr><tr><td>7</td><td>7</td><td>0</td><td>0</td><td>0</td><td>0</td><td>0</td><td>0</td><td>0</td><td>0</td><td>0</td><td>0</td><td>7</td><td>7</td></tr><tr><td>7</td><td>7</td><td>0</td><td>0</td><td>0</td><td>0</td><td>0</td><td>0</td><td>0</td><td>0</td><td>0</td><td>0</td><td>7</td><td>7</td></tr><tr><td>7</td><td>7</td><td>0</td><td>0</td><td>0</td><td>0</td><td>0</td><td>0</td><td>0</td><td>0</td><td>0</td><td>0</td><td>7</td><td>7</td></tr><tr><td>7</td><td>7</td><td>0</td><td>0</td><td>0</td><td>0</td><td>0</td><td>0</td><td>0</td><td>0</td><td>0</td><td>0</td><td>7</td><td>7</td></tr><tr><td>7</td><td>7</td><td>0</td><td>0</td><td>0</td><td>0</td><td>0</td><td>0</td><td>0</td><td>0</td><td>0</td><td>0</td><td>7</td><td>7</td></tr><tr><td>7</td><td>7</td><td>0</td><td>0</td><td>0</td><td>0</td><td>0</td><td>0</td><td>0</td><td>0</td><td>0</td><td>0</td><td>7</td><td>7</td></tr><tr><td>7</td><td>7</td><td>0</td><td>0</td><td>0</td><td>0</td><td>0</td><td>0</td><td>0</td><td>0</td><td>0</td><td>0</td><td>7</td><td>7</td></tr><tr><td>7</td><td>7</td><td>0</td><td>0</td><td>0</td><td>0</td><td>0</td><td>0</td><td>0</td><td>0</td><td>0</td><td>0</td><td>7</td><td>7</td></tr><tr><td>7</td><td>7</td><td>0</td><td>0</td><td>0</td><td>0</td><td>0</td><td>0</td><td>0</td><td>0</td><td>0</td><td>0</td><td>7</td><td>7</td></tr><tr><td>7</td><td>7</td><td>0</td><td>0</td><td>0</td><td>0</td><td>0</td><td>0</td><td>0</td><td>0</td><td>0</td><td>0</td><td>7</td><td>7</td></tr><tr><td>7</td><td>7</td><td>0</td><td>0</td><td>0</td><td>0</td><td>0</td><td>0</td><td>0</td><td>0</td><td>0</td><td>0</td><td>7</td><td>7</td></tr><tr><td>7</td><td>7</td><td>0</td><td>0</td><td>0</td><td>0</td><td>0</td><td>0</td><td>0</td><td>0</td><td>0</td><td>0</td><td>7</td><td>7</td></tr><tr><td>7</td><td>7</td><td>0</td><td>0</td><td>0</td><td>0</td><td>0</td><td>1</td><td>0</td><td>0</td><td>0</td><td>0</td><td>7</td><td>7</td></tr><tr><td>7</td><td>7</td><td>3</td><td>3</td><td>3</td><td>3</td><td>1</td><td>2</td><td>3</td><td>3</td><td>3</td><td>3</td><td>7</td><td>7</td></tr><tr><td>7</td><td>7</td><td>3</td><td>3</td><td>3</td><td>3</td><td>3</td><td>1</td><td>3</td><td>3</td><td>3</td><td>3</td><td>7</td><td>7</td></tr><tr><td>7</td><td>7</td><td>7</td><td>7</td><td>7</td><td>7</td><td>7</td><td>7</td><td>7</td><td>7</td><td>7</td><td>7</td><td>7</td><td>7</td></tr><tr><td>7</td><td>7</td><td>7</td><td>7</td><td>7</td><td>7</td><td>7</td><td>7</td><td>7</td><td>7</td><td>7</td><td>7</td><td>7</td><td>7</td></tr></table>"
      ],
      "text/plain": [
       "<IPython.core.display.HTML object>"
      ]
     },
     "metadata": {},
     "output_type": "display_data"
    },
    {
     "data": {
      "text/html": [
       "<table><tr><td>7</td><td>7</td><td>0</td><td>0</td><td>0</td><td>0</td><td>0</td><td>0</td><td>0</td><td>0</td><td>0</td><td>0</td><td>7</td><td>7</td></tr><tr><td>7</td><td>7</td><td>0</td><td>0</td><td>0</td><td>0</td><td>0</td><td>0</td><td>0</td><td>0</td><td>0</td><td>0</td><td>7</td><td>7</td></tr><tr><td>7</td><td>7</td><td>0</td><td>0</td><td>0</td><td>0</td><td>0</td><td>0</td><td>0</td><td>0</td><td>0</td><td>0</td><td>7</td><td>7</td></tr><tr><td>7</td><td>7</td><td>0</td><td>0</td><td>0</td><td>0</td><td>0</td><td>0</td><td>0</td><td>0</td><td>0</td><td>0</td><td>7</td><td>7</td></tr><tr><td>7</td><td>7</td><td>0</td><td>0</td><td>0</td><td>0</td><td>0</td><td>0</td><td>0</td><td>0</td><td>0</td><td>0</td><td>7</td><td>7</td></tr><tr><td>7</td><td>7</td><td>0</td><td>0</td><td>0</td><td>0</td><td>0</td><td>0</td><td>0</td><td>0</td><td>0</td><td>0</td><td>7</td><td>7</td></tr><tr><td>7</td><td>7</td><td>0</td><td>0</td><td>0</td><td>0</td><td>0</td><td>0</td><td>0</td><td>0</td><td>0</td><td>0</td><td>7</td><td>7</td></tr><tr><td>7</td><td>7</td><td>0</td><td>0</td><td>0</td><td>0</td><td>0</td><td>0</td><td>0</td><td>0</td><td>0</td><td>0</td><td>7</td><td>7</td></tr><tr><td>7</td><td>7</td><td>0</td><td>0</td><td>0</td><td>0</td><td>0</td><td>0</td><td>0</td><td>0</td><td>0</td><td>0</td><td>7</td><td>7</td></tr><tr><td>7</td><td>7</td><td>0</td><td>0</td><td>0</td><td>0</td><td>0</td><td>0</td><td>0</td><td>0</td><td>0</td><td>0</td><td>7</td><td>7</td></tr><tr><td>7</td><td>7</td><td>0</td><td>0</td><td>0</td><td>0</td><td>0</td><td>0</td><td>0</td><td>0</td><td>0</td><td>0</td><td>7</td><td>7</td></tr><tr><td>7</td><td>7</td><td>0</td><td>0</td><td>0</td><td>0</td><td>0</td><td>0</td><td>0</td><td>0</td><td>0</td><td>0</td><td>7</td><td>7</td></tr><tr><td>7</td><td>7</td><td>0</td><td>0</td><td>0</td><td>0</td><td>0</td><td>0</td><td>0</td><td>0</td><td>0</td><td>0</td><td>7</td><td>7</td></tr><tr><td>7</td><td>7</td><td>0</td><td>0</td><td>0</td><td>0</td><td>0</td><td>0</td><td>0</td><td>0</td><td>0</td><td>0</td><td>7</td><td>7</td></tr><tr><td>7</td><td>7</td><td>0</td><td>0</td><td>0</td><td>0</td><td>0</td><td>0</td><td>0</td><td>0</td><td>0</td><td>0</td><td>7</td><td>7</td></tr><tr><td>7</td><td>7</td><td>0</td><td>0</td><td>0</td><td>0</td><td>0</td><td>0</td><td>0</td><td>0</td><td>0</td><td>0</td><td>7</td><td>7</td></tr><tr><td>7</td><td>7</td><td>0</td><td>0</td><td>0</td><td>0</td><td>0</td><td>0</td><td>0</td><td>0</td><td>0</td><td>0</td><td>7</td><td>7</td></tr><tr><td>7</td><td>7</td><td>0</td><td>0</td><td>0</td><td>0</td><td>0</td><td>0</td><td>0</td><td>0</td><td>0</td><td>0</td><td>7</td><td>7</td></tr><tr><td>7</td><td>7</td><td>0</td><td>0</td><td>0</td><td>0</td><td>0</td><td>0</td><td>0</td><td>0</td><td>0</td><td>0</td><td>7</td><td>7</td></tr><tr><td>7</td><td>7</td><td>0</td><td>0</td><td>0</td><td>0</td><td>0</td><td>0</td><td>0</td><td>0</td><td>0</td><td>0</td><td>7</td><td>7</td></tr><tr><td>7</td><td>7</td><td>0</td><td>0</td><td>0</td><td>0</td><td>0</td><td>0</td><td>0</td><td>0</td><td>0</td><td>0</td><td>7</td><td>7</td></tr><tr><td>7</td><td>7</td><td>0</td><td>0</td><td>0</td><td>0</td><td>0</td><td>0</td><td>0</td><td>0</td><td>0</td><td>0</td><td>7</td><td>7</td></tr><tr><td>7</td><td>7</td><td>0</td><td>0</td><td>0</td><td>0</td><td>0</td><td>3</td><td>0</td><td>0</td><td>0</td><td>0</td><td>7</td><td>7</td></tr><tr><td>7</td><td>7</td><td>7</td><td>7</td><td>7</td><td>7</td><td>7</td><td>7</td><td>7</td><td>7</td><td>7</td><td>7</td><td>7</td><td>7</td></tr><tr><td>7</td><td>7</td><td>7</td><td>7</td><td>7</td><td>7</td><td>7</td><td>7</td><td>7</td><td>7</td><td>7</td><td>7</td><td>7</td><td>7</td></tr></table>"
      ],
      "text/plain": [
       "<IPython.core.display.HTML object>"
      ]
     },
     "metadata": {},
     "output_type": "display_data"
    },
    {
     "data": {
      "text/html": [
       "<table><tr><td>7</td><td>7</td><td>0</td><td>0</td><td>0</td><td>0</td><td>0</td><td>0</td><td>0</td><td>0</td><td>0</td><td>0</td><td>7</td><td>7</td></tr><tr><td>7</td><td>7</td><td>0</td><td>0</td><td>0</td><td>0</td><td>0</td><td>0</td><td>0</td><td>0</td><td>0</td><td>0</td><td>7</td><td>7</td></tr><tr><td>7</td><td>7</td><td>0</td><td>0</td><td>0</td><td>1</td><td>2</td><td>1</td><td>1</td><td>0</td><td>0</td><td>0</td><td>7</td><td>7</td></tr><tr><td>7</td><td>7</td><td>0</td><td>0</td><td>0</td><td>0</td><td>0</td><td>0</td><td>0</td><td>0</td><td>0</td><td>0</td><td>7</td><td>7</td></tr><tr><td>7</td><td>7</td><td>0</td><td>0</td><td>0</td><td>0</td><td>0</td><td>0</td><td>0</td><td>0</td><td>0</td><td>0</td><td>7</td><td>7</td></tr><tr><td>7</td><td>7</td><td>0</td><td>0</td><td>0</td><td>0</td><td>0</td><td>0</td><td>0</td><td>0</td><td>0</td><td>0</td><td>7</td><td>7</td></tr><tr><td>7</td><td>7</td><td>0</td><td>0</td><td>0</td><td>0</td><td>0</td><td>0</td><td>0</td><td>0</td><td>0</td><td>0</td><td>7</td><td>7</td></tr><tr><td>7</td><td>7</td><td>0</td><td>0</td><td>0</td><td>0</td><td>0</td><td>0</td><td>0</td><td>0</td><td>0</td><td>0</td><td>7</td><td>7</td></tr><tr><td>7</td><td>7</td><td>0</td><td>0</td><td>0</td><td>0</td><td>0</td><td>0</td><td>0</td><td>0</td><td>0</td><td>0</td><td>7</td><td>7</td></tr><tr><td>7</td><td>7</td><td>0</td><td>0</td><td>0</td><td>0</td><td>0</td><td>0</td><td>0</td><td>0</td><td>0</td><td>0</td><td>7</td><td>7</td></tr><tr><td>7</td><td>7</td><td>0</td><td>0</td><td>0</td><td>0</td><td>0</td><td>0</td><td>0</td><td>0</td><td>0</td><td>0</td><td>7</td><td>7</td></tr><tr><td>7</td><td>7</td><td>0</td><td>0</td><td>0</td><td>0</td><td>0</td><td>0</td><td>0</td><td>0</td><td>0</td><td>0</td><td>7</td><td>7</td></tr><tr><td>7</td><td>7</td><td>0</td><td>0</td><td>0</td><td>0</td><td>0</td><td>0</td><td>0</td><td>0</td><td>0</td><td>0</td><td>7</td><td>7</td></tr><tr><td>7</td><td>7</td><td>0</td><td>0</td><td>0</td><td>0</td><td>0</td><td>0</td><td>0</td><td>0</td><td>0</td><td>0</td><td>7</td><td>7</td></tr><tr><td>7</td><td>7</td><td>0</td><td>0</td><td>0</td><td>0</td><td>0</td><td>0</td><td>0</td><td>0</td><td>0</td><td>0</td><td>7</td><td>7</td></tr><tr><td>7</td><td>7</td><td>0</td><td>0</td><td>0</td><td>0</td><td>0</td><td>0</td><td>0</td><td>0</td><td>0</td><td>0</td><td>7</td><td>7</td></tr><tr><td>7</td><td>7</td><td>0</td><td>0</td><td>0</td><td>0</td><td>0</td><td>0</td><td>0</td><td>0</td><td>0</td><td>0</td><td>7</td><td>7</td></tr><tr><td>7</td><td>7</td><td>0</td><td>0</td><td>0</td><td>0</td><td>0</td><td>0</td><td>0</td><td>0</td><td>0</td><td>0</td><td>7</td><td>7</td></tr><tr><td>7</td><td>7</td><td>0</td><td>0</td><td>0</td><td>0</td><td>0</td><td>0</td><td>0</td><td>0</td><td>0</td><td>0</td><td>7</td><td>7</td></tr><tr><td>7</td><td>7</td><td>0</td><td>0</td><td>0</td><td>0</td><td>0</td><td>0</td><td>0</td><td>0</td><td>0</td><td>0</td><td>7</td><td>7</td></tr><tr><td>7</td><td>7</td><td>0</td><td>0</td><td>0</td><td>0</td><td>0</td><td>0</td><td>0</td><td>0</td><td>0</td><td>0</td><td>7</td><td>7</td></tr><tr><td>7</td><td>7</td><td>0</td><td>0</td><td>0</td><td>0</td><td>0</td><td>0</td><td>0</td><td>0</td><td>0</td><td>0</td><td>7</td><td>7</td></tr><tr><td>7</td><td>7</td><td>0</td><td>0</td><td>0</td><td>0</td><td>0</td><td>3</td><td>0</td><td>0</td><td>0</td><td>0</td><td>7</td><td>7</td></tr><tr><td>7</td><td>7</td><td>7</td><td>7</td><td>7</td><td>7</td><td>7</td><td>7</td><td>7</td><td>7</td><td>7</td><td>7</td><td>7</td><td>7</td></tr><tr><td>7</td><td>7</td><td>7</td><td>7</td><td>7</td><td>7</td><td>7</td><td>7</td><td>7</td><td>7</td><td>7</td><td>7</td><td>7</td><td>7</td></tr></table>"
      ],
      "text/plain": [
       "<IPython.core.display.HTML object>"
      ]
     },
     "metadata": {},
     "output_type": "display_data"
    },
    {
     "name": "stdout",
     "output_type": "stream",
     "text": [
      "(['muevo abajo', 'muevo abajo', 'muevo abajo', 'muevo abajo', 'muevo abajo', 'muevo abajo', 'muevo abajo', 'muevo abajo', 'muevo abajo', 'muevo abajo', 'muevo abajo', 'muevo abajo', 'muevo abajo', 'muevo abajo', 'muevo abajo', 'muevo abajo', 'muevo abajo', 'muevo abajo', 'muevo abajo', 'muevo izquierda', 'muevo izquierda', 'muevo abajo', 'muevo izquierda'], 0)\n"
     ]
    }
   ],
   "source": [
    "printBonito(estado0)\n",
    "print(\"\")\n",
    "printBonito(pon_ficha_nueva(estado0,piezas[5]))\n",
    "print(CalculoMovimientos(estado0,piezas[5],0))\n",
    "nuevoEstado=CalculoEstadoFinal(estado0,piezas[5])\n",
    "printBonito(nuevoEstado)\n",
    "nuevoEstado=MoverAbajo.aplicar(nuevoEstado,nuevoEstado)\n",
    "printBonito(nuevoEstado)\n",
    "nuevoEstadoSinFicha=nuevoEstado\n",
    "printBonito(pon_ficha_nueva(nuevoEstado,piezas[0]))\n",
    "print(CalculoMovimientos(nuevoEstadoSinFicha,piezas[0],0))\n"
   ]
  },
  {
   "cell_type": "code",
   "execution_count": null,
   "metadata": {},
   "outputs": [],
   "source": [
    "def TetrisApartado3Visual(estado,listaFichas):\n",
    "    nuevoEstado=estado\n",
    "    for i in listaFichas:\n",
    "        printBonito(pon_ficha_nueva(nuevoEstado,i))\n",
    "        print(CalculoMovimientos(nuevoEstado,i,0))\n",
    "        nuevoEstado=CalculoEstadoFinal(nuevoEstado,i)\n",
    "        printBonito(nuevoEstado)\n",
    "        nuevoEstado=MoverAbajo.aplicar(nuevoEstado,nuevoEstado)\n",
    "        printBonito(nuevoEstado)\n",
    "        "
   ]
  },
  {
   "cell_type": "code",
   "execution_count": null,
   "metadata": {},
   "outputs": [],
   "source": [
    "#Muestra paso por paso lo que va pasando, con 4 piezas\n",
    "TetrisApartado3Visual(estado0,[piezas[5],piezas[0],piezas[3],piezas[4],piezas[2]])"
   ]
  },
  {
   "cell_type": "code",
   "execution_count": null,
   "metadata": {},
   "outputs": [],
   "source": [
    "#muestra solo los estados finales y las apariciones de fichas, contempla que las soluciones no sean posibles y prueba con \n",
    "#las siguientes alternativas, si se queda sin soluciones posibles da por terminada la partida\n",
    "def TetrisLargoConFin(estado,listaFichas):\n",
    "    nuevoEstado=estado\n",
    "    fichaNumero=0\n",
    "    for i in listaFichas:\n",
    "        fichaNumero=fichaNumero+1\n",
    "        print(\"ficha numero \"+ str(fichaNumero))\n",
    "        printBonito(i)\n",
    "        pon_ficha_nueva(nuevoEstado,i)\n",
    "        res=CalculoMovimientos(nuevoEstado,i,0)\n",
    "        if(res==777):\n",
    "            return (\"fin de la partida\")\n",
    "        nuevoEstados=CalculoEstadosFinalesOrdenados(nuevoEstado,i)\n",
    "        nuevoEstado=nuevoEstados[res[1]]\n",
    "        nuevoEstado=MoverAbajo.aplicar(nuevoEstado,nuevoEstado)\n",
    "        printBonito(nuevoEstado)\n",
    "        "
   ]
  },
  {
   "cell_type": "code",
   "execution_count": null,
   "metadata": {},
   "outputs": [],
   "source": [
    "fichas=[piezas[5]]\n",
    "\n",
    "#generamos una lista de muchas fichas \n",
    "for repeticiones in range (50):\n",
    "    for i in range (0,6): \n",
    "        fichas.append(piezas[i])\n",
    "TetrisLargoConFin(estado0,fichas)\n",
    "print(\"fichas acabadas o partida perdida\")\n",
    "#Jugara una partida hasta que no pueda continuar o acabe la lista de fichas"
   ]
  },
  {
   "cell_type": "code",
   "execution_count": null,
   "metadata": {},
   "outputs": [],
   "source": [
    "#esta version simula la funcion anterior sin los print(ya que reducen el rendimiento), para ver si en algun momento pierde la partida, dandole una lista de fichas enorme\n",
    "\n",
    "def TetrisLargoOptimizado(estado,listaFichas):\n",
    "    nuevoEstado=estado\n",
    "    fichaNumero=0\n",
    "    for i in listaFichas:\n",
    "        fichaNumero=fichaNumero+1\n",
    "        print(\"iteracion numero \"+ str(fichaNumero)+ \" Conseguida\")\n",
    "        pon_ficha_nueva(nuevoEstado,i)\n",
    "        res=CalculoMovimientos(nuevoEstado,i,0)\n",
    "        if(res==777):\n",
    "            return (\"fin de la partida\")\n",
    "        nuevoEstados=CalculoEstadosFinalesOrdenados(nuevoEstado,i)\n",
    "        nuevoEstado=nuevoEstados[res[1]]\n",
    "        nuevoEstado=MoverAbajo.aplicar(nuevoEstado,nuevoEstado)   \n",
    "\n",
    "fichas=[piezas[5]]\n",
    "\n",
    "#generamos una lista de muchas fichas \n",
    "for repeticiones in range (5000):\n",
    "    for i in range (0,6): \n",
    "        fichas.append(piezas[i])"
   ]
  },
  {
   "cell_type": "code",
   "execution_count": null,
   "metadata": {},
   "outputs": [],
   "source": [
    "#Con una lista de fichas No aleatoria y el estado inicial 0, llega a 1510 iteraciones\n",
    "TetrisLargoOptimizado(estado0,fichas)"
   ]
  },
  {
   "cell_type": "code",
   "execution_count": null,
   "metadata": {},
   "outputs": [],
   "source": [
    "#Con la lista de fichas aleatorias y el tablero vacio"
   ]
  },
  {
   "cell_type": "code",
   "execution_count": 46,
   "metadata": {},
   "outputs": [],
   "source": [
    "#esta version simula la funcion anterior sin los print(ya que reducen el rendimiento), para ver si en algun momento pierde la partida, dandole una lista de fichas enorme\n",
    "import random\n",
    "def TetrisLargoAleatorio(estado,listaFichas):\n",
    "    nuevoEstado=estado\n",
    "    fichaNumero=0\n",
    "    for i in listaFichas:\n",
    "        print(\"ficha aleatoria:\")\n",
    "        printBonito(i)\n",
    "        fichaNumero=fichaNumero+1\n",
    "        print(\"iteracion numero \"+ str(fichaNumero)+ \" Conseguida\")\n",
    "        pon_ficha_nueva(nuevoEstado,i)\n",
    "        res=CalculoMovimientos(nuevoEstado,i,0)\n",
    "        if(res==777):\n",
    "            return (\"fin de la partida\")\n",
    "        nuevoEstados=CalculoEstadosFinalesOrdenados(nuevoEstado,i)\n",
    "        nuevoEstado=nuevoEstados[res[1]]\n",
    "        nuevoEstado=MoverAbajo.aplicar(nuevoEstado,nuevoEstado)   \n",
    "\n",
    "fichas=[piezas[5]]\n",
    "\n",
    "#generamos una lista de muchas fichas \n",
    "for repeticiones in range (5000):\n",
    "    pieza=piezas[random.randint(0, 6)]\n",
    "    fichas.append(pieza)"
   ]
  },
  {
   "cell_type": "code",
   "execution_count": 48,
   "metadata": {},
   "outputs": [
    {
     "name": "stdout",
     "output_type": "stream",
     "text": [
      "ficha aleatoria:\n"
     ]
    },
    {
     "data": {
      "text/html": [
       "<table><tr><td>0</td><td>0</td><td>0</td><td>0</td><td>0</td></tr><tr><td>0</td><td>0</td><td>1</td><td>0</td><td>0</td></tr><tr><td>0</td><td>1</td><td>2</td><td>1</td><td>0</td></tr><tr><td>0</td><td>0</td><td>0</td><td>0</td><td>0</td></tr><tr><td>0</td><td>0</td><td>0</td><td>0</td><td>0</td></tr></table>"
      ],
      "text/plain": [
       "<IPython.core.display.HTML object>"
      ]
     },
     "metadata": {},
     "output_type": "display_data"
    },
    {
     "name": "stdout",
     "output_type": "stream",
     "text": [
      "iteracion numero 1 Conseguida\n",
      "ficha aleatoria:\n"
     ]
    },
    {
     "data": {
      "text/html": [
       "<table><tr><td>0</td><td>0</td><td>0</td><td>0</td><td>0</td></tr><tr><td>0</td><td>1</td><td>1</td><td>0</td><td>0</td></tr><tr><td>0</td><td>0</td><td>2</td><td>1</td><td>0</td></tr><tr><td>0</td><td>0</td><td>0</td><td>0</td><td>0</td></tr><tr><td>0</td><td>0</td><td>0</td><td>0</td><td>0</td></tr></table>"
      ],
      "text/plain": [
       "<IPython.core.display.HTML object>"
      ]
     },
     "metadata": {},
     "output_type": "display_data"
    },
    {
     "name": "stdout",
     "output_type": "stream",
     "text": [
      "iteracion numero 2 Conseguida\n",
      "ficha aleatoria:\n"
     ]
    },
    {
     "data": {
      "text/html": [
       "<table><tr><td>0</td><td>0</td><td>0</td><td>0</td><td>0</td></tr><tr><td>0</td><td>0</td><td>1</td><td>1</td><td>0</td></tr><tr><td>0</td><td>1</td><td>2</td><td>0</td><td>0</td></tr><tr><td>0</td><td>0</td><td>0</td><td>0</td><td>0</td></tr><tr><td>0</td><td>0</td><td>0</td><td>0</td><td>0</td></tr></table>"
      ],
      "text/plain": [
       "<IPython.core.display.HTML object>"
      ]
     },
     "metadata": {},
     "output_type": "display_data"
    },
    {
     "name": "stdout",
     "output_type": "stream",
     "text": [
      "iteracion numero 3 Conseguida\n",
      "ficha aleatoria:\n"
     ]
    },
    {
     "data": {
      "text/html": [
       "<table><tr><td>0</td><td>0</td><td>0</td><td>0</td><td>0</td></tr><tr><td>0</td><td>1</td><td>1</td><td>0</td><td>0</td></tr><tr><td>0</td><td>0</td><td>2</td><td>1</td><td>0</td></tr><tr><td>0</td><td>0</td><td>0</td><td>0</td><td>0</td></tr><tr><td>0</td><td>0</td><td>0</td><td>0</td><td>0</td></tr></table>"
      ],
      "text/plain": [
       "<IPython.core.display.HTML object>"
      ]
     },
     "metadata": {},
     "output_type": "display_data"
    },
    {
     "name": "stdout",
     "output_type": "stream",
     "text": [
      "iteracion numero 4 Conseguida\n",
      "ficha aleatoria:\n"
     ]
    },
    {
     "data": {
      "text/html": [
       "<table><tr><td>0</td><td>0</td><td>0</td><td>0</td><td>0</td></tr><tr><td>0</td><td>1</td><td>0</td><td>0</td><td>0</td></tr><tr><td>0</td><td>1</td><td>2</td><td>1</td><td>0</td></tr><tr><td>0</td><td>0</td><td>0</td><td>0</td><td>0</td></tr><tr><td>0</td><td>0</td><td>0</td><td>0</td><td>0</td></tr></table>"
      ],
      "text/plain": [
       "<IPython.core.display.HTML object>"
      ]
     },
     "metadata": {},
     "output_type": "display_data"
    },
    {
     "name": "stdout",
     "output_type": "stream",
     "text": [
      "iteracion numero 5 Conseguida\n",
      "ficha aleatoria:\n"
     ]
    },
    {
     "data": {
      "text/html": [
       "<table><tr><td>0</td><td>0</td><td>0</td><td>0</td><td>0</td></tr><tr><td>0</td><td>0</td><td>0</td><td>1</td><td>0</td></tr><tr><td>0</td><td>1</td><td>2</td><td>1</td><td>0</td></tr><tr><td>0</td><td>0</td><td>0</td><td>0</td><td>0</td></tr><tr><td>0</td><td>0</td><td>0</td><td>0</td><td>0</td></tr></table>"
      ],
      "text/plain": [
       "<IPython.core.display.HTML object>"
      ]
     },
     "metadata": {},
     "output_type": "display_data"
    },
    {
     "name": "stdout",
     "output_type": "stream",
     "text": [
      "iteracion numero 6 Conseguida\n",
      "ficha aleatoria:\n"
     ]
    },
    {
     "data": {
      "text/html": [
       "<table><tr><td>0</td><td>0</td><td>0</td><td>0</td><td>0</td></tr><tr><td>0</td><td>0</td><td>0</td><td>1</td><td>0</td></tr><tr><td>0</td><td>1</td><td>2</td><td>1</td><td>0</td></tr><tr><td>0</td><td>0</td><td>0</td><td>0</td><td>0</td></tr><tr><td>0</td><td>0</td><td>0</td><td>0</td><td>0</td></tr></table>"
      ],
      "text/plain": [
       "<IPython.core.display.HTML object>"
      ]
     },
     "metadata": {},
     "output_type": "display_data"
    },
    {
     "name": "stdout",
     "output_type": "stream",
     "text": [
      "iteracion numero 7 Conseguida\n",
      "ficha aleatoria:\n"
     ]
    },
    {
     "data": {
      "text/html": [
       "<table><tr><td>0</td><td>0</td><td>0</td><td>0</td><td>0</td></tr><tr><td>0</td><td>0</td><td>1</td><td>0</td><td>0</td></tr><tr><td>0</td><td>1</td><td>2</td><td>1</td><td>0</td></tr><tr><td>0</td><td>0</td><td>0</td><td>0</td><td>0</td></tr><tr><td>0</td><td>0</td><td>0</td><td>0</td><td>0</td></tr></table>"
      ],
      "text/plain": [
       "<IPython.core.display.HTML object>"
      ]
     },
     "metadata": {},
     "output_type": "display_data"
    },
    {
     "name": "stdout",
     "output_type": "stream",
     "text": [
      "iteracion numero 8 Conseguida\n",
      "ficha aleatoria:\n"
     ]
    },
    {
     "data": {
      "text/html": [
       "<table><tr><td>0</td><td>0</td><td>0</td><td>0</td><td>0</td></tr><tr><td>0</td><td>0</td><td>0</td><td>0</td><td>0</td></tr><tr><td>0</td><td>1</td><td>2</td><td>1</td><td>1</td></tr><tr><td>0</td><td>0</td><td>0</td><td>0</td><td>0</td></tr><tr><td>0</td><td>0</td><td>0</td><td>0</td><td>0</td></tr></table>"
      ],
      "text/plain": [
       "<IPython.core.display.HTML object>"
      ]
     },
     "metadata": {},
     "output_type": "display_data"
    },
    {
     "name": "stdout",
     "output_type": "stream",
     "text": [
      "iteracion numero 9 Conseguida\n",
      "ficha aleatoria:\n"
     ]
    },
    {
     "data": {
      "text/html": [
       "<table><tr><td>0</td><td>0</td><td>0</td><td>0</td><td>0</td></tr><tr><td>0</td><td>1</td><td>0</td><td>0</td><td>0</td></tr><tr><td>0</td><td>1</td><td>2</td><td>1</td><td>0</td></tr><tr><td>0</td><td>0</td><td>0</td><td>0</td><td>0</td></tr><tr><td>0</td><td>0</td><td>0</td><td>0</td><td>0</td></tr></table>"
      ],
      "text/plain": [
       "<IPython.core.display.HTML object>"
      ]
     },
     "metadata": {},
     "output_type": "display_data"
    },
    {
     "name": "stdout",
     "output_type": "stream",
     "text": [
      "iteracion numero 10 Conseguida\n",
      "ficha aleatoria:\n"
     ]
    },
    {
     "data": {
      "text/html": [
       "<table><tr><td>0</td><td>0</td><td>0</td><td>0</td><td>0</td></tr><tr><td>0</td><td>1</td><td>0</td><td>0</td><td>0</td></tr><tr><td>0</td><td>1</td><td>2</td><td>1</td><td>0</td></tr><tr><td>0</td><td>0</td><td>0</td><td>0</td><td>0</td></tr><tr><td>0</td><td>0</td><td>0</td><td>0</td><td>0</td></tr></table>"
      ],
      "text/plain": [
       "<IPython.core.display.HTML object>"
      ]
     },
     "metadata": {},
     "output_type": "display_data"
    },
    {
     "name": "stdout",
     "output_type": "stream",
     "text": [
      "iteracion numero 11 Conseguida\n",
      "ficha aleatoria:\n"
     ]
    },
    {
     "data": {
      "text/html": [
       "<table><tr><td>0</td><td>0</td><td>0</td><td>0</td><td>0</td></tr><tr><td>0</td><td>0</td><td>0</td><td>1</td><td>0</td></tr><tr><td>0</td><td>1</td><td>2</td><td>1</td><td>0</td></tr><tr><td>0</td><td>0</td><td>0</td><td>0</td><td>0</td></tr><tr><td>0</td><td>0</td><td>0</td><td>0</td><td>0</td></tr></table>"
      ],
      "text/plain": [
       "<IPython.core.display.HTML object>"
      ]
     },
     "metadata": {},
     "output_type": "display_data"
    },
    {
     "name": "stdout",
     "output_type": "stream",
     "text": [
      "iteracion numero 12 Conseguida\n",
      "ficha aleatoria:\n"
     ]
    },
    {
     "data": {
      "text/html": [
       "<table><tr><td>0</td><td>0</td><td>0</td><td>0</td><td>0</td></tr><tr><td>0</td><td>0</td><td>1</td><td>1</td><td>0</td></tr><tr><td>0</td><td>1</td><td>2</td><td>0</td><td>0</td></tr><tr><td>0</td><td>0</td><td>0</td><td>0</td><td>0</td></tr><tr><td>0</td><td>0</td><td>0</td><td>0</td><td>0</td></tr></table>"
      ],
      "text/plain": [
       "<IPython.core.display.HTML object>"
      ]
     },
     "metadata": {},
     "output_type": "display_data"
    },
    {
     "name": "stdout",
     "output_type": "stream",
     "text": [
      "iteracion numero 13 Conseguida\n",
      "ficha aleatoria:\n"
     ]
    },
    {
     "data": {
      "text/html": [
       "<table><tr><td>0</td><td>0</td><td>0</td><td>0</td><td>0</td></tr><tr><td>0</td><td>1</td><td>0</td><td>0</td><td>0</td></tr><tr><td>0</td><td>1</td><td>2</td><td>1</td><td>0</td></tr><tr><td>0</td><td>0</td><td>0</td><td>0</td><td>0</td></tr><tr><td>0</td><td>0</td><td>0</td><td>0</td><td>0</td></tr></table>"
      ],
      "text/plain": [
       "<IPython.core.display.HTML object>"
      ]
     },
     "metadata": {},
     "output_type": "display_data"
    },
    {
     "name": "stdout",
     "output_type": "stream",
     "text": [
      "iteracion numero 14 Conseguida\n",
      "ficha aleatoria:\n"
     ]
    },
    {
     "data": {
      "text/html": [
       "<table><tr><td>0</td><td>0</td><td>0</td><td>0</td><td>0</td></tr><tr><td>0</td><td>0</td><td>1</td><td>1</td><td>0</td></tr><tr><td>0</td><td>0</td><td>2</td><td>1</td><td>0</td></tr><tr><td>0</td><td>0</td><td>0</td><td>0</td><td>0</td></tr><tr><td>0</td><td>0</td><td>0</td><td>0</td><td>0</td></tr></table>"
      ],
      "text/plain": [
       "<IPython.core.display.HTML object>"
      ]
     },
     "metadata": {},
     "output_type": "display_data"
    },
    {
     "name": "stdout",
     "output_type": "stream",
     "text": [
      "iteracion numero 15 Conseguida\n",
      "ficha aleatoria:\n"
     ]
    },
    {
     "data": {
      "text/html": [
       "<table><tr><td>0</td><td>0</td><td>0</td><td>0</td><td>0</td></tr><tr><td>0</td><td>0</td><td>0</td><td>1</td><td>0</td></tr><tr><td>0</td><td>1</td><td>2</td><td>1</td><td>0</td></tr><tr><td>0</td><td>0</td><td>0</td><td>0</td><td>0</td></tr><tr><td>0</td><td>0</td><td>0</td><td>0</td><td>0</td></tr></table>"
      ],
      "text/plain": [
       "<IPython.core.display.HTML object>"
      ]
     },
     "metadata": {},
     "output_type": "display_data"
    },
    {
     "name": "stdout",
     "output_type": "stream",
     "text": [
      "iteracion numero 16 Conseguida\n",
      "ficha aleatoria:\n"
     ]
    },
    {
     "data": {
      "text/html": [
       "<table><tr><td>0</td><td>0</td><td>0</td><td>0</td><td>0</td></tr><tr><td>0</td><td>1</td><td>0</td><td>0</td><td>0</td></tr><tr><td>0</td><td>1</td><td>2</td><td>1</td><td>0</td></tr><tr><td>0</td><td>0</td><td>0</td><td>0</td><td>0</td></tr><tr><td>0</td><td>0</td><td>0</td><td>0</td><td>0</td></tr></table>"
      ],
      "text/plain": [
       "<IPython.core.display.HTML object>"
      ]
     },
     "metadata": {},
     "output_type": "display_data"
    },
    {
     "name": "stdout",
     "output_type": "stream",
     "text": [
      "iteracion numero 17 Conseguida\n",
      "ficha aleatoria:\n"
     ]
    },
    {
     "data": {
      "text/html": [
       "<table><tr><td>0</td><td>0</td><td>0</td><td>0</td><td>0</td></tr><tr><td>0</td><td>1</td><td>0</td><td>0</td><td>0</td></tr><tr><td>0</td><td>1</td><td>2</td><td>1</td><td>0</td></tr><tr><td>0</td><td>0</td><td>0</td><td>0</td><td>0</td></tr><tr><td>0</td><td>0</td><td>0</td><td>0</td><td>0</td></tr></table>"
      ],
      "text/plain": [
       "<IPython.core.display.HTML object>"
      ]
     },
     "metadata": {},
     "output_type": "display_data"
    },
    {
     "name": "stdout",
     "output_type": "stream",
     "text": [
      "iteracion numero 18 Conseguida\n",
      "ficha aleatoria:\n"
     ]
    },
    {
     "data": {
      "text/html": [
       "<table><tr><td>0</td><td>0</td><td>0</td><td>0</td><td>0</td></tr><tr><td>0</td><td>0</td><td>1</td><td>1</td><td>0</td></tr><tr><td>0</td><td>0</td><td>2</td><td>1</td><td>0</td></tr><tr><td>0</td><td>0</td><td>0</td><td>0</td><td>0</td></tr><tr><td>0</td><td>0</td><td>0</td><td>0</td><td>0</td></tr></table>"
      ],
      "text/plain": [
       "<IPython.core.display.HTML object>"
      ]
     },
     "metadata": {},
     "output_type": "display_data"
    },
    {
     "name": "stdout",
     "output_type": "stream",
     "text": [
      "iteracion numero 19 Conseguida\n",
      "ficha aleatoria:\n"
     ]
    },
    {
     "data": {
      "text/html": [
       "<table><tr><td>0</td><td>0</td><td>0</td><td>0</td><td>0</td></tr><tr><td>0</td><td>1</td><td>0</td><td>0</td><td>0</td></tr><tr><td>0</td><td>1</td><td>2</td><td>1</td><td>0</td></tr><tr><td>0</td><td>0</td><td>0</td><td>0</td><td>0</td></tr><tr><td>0</td><td>0</td><td>0</td><td>0</td><td>0</td></tr></table>"
      ],
      "text/plain": [
       "<IPython.core.display.HTML object>"
      ]
     },
     "metadata": {},
     "output_type": "display_data"
    },
    {
     "name": "stdout",
     "output_type": "stream",
     "text": [
      "iteracion numero 20 Conseguida\n",
      "ficha aleatoria:\n"
     ]
    },
    {
     "data": {
      "text/html": [
       "<table><tr><td>0</td><td>0</td><td>0</td><td>0</td><td>0</td></tr><tr><td>0</td><td>0</td><td>1</td><td>1</td><td>0</td></tr><tr><td>0</td><td>1</td><td>2</td><td>0</td><td>0</td></tr><tr><td>0</td><td>0</td><td>0</td><td>0</td><td>0</td></tr><tr><td>0</td><td>0</td><td>0</td><td>0</td><td>0</td></tr></table>"
      ],
      "text/plain": [
       "<IPython.core.display.HTML object>"
      ]
     },
     "metadata": {},
     "output_type": "display_data"
    },
    {
     "name": "stdout",
     "output_type": "stream",
     "text": [
      "iteracion numero 21 Conseguida\n",
      "ficha aleatoria:\n"
     ]
    },
    {
     "data": {
      "text/html": [
       "<table><tr><td>0</td><td>0</td><td>0</td><td>0</td><td>0</td></tr><tr><td>0</td><td>0</td><td>1</td><td>1</td><td>0</td></tr><tr><td>0</td><td>1</td><td>2</td><td>0</td><td>0</td></tr><tr><td>0</td><td>0</td><td>0</td><td>0</td><td>0</td></tr><tr><td>0</td><td>0</td><td>0</td><td>0</td><td>0</td></tr></table>"
      ],
      "text/plain": [
       "<IPython.core.display.HTML object>"
      ]
     },
     "metadata": {},
     "output_type": "display_data"
    },
    {
     "name": "stdout",
     "output_type": "stream",
     "text": [
      "iteracion numero 22 Conseguida\n",
      "ficha aleatoria:\n"
     ]
    },
    {
     "data": {
      "text/html": [
       "<table><tr><td>0</td><td>0</td><td>0</td><td>0</td><td>0</td></tr><tr><td>0</td><td>0</td><td>1</td><td>0</td><td>0</td></tr><tr><td>0</td><td>1</td><td>2</td><td>1</td><td>0</td></tr><tr><td>0</td><td>0</td><td>0</td><td>0</td><td>0</td></tr><tr><td>0</td><td>0</td><td>0</td><td>0</td><td>0</td></tr></table>"
      ],
      "text/plain": [
       "<IPython.core.display.HTML object>"
      ]
     },
     "metadata": {},
     "output_type": "display_data"
    },
    {
     "name": "stdout",
     "output_type": "stream",
     "text": [
      "iteracion numero 23 Conseguida\n",
      "ficha aleatoria:\n"
     ]
    },
    {
     "data": {
      "text/html": [
       "<table><tr><td>0</td><td>0</td><td>0</td><td>0</td><td>0</td></tr><tr><td>0</td><td>0</td><td>0</td><td>0</td><td>0</td></tr><tr><td>0</td><td>1</td><td>2</td><td>1</td><td>1</td></tr><tr><td>0</td><td>0</td><td>0</td><td>0</td><td>0</td></tr><tr><td>0</td><td>0</td><td>0</td><td>0</td><td>0</td></tr></table>"
      ],
      "text/plain": [
       "<IPython.core.display.HTML object>"
      ]
     },
     "metadata": {},
     "output_type": "display_data"
    },
    {
     "name": "stdout",
     "output_type": "stream",
     "text": [
      "iteracion numero 24 Conseguida\n",
      "ficha aleatoria:\n"
     ]
    },
    {
     "data": {
      "text/html": [
       "<table><tr><td>0</td><td>0</td><td>0</td><td>0</td><td>0</td></tr><tr><td>0</td><td>0</td><td>0</td><td>1</td><td>0</td></tr><tr><td>0</td><td>1</td><td>2</td><td>1</td><td>0</td></tr><tr><td>0</td><td>0</td><td>0</td><td>0</td><td>0</td></tr><tr><td>0</td><td>0</td><td>0</td><td>0</td><td>0</td></tr></table>"
      ],
      "text/plain": [
       "<IPython.core.display.HTML object>"
      ]
     },
     "metadata": {},
     "output_type": "display_data"
    },
    {
     "name": "stdout",
     "output_type": "stream",
     "text": [
      "iteracion numero 25 Conseguida\n",
      "ficha aleatoria:\n"
     ]
    },
    {
     "data": {
      "text/html": [
       "<table><tr><td>0</td><td>0</td><td>0</td><td>0</td><td>0</td></tr><tr><td>0</td><td>0</td><td>1</td><td>0</td><td>0</td></tr><tr><td>0</td><td>1</td><td>2</td><td>1</td><td>0</td></tr><tr><td>0</td><td>0</td><td>0</td><td>0</td><td>0</td></tr><tr><td>0</td><td>0</td><td>0</td><td>0</td><td>0</td></tr></table>"
      ],
      "text/plain": [
       "<IPython.core.display.HTML object>"
      ]
     },
     "metadata": {},
     "output_type": "display_data"
    },
    {
     "name": "stdout",
     "output_type": "stream",
     "text": [
      "iteracion numero 26 Conseguida\n",
      "ficha aleatoria:\n"
     ]
    },
    {
     "data": {
      "text/html": [
       "<table><tr><td>0</td><td>0</td><td>0</td><td>0</td><td>0</td></tr><tr><td>0</td><td>1</td><td>1</td><td>0</td><td>0</td></tr><tr><td>0</td><td>0</td><td>2</td><td>1</td><td>0</td></tr><tr><td>0</td><td>0</td><td>0</td><td>0</td><td>0</td></tr><tr><td>0</td><td>0</td><td>0</td><td>0</td><td>0</td></tr></table>"
      ],
      "text/plain": [
       "<IPython.core.display.HTML object>"
      ]
     },
     "metadata": {},
     "output_type": "display_data"
    },
    {
     "name": "stdout",
     "output_type": "stream",
     "text": [
      "iteracion numero 27 Conseguida\n",
      "ficha aleatoria:\n"
     ]
    },
    {
     "data": {
      "text/html": [
       "<table><tr><td>0</td><td>0</td><td>0</td><td>0</td><td>0</td></tr><tr><td>0</td><td>0</td><td>0</td><td>1</td><td>0</td></tr><tr><td>0</td><td>1</td><td>2</td><td>1</td><td>0</td></tr><tr><td>0</td><td>0</td><td>0</td><td>0</td><td>0</td></tr><tr><td>0</td><td>0</td><td>0</td><td>0</td><td>0</td></tr></table>"
      ],
      "text/plain": [
       "<IPython.core.display.HTML object>"
      ]
     },
     "metadata": {},
     "output_type": "display_data"
    },
    {
     "name": "stdout",
     "output_type": "stream",
     "text": [
      "iteracion numero 28 Conseguida\n",
      "ficha aleatoria:\n"
     ]
    },
    {
     "data": {
      "text/html": [
       "<table><tr><td>0</td><td>0</td><td>0</td><td>0</td><td>0</td></tr><tr><td>0</td><td>0</td><td>1</td><td>0</td><td>0</td></tr><tr><td>0</td><td>1</td><td>2</td><td>1</td><td>0</td></tr><tr><td>0</td><td>0</td><td>0</td><td>0</td><td>0</td></tr><tr><td>0</td><td>0</td><td>0</td><td>0</td><td>0</td></tr></table>"
      ],
      "text/plain": [
       "<IPython.core.display.HTML object>"
      ]
     },
     "metadata": {},
     "output_type": "display_data"
    },
    {
     "name": "stdout",
     "output_type": "stream",
     "text": [
      "iteracion numero 29 Conseguida\n",
      "ficha aleatoria:\n"
     ]
    },
    {
     "data": {
      "text/html": [
       "<table><tr><td>0</td><td>0</td><td>0</td><td>0</td><td>0</td></tr><tr><td>0</td><td>0</td><td>0</td><td>1</td><td>0</td></tr><tr><td>0</td><td>1</td><td>2</td><td>1</td><td>0</td></tr><tr><td>0</td><td>0</td><td>0</td><td>0</td><td>0</td></tr><tr><td>0</td><td>0</td><td>0</td><td>0</td><td>0</td></tr></table>"
      ],
      "text/plain": [
       "<IPython.core.display.HTML object>"
      ]
     },
     "metadata": {},
     "output_type": "display_data"
    },
    {
     "name": "stdout",
     "output_type": "stream",
     "text": [
      "iteracion numero 30 Conseguida\n",
      "ficha aleatoria:\n"
     ]
    },
    {
     "data": {
      "text/html": [
       "<table><tr><td>0</td><td>0</td><td>0</td><td>0</td><td>0</td></tr><tr><td>0</td><td>0</td><td>0</td><td>1</td><td>0</td></tr><tr><td>0</td><td>1</td><td>2</td><td>1</td><td>0</td></tr><tr><td>0</td><td>0</td><td>0</td><td>0</td><td>0</td></tr><tr><td>0</td><td>0</td><td>0</td><td>0</td><td>0</td></tr></table>"
      ],
      "text/plain": [
       "<IPython.core.display.HTML object>"
      ]
     },
     "metadata": {},
     "output_type": "display_data"
    },
    {
     "name": "stdout",
     "output_type": "stream",
     "text": [
      "iteracion numero 31 Conseguida\n",
      "ficha aleatoria:\n"
     ]
    },
    {
     "data": {
      "text/html": [
       "<table><tr><td>0</td><td>0</td><td>0</td><td>0</td><td>0</td></tr><tr><td>0</td><td>0</td><td>1</td><td>0</td><td>0</td></tr><tr><td>0</td><td>1</td><td>2</td><td>1</td><td>0</td></tr><tr><td>0</td><td>0</td><td>0</td><td>0</td><td>0</td></tr><tr><td>0</td><td>0</td><td>0</td><td>0</td><td>0</td></tr></table>"
      ],
      "text/plain": [
       "<IPython.core.display.HTML object>"
      ]
     },
     "metadata": {},
     "output_type": "display_data"
    },
    {
     "name": "stdout",
     "output_type": "stream",
     "text": [
      "iteracion numero 32 Conseguida\n",
      "ficha aleatoria:\n"
     ]
    },
    {
     "data": {
      "text/html": [
       "<table><tr><td>0</td><td>0</td><td>0</td><td>0</td><td>0</td></tr><tr><td>0</td><td>0</td><td>1</td><td>1</td><td>0</td></tr><tr><td>0</td><td>0</td><td>2</td><td>1</td><td>0</td></tr><tr><td>0</td><td>0</td><td>0</td><td>0</td><td>0</td></tr><tr><td>0</td><td>0</td><td>0</td><td>0</td><td>0</td></tr></table>"
      ],
      "text/plain": [
       "<IPython.core.display.HTML object>"
      ]
     },
     "metadata": {},
     "output_type": "display_data"
    },
    {
     "name": "stdout",
     "output_type": "stream",
     "text": [
      "iteracion numero 33 Conseguida\n",
      "ficha aleatoria:\n"
     ]
    },
    {
     "data": {
      "text/html": [
       "<table><tr><td>0</td><td>0</td><td>0</td><td>0</td><td>0</td></tr><tr><td>0</td><td>0</td><td>0</td><td>0</td><td>0</td></tr><tr><td>0</td><td>1</td><td>2</td><td>1</td><td>1</td></tr><tr><td>0</td><td>0</td><td>0</td><td>0</td><td>0</td></tr><tr><td>0</td><td>0</td><td>0</td><td>0</td><td>0</td></tr></table>"
      ],
      "text/plain": [
       "<IPython.core.display.HTML object>"
      ]
     },
     "metadata": {},
     "output_type": "display_data"
    },
    {
     "name": "stdout",
     "output_type": "stream",
     "text": [
      "iteracion numero 34 Conseguida\n",
      "ficha aleatoria:\n"
     ]
    },
    {
     "data": {
      "text/html": [
       "<table><tr><td>0</td><td>0</td><td>0</td><td>0</td><td>0</td></tr><tr><td>0</td><td>0</td><td>0</td><td>1</td><td>0</td></tr><tr><td>0</td><td>1</td><td>2</td><td>1</td><td>0</td></tr><tr><td>0</td><td>0</td><td>0</td><td>0</td><td>0</td></tr><tr><td>0</td><td>0</td><td>0</td><td>0</td><td>0</td></tr></table>"
      ],
      "text/plain": [
       "<IPython.core.display.HTML object>"
      ]
     },
     "metadata": {},
     "output_type": "display_data"
    },
    {
     "name": "stdout",
     "output_type": "stream",
     "text": [
      "iteracion numero 35 Conseguida\n",
      "ficha aleatoria:\n"
     ]
    },
    {
     "data": {
      "text/html": [
       "<table><tr><td>0</td><td>0</td><td>0</td><td>0</td><td>0</td></tr><tr><td>0</td><td>0</td><td>1</td><td>1</td><td>0</td></tr><tr><td>0</td><td>0</td><td>2</td><td>1</td><td>0</td></tr><tr><td>0</td><td>0</td><td>0</td><td>0</td><td>0</td></tr><tr><td>0</td><td>0</td><td>0</td><td>0</td><td>0</td></tr></table>"
      ],
      "text/plain": [
       "<IPython.core.display.HTML object>"
      ]
     },
     "metadata": {},
     "output_type": "display_data"
    },
    {
     "name": "stdout",
     "output_type": "stream",
     "text": [
      "iteracion numero 36 Conseguida\n",
      "ficha aleatoria:\n"
     ]
    },
    {
     "data": {
      "text/html": [
       "<table><tr><td>0</td><td>0</td><td>0</td><td>0</td><td>0</td></tr><tr><td>0</td><td>0</td><td>0</td><td>0</td><td>0</td></tr><tr><td>0</td><td>1</td><td>2</td><td>1</td><td>1</td></tr><tr><td>0</td><td>0</td><td>0</td><td>0</td><td>0</td></tr><tr><td>0</td><td>0</td><td>0</td><td>0</td><td>0</td></tr></table>"
      ],
      "text/plain": [
       "<IPython.core.display.HTML object>"
      ]
     },
     "metadata": {},
     "output_type": "display_data"
    },
    {
     "name": "stdout",
     "output_type": "stream",
     "text": [
      "iteracion numero 37 Conseguida\n",
      "ficha aleatoria:\n"
     ]
    },
    {
     "data": {
      "text/html": [
       "<table><tr><td>0</td><td>0</td><td>0</td><td>0</td><td>0</td></tr><tr><td>0</td><td>0</td><td>1</td><td>0</td><td>0</td></tr><tr><td>0</td><td>1</td><td>2</td><td>1</td><td>0</td></tr><tr><td>0</td><td>0</td><td>0</td><td>0</td><td>0</td></tr><tr><td>0</td><td>0</td><td>0</td><td>0</td><td>0</td></tr></table>"
      ],
      "text/plain": [
       "<IPython.core.display.HTML object>"
      ]
     },
     "metadata": {},
     "output_type": "display_data"
    },
    {
     "name": "stdout",
     "output_type": "stream",
     "text": [
      "iteracion numero 38 Conseguida\n",
      "ficha aleatoria:\n"
     ]
    },
    {
     "data": {
      "text/html": [
       "<table><tr><td>0</td><td>0</td><td>0</td><td>0</td><td>0</td></tr><tr><td>0</td><td>1</td><td>1</td><td>0</td><td>0</td></tr><tr><td>0</td><td>0</td><td>2</td><td>1</td><td>0</td></tr><tr><td>0</td><td>0</td><td>0</td><td>0</td><td>0</td></tr><tr><td>0</td><td>0</td><td>0</td><td>0</td><td>0</td></tr></table>"
      ],
      "text/plain": [
       "<IPython.core.display.HTML object>"
      ]
     },
     "metadata": {},
     "output_type": "display_data"
    },
    {
     "name": "stdout",
     "output_type": "stream",
     "text": [
      "iteracion numero 39 Conseguida\n",
      "ficha aleatoria:\n"
     ]
    },
    {
     "data": {
      "text/html": [
       "<table><tr><td>0</td><td>0</td><td>0</td><td>0</td><td>0</td></tr><tr><td>0</td><td>0</td><td>1</td><td>1</td><td>0</td></tr><tr><td>0</td><td>0</td><td>2</td><td>1</td><td>0</td></tr><tr><td>0</td><td>0</td><td>0</td><td>0</td><td>0</td></tr><tr><td>0</td><td>0</td><td>0</td><td>0</td><td>0</td></tr></table>"
      ],
      "text/plain": [
       "<IPython.core.display.HTML object>"
      ]
     },
     "metadata": {},
     "output_type": "display_data"
    },
    {
     "name": "stdout",
     "output_type": "stream",
     "text": [
      "iteracion numero 40 Conseguida\n",
      "ficha aleatoria:\n"
     ]
    },
    {
     "data": {
      "text/html": [
       "<table><tr><td>0</td><td>0</td><td>0</td><td>0</td><td>0</td></tr><tr><td>0</td><td>0</td><td>1</td><td>1</td><td>0</td></tr><tr><td>0</td><td>1</td><td>2</td><td>0</td><td>0</td></tr><tr><td>0</td><td>0</td><td>0</td><td>0</td><td>0</td></tr><tr><td>0</td><td>0</td><td>0</td><td>0</td><td>0</td></tr></table>"
      ],
      "text/plain": [
       "<IPython.core.display.HTML object>"
      ]
     },
     "metadata": {},
     "output_type": "display_data"
    },
    {
     "name": "stdout",
     "output_type": "stream",
     "text": [
      "iteracion numero 41 Conseguida\n",
      "ficha aleatoria:\n"
     ]
    },
    {
     "data": {
      "text/html": [
       "<table><tr><td>0</td><td>0</td><td>0</td><td>0</td><td>0</td></tr><tr><td>0</td><td>0</td><td>1</td><td>1</td><td>0</td></tr><tr><td>0</td><td>1</td><td>2</td><td>0</td><td>0</td></tr><tr><td>0</td><td>0</td><td>0</td><td>0</td><td>0</td></tr><tr><td>0</td><td>0</td><td>0</td><td>0</td><td>0</td></tr></table>"
      ],
      "text/plain": [
       "<IPython.core.display.HTML object>"
      ]
     },
     "metadata": {},
     "output_type": "display_data"
    },
    {
     "name": "stdout",
     "output_type": "stream",
     "text": [
      "iteracion numero 42 Conseguida\n",
      "ficha aleatoria:\n"
     ]
    },
    {
     "data": {
      "text/html": [
       "<table><tr><td>0</td><td>0</td><td>0</td><td>0</td><td>0</td></tr><tr><td>0</td><td>0</td><td>0</td><td>1</td><td>0</td></tr><tr><td>0</td><td>1</td><td>2</td><td>1</td><td>0</td></tr><tr><td>0</td><td>0</td><td>0</td><td>0</td><td>0</td></tr><tr><td>0</td><td>0</td><td>0</td><td>0</td><td>0</td></tr></table>"
      ],
      "text/plain": [
       "<IPython.core.display.HTML object>"
      ]
     },
     "metadata": {},
     "output_type": "display_data"
    },
    {
     "name": "stdout",
     "output_type": "stream",
     "text": [
      "iteracion numero 43 Conseguida\n",
      "ficha aleatoria:\n"
     ]
    },
    {
     "data": {
      "text/html": [
       "<table><tr><td>0</td><td>0</td><td>0</td><td>0</td><td>0</td></tr><tr><td>0</td><td>0</td><td>0</td><td>0</td><td>0</td></tr><tr><td>0</td><td>1</td><td>2</td><td>1</td><td>1</td></tr><tr><td>0</td><td>0</td><td>0</td><td>0</td><td>0</td></tr><tr><td>0</td><td>0</td><td>0</td><td>0</td><td>0</td></tr></table>"
      ],
      "text/plain": [
       "<IPython.core.display.HTML object>"
      ]
     },
     "metadata": {},
     "output_type": "display_data"
    },
    {
     "name": "stdout",
     "output_type": "stream",
     "text": [
      "iteracion numero 44 Conseguida\n",
      "ficha aleatoria:\n"
     ]
    },
    {
     "data": {
      "text/html": [
       "<table><tr><td>0</td><td>0</td><td>0</td><td>0</td><td>0</td></tr><tr><td>0</td><td>0</td><td>1</td><td>1</td><td>0</td></tr><tr><td>0</td><td>1</td><td>2</td><td>0</td><td>0</td></tr><tr><td>0</td><td>0</td><td>0</td><td>0</td><td>0</td></tr><tr><td>0</td><td>0</td><td>0</td><td>0</td><td>0</td></tr></table>"
      ],
      "text/plain": [
       "<IPython.core.display.HTML object>"
      ]
     },
     "metadata": {},
     "output_type": "display_data"
    },
    {
     "name": "stdout",
     "output_type": "stream",
     "text": [
      "iteracion numero 45 Conseguida\n",
      "ficha aleatoria:\n"
     ]
    },
    {
     "data": {
      "text/html": [
       "<table><tr><td>0</td><td>0</td><td>0</td><td>0</td><td>0</td></tr><tr><td>0</td><td>0</td><td>0</td><td>1</td><td>0</td></tr><tr><td>0</td><td>1</td><td>2</td><td>1</td><td>0</td></tr><tr><td>0</td><td>0</td><td>0</td><td>0</td><td>0</td></tr><tr><td>0</td><td>0</td><td>0</td><td>0</td><td>0</td></tr></table>"
      ],
      "text/plain": [
       "<IPython.core.display.HTML object>"
      ]
     },
     "metadata": {},
     "output_type": "display_data"
    },
    {
     "name": "stdout",
     "output_type": "stream",
     "text": [
      "iteracion numero 46 Conseguida\n",
      "ficha aleatoria:\n"
     ]
    },
    {
     "data": {
      "text/html": [
       "<table><tr><td>0</td><td>0</td><td>0</td><td>0</td><td>0</td></tr><tr><td>0</td><td>0</td><td>1</td><td>1</td><td>0</td></tr><tr><td>0</td><td>1</td><td>2</td><td>0</td><td>0</td></tr><tr><td>0</td><td>0</td><td>0</td><td>0</td><td>0</td></tr><tr><td>0</td><td>0</td><td>0</td><td>0</td><td>0</td></tr></table>"
      ],
      "text/plain": [
       "<IPython.core.display.HTML object>"
      ]
     },
     "metadata": {},
     "output_type": "display_data"
    },
    {
     "name": "stdout",
     "output_type": "stream",
     "text": [
      "iteracion numero 47 Conseguida\n",
      "ficha aleatoria:\n"
     ]
    },
    {
     "data": {
      "text/html": [
       "<table><tr><td>0</td><td>0</td><td>0</td><td>0</td><td>0</td></tr><tr><td>0</td><td>0</td><td>1</td><td>1</td><td>0</td></tr><tr><td>0</td><td>0</td><td>2</td><td>1</td><td>0</td></tr><tr><td>0</td><td>0</td><td>0</td><td>0</td><td>0</td></tr><tr><td>0</td><td>0</td><td>0</td><td>0</td><td>0</td></tr></table>"
      ],
      "text/plain": [
       "<IPython.core.display.HTML object>"
      ]
     },
     "metadata": {},
     "output_type": "display_data"
    },
    {
     "name": "stdout",
     "output_type": "stream",
     "text": [
      "iteracion numero 48 Conseguida\n",
      "ficha aleatoria:\n"
     ]
    },
    {
     "data": {
      "text/html": [
       "<table><tr><td>0</td><td>0</td><td>0</td><td>0</td><td>0</td></tr><tr><td>0</td><td>0</td><td>0</td><td>0</td><td>0</td></tr><tr><td>0</td><td>1</td><td>2</td><td>1</td><td>1</td></tr><tr><td>0</td><td>0</td><td>0</td><td>0</td><td>0</td></tr><tr><td>0</td><td>0</td><td>0</td><td>0</td><td>0</td></tr></table>"
      ],
      "text/plain": [
       "<IPython.core.display.HTML object>"
      ]
     },
     "metadata": {},
     "output_type": "display_data"
    },
    {
     "name": "stdout",
     "output_type": "stream",
     "text": [
      "iteracion numero 49 Conseguida\n",
      "ficha aleatoria:\n"
     ]
    },
    {
     "data": {
      "text/html": [
       "<table><tr><td>0</td><td>0</td><td>0</td><td>0</td><td>0</td></tr><tr><td>0</td><td>0</td><td>1</td><td>0</td><td>0</td></tr><tr><td>0</td><td>1</td><td>2</td><td>1</td><td>0</td></tr><tr><td>0</td><td>0</td><td>0</td><td>0</td><td>0</td></tr><tr><td>0</td><td>0</td><td>0</td><td>0</td><td>0</td></tr></table>"
      ],
      "text/plain": [
       "<IPython.core.display.HTML object>"
      ]
     },
     "metadata": {},
     "output_type": "display_data"
    },
    {
     "name": "stdout",
     "output_type": "stream",
     "text": [
      "iteracion numero 50 Conseguida\n",
      "ficha aleatoria:\n"
     ]
    },
    {
     "data": {
      "text/html": [
       "<table><tr><td>0</td><td>0</td><td>0</td><td>0</td><td>0</td></tr><tr><td>0</td><td>0</td><td>0</td><td>1</td><td>0</td></tr><tr><td>0</td><td>1</td><td>2</td><td>1</td><td>0</td></tr><tr><td>0</td><td>0</td><td>0</td><td>0</td><td>0</td></tr><tr><td>0</td><td>0</td><td>0</td><td>0</td><td>0</td></tr></table>"
      ],
      "text/plain": [
       "<IPython.core.display.HTML object>"
      ]
     },
     "metadata": {},
     "output_type": "display_data"
    },
    {
     "name": "stdout",
     "output_type": "stream",
     "text": [
      "iteracion numero 51 Conseguida\n",
      "ficha aleatoria:\n"
     ]
    },
    {
     "data": {
      "text/html": [
       "<table><tr><td>0</td><td>0</td><td>0</td><td>0</td><td>0</td></tr><tr><td>0</td><td>0</td><td>0</td><td>0</td><td>0</td></tr><tr><td>0</td><td>1</td><td>2</td><td>1</td><td>1</td></tr><tr><td>0</td><td>0</td><td>0</td><td>0</td><td>0</td></tr><tr><td>0</td><td>0</td><td>0</td><td>0</td><td>0</td></tr></table>"
      ],
      "text/plain": [
       "<IPython.core.display.HTML object>"
      ]
     },
     "metadata": {},
     "output_type": "display_data"
    },
    {
     "name": "stdout",
     "output_type": "stream",
     "text": [
      "iteracion numero 52 Conseguida\n",
      "ficha aleatoria:\n"
     ]
    },
    {
     "data": {
      "text/html": [
       "<table><tr><td>0</td><td>0</td><td>0</td><td>0</td><td>0</td></tr><tr><td>0</td><td>0</td><td>0</td><td>1</td><td>0</td></tr><tr><td>0</td><td>1</td><td>2</td><td>1</td><td>0</td></tr><tr><td>0</td><td>0</td><td>0</td><td>0</td><td>0</td></tr><tr><td>0</td><td>0</td><td>0</td><td>0</td><td>0</td></tr></table>"
      ],
      "text/plain": [
       "<IPython.core.display.HTML object>"
      ]
     },
     "metadata": {},
     "output_type": "display_data"
    },
    {
     "name": "stdout",
     "output_type": "stream",
     "text": [
      "iteracion numero 53 Conseguida\n",
      "ficha aleatoria:\n"
     ]
    },
    {
     "data": {
      "text/html": [
       "<table><tr><td>0</td><td>0</td><td>0</td><td>0</td><td>0</td></tr><tr><td>0</td><td>0</td><td>1</td><td>1</td><td>0</td></tr><tr><td>0</td><td>1</td><td>2</td><td>0</td><td>0</td></tr><tr><td>0</td><td>0</td><td>0</td><td>0</td><td>0</td></tr><tr><td>0</td><td>0</td><td>0</td><td>0</td><td>0</td></tr></table>"
      ],
      "text/plain": [
       "<IPython.core.display.HTML object>"
      ]
     },
     "metadata": {},
     "output_type": "display_data"
    },
    {
     "name": "stdout",
     "output_type": "stream",
     "text": [
      "iteracion numero 54 Conseguida\n",
      "ficha aleatoria:\n"
     ]
    },
    {
     "data": {
      "text/html": [
       "<table><tr><td>0</td><td>0</td><td>0</td><td>0</td><td>0</td></tr><tr><td>0</td><td>0</td><td>0</td><td>1</td><td>0</td></tr><tr><td>0</td><td>1</td><td>2</td><td>1</td><td>0</td></tr><tr><td>0</td><td>0</td><td>0</td><td>0</td><td>0</td></tr><tr><td>0</td><td>0</td><td>0</td><td>0</td><td>0</td></tr></table>"
      ],
      "text/plain": [
       "<IPython.core.display.HTML object>"
      ]
     },
     "metadata": {},
     "output_type": "display_data"
    },
    {
     "name": "stdout",
     "output_type": "stream",
     "text": [
      "iteracion numero 55 Conseguida\n",
      "ficha aleatoria:\n"
     ]
    },
    {
     "data": {
      "text/html": [
       "<table><tr><td>0</td><td>0</td><td>0</td><td>0</td><td>0</td></tr><tr><td>0</td><td>0</td><td>1</td><td>0</td><td>0</td></tr><tr><td>0</td><td>1</td><td>2</td><td>1</td><td>0</td></tr><tr><td>0</td><td>0</td><td>0</td><td>0</td><td>0</td></tr><tr><td>0</td><td>0</td><td>0</td><td>0</td><td>0</td></tr></table>"
      ],
      "text/plain": [
       "<IPython.core.display.HTML object>"
      ]
     },
     "metadata": {},
     "output_type": "display_data"
    },
    {
     "name": "stdout",
     "output_type": "stream",
     "text": [
      "iteracion numero 56 Conseguida\n",
      "ficha aleatoria:\n"
     ]
    },
    {
     "data": {
      "text/html": [
       "<table><tr><td>0</td><td>0</td><td>0</td><td>0</td><td>0</td></tr><tr><td>0</td><td>0</td><td>1</td><td>0</td><td>0</td></tr><tr><td>0</td><td>1</td><td>2</td><td>1</td><td>0</td></tr><tr><td>0</td><td>0</td><td>0</td><td>0</td><td>0</td></tr><tr><td>0</td><td>0</td><td>0</td><td>0</td><td>0</td></tr></table>"
      ],
      "text/plain": [
       "<IPython.core.display.HTML object>"
      ]
     },
     "metadata": {},
     "output_type": "display_data"
    },
    {
     "name": "stdout",
     "output_type": "stream",
     "text": [
      "iteracion numero 57 Conseguida\n",
      "ficha aleatoria:\n"
     ]
    },
    {
     "data": {
      "text/html": [
       "<table><tr><td>0</td><td>0</td><td>0</td><td>0</td><td>0</td></tr><tr><td>0</td><td>0</td><td>0</td><td>1</td><td>0</td></tr><tr><td>0</td><td>1</td><td>2</td><td>1</td><td>0</td></tr><tr><td>0</td><td>0</td><td>0</td><td>0</td><td>0</td></tr><tr><td>0</td><td>0</td><td>0</td><td>0</td><td>0</td></tr></table>"
      ],
      "text/plain": [
       "<IPython.core.display.HTML object>"
      ]
     },
     "metadata": {},
     "output_type": "display_data"
    },
    {
     "name": "stdout",
     "output_type": "stream",
     "text": [
      "iteracion numero 58 Conseguida\n",
      "ficha aleatoria:\n"
     ]
    },
    {
     "data": {
      "text/html": [
       "<table><tr><td>0</td><td>0</td><td>0</td><td>0</td><td>0</td></tr><tr><td>0</td><td>0</td><td>1</td><td>1</td><td>0</td></tr><tr><td>0</td><td>0</td><td>2</td><td>1</td><td>0</td></tr><tr><td>0</td><td>0</td><td>0</td><td>0</td><td>0</td></tr><tr><td>0</td><td>0</td><td>0</td><td>0</td><td>0</td></tr></table>"
      ],
      "text/plain": [
       "<IPython.core.display.HTML object>"
      ]
     },
     "metadata": {},
     "output_type": "display_data"
    },
    {
     "name": "stdout",
     "output_type": "stream",
     "text": [
      "iteracion numero 59 Conseguida\n",
      "ficha aleatoria:\n"
     ]
    },
    {
     "data": {
      "text/html": [
       "<table><tr><td>0</td><td>0</td><td>0</td><td>0</td><td>0</td></tr><tr><td>0</td><td>0</td><td>1</td><td>1</td><td>0</td></tr><tr><td>0</td><td>1</td><td>2</td><td>0</td><td>0</td></tr><tr><td>0</td><td>0</td><td>0</td><td>0</td><td>0</td></tr><tr><td>0</td><td>0</td><td>0</td><td>0</td><td>0</td></tr></table>"
      ],
      "text/plain": [
       "<IPython.core.display.HTML object>"
      ]
     },
     "metadata": {},
     "output_type": "display_data"
    },
    {
     "name": "stdout",
     "output_type": "stream",
     "text": [
      "iteracion numero 60 Conseguida\n",
      "ficha aleatoria:\n"
     ]
    },
    {
     "data": {
      "text/html": [
       "<table><tr><td>0</td><td>0</td><td>0</td><td>0</td><td>0</td></tr><tr><td>0</td><td>0</td><td>1</td><td>1</td><td>0</td></tr><tr><td>0</td><td>0</td><td>2</td><td>1</td><td>0</td></tr><tr><td>0</td><td>0</td><td>0</td><td>0</td><td>0</td></tr><tr><td>0</td><td>0</td><td>0</td><td>0</td><td>0</td></tr></table>"
      ],
      "text/plain": [
       "<IPython.core.display.HTML object>"
      ]
     },
     "metadata": {},
     "output_type": "display_data"
    },
    {
     "name": "stdout",
     "output_type": "stream",
     "text": [
      "iteracion numero 61 Conseguida\n",
      "ficha aleatoria:\n"
     ]
    },
    {
     "data": {
      "text/html": [
       "<table><tr><td>0</td><td>0</td><td>0</td><td>0</td><td>0</td></tr><tr><td>0</td><td>0</td><td>0</td><td>0</td><td>0</td></tr><tr><td>0</td><td>1</td><td>2</td><td>1</td><td>1</td></tr><tr><td>0</td><td>0</td><td>0</td><td>0</td><td>0</td></tr><tr><td>0</td><td>0</td><td>0</td><td>0</td><td>0</td></tr></table>"
      ],
      "text/plain": [
       "<IPython.core.display.HTML object>"
      ]
     },
     "metadata": {},
     "output_type": "display_data"
    },
    {
     "name": "stdout",
     "output_type": "stream",
     "text": [
      "iteracion numero 62 Conseguida\n",
      "ficha aleatoria:\n"
     ]
    },
    {
     "data": {
      "text/html": [
       "<table><tr><td>0</td><td>0</td><td>0</td><td>0</td><td>0</td></tr><tr><td>0</td><td>1</td><td>0</td><td>0</td><td>0</td></tr><tr><td>0</td><td>1</td><td>2</td><td>1</td><td>0</td></tr><tr><td>0</td><td>0</td><td>0</td><td>0</td><td>0</td></tr><tr><td>0</td><td>0</td><td>0</td><td>0</td><td>0</td></tr></table>"
      ],
      "text/plain": [
       "<IPython.core.display.HTML object>"
      ]
     },
     "metadata": {},
     "output_type": "display_data"
    },
    {
     "name": "stdout",
     "output_type": "stream",
     "text": [
      "iteracion numero 63 Conseguida\n",
      "ficha aleatoria:\n"
     ]
    },
    {
     "data": {
      "text/html": [
       "<table><tr><td>0</td><td>0</td><td>0</td><td>0</td><td>0</td></tr><tr><td>0</td><td>0</td><td>1</td><td>0</td><td>0</td></tr><tr><td>0</td><td>1</td><td>2</td><td>1</td><td>0</td></tr><tr><td>0</td><td>0</td><td>0</td><td>0</td><td>0</td></tr><tr><td>0</td><td>0</td><td>0</td><td>0</td><td>0</td></tr></table>"
      ],
      "text/plain": [
       "<IPython.core.display.HTML object>"
      ]
     },
     "metadata": {},
     "output_type": "display_data"
    },
    {
     "name": "stdout",
     "output_type": "stream",
     "text": [
      "iteracion numero 64 Conseguida\n",
      "ficha aleatoria:\n"
     ]
    },
    {
     "data": {
      "text/html": [
       "<table><tr><td>0</td><td>0</td><td>0</td><td>0</td><td>0</td></tr><tr><td>0</td><td>0</td><td>1</td><td>1</td><td>0</td></tr><tr><td>0</td><td>0</td><td>2</td><td>1</td><td>0</td></tr><tr><td>0</td><td>0</td><td>0</td><td>0</td><td>0</td></tr><tr><td>0</td><td>0</td><td>0</td><td>0</td><td>0</td></tr></table>"
      ],
      "text/plain": [
       "<IPython.core.display.HTML object>"
      ]
     },
     "metadata": {},
     "output_type": "display_data"
    },
    {
     "name": "stdout",
     "output_type": "stream",
     "text": [
      "iteracion numero 65 Conseguida\n",
      "ficha aleatoria:\n"
     ]
    },
    {
     "data": {
      "text/html": [
       "<table><tr><td>0</td><td>0</td><td>0</td><td>0</td><td>0</td></tr><tr><td>0</td><td>1</td><td>1</td><td>0</td><td>0</td></tr><tr><td>0</td><td>0</td><td>2</td><td>1</td><td>0</td></tr><tr><td>0</td><td>0</td><td>0</td><td>0</td><td>0</td></tr><tr><td>0</td><td>0</td><td>0</td><td>0</td><td>0</td></tr></table>"
      ],
      "text/plain": [
       "<IPython.core.display.HTML object>"
      ]
     },
     "metadata": {},
     "output_type": "display_data"
    },
    {
     "name": "stdout",
     "output_type": "stream",
     "text": [
      "iteracion numero 66 Conseguida\n",
      "ficha aleatoria:\n"
     ]
    },
    {
     "data": {
      "text/html": [
       "<table><tr><td>0</td><td>0</td><td>0</td><td>0</td><td>0</td></tr><tr><td>0</td><td>0</td><td>0</td><td>1</td><td>0</td></tr><tr><td>0</td><td>1</td><td>2</td><td>1</td><td>0</td></tr><tr><td>0</td><td>0</td><td>0</td><td>0</td><td>0</td></tr><tr><td>0</td><td>0</td><td>0</td><td>0</td><td>0</td></tr></table>"
      ],
      "text/plain": [
       "<IPython.core.display.HTML object>"
      ]
     },
     "metadata": {},
     "output_type": "display_data"
    },
    {
     "name": "stdout",
     "output_type": "stream",
     "text": [
      "iteracion numero 67 Conseguida\n",
      "ficha aleatoria:\n"
     ]
    },
    {
     "data": {
      "text/html": [
       "<table><tr><td>0</td><td>0</td><td>0</td><td>0</td><td>0</td></tr><tr><td>0</td><td>0</td><td>1</td><td>0</td><td>0</td></tr><tr><td>0</td><td>1</td><td>2</td><td>1</td><td>0</td></tr><tr><td>0</td><td>0</td><td>0</td><td>0</td><td>0</td></tr><tr><td>0</td><td>0</td><td>0</td><td>0</td><td>0</td></tr></table>"
      ],
      "text/plain": [
       "<IPython.core.display.HTML object>"
      ]
     },
     "metadata": {},
     "output_type": "display_data"
    },
    {
     "name": "stdout",
     "output_type": "stream",
     "text": [
      "iteracion numero 68 Conseguida\n",
      "ficha aleatoria:\n"
     ]
    },
    {
     "data": {
      "text/html": [
       "<table><tr><td>0</td><td>0</td><td>0</td><td>0</td><td>0</td></tr><tr><td>0</td><td>0</td><td>0</td><td>1</td><td>0</td></tr><tr><td>0</td><td>1</td><td>2</td><td>1</td><td>0</td></tr><tr><td>0</td><td>0</td><td>0</td><td>0</td><td>0</td></tr><tr><td>0</td><td>0</td><td>0</td><td>0</td><td>0</td></tr></table>"
      ],
      "text/plain": [
       "<IPython.core.display.HTML object>"
      ]
     },
     "metadata": {},
     "output_type": "display_data"
    },
    {
     "name": "stdout",
     "output_type": "stream",
     "text": [
      "iteracion numero 69 Conseguida\n",
      "ficha aleatoria:\n"
     ]
    },
    {
     "data": {
      "text/html": [
       "<table><tr><td>0</td><td>0</td><td>0</td><td>0</td><td>0</td></tr><tr><td>0</td><td>0</td><td>1</td><td>1</td><td>0</td></tr><tr><td>0</td><td>1</td><td>2</td><td>0</td><td>0</td></tr><tr><td>0</td><td>0</td><td>0</td><td>0</td><td>0</td></tr><tr><td>0</td><td>0</td><td>0</td><td>0</td><td>0</td></tr></table>"
      ],
      "text/plain": [
       "<IPython.core.display.HTML object>"
      ]
     },
     "metadata": {},
     "output_type": "display_data"
    },
    {
     "name": "stdout",
     "output_type": "stream",
     "text": [
      "iteracion numero 70 Conseguida\n",
      "ficha aleatoria:\n"
     ]
    },
    {
     "data": {
      "text/html": [
       "<table><tr><td>0</td><td>0</td><td>0</td><td>0</td><td>0</td></tr><tr><td>0</td><td>1</td><td>0</td><td>0</td><td>0</td></tr><tr><td>0</td><td>1</td><td>2</td><td>1</td><td>0</td></tr><tr><td>0</td><td>0</td><td>0</td><td>0</td><td>0</td></tr><tr><td>0</td><td>0</td><td>0</td><td>0</td><td>0</td></tr></table>"
      ],
      "text/plain": [
       "<IPython.core.display.HTML object>"
      ]
     },
     "metadata": {},
     "output_type": "display_data"
    },
    {
     "name": "stdout",
     "output_type": "stream",
     "text": [
      "iteracion numero 71 Conseguida\n",
      "ficha aleatoria:\n"
     ]
    },
    {
     "data": {
      "text/html": [
       "<table><tr><td>0</td><td>0</td><td>0</td><td>0</td><td>0</td></tr><tr><td>0</td><td>0</td><td>1</td><td>1</td><td>0</td></tr><tr><td>0</td><td>1</td><td>2</td><td>0</td><td>0</td></tr><tr><td>0</td><td>0</td><td>0</td><td>0</td><td>0</td></tr><tr><td>0</td><td>0</td><td>0</td><td>0</td><td>0</td></tr></table>"
      ],
      "text/plain": [
       "<IPython.core.display.HTML object>"
      ]
     },
     "metadata": {},
     "output_type": "display_data"
    },
    {
     "name": "stdout",
     "output_type": "stream",
     "text": [
      "iteracion numero 72 Conseguida\n",
      "ficha aleatoria:\n"
     ]
    },
    {
     "data": {
      "text/html": [
       "<table><tr><td>0</td><td>0</td><td>0</td><td>0</td><td>0</td></tr><tr><td>0</td><td>0</td><td>1</td><td>1</td><td>0</td></tr><tr><td>0</td><td>1</td><td>2</td><td>0</td><td>0</td></tr><tr><td>0</td><td>0</td><td>0</td><td>0</td><td>0</td></tr><tr><td>0</td><td>0</td><td>0</td><td>0</td><td>0</td></tr></table>"
      ],
      "text/plain": [
       "<IPython.core.display.HTML object>"
      ]
     },
     "metadata": {},
     "output_type": "display_data"
    },
    {
     "name": "stdout",
     "output_type": "stream",
     "text": [
      "iteracion numero 73 Conseguida\n",
      "ficha aleatoria:\n"
     ]
    },
    {
     "data": {
      "text/html": [
       "<table><tr><td>0</td><td>0</td><td>0</td><td>0</td><td>0</td></tr><tr><td>0</td><td>1</td><td>0</td><td>0</td><td>0</td></tr><tr><td>0</td><td>1</td><td>2</td><td>1</td><td>0</td></tr><tr><td>0</td><td>0</td><td>0</td><td>0</td><td>0</td></tr><tr><td>0</td><td>0</td><td>0</td><td>0</td><td>0</td></tr></table>"
      ],
      "text/plain": [
       "<IPython.core.display.HTML object>"
      ]
     },
     "metadata": {},
     "output_type": "display_data"
    },
    {
     "name": "stdout",
     "output_type": "stream",
     "text": [
      "iteracion numero 74 Conseguida\n",
      "ficha aleatoria:\n"
     ]
    },
    {
     "data": {
      "text/html": [
       "<table><tr><td>0</td><td>0</td><td>0</td><td>0</td><td>0</td></tr><tr><td>0</td><td>0</td><td>0</td><td>0</td><td>0</td></tr><tr><td>0</td><td>1</td><td>2</td><td>1</td><td>1</td></tr><tr><td>0</td><td>0</td><td>0</td><td>0</td><td>0</td></tr><tr><td>0</td><td>0</td><td>0</td><td>0</td><td>0</td></tr></table>"
      ],
      "text/plain": [
       "<IPython.core.display.HTML object>"
      ]
     },
     "metadata": {},
     "output_type": "display_data"
    },
    {
     "name": "stdout",
     "output_type": "stream",
     "text": [
      "iteracion numero 75 Conseguida\n",
      "ficha aleatoria:\n"
     ]
    },
    {
     "data": {
      "text/html": [
       "<table><tr><td>0</td><td>0</td><td>0</td><td>0</td><td>0</td></tr><tr><td>0</td><td>1</td><td>0</td><td>0</td><td>0</td></tr><tr><td>0</td><td>1</td><td>2</td><td>1</td><td>0</td></tr><tr><td>0</td><td>0</td><td>0</td><td>0</td><td>0</td></tr><tr><td>0</td><td>0</td><td>0</td><td>0</td><td>0</td></tr></table>"
      ],
      "text/plain": [
       "<IPython.core.display.HTML object>"
      ]
     },
     "metadata": {},
     "output_type": "display_data"
    },
    {
     "name": "stdout",
     "output_type": "stream",
     "text": [
      "iteracion numero 76 Conseguida\n",
      "ficha aleatoria:\n"
     ]
    },
    {
     "data": {
      "text/html": [
       "<table><tr><td>0</td><td>0</td><td>0</td><td>0</td><td>0</td></tr><tr><td>0</td><td>0</td><td>1</td><td>1</td><td>0</td></tr><tr><td>0</td><td>0</td><td>2</td><td>1</td><td>0</td></tr><tr><td>0</td><td>0</td><td>0</td><td>0</td><td>0</td></tr><tr><td>0</td><td>0</td><td>0</td><td>0</td><td>0</td></tr></table>"
      ],
      "text/plain": [
       "<IPython.core.display.HTML object>"
      ]
     },
     "metadata": {},
     "output_type": "display_data"
    },
    {
     "name": "stdout",
     "output_type": "stream",
     "text": [
      "iteracion numero 77 Conseguida\n",
      "ficha aleatoria:\n"
     ]
    },
    {
     "data": {
      "text/html": [
       "<table><tr><td>0</td><td>0</td><td>0</td><td>0</td><td>0</td></tr><tr><td>0</td><td>0</td><td>1</td><td>1</td><td>0</td></tr><tr><td>0</td><td>0</td><td>2</td><td>1</td><td>0</td></tr><tr><td>0</td><td>0</td><td>0</td><td>0</td><td>0</td></tr><tr><td>0</td><td>0</td><td>0</td><td>0</td><td>0</td></tr></table>"
      ],
      "text/plain": [
       "<IPython.core.display.HTML object>"
      ]
     },
     "metadata": {},
     "output_type": "display_data"
    },
    {
     "name": "stdout",
     "output_type": "stream",
     "text": [
      "iteracion numero 78 Conseguida\n",
      "ficha aleatoria:\n"
     ]
    },
    {
     "data": {
      "text/html": [
       "<table><tr><td>0</td><td>0</td><td>0</td><td>0</td><td>0</td></tr><tr><td>0</td><td>0</td><td>1</td><td>1</td><td>0</td></tr><tr><td>0</td><td>1</td><td>2</td><td>0</td><td>0</td></tr><tr><td>0</td><td>0</td><td>0</td><td>0</td><td>0</td></tr><tr><td>0</td><td>0</td><td>0</td><td>0</td><td>0</td></tr></table>"
      ],
      "text/plain": [
       "<IPython.core.display.HTML object>"
      ]
     },
     "metadata": {},
     "output_type": "display_data"
    },
    {
     "name": "stdout",
     "output_type": "stream",
     "text": [
      "iteracion numero 79 Conseguida\n",
      "ficha aleatoria:\n"
     ]
    },
    {
     "data": {
      "text/html": [
       "<table><tr><td>0</td><td>0</td><td>0</td><td>0</td><td>0</td></tr><tr><td>0</td><td>1</td><td>0</td><td>0</td><td>0</td></tr><tr><td>0</td><td>1</td><td>2</td><td>1</td><td>0</td></tr><tr><td>0</td><td>0</td><td>0</td><td>0</td><td>0</td></tr><tr><td>0</td><td>0</td><td>0</td><td>0</td><td>0</td></tr></table>"
      ],
      "text/plain": [
       "<IPython.core.display.HTML object>"
      ]
     },
     "metadata": {},
     "output_type": "display_data"
    },
    {
     "name": "stdout",
     "output_type": "stream",
     "text": [
      "iteracion numero 80 Conseguida\n",
      "ficha aleatoria:\n"
     ]
    },
    {
     "data": {
      "text/html": [
       "<table><tr><td>0</td><td>0</td><td>0</td><td>0</td><td>0</td></tr><tr><td>0</td><td>0</td><td>1</td><td>0</td><td>0</td></tr><tr><td>0</td><td>1</td><td>2</td><td>1</td><td>0</td></tr><tr><td>0</td><td>0</td><td>0</td><td>0</td><td>0</td></tr><tr><td>0</td><td>0</td><td>0</td><td>0</td><td>0</td></tr></table>"
      ],
      "text/plain": [
       "<IPython.core.display.HTML object>"
      ]
     },
     "metadata": {},
     "output_type": "display_data"
    },
    {
     "name": "stdout",
     "output_type": "stream",
     "text": [
      "iteracion numero 81 Conseguida\n",
      "ficha aleatoria:\n"
     ]
    },
    {
     "data": {
      "text/html": [
       "<table><tr><td>0</td><td>0</td><td>0</td><td>0</td><td>0</td></tr><tr><td>0</td><td>0</td><td>1</td><td>1</td><td>0</td></tr><tr><td>0</td><td>0</td><td>2</td><td>1</td><td>0</td></tr><tr><td>0</td><td>0</td><td>0</td><td>0</td><td>0</td></tr><tr><td>0</td><td>0</td><td>0</td><td>0</td><td>0</td></tr></table>"
      ],
      "text/plain": [
       "<IPython.core.display.HTML object>"
      ]
     },
     "metadata": {},
     "output_type": "display_data"
    },
    {
     "name": "stdout",
     "output_type": "stream",
     "text": [
      "iteracion numero 82 Conseguida\n",
      "ficha aleatoria:\n"
     ]
    },
    {
     "data": {
      "text/html": [
       "<table><tr><td>0</td><td>0</td><td>0</td><td>0</td><td>0</td></tr><tr><td>0</td><td>0</td><td>0</td><td>1</td><td>0</td></tr><tr><td>0</td><td>1</td><td>2</td><td>1</td><td>0</td></tr><tr><td>0</td><td>0</td><td>0</td><td>0</td><td>0</td></tr><tr><td>0</td><td>0</td><td>0</td><td>0</td><td>0</td></tr></table>"
      ],
      "text/plain": [
       "<IPython.core.display.HTML object>"
      ]
     },
     "metadata": {},
     "output_type": "display_data"
    },
    {
     "name": "stdout",
     "output_type": "stream",
     "text": [
      "iteracion numero 83 Conseguida\n",
      "ficha aleatoria:\n"
     ]
    },
    {
     "data": {
      "text/html": [
       "<table><tr><td>0</td><td>0</td><td>0</td><td>0</td><td>0</td></tr><tr><td>0</td><td>1</td><td>1</td><td>0</td><td>0</td></tr><tr><td>0</td><td>0</td><td>2</td><td>1</td><td>0</td></tr><tr><td>0</td><td>0</td><td>0</td><td>0</td><td>0</td></tr><tr><td>0</td><td>0</td><td>0</td><td>0</td><td>0</td></tr></table>"
      ],
      "text/plain": [
       "<IPython.core.display.HTML object>"
      ]
     },
     "metadata": {},
     "output_type": "display_data"
    },
    {
     "name": "stdout",
     "output_type": "stream",
     "text": [
      "iteracion numero 84 Conseguida\n",
      "ficha aleatoria:\n"
     ]
    },
    {
     "data": {
      "text/html": [
       "<table><tr><td>0</td><td>0</td><td>0</td><td>0</td><td>0</td></tr><tr><td>0</td><td>0</td><td>1</td><td>0</td><td>0</td></tr><tr><td>0</td><td>1</td><td>2</td><td>1</td><td>0</td></tr><tr><td>0</td><td>0</td><td>0</td><td>0</td><td>0</td></tr><tr><td>0</td><td>0</td><td>0</td><td>0</td><td>0</td></tr></table>"
      ],
      "text/plain": [
       "<IPython.core.display.HTML object>"
      ]
     },
     "metadata": {},
     "output_type": "display_data"
    },
    {
     "name": "stdout",
     "output_type": "stream",
     "text": [
      "iteracion numero 85 Conseguida\n",
      "ficha aleatoria:\n"
     ]
    },
    {
     "data": {
      "text/html": [
       "<table><tr><td>0</td><td>0</td><td>0</td><td>0</td><td>0</td></tr><tr><td>0</td><td>0</td><td>1</td><td>1</td><td>0</td></tr><tr><td>0</td><td>1</td><td>2</td><td>0</td><td>0</td></tr><tr><td>0</td><td>0</td><td>0</td><td>0</td><td>0</td></tr><tr><td>0</td><td>0</td><td>0</td><td>0</td><td>0</td></tr></table>"
      ],
      "text/plain": [
       "<IPython.core.display.HTML object>"
      ]
     },
     "metadata": {},
     "output_type": "display_data"
    },
    {
     "name": "stdout",
     "output_type": "stream",
     "text": [
      "iteracion numero 86 Conseguida\n",
      "ficha aleatoria:\n"
     ]
    },
    {
     "data": {
      "text/html": [
       "<table><tr><td>0</td><td>0</td><td>0</td><td>0</td><td>0</td></tr><tr><td>0</td><td>1</td><td>1</td><td>0</td><td>0</td></tr><tr><td>0</td><td>0</td><td>2</td><td>1</td><td>0</td></tr><tr><td>0</td><td>0</td><td>0</td><td>0</td><td>0</td></tr><tr><td>0</td><td>0</td><td>0</td><td>0</td><td>0</td></tr></table>"
      ],
      "text/plain": [
       "<IPython.core.display.HTML object>"
      ]
     },
     "metadata": {},
     "output_type": "display_data"
    },
    {
     "name": "stdout",
     "output_type": "stream",
     "text": [
      "iteracion numero 87 Conseguida\n",
      "ficha aleatoria:\n"
     ]
    },
    {
     "data": {
      "text/html": [
       "<table><tr><td>0</td><td>0</td><td>0</td><td>0</td><td>0</td></tr><tr><td>0</td><td>0</td><td>0</td><td>0</td><td>0</td></tr><tr><td>0</td><td>1</td><td>2</td><td>1</td><td>1</td></tr><tr><td>0</td><td>0</td><td>0</td><td>0</td><td>0</td></tr><tr><td>0</td><td>0</td><td>0</td><td>0</td><td>0</td></tr></table>"
      ],
      "text/plain": [
       "<IPython.core.display.HTML object>"
      ]
     },
     "metadata": {},
     "output_type": "display_data"
    },
    {
     "name": "stdout",
     "output_type": "stream",
     "text": [
      "iteracion numero 88 Conseguida\n",
      "ficha aleatoria:\n"
     ]
    },
    {
     "data": {
      "text/html": [
       "<table><tr><td>0</td><td>0</td><td>0</td><td>0</td><td>0</td></tr><tr><td>0</td><td>0</td><td>1</td><td>1</td><td>0</td></tr><tr><td>0</td><td>1</td><td>2</td><td>0</td><td>0</td></tr><tr><td>0</td><td>0</td><td>0</td><td>0</td><td>0</td></tr><tr><td>0</td><td>0</td><td>0</td><td>0</td><td>0</td></tr></table>"
      ],
      "text/plain": [
       "<IPython.core.display.HTML object>"
      ]
     },
     "metadata": {},
     "output_type": "display_data"
    },
    {
     "name": "stdout",
     "output_type": "stream",
     "text": [
      "iteracion numero 89 Conseguida\n",
      "ficha aleatoria:\n"
     ]
    },
    {
     "data": {
      "text/html": [
       "<table><tr><td>0</td><td>0</td><td>0</td><td>0</td><td>0</td></tr><tr><td>0</td><td>0</td><td>1</td><td>1</td><td>0</td></tr><tr><td>0</td><td>0</td><td>2</td><td>1</td><td>0</td></tr><tr><td>0</td><td>0</td><td>0</td><td>0</td><td>0</td></tr><tr><td>0</td><td>0</td><td>0</td><td>0</td><td>0</td></tr></table>"
      ],
      "text/plain": [
       "<IPython.core.display.HTML object>"
      ]
     },
     "metadata": {},
     "output_type": "display_data"
    },
    {
     "name": "stdout",
     "output_type": "stream",
     "text": [
      "iteracion numero 90 Conseguida\n",
      "ficha aleatoria:\n"
     ]
    },
    {
     "data": {
      "text/html": [
       "<table><tr><td>0</td><td>0</td><td>0</td><td>0</td><td>0</td></tr><tr><td>0</td><td>0</td><td>0</td><td>0</td><td>0</td></tr><tr><td>0</td><td>1</td><td>2</td><td>1</td><td>1</td></tr><tr><td>0</td><td>0</td><td>0</td><td>0</td><td>0</td></tr><tr><td>0</td><td>0</td><td>0</td><td>0</td><td>0</td></tr></table>"
      ],
      "text/plain": [
       "<IPython.core.display.HTML object>"
      ]
     },
     "metadata": {},
     "output_type": "display_data"
    },
    {
     "name": "stdout",
     "output_type": "stream",
     "text": [
      "iteracion numero 91 Conseguida\n",
      "ficha aleatoria:\n"
     ]
    },
    {
     "data": {
      "text/html": [
       "<table><tr><td>0</td><td>0</td><td>0</td><td>0</td><td>0</td></tr><tr><td>0</td><td>1</td><td>0</td><td>0</td><td>0</td></tr><tr><td>0</td><td>1</td><td>2</td><td>1</td><td>0</td></tr><tr><td>0</td><td>0</td><td>0</td><td>0</td><td>0</td></tr><tr><td>0</td><td>0</td><td>0</td><td>0</td><td>0</td></tr></table>"
      ],
      "text/plain": [
       "<IPython.core.display.HTML object>"
      ]
     },
     "metadata": {},
     "output_type": "display_data"
    },
    {
     "name": "stdout",
     "output_type": "stream",
     "text": [
      "iteracion numero 92 Conseguida\n",
      "ficha aleatoria:\n"
     ]
    },
    {
     "data": {
      "text/html": [
       "<table><tr><td>0</td><td>0</td><td>0</td><td>0</td><td>0</td></tr><tr><td>0</td><td>0</td><td>0</td><td>1</td><td>0</td></tr><tr><td>0</td><td>1</td><td>2</td><td>1</td><td>0</td></tr><tr><td>0</td><td>0</td><td>0</td><td>0</td><td>0</td></tr><tr><td>0</td><td>0</td><td>0</td><td>0</td><td>0</td></tr></table>"
      ],
      "text/plain": [
       "<IPython.core.display.HTML object>"
      ]
     },
     "metadata": {},
     "output_type": "display_data"
    },
    {
     "name": "stdout",
     "output_type": "stream",
     "text": [
      "iteracion numero 93 Conseguida\n",
      "ficha aleatoria:\n"
     ]
    },
    {
     "data": {
      "text/html": [
       "<table><tr><td>0</td><td>0</td><td>0</td><td>0</td><td>0</td></tr><tr><td>0</td><td>0</td><td>1</td><td>1</td><td>0</td></tr><tr><td>0</td><td>1</td><td>2</td><td>0</td><td>0</td></tr><tr><td>0</td><td>0</td><td>0</td><td>0</td><td>0</td></tr><tr><td>0</td><td>0</td><td>0</td><td>0</td><td>0</td></tr></table>"
      ],
      "text/plain": [
       "<IPython.core.display.HTML object>"
      ]
     },
     "metadata": {},
     "output_type": "display_data"
    },
    {
     "name": "stdout",
     "output_type": "stream",
     "text": [
      "iteracion numero 94 Conseguida\n",
      "ficha aleatoria:\n"
     ]
    },
    {
     "data": {
      "text/html": [
       "<table><tr><td>0</td><td>0</td><td>0</td><td>0</td><td>0</td></tr><tr><td>0</td><td>0</td><td>0</td><td>1</td><td>0</td></tr><tr><td>0</td><td>1</td><td>2</td><td>1</td><td>0</td></tr><tr><td>0</td><td>0</td><td>0</td><td>0</td><td>0</td></tr><tr><td>0</td><td>0</td><td>0</td><td>0</td><td>0</td></tr></table>"
      ],
      "text/plain": [
       "<IPython.core.display.HTML object>"
      ]
     },
     "metadata": {},
     "output_type": "display_data"
    },
    {
     "name": "stdout",
     "output_type": "stream",
     "text": [
      "iteracion numero 95 Conseguida\n",
      "ficha aleatoria:\n"
     ]
    },
    {
     "data": {
      "text/html": [
       "<table><tr><td>0</td><td>0</td><td>0</td><td>0</td><td>0</td></tr><tr><td>0</td><td>1</td><td>0</td><td>0</td><td>0</td></tr><tr><td>0</td><td>1</td><td>2</td><td>1</td><td>0</td></tr><tr><td>0</td><td>0</td><td>0</td><td>0</td><td>0</td></tr><tr><td>0</td><td>0</td><td>0</td><td>0</td><td>0</td></tr></table>"
      ],
      "text/plain": [
       "<IPython.core.display.HTML object>"
      ]
     },
     "metadata": {},
     "output_type": "display_data"
    },
    {
     "name": "stdout",
     "output_type": "stream",
     "text": [
      "iteracion numero 96 Conseguida\n",
      "ficha aleatoria:\n"
     ]
    },
    {
     "data": {
      "text/html": [
       "<table><tr><td>0</td><td>0</td><td>0</td><td>0</td><td>0</td></tr><tr><td>0</td><td>0</td><td>0</td><td>0</td><td>0</td></tr><tr><td>0</td><td>1</td><td>2</td><td>1</td><td>1</td></tr><tr><td>0</td><td>0</td><td>0</td><td>0</td><td>0</td></tr><tr><td>0</td><td>0</td><td>0</td><td>0</td><td>0</td></tr></table>"
      ],
      "text/plain": [
       "<IPython.core.display.HTML object>"
      ]
     },
     "metadata": {},
     "output_type": "display_data"
    },
    {
     "name": "stdout",
     "output_type": "stream",
     "text": [
      "iteracion numero 97 Conseguida\n",
      "ficha aleatoria:\n"
     ]
    },
    {
     "data": {
      "text/html": [
       "<table><tr><td>0</td><td>0</td><td>0</td><td>0</td><td>0</td></tr><tr><td>0</td><td>0</td><td>1</td><td>1</td><td>0</td></tr><tr><td>0</td><td>1</td><td>2</td><td>0</td><td>0</td></tr><tr><td>0</td><td>0</td><td>0</td><td>0</td><td>0</td></tr><tr><td>0</td><td>0</td><td>0</td><td>0</td><td>0</td></tr></table>"
      ],
      "text/plain": [
       "<IPython.core.display.HTML object>"
      ]
     },
     "metadata": {},
     "output_type": "display_data"
    },
    {
     "name": "stdout",
     "output_type": "stream",
     "text": [
      "iteracion numero 98 Conseguida\n",
      "ficha aleatoria:\n"
     ]
    },
    {
     "data": {
      "text/html": [
       "<table><tr><td>0</td><td>0</td><td>0</td><td>0</td><td>0</td></tr><tr><td>0</td><td>0</td><td>1</td><td>1</td><td>0</td></tr><tr><td>0</td><td>1</td><td>2</td><td>0</td><td>0</td></tr><tr><td>0</td><td>0</td><td>0</td><td>0</td><td>0</td></tr><tr><td>0</td><td>0</td><td>0</td><td>0</td><td>0</td></tr></table>"
      ],
      "text/plain": [
       "<IPython.core.display.HTML object>"
      ]
     },
     "metadata": {},
     "output_type": "display_data"
    },
    {
     "name": "stdout",
     "output_type": "stream",
     "text": [
      "iteracion numero 99 Conseguida\n",
      "ficha aleatoria:\n"
     ]
    },
    {
     "data": {
      "text/html": [
       "<table><tr><td>0</td><td>0</td><td>0</td><td>0</td><td>0</td></tr><tr><td>0</td><td>0</td><td>0</td><td>0</td><td>0</td></tr><tr><td>0</td><td>1</td><td>2</td><td>1</td><td>1</td></tr><tr><td>0</td><td>0</td><td>0</td><td>0</td><td>0</td></tr><tr><td>0</td><td>0</td><td>0</td><td>0</td><td>0</td></tr></table>"
      ],
      "text/plain": [
       "<IPython.core.display.HTML object>"
      ]
     },
     "metadata": {},
     "output_type": "display_data"
    },
    {
     "name": "stdout",
     "output_type": "stream",
     "text": [
      "iteracion numero 100 Conseguida\n",
      "ficha aleatoria:\n"
     ]
    },
    {
     "data": {
      "text/html": [
       "<table><tr><td>0</td><td>0</td><td>0</td><td>0</td><td>0</td></tr><tr><td>0</td><td>0</td><td>0</td><td>1</td><td>0</td></tr><tr><td>0</td><td>1</td><td>2</td><td>1</td><td>0</td></tr><tr><td>0</td><td>0</td><td>0</td><td>0</td><td>0</td></tr><tr><td>0</td><td>0</td><td>0</td><td>0</td><td>0</td></tr></table>"
      ],
      "text/plain": [
       "<IPython.core.display.HTML object>"
      ]
     },
     "metadata": {},
     "output_type": "display_data"
    },
    {
     "name": "stdout",
     "output_type": "stream",
     "text": [
      "iteracion numero 101 Conseguida\n",
      "ficha aleatoria:\n"
     ]
    },
    {
     "data": {
      "text/html": [
       "<table><tr><td>0</td><td>0</td><td>0</td><td>0</td><td>0</td></tr><tr><td>0</td><td>0</td><td>1</td><td>1</td><td>0</td></tr><tr><td>0</td><td>1</td><td>2</td><td>0</td><td>0</td></tr><tr><td>0</td><td>0</td><td>0</td><td>0</td><td>0</td></tr><tr><td>0</td><td>0</td><td>0</td><td>0</td><td>0</td></tr></table>"
      ],
      "text/plain": [
       "<IPython.core.display.HTML object>"
      ]
     },
     "metadata": {},
     "output_type": "display_data"
    },
    {
     "name": "stdout",
     "output_type": "stream",
     "text": [
      "iteracion numero 102 Conseguida\n",
      "ficha aleatoria:\n"
     ]
    },
    {
     "data": {
      "text/html": [
       "<table><tr><td>0</td><td>0</td><td>0</td><td>0</td><td>0</td></tr><tr><td>0</td><td>1</td><td>0</td><td>0</td><td>0</td></tr><tr><td>0</td><td>1</td><td>2</td><td>1</td><td>0</td></tr><tr><td>0</td><td>0</td><td>0</td><td>0</td><td>0</td></tr><tr><td>0</td><td>0</td><td>0</td><td>0</td><td>0</td></tr></table>"
      ],
      "text/plain": [
       "<IPython.core.display.HTML object>"
      ]
     },
     "metadata": {},
     "output_type": "display_data"
    },
    {
     "name": "stdout",
     "output_type": "stream",
     "text": [
      "iteracion numero 103 Conseguida\n",
      "ficha aleatoria:\n"
     ]
    },
    {
     "data": {
      "text/html": [
       "<table><tr><td>0</td><td>0</td><td>0</td><td>0</td><td>0</td></tr><tr><td>0</td><td>0</td><td>1</td><td>1</td><td>0</td></tr><tr><td>0</td><td>1</td><td>2</td><td>0</td><td>0</td></tr><tr><td>0</td><td>0</td><td>0</td><td>0</td><td>0</td></tr><tr><td>0</td><td>0</td><td>0</td><td>0</td><td>0</td></tr></table>"
      ],
      "text/plain": [
       "<IPython.core.display.HTML object>"
      ]
     },
     "metadata": {},
     "output_type": "display_data"
    },
    {
     "name": "stdout",
     "output_type": "stream",
     "text": [
      "iteracion numero 104 Conseguida\n",
      "ficha aleatoria:\n"
     ]
    },
    {
     "data": {
      "text/html": [
       "<table><tr><td>0</td><td>0</td><td>0</td><td>0</td><td>0</td></tr><tr><td>0</td><td>1</td><td>1</td><td>0</td><td>0</td></tr><tr><td>0</td><td>0</td><td>2</td><td>1</td><td>0</td></tr><tr><td>0</td><td>0</td><td>0</td><td>0</td><td>0</td></tr><tr><td>0</td><td>0</td><td>0</td><td>0</td><td>0</td></tr></table>"
      ],
      "text/plain": [
       "<IPython.core.display.HTML object>"
      ]
     },
     "metadata": {},
     "output_type": "display_data"
    },
    {
     "name": "stdout",
     "output_type": "stream",
     "text": [
      "iteracion numero 105 Conseguida\n",
      "ficha aleatoria:\n"
     ]
    },
    {
     "data": {
      "text/html": [
       "<table><tr><td>0</td><td>0</td><td>0</td><td>0</td><td>0</td></tr><tr><td>0</td><td>1</td><td>0</td><td>0</td><td>0</td></tr><tr><td>0</td><td>1</td><td>2</td><td>1</td><td>0</td></tr><tr><td>0</td><td>0</td><td>0</td><td>0</td><td>0</td></tr><tr><td>0</td><td>0</td><td>0</td><td>0</td><td>0</td></tr></table>"
      ],
      "text/plain": [
       "<IPython.core.display.HTML object>"
      ]
     },
     "metadata": {},
     "output_type": "display_data"
    },
    {
     "name": "stdout",
     "output_type": "stream",
     "text": [
      "iteracion numero 106 Conseguida\n",
      "ficha aleatoria:\n"
     ]
    },
    {
     "data": {
      "text/html": [
       "<table><tr><td>0</td><td>0</td><td>0</td><td>0</td><td>0</td></tr><tr><td>0</td><td>0</td><td>0</td><td>1</td><td>0</td></tr><tr><td>0</td><td>1</td><td>2</td><td>1</td><td>0</td></tr><tr><td>0</td><td>0</td><td>0</td><td>0</td><td>0</td></tr><tr><td>0</td><td>0</td><td>0</td><td>0</td><td>0</td></tr></table>"
      ],
      "text/plain": [
       "<IPython.core.display.HTML object>"
      ]
     },
     "metadata": {},
     "output_type": "display_data"
    },
    {
     "name": "stdout",
     "output_type": "stream",
     "text": [
      "iteracion numero 107 Conseguida\n",
      "ficha aleatoria:\n"
     ]
    },
    {
     "data": {
      "text/html": [
       "<table><tr><td>0</td><td>0</td><td>0</td><td>0</td><td>0</td></tr><tr><td>0</td><td>0</td><td>0</td><td>0</td><td>0</td></tr><tr><td>0</td><td>1</td><td>2</td><td>1</td><td>1</td></tr><tr><td>0</td><td>0</td><td>0</td><td>0</td><td>0</td></tr><tr><td>0</td><td>0</td><td>0</td><td>0</td><td>0</td></tr></table>"
      ],
      "text/plain": [
       "<IPython.core.display.HTML object>"
      ]
     },
     "metadata": {},
     "output_type": "display_data"
    },
    {
     "name": "stdout",
     "output_type": "stream",
     "text": [
      "iteracion numero 108 Conseguida\n",
      "ficha aleatoria:\n"
     ]
    },
    {
     "data": {
      "text/html": [
       "<table><tr><td>0</td><td>0</td><td>0</td><td>0</td><td>0</td></tr><tr><td>0</td><td>1</td><td>1</td><td>0</td><td>0</td></tr><tr><td>0</td><td>0</td><td>2</td><td>1</td><td>0</td></tr><tr><td>0</td><td>0</td><td>0</td><td>0</td><td>0</td></tr><tr><td>0</td><td>0</td><td>0</td><td>0</td><td>0</td></tr></table>"
      ],
      "text/plain": [
       "<IPython.core.display.HTML object>"
      ]
     },
     "metadata": {},
     "output_type": "display_data"
    },
    {
     "name": "stdout",
     "output_type": "stream",
     "text": [
      "iteracion numero 109 Conseguida\n",
      "ficha aleatoria:\n"
     ]
    },
    {
     "data": {
      "text/html": [
       "<table><tr><td>0</td><td>0</td><td>0</td><td>0</td><td>0</td></tr><tr><td>0</td><td>0</td><td>1</td><td>1</td><td>0</td></tr><tr><td>0</td><td>1</td><td>2</td><td>0</td><td>0</td></tr><tr><td>0</td><td>0</td><td>0</td><td>0</td><td>0</td></tr><tr><td>0</td><td>0</td><td>0</td><td>0</td><td>0</td></tr></table>"
      ],
      "text/plain": [
       "<IPython.core.display.HTML object>"
      ]
     },
     "metadata": {},
     "output_type": "display_data"
    },
    {
     "name": "stdout",
     "output_type": "stream",
     "text": [
      "iteracion numero 110 Conseguida\n",
      "ficha aleatoria:\n"
     ]
    },
    {
     "data": {
      "text/html": [
       "<table><tr><td>0</td><td>0</td><td>0</td><td>0</td><td>0</td></tr><tr><td>0</td><td>0</td><td>0</td><td>1</td><td>0</td></tr><tr><td>0</td><td>1</td><td>2</td><td>1</td><td>0</td></tr><tr><td>0</td><td>0</td><td>0</td><td>0</td><td>0</td></tr><tr><td>0</td><td>0</td><td>0</td><td>0</td><td>0</td></tr></table>"
      ],
      "text/plain": [
       "<IPython.core.display.HTML object>"
      ]
     },
     "metadata": {},
     "output_type": "display_data"
    },
    {
     "name": "stdout",
     "output_type": "stream",
     "text": [
      "iteracion numero 111 Conseguida\n",
      "ficha aleatoria:\n"
     ]
    },
    {
     "data": {
      "text/html": [
       "<table><tr><td>0</td><td>0</td><td>0</td><td>0</td><td>0</td></tr><tr><td>0</td><td>0</td><td>0</td><td>1</td><td>0</td></tr><tr><td>0</td><td>1</td><td>2</td><td>1</td><td>0</td></tr><tr><td>0</td><td>0</td><td>0</td><td>0</td><td>0</td></tr><tr><td>0</td><td>0</td><td>0</td><td>0</td><td>0</td></tr></table>"
      ],
      "text/plain": [
       "<IPython.core.display.HTML object>"
      ]
     },
     "metadata": {},
     "output_type": "display_data"
    },
    {
     "name": "stdout",
     "output_type": "stream",
     "text": [
      "iteracion numero 112 Conseguida\n",
      "ficha aleatoria:\n"
     ]
    },
    {
     "data": {
      "text/html": [
       "<table><tr><td>0</td><td>0</td><td>0</td><td>0</td><td>0</td></tr><tr><td>0</td><td>0</td><td>0</td><td>1</td><td>0</td></tr><tr><td>0</td><td>1</td><td>2</td><td>1</td><td>0</td></tr><tr><td>0</td><td>0</td><td>0</td><td>0</td><td>0</td></tr><tr><td>0</td><td>0</td><td>0</td><td>0</td><td>0</td></tr></table>"
      ],
      "text/plain": [
       "<IPython.core.display.HTML object>"
      ]
     },
     "metadata": {},
     "output_type": "display_data"
    },
    {
     "name": "stdout",
     "output_type": "stream",
     "text": [
      "iteracion numero 113 Conseguida\n",
      "ficha aleatoria:\n"
     ]
    },
    {
     "data": {
      "text/html": [
       "<table><tr><td>0</td><td>0</td><td>0</td><td>0</td><td>0</td></tr><tr><td>0</td><td>0</td><td>1</td><td>1</td><td>0</td></tr><tr><td>0</td><td>1</td><td>2</td><td>0</td><td>0</td></tr><tr><td>0</td><td>0</td><td>0</td><td>0</td><td>0</td></tr><tr><td>0</td><td>0</td><td>0</td><td>0</td><td>0</td></tr></table>"
      ],
      "text/plain": [
       "<IPython.core.display.HTML object>"
      ]
     },
     "metadata": {},
     "output_type": "display_data"
    },
    {
     "name": "stdout",
     "output_type": "stream",
     "text": [
      "iteracion numero 114 Conseguida\n",
      "ficha aleatoria:\n"
     ]
    },
    {
     "data": {
      "text/html": [
       "<table><tr><td>0</td><td>0</td><td>0</td><td>0</td><td>0</td></tr><tr><td>0</td><td>1</td><td>0</td><td>0</td><td>0</td></tr><tr><td>0</td><td>1</td><td>2</td><td>1</td><td>0</td></tr><tr><td>0</td><td>0</td><td>0</td><td>0</td><td>0</td></tr><tr><td>0</td><td>0</td><td>0</td><td>0</td><td>0</td></tr></table>"
      ],
      "text/plain": [
       "<IPython.core.display.HTML object>"
      ]
     },
     "metadata": {},
     "output_type": "display_data"
    },
    {
     "name": "stdout",
     "output_type": "stream",
     "text": [
      "iteracion numero 115 Conseguida\n",
      "ficha aleatoria:\n"
     ]
    },
    {
     "data": {
      "text/html": [
       "<table><tr><td>0</td><td>0</td><td>0</td><td>0</td><td>0</td></tr><tr><td>0</td><td>0</td><td>1</td><td>1</td><td>0</td></tr><tr><td>0</td><td>0</td><td>2</td><td>1</td><td>0</td></tr><tr><td>0</td><td>0</td><td>0</td><td>0</td><td>0</td></tr><tr><td>0</td><td>0</td><td>0</td><td>0</td><td>0</td></tr></table>"
      ],
      "text/plain": [
       "<IPython.core.display.HTML object>"
      ]
     },
     "metadata": {},
     "output_type": "display_data"
    },
    {
     "name": "stdout",
     "output_type": "stream",
     "text": [
      "iteracion numero 116 Conseguida\n",
      "ficha aleatoria:\n"
     ]
    },
    {
     "data": {
      "text/html": [
       "<table><tr><td>0</td><td>0</td><td>0</td><td>0</td><td>0</td></tr><tr><td>0</td><td>1</td><td>1</td><td>0</td><td>0</td></tr><tr><td>0</td><td>0</td><td>2</td><td>1</td><td>0</td></tr><tr><td>0</td><td>0</td><td>0</td><td>0</td><td>0</td></tr><tr><td>0</td><td>0</td><td>0</td><td>0</td><td>0</td></tr></table>"
      ],
      "text/plain": [
       "<IPython.core.display.HTML object>"
      ]
     },
     "metadata": {},
     "output_type": "display_data"
    },
    {
     "name": "stdout",
     "output_type": "stream",
     "text": [
      "iteracion numero 117 Conseguida\n",
      "ficha aleatoria:\n"
     ]
    },
    {
     "data": {
      "text/html": [
       "<table><tr><td>0</td><td>0</td><td>0</td><td>0</td><td>0</td></tr><tr><td>0</td><td>0</td><td>1</td><td>1</td><td>0</td></tr><tr><td>0</td><td>1</td><td>2</td><td>0</td><td>0</td></tr><tr><td>0</td><td>0</td><td>0</td><td>0</td><td>0</td></tr><tr><td>0</td><td>0</td><td>0</td><td>0</td><td>0</td></tr></table>"
      ],
      "text/plain": [
       "<IPython.core.display.HTML object>"
      ]
     },
     "metadata": {},
     "output_type": "display_data"
    },
    {
     "name": "stdout",
     "output_type": "stream",
     "text": [
      "iteracion numero 118 Conseguida\n",
      "ficha aleatoria:\n"
     ]
    },
    {
     "data": {
      "text/html": [
       "<table><tr><td>0</td><td>0</td><td>0</td><td>0</td><td>0</td></tr><tr><td>0</td><td>1</td><td>0</td><td>0</td><td>0</td></tr><tr><td>0</td><td>1</td><td>2</td><td>1</td><td>0</td></tr><tr><td>0</td><td>0</td><td>0</td><td>0</td><td>0</td></tr><tr><td>0</td><td>0</td><td>0</td><td>0</td><td>0</td></tr></table>"
      ],
      "text/plain": [
       "<IPython.core.display.HTML object>"
      ]
     },
     "metadata": {},
     "output_type": "display_data"
    },
    {
     "name": "stdout",
     "output_type": "stream",
     "text": [
      "iteracion numero 119 Conseguida\n",
      "ficha aleatoria:\n"
     ]
    },
    {
     "data": {
      "text/html": [
       "<table><tr><td>0</td><td>0</td><td>0</td><td>0</td><td>0</td></tr><tr><td>0</td><td>1</td><td>0</td><td>0</td><td>0</td></tr><tr><td>0</td><td>1</td><td>2</td><td>1</td><td>0</td></tr><tr><td>0</td><td>0</td><td>0</td><td>0</td><td>0</td></tr><tr><td>0</td><td>0</td><td>0</td><td>0</td><td>0</td></tr></table>"
      ],
      "text/plain": [
       "<IPython.core.display.HTML object>"
      ]
     },
     "metadata": {},
     "output_type": "display_data"
    },
    {
     "name": "stdout",
     "output_type": "stream",
     "text": [
      "iteracion numero 120 Conseguida\n",
      "ficha aleatoria:\n"
     ]
    },
    {
     "data": {
      "text/html": [
       "<table><tr><td>0</td><td>0</td><td>0</td><td>0</td><td>0</td></tr><tr><td>0</td><td>0</td><td>0</td><td>0</td><td>0</td></tr><tr><td>0</td><td>1</td><td>2</td><td>1</td><td>1</td></tr><tr><td>0</td><td>0</td><td>0</td><td>0</td><td>0</td></tr><tr><td>0</td><td>0</td><td>0</td><td>0</td><td>0</td></tr></table>"
      ],
      "text/plain": [
       "<IPython.core.display.HTML object>"
      ]
     },
     "metadata": {},
     "output_type": "display_data"
    },
    {
     "name": "stdout",
     "output_type": "stream",
     "text": [
      "iteracion numero 121 Conseguida\n",
      "ficha aleatoria:\n"
     ]
    },
    {
     "data": {
      "text/html": [
       "<table><tr><td>0</td><td>0</td><td>0</td><td>0</td><td>0</td></tr><tr><td>0</td><td>0</td><td>0</td><td>1</td><td>0</td></tr><tr><td>0</td><td>1</td><td>2</td><td>1</td><td>0</td></tr><tr><td>0</td><td>0</td><td>0</td><td>0</td><td>0</td></tr><tr><td>0</td><td>0</td><td>0</td><td>0</td><td>0</td></tr></table>"
      ],
      "text/plain": [
       "<IPython.core.display.HTML object>"
      ]
     },
     "metadata": {},
     "output_type": "display_data"
    },
    {
     "name": "stdout",
     "output_type": "stream",
     "text": [
      "iteracion numero 122 Conseguida\n",
      "ficha aleatoria:\n"
     ]
    },
    {
     "data": {
      "text/html": [
       "<table><tr><td>0</td><td>0</td><td>0</td><td>0</td><td>0</td></tr><tr><td>0</td><td>1</td><td>0</td><td>0</td><td>0</td></tr><tr><td>0</td><td>1</td><td>2</td><td>1</td><td>0</td></tr><tr><td>0</td><td>0</td><td>0</td><td>0</td><td>0</td></tr><tr><td>0</td><td>0</td><td>0</td><td>0</td><td>0</td></tr></table>"
      ],
      "text/plain": [
       "<IPython.core.display.HTML object>"
      ]
     },
     "metadata": {},
     "output_type": "display_data"
    },
    {
     "name": "stdout",
     "output_type": "stream",
     "text": [
      "iteracion numero 123 Conseguida\n",
      "ficha aleatoria:\n"
     ]
    },
    {
     "data": {
      "text/html": [
       "<table><tr><td>0</td><td>0</td><td>0</td><td>0</td><td>0</td></tr><tr><td>0</td><td>0</td><td>1</td><td>0</td><td>0</td></tr><tr><td>0</td><td>1</td><td>2</td><td>1</td><td>0</td></tr><tr><td>0</td><td>0</td><td>0</td><td>0</td><td>0</td></tr><tr><td>0</td><td>0</td><td>0</td><td>0</td><td>0</td></tr></table>"
      ],
      "text/plain": [
       "<IPython.core.display.HTML object>"
      ]
     },
     "metadata": {},
     "output_type": "display_data"
    },
    {
     "name": "stdout",
     "output_type": "stream",
     "text": [
      "iteracion numero 124 Conseguida\n",
      "ficha aleatoria:\n"
     ]
    },
    {
     "data": {
      "text/html": [
       "<table><tr><td>0</td><td>0</td><td>0</td><td>0</td><td>0</td></tr><tr><td>0</td><td>0</td><td>1</td><td>1</td><td>0</td></tr><tr><td>0</td><td>0</td><td>2</td><td>1</td><td>0</td></tr><tr><td>0</td><td>0</td><td>0</td><td>0</td><td>0</td></tr><tr><td>0</td><td>0</td><td>0</td><td>0</td><td>0</td></tr></table>"
      ],
      "text/plain": [
       "<IPython.core.display.HTML object>"
      ]
     },
     "metadata": {},
     "output_type": "display_data"
    },
    {
     "name": "stdout",
     "output_type": "stream",
     "text": [
      "iteracion numero 125 Conseguida\n",
      "ficha aleatoria:\n"
     ]
    },
    {
     "data": {
      "text/html": [
       "<table><tr><td>0</td><td>0</td><td>0</td><td>0</td><td>0</td></tr><tr><td>0</td><td>0</td><td>0</td><td>1</td><td>0</td></tr><tr><td>0</td><td>1</td><td>2</td><td>1</td><td>0</td></tr><tr><td>0</td><td>0</td><td>0</td><td>0</td><td>0</td></tr><tr><td>0</td><td>0</td><td>0</td><td>0</td><td>0</td></tr></table>"
      ],
      "text/plain": [
       "<IPython.core.display.HTML object>"
      ]
     },
     "metadata": {},
     "output_type": "display_data"
    },
    {
     "name": "stdout",
     "output_type": "stream",
     "text": [
      "iteracion numero 126 Conseguida\n",
      "ficha aleatoria:\n"
     ]
    },
    {
     "data": {
      "text/html": [
       "<table><tr><td>0</td><td>0</td><td>0</td><td>0</td><td>0</td></tr><tr><td>0</td><td>0</td><td>0</td><td>1</td><td>0</td></tr><tr><td>0</td><td>1</td><td>2</td><td>1</td><td>0</td></tr><tr><td>0</td><td>0</td><td>0</td><td>0</td><td>0</td></tr><tr><td>0</td><td>0</td><td>0</td><td>0</td><td>0</td></tr></table>"
      ],
      "text/plain": [
       "<IPython.core.display.HTML object>"
      ]
     },
     "metadata": {},
     "output_type": "display_data"
    },
    {
     "name": "stdout",
     "output_type": "stream",
     "text": [
      "iteracion numero 127 Conseguida\n",
      "ficha aleatoria:\n"
     ]
    },
    {
     "data": {
      "text/html": [
       "<table><tr><td>0</td><td>0</td><td>0</td><td>0</td><td>0</td></tr><tr><td>0</td><td>0</td><td>1</td><td>1</td><td>0</td></tr><tr><td>0</td><td>1</td><td>2</td><td>0</td><td>0</td></tr><tr><td>0</td><td>0</td><td>0</td><td>0</td><td>0</td></tr><tr><td>0</td><td>0</td><td>0</td><td>0</td><td>0</td></tr></table>"
      ],
      "text/plain": [
       "<IPython.core.display.HTML object>"
      ]
     },
     "metadata": {},
     "output_type": "display_data"
    },
    {
     "name": "stdout",
     "output_type": "stream",
     "text": [
      "iteracion numero 128 Conseguida\n",
      "ficha aleatoria:\n"
     ]
    },
    {
     "data": {
      "text/html": [
       "<table><tr><td>0</td><td>0</td><td>0</td><td>0</td><td>0</td></tr><tr><td>0</td><td>1</td><td>1</td><td>0</td><td>0</td></tr><tr><td>0</td><td>0</td><td>2</td><td>1</td><td>0</td></tr><tr><td>0</td><td>0</td><td>0</td><td>0</td><td>0</td></tr><tr><td>0</td><td>0</td><td>0</td><td>0</td><td>0</td></tr></table>"
      ],
      "text/plain": [
       "<IPython.core.display.HTML object>"
      ]
     },
     "metadata": {},
     "output_type": "display_data"
    },
    {
     "name": "stdout",
     "output_type": "stream",
     "text": [
      "iteracion numero 129 Conseguida\n",
      "ficha aleatoria:\n"
     ]
    },
    {
     "data": {
      "text/html": [
       "<table><tr><td>0</td><td>0</td><td>0</td><td>0</td><td>0</td></tr><tr><td>0</td><td>0</td><td>0</td><td>0</td><td>0</td></tr><tr><td>0</td><td>1</td><td>2</td><td>1</td><td>1</td></tr><tr><td>0</td><td>0</td><td>0</td><td>0</td><td>0</td></tr><tr><td>0</td><td>0</td><td>0</td><td>0</td><td>0</td></tr></table>"
      ],
      "text/plain": [
       "<IPython.core.display.HTML object>"
      ]
     },
     "metadata": {},
     "output_type": "display_data"
    },
    {
     "name": "stdout",
     "output_type": "stream",
     "text": [
      "iteracion numero 130 Conseguida\n",
      "ficha aleatoria:\n"
     ]
    },
    {
     "data": {
      "text/html": [
       "<table><tr><td>0</td><td>0</td><td>0</td><td>0</td><td>0</td></tr><tr><td>0</td><td>1</td><td>1</td><td>0</td><td>0</td></tr><tr><td>0</td><td>0</td><td>2</td><td>1</td><td>0</td></tr><tr><td>0</td><td>0</td><td>0</td><td>0</td><td>0</td></tr><tr><td>0</td><td>0</td><td>0</td><td>0</td><td>0</td></tr></table>"
      ],
      "text/plain": [
       "<IPython.core.display.HTML object>"
      ]
     },
     "metadata": {},
     "output_type": "display_data"
    },
    {
     "name": "stdout",
     "output_type": "stream",
     "text": [
      "iteracion numero 131 Conseguida\n",
      "ficha aleatoria:\n"
     ]
    },
    {
     "data": {
      "text/html": [
       "<table><tr><td>0</td><td>0</td><td>0</td><td>0</td><td>0</td></tr><tr><td>0</td><td>0</td><td>0</td><td>1</td><td>0</td></tr><tr><td>0</td><td>1</td><td>2</td><td>1</td><td>0</td></tr><tr><td>0</td><td>0</td><td>0</td><td>0</td><td>0</td></tr><tr><td>0</td><td>0</td><td>0</td><td>0</td><td>0</td></tr></table>"
      ],
      "text/plain": [
       "<IPython.core.display.HTML object>"
      ]
     },
     "metadata": {},
     "output_type": "display_data"
    },
    {
     "name": "stdout",
     "output_type": "stream",
     "text": [
      "iteracion numero 132 Conseguida\n",
      "ficha aleatoria:\n"
     ]
    },
    {
     "data": {
      "text/html": [
       "<table><tr><td>0</td><td>0</td><td>0</td><td>0</td><td>0</td></tr><tr><td>0</td><td>0</td><td>1</td><td>1</td><td>0</td></tr><tr><td>0</td><td>1</td><td>2</td><td>0</td><td>0</td></tr><tr><td>0</td><td>0</td><td>0</td><td>0</td><td>0</td></tr><tr><td>0</td><td>0</td><td>0</td><td>0</td><td>0</td></tr></table>"
      ],
      "text/plain": [
       "<IPython.core.display.HTML object>"
      ]
     },
     "metadata": {},
     "output_type": "display_data"
    },
    {
     "name": "stdout",
     "output_type": "stream",
     "text": [
      "iteracion numero 133 Conseguida\n",
      "ficha aleatoria:\n"
     ]
    },
    {
     "data": {
      "text/html": [
       "<table><tr><td>0</td><td>0</td><td>0</td><td>0</td><td>0</td></tr><tr><td>0</td><td>0</td><td>1</td><td>1</td><td>0</td></tr><tr><td>0</td><td>1</td><td>2</td><td>0</td><td>0</td></tr><tr><td>0</td><td>0</td><td>0</td><td>0</td><td>0</td></tr><tr><td>0</td><td>0</td><td>0</td><td>0</td><td>0</td></tr></table>"
      ],
      "text/plain": [
       "<IPython.core.display.HTML object>"
      ]
     },
     "metadata": {},
     "output_type": "display_data"
    },
    {
     "name": "stdout",
     "output_type": "stream",
     "text": [
      "iteracion numero 134 Conseguida\n",
      "ficha aleatoria:\n"
     ]
    },
    {
     "data": {
      "text/html": [
       "<table><tr><td>0</td><td>0</td><td>0</td><td>0</td><td>0</td></tr><tr><td>0</td><td>0</td><td>1</td><td>1</td><td>0</td></tr><tr><td>0</td><td>0</td><td>2</td><td>1</td><td>0</td></tr><tr><td>0</td><td>0</td><td>0</td><td>0</td><td>0</td></tr><tr><td>0</td><td>0</td><td>0</td><td>0</td><td>0</td></tr></table>"
      ],
      "text/plain": [
       "<IPython.core.display.HTML object>"
      ]
     },
     "metadata": {},
     "output_type": "display_data"
    },
    {
     "name": "stdout",
     "output_type": "stream",
     "text": [
      "iteracion numero 135 Conseguida\n",
      "ficha aleatoria:\n"
     ]
    },
    {
     "data": {
      "text/html": [
       "<table><tr><td>0</td><td>0</td><td>0</td><td>0</td><td>0</td></tr><tr><td>0</td><td>0</td><td>0</td><td>0</td><td>0</td></tr><tr><td>0</td><td>1</td><td>2</td><td>1</td><td>1</td></tr><tr><td>0</td><td>0</td><td>0</td><td>0</td><td>0</td></tr><tr><td>0</td><td>0</td><td>0</td><td>0</td><td>0</td></tr></table>"
      ],
      "text/plain": [
       "<IPython.core.display.HTML object>"
      ]
     },
     "metadata": {},
     "output_type": "display_data"
    },
    {
     "name": "stdout",
     "output_type": "stream",
     "text": [
      "iteracion numero 136 Conseguida\n",
      "ficha aleatoria:\n"
     ]
    },
    {
     "data": {
      "text/html": [
       "<table><tr><td>0</td><td>0</td><td>0</td><td>0</td><td>0</td></tr><tr><td>0</td><td>0</td><td>0</td><td>0</td><td>0</td></tr><tr><td>0</td><td>1</td><td>2</td><td>1</td><td>1</td></tr><tr><td>0</td><td>0</td><td>0</td><td>0</td><td>0</td></tr><tr><td>0</td><td>0</td><td>0</td><td>0</td><td>0</td></tr></table>"
      ],
      "text/plain": [
       "<IPython.core.display.HTML object>"
      ]
     },
     "metadata": {},
     "output_type": "display_data"
    },
    {
     "name": "stdout",
     "output_type": "stream",
     "text": [
      "iteracion numero 137 Conseguida\n",
      "ficha aleatoria:\n"
     ]
    },
    {
     "data": {
      "text/html": [
       "<table><tr><td>0</td><td>0</td><td>0</td><td>0</td><td>0</td></tr><tr><td>0</td><td>0</td><td>1</td><td>1</td><td>0</td></tr><tr><td>0</td><td>0</td><td>2</td><td>1</td><td>0</td></tr><tr><td>0</td><td>0</td><td>0</td><td>0</td><td>0</td></tr><tr><td>0</td><td>0</td><td>0</td><td>0</td><td>0</td></tr></table>"
      ],
      "text/plain": [
       "<IPython.core.display.HTML object>"
      ]
     },
     "metadata": {},
     "output_type": "display_data"
    },
    {
     "name": "stdout",
     "output_type": "stream",
     "text": [
      "iteracion numero 138 Conseguida\n",
      "ficha aleatoria:\n"
     ]
    },
    {
     "data": {
      "text/html": [
       "<table><tr><td>0</td><td>0</td><td>0</td><td>0</td><td>0</td></tr><tr><td>0</td><td>1</td><td>0</td><td>0</td><td>0</td></tr><tr><td>0</td><td>1</td><td>2</td><td>1</td><td>0</td></tr><tr><td>0</td><td>0</td><td>0</td><td>0</td><td>0</td></tr><tr><td>0</td><td>0</td><td>0</td><td>0</td><td>0</td></tr></table>"
      ],
      "text/plain": [
       "<IPython.core.display.HTML object>"
      ]
     },
     "metadata": {},
     "output_type": "display_data"
    },
    {
     "name": "stdout",
     "output_type": "stream",
     "text": [
      "iteracion numero 139 Conseguida\n",
      "ficha aleatoria:\n"
     ]
    },
    {
     "data": {
      "text/html": [
       "<table><tr><td>0</td><td>0</td><td>0</td><td>0</td><td>0</td></tr><tr><td>0</td><td>1</td><td>1</td><td>0</td><td>0</td></tr><tr><td>0</td><td>0</td><td>2</td><td>1</td><td>0</td></tr><tr><td>0</td><td>0</td><td>0</td><td>0</td><td>0</td></tr><tr><td>0</td><td>0</td><td>0</td><td>0</td><td>0</td></tr></table>"
      ],
      "text/plain": [
       "<IPython.core.display.HTML object>"
      ]
     },
     "metadata": {},
     "output_type": "display_data"
    },
    {
     "name": "stdout",
     "output_type": "stream",
     "text": [
      "iteracion numero 140 Conseguida\n",
      "ficha aleatoria:\n"
     ]
    },
    {
     "data": {
      "text/html": [
       "<table><tr><td>0</td><td>0</td><td>0</td><td>0</td><td>0</td></tr><tr><td>0</td><td>0</td><td>0</td><td>0</td><td>0</td></tr><tr><td>0</td><td>1</td><td>2</td><td>1</td><td>1</td></tr><tr><td>0</td><td>0</td><td>0</td><td>0</td><td>0</td></tr><tr><td>0</td><td>0</td><td>0</td><td>0</td><td>0</td></tr></table>"
      ],
      "text/plain": [
       "<IPython.core.display.HTML object>"
      ]
     },
     "metadata": {},
     "output_type": "display_data"
    },
    {
     "name": "stdout",
     "output_type": "stream",
     "text": [
      "iteracion numero 141 Conseguida\n",
      "ficha aleatoria:\n"
     ]
    },
    {
     "data": {
      "text/html": [
       "<table><tr><td>0</td><td>0</td><td>0</td><td>0</td><td>0</td></tr><tr><td>0</td><td>0</td><td>1</td><td>0</td><td>0</td></tr><tr><td>0</td><td>1</td><td>2</td><td>1</td><td>0</td></tr><tr><td>0</td><td>0</td><td>0</td><td>0</td><td>0</td></tr><tr><td>0</td><td>0</td><td>0</td><td>0</td><td>0</td></tr></table>"
      ],
      "text/plain": [
       "<IPython.core.display.HTML object>"
      ]
     },
     "metadata": {},
     "output_type": "display_data"
    },
    {
     "name": "stdout",
     "output_type": "stream",
     "text": [
      "iteracion numero 142 Conseguida\n",
      "ficha aleatoria:\n"
     ]
    },
    {
     "data": {
      "text/html": [
       "<table><tr><td>0</td><td>0</td><td>0</td><td>0</td><td>0</td></tr><tr><td>0</td><td>1</td><td>1</td><td>0</td><td>0</td></tr><tr><td>0</td><td>0</td><td>2</td><td>1</td><td>0</td></tr><tr><td>0</td><td>0</td><td>0</td><td>0</td><td>0</td></tr><tr><td>0</td><td>0</td><td>0</td><td>0</td><td>0</td></tr></table>"
      ],
      "text/plain": [
       "<IPython.core.display.HTML object>"
      ]
     },
     "metadata": {},
     "output_type": "display_data"
    },
    {
     "name": "stdout",
     "output_type": "stream",
     "text": [
      "iteracion numero 143 Conseguida\n",
      "ficha aleatoria:\n"
     ]
    },
    {
     "data": {
      "text/html": [
       "<table><tr><td>0</td><td>0</td><td>0</td><td>0</td><td>0</td></tr><tr><td>0</td><td>0</td><td>0</td><td>0</td><td>0</td></tr><tr><td>0</td><td>1</td><td>2</td><td>1</td><td>1</td></tr><tr><td>0</td><td>0</td><td>0</td><td>0</td><td>0</td></tr><tr><td>0</td><td>0</td><td>0</td><td>0</td><td>0</td></tr></table>"
      ],
      "text/plain": [
       "<IPython.core.display.HTML object>"
      ]
     },
     "metadata": {},
     "output_type": "display_data"
    },
    {
     "name": "stdout",
     "output_type": "stream",
     "text": [
      "iteracion numero 144 Conseguida\n",
      "ficha aleatoria:\n"
     ]
    },
    {
     "data": {
      "text/html": [
       "<table><tr><td>0</td><td>0</td><td>0</td><td>0</td><td>0</td></tr><tr><td>0</td><td>0</td><td>1</td><td>0</td><td>0</td></tr><tr><td>0</td><td>1</td><td>2</td><td>1</td><td>0</td></tr><tr><td>0</td><td>0</td><td>0</td><td>0</td><td>0</td></tr><tr><td>0</td><td>0</td><td>0</td><td>0</td><td>0</td></tr></table>"
      ],
      "text/plain": [
       "<IPython.core.display.HTML object>"
      ]
     },
     "metadata": {},
     "output_type": "display_data"
    },
    {
     "name": "stdout",
     "output_type": "stream",
     "text": [
      "iteracion numero 145 Conseguida\n",
      "ficha aleatoria:\n"
     ]
    },
    {
     "data": {
      "text/html": [
       "<table><tr><td>0</td><td>0</td><td>0</td><td>0</td><td>0</td></tr><tr><td>0</td><td>1</td><td>1</td><td>0</td><td>0</td></tr><tr><td>0</td><td>0</td><td>2</td><td>1</td><td>0</td></tr><tr><td>0</td><td>0</td><td>0</td><td>0</td><td>0</td></tr><tr><td>0</td><td>0</td><td>0</td><td>0</td><td>0</td></tr></table>"
      ],
      "text/plain": [
       "<IPython.core.display.HTML object>"
      ]
     },
     "metadata": {},
     "output_type": "display_data"
    },
    {
     "name": "stdout",
     "output_type": "stream",
     "text": [
      "iteracion numero 146 Conseguida\n",
      "ficha aleatoria:\n"
     ]
    },
    {
     "data": {
      "text/html": [
       "<table><tr><td>0</td><td>0</td><td>0</td><td>0</td><td>0</td></tr><tr><td>0</td><td>1</td><td>0</td><td>0</td><td>0</td></tr><tr><td>0</td><td>1</td><td>2</td><td>1</td><td>0</td></tr><tr><td>0</td><td>0</td><td>0</td><td>0</td><td>0</td></tr><tr><td>0</td><td>0</td><td>0</td><td>0</td><td>0</td></tr></table>"
      ],
      "text/plain": [
       "<IPython.core.display.HTML object>"
      ]
     },
     "metadata": {},
     "output_type": "display_data"
    },
    {
     "name": "stdout",
     "output_type": "stream",
     "text": [
      "iteracion numero 147 Conseguida\n",
      "ficha aleatoria:\n"
     ]
    },
    {
     "data": {
      "text/html": [
       "<table><tr><td>0</td><td>0</td><td>0</td><td>0</td><td>0</td></tr><tr><td>0</td><td>1</td><td>0</td><td>0</td><td>0</td></tr><tr><td>0</td><td>1</td><td>2</td><td>1</td><td>0</td></tr><tr><td>0</td><td>0</td><td>0</td><td>0</td><td>0</td></tr><tr><td>0</td><td>0</td><td>0</td><td>0</td><td>0</td></tr></table>"
      ],
      "text/plain": [
       "<IPython.core.display.HTML object>"
      ]
     },
     "metadata": {},
     "output_type": "display_data"
    },
    {
     "name": "stdout",
     "output_type": "stream",
     "text": [
      "iteracion numero 148 Conseguida\n",
      "ficha aleatoria:\n"
     ]
    },
    {
     "data": {
      "text/html": [
       "<table><tr><td>0</td><td>0</td><td>0</td><td>0</td><td>0</td></tr><tr><td>0</td><td>0</td><td>0</td><td>0</td><td>0</td></tr><tr><td>0</td><td>1</td><td>2</td><td>1</td><td>1</td></tr><tr><td>0</td><td>0</td><td>0</td><td>0</td><td>0</td></tr><tr><td>0</td><td>0</td><td>0</td><td>0</td><td>0</td></tr></table>"
      ],
      "text/plain": [
       "<IPython.core.display.HTML object>"
      ]
     },
     "metadata": {},
     "output_type": "display_data"
    },
    {
     "name": "stdout",
     "output_type": "stream",
     "text": [
      "iteracion numero 149 Conseguida\n",
      "ficha aleatoria:\n"
     ]
    },
    {
     "data": {
      "text/html": [
       "<table><tr><td>0</td><td>0</td><td>0</td><td>0</td><td>0</td></tr><tr><td>0</td><td>0</td><td>1</td><td>0</td><td>0</td></tr><tr><td>0</td><td>1</td><td>2</td><td>1</td><td>0</td></tr><tr><td>0</td><td>0</td><td>0</td><td>0</td><td>0</td></tr><tr><td>0</td><td>0</td><td>0</td><td>0</td><td>0</td></tr></table>"
      ],
      "text/plain": [
       "<IPython.core.display.HTML object>"
      ]
     },
     "metadata": {},
     "output_type": "display_data"
    },
    {
     "name": "stdout",
     "output_type": "stream",
     "text": [
      "iteracion numero 150 Conseguida\n",
      "ficha aleatoria:\n"
     ]
    },
    {
     "data": {
      "text/html": [
       "<table><tr><td>0</td><td>0</td><td>0</td><td>0</td><td>0</td></tr><tr><td>0</td><td>1</td><td>1</td><td>0</td><td>0</td></tr><tr><td>0</td><td>0</td><td>2</td><td>1</td><td>0</td></tr><tr><td>0</td><td>0</td><td>0</td><td>0</td><td>0</td></tr><tr><td>0</td><td>0</td><td>0</td><td>0</td><td>0</td></tr></table>"
      ],
      "text/plain": [
       "<IPython.core.display.HTML object>"
      ]
     },
     "metadata": {},
     "output_type": "display_data"
    },
    {
     "name": "stdout",
     "output_type": "stream",
     "text": [
      "iteracion numero 151 Conseguida\n",
      "ficha aleatoria:\n"
     ]
    },
    {
     "data": {
      "text/html": [
       "<table><tr><td>0</td><td>0</td><td>0</td><td>0</td><td>0</td></tr><tr><td>0</td><td>1</td><td>0</td><td>0</td><td>0</td></tr><tr><td>0</td><td>1</td><td>2</td><td>1</td><td>0</td></tr><tr><td>0</td><td>0</td><td>0</td><td>0</td><td>0</td></tr><tr><td>0</td><td>0</td><td>0</td><td>0</td><td>0</td></tr></table>"
      ],
      "text/plain": [
       "<IPython.core.display.HTML object>"
      ]
     },
     "metadata": {},
     "output_type": "display_data"
    },
    {
     "name": "stdout",
     "output_type": "stream",
     "text": [
      "iteracion numero 152 Conseguida\n",
      "ficha aleatoria:\n"
     ]
    },
    {
     "data": {
      "text/html": [
       "<table><tr><td>0</td><td>0</td><td>0</td><td>0</td><td>0</td></tr><tr><td>0</td><td>1</td><td>1</td><td>0</td><td>0</td></tr><tr><td>0</td><td>0</td><td>2</td><td>1</td><td>0</td></tr><tr><td>0</td><td>0</td><td>0</td><td>0</td><td>0</td></tr><tr><td>0</td><td>0</td><td>0</td><td>0</td><td>0</td></tr></table>"
      ],
      "text/plain": [
       "<IPython.core.display.HTML object>"
      ]
     },
     "metadata": {},
     "output_type": "display_data"
    },
    {
     "name": "stdout",
     "output_type": "stream",
     "text": [
      "iteracion numero 153 Conseguida\n",
      "ficha aleatoria:\n"
     ]
    },
    {
     "data": {
      "text/html": [
       "<table><tr><td>0</td><td>0</td><td>0</td><td>0</td><td>0</td></tr><tr><td>0</td><td>0</td><td>1</td><td>1</td><td>0</td></tr><tr><td>0</td><td>0</td><td>2</td><td>1</td><td>0</td></tr><tr><td>0</td><td>0</td><td>0</td><td>0</td><td>0</td></tr><tr><td>0</td><td>0</td><td>0</td><td>0</td><td>0</td></tr></table>"
      ],
      "text/plain": [
       "<IPython.core.display.HTML object>"
      ]
     },
     "metadata": {},
     "output_type": "display_data"
    },
    {
     "name": "stdout",
     "output_type": "stream",
     "text": [
      "iteracion numero 154 Conseguida\n",
      "ficha aleatoria:\n"
     ]
    },
    {
     "data": {
      "text/html": [
       "<table><tr><td>0</td><td>0</td><td>0</td><td>0</td><td>0</td></tr><tr><td>0</td><td>0</td><td>1</td><td>1</td><td>0</td></tr><tr><td>0</td><td>1</td><td>2</td><td>0</td><td>0</td></tr><tr><td>0</td><td>0</td><td>0</td><td>0</td><td>0</td></tr><tr><td>0</td><td>0</td><td>0</td><td>0</td><td>0</td></tr></table>"
      ],
      "text/plain": [
       "<IPython.core.display.HTML object>"
      ]
     },
     "metadata": {},
     "output_type": "display_data"
    },
    {
     "name": "stdout",
     "output_type": "stream",
     "text": [
      "iteracion numero 155 Conseguida\n",
      "ficha aleatoria:\n"
     ]
    },
    {
     "data": {
      "text/html": [
       "<table><tr><td>0</td><td>0</td><td>0</td><td>0</td><td>0</td></tr><tr><td>0</td><td>1</td><td>1</td><td>0</td><td>0</td></tr><tr><td>0</td><td>0</td><td>2</td><td>1</td><td>0</td></tr><tr><td>0</td><td>0</td><td>0</td><td>0</td><td>0</td></tr><tr><td>0</td><td>0</td><td>0</td><td>0</td><td>0</td></tr></table>"
      ],
      "text/plain": [
       "<IPython.core.display.HTML object>"
      ]
     },
     "metadata": {},
     "output_type": "display_data"
    },
    {
     "name": "stdout",
     "output_type": "stream",
     "text": [
      "iteracion numero 156 Conseguida\n",
      "ficha aleatoria:\n"
     ]
    },
    {
     "data": {
      "text/html": [
       "<table><tr><td>0</td><td>0</td><td>0</td><td>0</td><td>0</td></tr><tr><td>0</td><td>1</td><td>0</td><td>0</td><td>0</td></tr><tr><td>0</td><td>1</td><td>2</td><td>1</td><td>0</td></tr><tr><td>0</td><td>0</td><td>0</td><td>0</td><td>0</td></tr><tr><td>0</td><td>0</td><td>0</td><td>0</td><td>0</td></tr></table>"
      ],
      "text/plain": [
       "<IPython.core.display.HTML object>"
      ]
     },
     "metadata": {},
     "output_type": "display_data"
    },
    {
     "name": "stdout",
     "output_type": "stream",
     "text": [
      "iteracion numero 157 Conseguida\n",
      "ficha aleatoria:\n"
     ]
    },
    {
     "data": {
      "text/html": [
       "<table><tr><td>0</td><td>0</td><td>0</td><td>0</td><td>0</td></tr><tr><td>0</td><td>1</td><td>1</td><td>0</td><td>0</td></tr><tr><td>0</td><td>0</td><td>2</td><td>1</td><td>0</td></tr><tr><td>0</td><td>0</td><td>0</td><td>0</td><td>0</td></tr><tr><td>0</td><td>0</td><td>0</td><td>0</td><td>0</td></tr></table>"
      ],
      "text/plain": [
       "<IPython.core.display.HTML object>"
      ]
     },
     "metadata": {},
     "output_type": "display_data"
    },
    {
     "name": "stdout",
     "output_type": "stream",
     "text": [
      "iteracion numero 158 Conseguida\n",
      "ficha aleatoria:\n"
     ]
    },
    {
     "data": {
      "text/html": [
       "<table><tr><td>0</td><td>0</td><td>0</td><td>0</td><td>0</td></tr><tr><td>0</td><td>0</td><td>0</td><td>0</td><td>0</td></tr><tr><td>0</td><td>1</td><td>2</td><td>1</td><td>1</td></tr><tr><td>0</td><td>0</td><td>0</td><td>0</td><td>0</td></tr><tr><td>0</td><td>0</td><td>0</td><td>0</td><td>0</td></tr></table>"
      ],
      "text/plain": [
       "<IPython.core.display.HTML object>"
      ]
     },
     "metadata": {},
     "output_type": "display_data"
    },
    {
     "name": "stdout",
     "output_type": "stream",
     "text": [
      "iteracion numero 159 Conseguida\n",
      "ficha aleatoria:\n"
     ]
    },
    {
     "data": {
      "text/html": [
       "<table><tr><td>0</td><td>0</td><td>0</td><td>0</td><td>0</td></tr><tr><td>0</td><td>1</td><td>1</td><td>0</td><td>0</td></tr><tr><td>0</td><td>0</td><td>2</td><td>1</td><td>0</td></tr><tr><td>0</td><td>0</td><td>0</td><td>0</td><td>0</td></tr><tr><td>0</td><td>0</td><td>0</td><td>0</td><td>0</td></tr></table>"
      ],
      "text/plain": [
       "<IPython.core.display.HTML object>"
      ]
     },
     "metadata": {},
     "output_type": "display_data"
    },
    {
     "name": "stdout",
     "output_type": "stream",
     "text": [
      "iteracion numero 160 Conseguida\n",
      "ficha aleatoria:\n"
     ]
    },
    {
     "data": {
      "text/html": [
       "<table><tr><td>0</td><td>0</td><td>0</td><td>0</td><td>0</td></tr><tr><td>0</td><td>1</td><td>0</td><td>0</td><td>0</td></tr><tr><td>0</td><td>1</td><td>2</td><td>1</td><td>0</td></tr><tr><td>0</td><td>0</td><td>0</td><td>0</td><td>0</td></tr><tr><td>0</td><td>0</td><td>0</td><td>0</td><td>0</td></tr></table>"
      ],
      "text/plain": [
       "<IPython.core.display.HTML object>"
      ]
     },
     "metadata": {},
     "output_type": "display_data"
    },
    {
     "name": "stdout",
     "output_type": "stream",
     "text": [
      "iteracion numero 161 Conseguida\n",
      "ficha aleatoria:\n"
     ]
    },
    {
     "data": {
      "text/html": [
       "<table><tr><td>0</td><td>0</td><td>0</td><td>0</td><td>0</td></tr><tr><td>0</td><td>1</td><td>0</td><td>0</td><td>0</td></tr><tr><td>0</td><td>1</td><td>2</td><td>1</td><td>0</td></tr><tr><td>0</td><td>0</td><td>0</td><td>0</td><td>0</td></tr><tr><td>0</td><td>0</td><td>0</td><td>0</td><td>0</td></tr></table>"
      ],
      "text/plain": [
       "<IPython.core.display.HTML object>"
      ]
     },
     "metadata": {},
     "output_type": "display_data"
    },
    {
     "name": "stdout",
     "output_type": "stream",
     "text": [
      "iteracion numero 162 Conseguida\n",
      "ficha aleatoria:\n"
     ]
    },
    {
     "data": {
      "text/html": [
       "<table><tr><td>0</td><td>0</td><td>0</td><td>0</td><td>0</td></tr><tr><td>0</td><td>0</td><td>0</td><td>0</td><td>0</td></tr><tr><td>0</td><td>1</td><td>2</td><td>1</td><td>1</td></tr><tr><td>0</td><td>0</td><td>0</td><td>0</td><td>0</td></tr><tr><td>0</td><td>0</td><td>0</td><td>0</td><td>0</td></tr></table>"
      ],
      "text/plain": [
       "<IPython.core.display.HTML object>"
      ]
     },
     "metadata": {},
     "output_type": "display_data"
    },
    {
     "name": "stdout",
     "output_type": "stream",
     "text": [
      "iteracion numero 163 Conseguida\n",
      "ficha aleatoria:\n"
     ]
    },
    {
     "data": {
      "text/html": [
       "<table><tr><td>0</td><td>0</td><td>0</td><td>0</td><td>0</td></tr><tr><td>0</td><td>1</td><td>1</td><td>0</td><td>0</td></tr><tr><td>0</td><td>0</td><td>2</td><td>1</td><td>0</td></tr><tr><td>0</td><td>0</td><td>0</td><td>0</td><td>0</td></tr><tr><td>0</td><td>0</td><td>0</td><td>0</td><td>0</td></tr></table>"
      ],
      "text/plain": [
       "<IPython.core.display.HTML object>"
      ]
     },
     "metadata": {},
     "output_type": "display_data"
    },
    {
     "name": "stdout",
     "output_type": "stream",
     "text": [
      "iteracion numero 164 Conseguida\n",
      "ficha aleatoria:\n"
     ]
    },
    {
     "data": {
      "text/html": [
       "<table><tr><td>0</td><td>0</td><td>0</td><td>0</td><td>0</td></tr><tr><td>0</td><td>0</td><td>1</td><td>1</td><td>0</td></tr><tr><td>0</td><td>1</td><td>2</td><td>0</td><td>0</td></tr><tr><td>0</td><td>0</td><td>0</td><td>0</td><td>0</td></tr><tr><td>0</td><td>0</td><td>0</td><td>0</td><td>0</td></tr></table>"
      ],
      "text/plain": [
       "<IPython.core.display.HTML object>"
      ]
     },
     "metadata": {},
     "output_type": "display_data"
    },
    {
     "name": "stdout",
     "output_type": "stream",
     "text": [
      "iteracion numero 165 Conseguida\n",
      "ficha aleatoria:\n"
     ]
    },
    {
     "data": {
      "text/html": [
       "<table><tr><td>0</td><td>0</td><td>0</td><td>0</td><td>0</td></tr><tr><td>0</td><td>0</td><td>0</td><td>0</td><td>0</td></tr><tr><td>0</td><td>1</td><td>2</td><td>1</td><td>1</td></tr><tr><td>0</td><td>0</td><td>0</td><td>0</td><td>0</td></tr><tr><td>0</td><td>0</td><td>0</td><td>0</td><td>0</td></tr></table>"
      ],
      "text/plain": [
       "<IPython.core.display.HTML object>"
      ]
     },
     "metadata": {},
     "output_type": "display_data"
    },
    {
     "name": "stdout",
     "output_type": "stream",
     "text": [
      "iteracion numero 166 Conseguida\n",
      "ficha aleatoria:\n"
     ]
    },
    {
     "data": {
      "text/html": [
       "<table><tr><td>0</td><td>0</td><td>0</td><td>0</td><td>0</td></tr><tr><td>0</td><td>0</td><td>1</td><td>1</td><td>0</td></tr><tr><td>0</td><td>1</td><td>2</td><td>0</td><td>0</td></tr><tr><td>0</td><td>0</td><td>0</td><td>0</td><td>0</td></tr><tr><td>0</td><td>0</td><td>0</td><td>0</td><td>0</td></tr></table>"
      ],
      "text/plain": [
       "<IPython.core.display.HTML object>"
      ]
     },
     "metadata": {},
     "output_type": "display_data"
    },
    {
     "name": "stdout",
     "output_type": "stream",
     "text": [
      "iteracion numero 167 Conseguida\n",
      "ficha aleatoria:\n"
     ]
    },
    {
     "data": {
      "text/html": [
       "<table><tr><td>0</td><td>0</td><td>0</td><td>0</td><td>0</td></tr><tr><td>0</td><td>0</td><td>0</td><td>0</td><td>0</td></tr><tr><td>0</td><td>1</td><td>2</td><td>1</td><td>1</td></tr><tr><td>0</td><td>0</td><td>0</td><td>0</td><td>0</td></tr><tr><td>0</td><td>0</td><td>0</td><td>0</td><td>0</td></tr></table>"
      ],
      "text/plain": [
       "<IPython.core.display.HTML object>"
      ]
     },
     "metadata": {},
     "output_type": "display_data"
    },
    {
     "name": "stdout",
     "output_type": "stream",
     "text": [
      "iteracion numero 168 Conseguida\n",
      "ficha aleatoria:\n"
     ]
    },
    {
     "data": {
      "text/html": [
       "<table><tr><td>0</td><td>0</td><td>0</td><td>0</td><td>0</td></tr><tr><td>0</td><td>0</td><td>0</td><td>1</td><td>0</td></tr><tr><td>0</td><td>1</td><td>2</td><td>1</td><td>0</td></tr><tr><td>0</td><td>0</td><td>0</td><td>0</td><td>0</td></tr><tr><td>0</td><td>0</td><td>0</td><td>0</td><td>0</td></tr></table>"
      ],
      "text/plain": [
       "<IPython.core.display.HTML object>"
      ]
     },
     "metadata": {},
     "output_type": "display_data"
    },
    {
     "name": "stdout",
     "output_type": "stream",
     "text": [
      "iteracion numero 169 Conseguida\n",
      "ficha aleatoria:\n"
     ]
    },
    {
     "data": {
      "text/html": [
       "<table><tr><td>0</td><td>0</td><td>0</td><td>0</td><td>0</td></tr><tr><td>0</td><td>0</td><td>0</td><td>1</td><td>0</td></tr><tr><td>0</td><td>1</td><td>2</td><td>1</td><td>0</td></tr><tr><td>0</td><td>0</td><td>0</td><td>0</td><td>0</td></tr><tr><td>0</td><td>0</td><td>0</td><td>0</td><td>0</td></tr></table>"
      ],
      "text/plain": [
       "<IPython.core.display.HTML object>"
      ]
     },
     "metadata": {},
     "output_type": "display_data"
    },
    {
     "name": "stdout",
     "output_type": "stream",
     "text": [
      "iteracion numero 170 Conseguida\n",
      "ficha aleatoria:\n"
     ]
    },
    {
     "data": {
      "text/html": [
       "<table><tr><td>0</td><td>0</td><td>0</td><td>0</td><td>0</td></tr><tr><td>0</td><td>0</td><td>0</td><td>0</td><td>0</td></tr><tr><td>0</td><td>1</td><td>2</td><td>1</td><td>1</td></tr><tr><td>0</td><td>0</td><td>0</td><td>0</td><td>0</td></tr><tr><td>0</td><td>0</td><td>0</td><td>0</td><td>0</td></tr></table>"
      ],
      "text/plain": [
       "<IPython.core.display.HTML object>"
      ]
     },
     "metadata": {},
     "output_type": "display_data"
    },
    {
     "name": "stdout",
     "output_type": "stream",
     "text": [
      "iteracion numero 171 Conseguida\n",
      "ficha aleatoria:\n"
     ]
    },
    {
     "data": {
      "text/html": [
       "<table><tr><td>0</td><td>0</td><td>0</td><td>0</td><td>0</td></tr><tr><td>0</td><td>0</td><td>0</td><td>0</td><td>0</td></tr><tr><td>0</td><td>1</td><td>2</td><td>1</td><td>1</td></tr><tr><td>0</td><td>0</td><td>0</td><td>0</td><td>0</td></tr><tr><td>0</td><td>0</td><td>0</td><td>0</td><td>0</td></tr></table>"
      ],
      "text/plain": [
       "<IPython.core.display.HTML object>"
      ]
     },
     "metadata": {},
     "output_type": "display_data"
    },
    {
     "name": "stdout",
     "output_type": "stream",
     "text": [
      "iteracion numero 172 Conseguida\n",
      "ficha aleatoria:\n"
     ]
    },
    {
     "data": {
      "text/html": [
       "<table><tr><td>0</td><td>0</td><td>0</td><td>0</td><td>0</td></tr><tr><td>0</td><td>1</td><td>1</td><td>0</td><td>0</td></tr><tr><td>0</td><td>0</td><td>2</td><td>1</td><td>0</td></tr><tr><td>0</td><td>0</td><td>0</td><td>0</td><td>0</td></tr><tr><td>0</td><td>0</td><td>0</td><td>0</td><td>0</td></tr></table>"
      ],
      "text/plain": [
       "<IPython.core.display.HTML object>"
      ]
     },
     "metadata": {},
     "output_type": "display_data"
    },
    {
     "name": "stdout",
     "output_type": "stream",
     "text": [
      "iteracion numero 173 Conseguida\n",
      "ficha aleatoria:\n"
     ]
    },
    {
     "data": {
      "text/html": [
       "<table><tr><td>0</td><td>0</td><td>0</td><td>0</td><td>0</td></tr><tr><td>0</td><td>0</td><td>1</td><td>1</td><td>0</td></tr><tr><td>0</td><td>1</td><td>2</td><td>0</td><td>0</td></tr><tr><td>0</td><td>0</td><td>0</td><td>0</td><td>0</td></tr><tr><td>0</td><td>0</td><td>0</td><td>0</td><td>0</td></tr></table>"
      ],
      "text/plain": [
       "<IPython.core.display.HTML object>"
      ]
     },
     "metadata": {},
     "output_type": "display_data"
    },
    {
     "name": "stdout",
     "output_type": "stream",
     "text": [
      "iteracion numero 174 Conseguida\n",
      "ficha aleatoria:\n"
     ]
    },
    {
     "data": {
      "text/html": [
       "<table><tr><td>0</td><td>0</td><td>0</td><td>0</td><td>0</td></tr><tr><td>0</td><td>1</td><td>1</td><td>0</td><td>0</td></tr><tr><td>0</td><td>0</td><td>2</td><td>1</td><td>0</td></tr><tr><td>0</td><td>0</td><td>0</td><td>0</td><td>0</td></tr><tr><td>0</td><td>0</td><td>0</td><td>0</td><td>0</td></tr></table>"
      ],
      "text/plain": [
       "<IPython.core.display.HTML object>"
      ]
     },
     "metadata": {},
     "output_type": "display_data"
    },
    {
     "name": "stdout",
     "output_type": "stream",
     "text": [
      "iteracion numero 175 Conseguida\n",
      "ficha aleatoria:\n"
     ]
    },
    {
     "data": {
      "text/html": [
       "<table><tr><td>0</td><td>0</td><td>0</td><td>0</td><td>0</td></tr><tr><td>0</td><td>1</td><td>0</td><td>0</td><td>0</td></tr><tr><td>0</td><td>1</td><td>2</td><td>1</td><td>0</td></tr><tr><td>0</td><td>0</td><td>0</td><td>0</td><td>0</td></tr><tr><td>0</td><td>0</td><td>0</td><td>0</td><td>0</td></tr></table>"
      ],
      "text/plain": [
       "<IPython.core.display.HTML object>"
      ]
     },
     "metadata": {},
     "output_type": "display_data"
    },
    {
     "name": "stdout",
     "output_type": "stream",
     "text": [
      "iteracion numero 176 Conseguida\n",
      "ficha aleatoria:\n"
     ]
    },
    {
     "data": {
      "text/html": [
       "<table><tr><td>0</td><td>0</td><td>0</td><td>0</td><td>0</td></tr><tr><td>0</td><td>0</td><td>0</td><td>0</td><td>0</td></tr><tr><td>0</td><td>1</td><td>2</td><td>1</td><td>1</td></tr><tr><td>0</td><td>0</td><td>0</td><td>0</td><td>0</td></tr><tr><td>0</td><td>0</td><td>0</td><td>0</td><td>0</td></tr></table>"
      ],
      "text/plain": [
       "<IPython.core.display.HTML object>"
      ]
     },
     "metadata": {},
     "output_type": "display_data"
    },
    {
     "name": "stdout",
     "output_type": "stream",
     "text": [
      "iteracion numero 177 Conseguida\n",
      "ficha aleatoria:\n"
     ]
    },
    {
     "data": {
      "text/html": [
       "<table><tr><td>0</td><td>0</td><td>0</td><td>0</td><td>0</td></tr><tr><td>0</td><td>1</td><td>1</td><td>0</td><td>0</td></tr><tr><td>0</td><td>0</td><td>2</td><td>1</td><td>0</td></tr><tr><td>0</td><td>0</td><td>0</td><td>0</td><td>0</td></tr><tr><td>0</td><td>0</td><td>0</td><td>0</td><td>0</td></tr></table>"
      ],
      "text/plain": [
       "<IPython.core.display.HTML object>"
      ]
     },
     "metadata": {},
     "output_type": "display_data"
    },
    {
     "name": "stdout",
     "output_type": "stream",
     "text": [
      "iteracion numero 178 Conseguida\n",
      "ficha aleatoria:\n"
     ]
    },
    {
     "data": {
      "text/html": [
       "<table><tr><td>0</td><td>0</td><td>0</td><td>0</td><td>0</td></tr><tr><td>0</td><td>0</td><td>1</td><td>1</td><td>0</td></tr><tr><td>0</td><td>1</td><td>2</td><td>0</td><td>0</td></tr><tr><td>0</td><td>0</td><td>0</td><td>0</td><td>0</td></tr><tr><td>0</td><td>0</td><td>0</td><td>0</td><td>0</td></tr></table>"
      ],
      "text/plain": [
       "<IPython.core.display.HTML object>"
      ]
     },
     "metadata": {},
     "output_type": "display_data"
    },
    {
     "name": "stdout",
     "output_type": "stream",
     "text": [
      "iteracion numero 179 Conseguida\n",
      "ficha aleatoria:\n"
     ]
    },
    {
     "data": {
      "text/html": [
       "<table><tr><td>0</td><td>0</td><td>0</td><td>0</td><td>0</td></tr><tr><td>0</td><td>1</td><td>0</td><td>0</td><td>0</td></tr><tr><td>0</td><td>1</td><td>2</td><td>1</td><td>0</td></tr><tr><td>0</td><td>0</td><td>0</td><td>0</td><td>0</td></tr><tr><td>0</td><td>0</td><td>0</td><td>0</td><td>0</td></tr></table>"
      ],
      "text/plain": [
       "<IPython.core.display.HTML object>"
      ]
     },
     "metadata": {},
     "output_type": "display_data"
    },
    {
     "name": "stdout",
     "output_type": "stream",
     "text": [
      "iteracion numero 180 Conseguida\n",
      "ficha aleatoria:\n"
     ]
    },
    {
     "data": {
      "text/html": [
       "<table><tr><td>0</td><td>0</td><td>0</td><td>0</td><td>0</td></tr><tr><td>0</td><td>0</td><td>0</td><td>1</td><td>0</td></tr><tr><td>0</td><td>1</td><td>2</td><td>1</td><td>0</td></tr><tr><td>0</td><td>0</td><td>0</td><td>0</td><td>0</td></tr><tr><td>0</td><td>0</td><td>0</td><td>0</td><td>0</td></tr></table>"
      ],
      "text/plain": [
       "<IPython.core.display.HTML object>"
      ]
     },
     "metadata": {},
     "output_type": "display_data"
    },
    {
     "name": "stdout",
     "output_type": "stream",
     "text": [
      "iteracion numero 181 Conseguida\n",
      "ficha aleatoria:\n"
     ]
    },
    {
     "data": {
      "text/html": [
       "<table><tr><td>0</td><td>0</td><td>0</td><td>0</td><td>0</td></tr><tr><td>0</td><td>0</td><td>0</td><td>1</td><td>0</td></tr><tr><td>0</td><td>1</td><td>2</td><td>1</td><td>0</td></tr><tr><td>0</td><td>0</td><td>0</td><td>0</td><td>0</td></tr><tr><td>0</td><td>0</td><td>0</td><td>0</td><td>0</td></tr></table>"
      ],
      "text/plain": [
       "<IPython.core.display.HTML object>"
      ]
     },
     "metadata": {},
     "output_type": "display_data"
    },
    {
     "name": "stdout",
     "output_type": "stream",
     "text": [
      "iteracion numero 182 Conseguida\n",
      "ficha aleatoria:\n"
     ]
    },
    {
     "data": {
      "text/html": [
       "<table><tr><td>0</td><td>0</td><td>0</td><td>0</td><td>0</td></tr><tr><td>0</td><td>1</td><td>1</td><td>0</td><td>0</td></tr><tr><td>0</td><td>0</td><td>2</td><td>1</td><td>0</td></tr><tr><td>0</td><td>0</td><td>0</td><td>0</td><td>0</td></tr><tr><td>0</td><td>0</td><td>0</td><td>0</td><td>0</td></tr></table>"
      ],
      "text/plain": [
       "<IPython.core.display.HTML object>"
      ]
     },
     "metadata": {},
     "output_type": "display_data"
    },
    {
     "name": "stdout",
     "output_type": "stream",
     "text": [
      "iteracion numero 183 Conseguida\n",
      "ficha aleatoria:\n"
     ]
    },
    {
     "data": {
      "text/html": [
       "<table><tr><td>0</td><td>0</td><td>0</td><td>0</td><td>0</td></tr><tr><td>0</td><td>0</td><td>1</td><td>1</td><td>0</td></tr><tr><td>0</td><td>0</td><td>2</td><td>1</td><td>0</td></tr><tr><td>0</td><td>0</td><td>0</td><td>0</td><td>0</td></tr><tr><td>0</td><td>0</td><td>0</td><td>0</td><td>0</td></tr></table>"
      ],
      "text/plain": [
       "<IPython.core.display.HTML object>"
      ]
     },
     "metadata": {},
     "output_type": "display_data"
    },
    {
     "name": "stdout",
     "output_type": "stream",
     "text": [
      "iteracion numero 184 Conseguida\n",
      "ficha aleatoria:\n"
     ]
    },
    {
     "data": {
      "text/html": [
       "<table><tr><td>0</td><td>0</td><td>0</td><td>0</td><td>0</td></tr><tr><td>0</td><td>1</td><td>1</td><td>0</td><td>0</td></tr><tr><td>0</td><td>0</td><td>2</td><td>1</td><td>0</td></tr><tr><td>0</td><td>0</td><td>0</td><td>0</td><td>0</td></tr><tr><td>0</td><td>0</td><td>0</td><td>0</td><td>0</td></tr></table>"
      ],
      "text/plain": [
       "<IPython.core.display.HTML object>"
      ]
     },
     "metadata": {},
     "output_type": "display_data"
    },
    {
     "name": "stdout",
     "output_type": "stream",
     "text": [
      "iteracion numero 185 Conseguida\n",
      "ficha aleatoria:\n"
     ]
    },
    {
     "data": {
      "text/html": [
       "<table><tr><td>0</td><td>0</td><td>0</td><td>0</td><td>0</td></tr><tr><td>0</td><td>0</td><td>1</td><td>1</td><td>0</td></tr><tr><td>0</td><td>1</td><td>2</td><td>0</td><td>0</td></tr><tr><td>0</td><td>0</td><td>0</td><td>0</td><td>0</td></tr><tr><td>0</td><td>0</td><td>0</td><td>0</td><td>0</td></tr></table>"
      ],
      "text/plain": [
       "<IPython.core.display.HTML object>"
      ]
     },
     "metadata": {},
     "output_type": "display_data"
    },
    {
     "name": "stdout",
     "output_type": "stream",
     "text": [
      "iteracion numero 186 Conseguida\n",
      "ficha aleatoria:\n"
     ]
    },
    {
     "data": {
      "text/html": [
       "<table><tr><td>0</td><td>0</td><td>0</td><td>0</td><td>0</td></tr><tr><td>0</td><td>0</td><td>1</td><td>0</td><td>0</td></tr><tr><td>0</td><td>1</td><td>2</td><td>1</td><td>0</td></tr><tr><td>0</td><td>0</td><td>0</td><td>0</td><td>0</td></tr><tr><td>0</td><td>0</td><td>0</td><td>0</td><td>0</td></tr></table>"
      ],
      "text/plain": [
       "<IPython.core.display.HTML object>"
      ]
     },
     "metadata": {},
     "output_type": "display_data"
    },
    {
     "name": "stdout",
     "output_type": "stream",
     "text": [
      "iteracion numero 187 Conseguida\n",
      "ficha aleatoria:\n"
     ]
    },
    {
     "data": {
      "text/html": [
       "<table><tr><td>0</td><td>0</td><td>0</td><td>0</td><td>0</td></tr><tr><td>0</td><td>0</td><td>1</td><td>1</td><td>0</td></tr><tr><td>0</td><td>0</td><td>2</td><td>1</td><td>0</td></tr><tr><td>0</td><td>0</td><td>0</td><td>0</td><td>0</td></tr><tr><td>0</td><td>0</td><td>0</td><td>0</td><td>0</td></tr></table>"
      ],
      "text/plain": [
       "<IPython.core.display.HTML object>"
      ]
     },
     "metadata": {},
     "output_type": "display_data"
    },
    {
     "name": "stdout",
     "output_type": "stream",
     "text": [
      "iteracion numero 188 Conseguida\n",
      "ficha aleatoria:\n"
     ]
    },
    {
     "data": {
      "text/html": [
       "<table><tr><td>0</td><td>0</td><td>0</td><td>0</td><td>0</td></tr><tr><td>0</td><td>0</td><td>0</td><td>1</td><td>0</td></tr><tr><td>0</td><td>1</td><td>2</td><td>1</td><td>0</td></tr><tr><td>0</td><td>0</td><td>0</td><td>0</td><td>0</td></tr><tr><td>0</td><td>0</td><td>0</td><td>0</td><td>0</td></tr></table>"
      ],
      "text/plain": [
       "<IPython.core.display.HTML object>"
      ]
     },
     "metadata": {},
     "output_type": "display_data"
    },
    {
     "name": "stdout",
     "output_type": "stream",
     "text": [
      "iteracion numero 189 Conseguida\n",
      "ficha aleatoria:\n"
     ]
    },
    {
     "data": {
      "text/html": [
       "<table><tr><td>0</td><td>0</td><td>0</td><td>0</td><td>0</td></tr><tr><td>0</td><td>0</td><td>0</td><td>0</td><td>0</td></tr><tr><td>0</td><td>1</td><td>2</td><td>1</td><td>1</td></tr><tr><td>0</td><td>0</td><td>0</td><td>0</td><td>0</td></tr><tr><td>0</td><td>0</td><td>0</td><td>0</td><td>0</td></tr></table>"
      ],
      "text/plain": [
       "<IPython.core.display.HTML object>"
      ]
     },
     "metadata": {},
     "output_type": "display_data"
    },
    {
     "name": "stdout",
     "output_type": "stream",
     "text": [
      "iteracion numero 190 Conseguida\n",
      "no encontrada solucion, probando de nuevo con otro estado intento numero:1de38\n",
      "no encontrada solucion, probando de nuevo con otro estado intento numero:2de38\n",
      "no encontrada solucion, probando de nuevo con otro estado intento numero:3de38\n",
      "no encontrada solucion, probando de nuevo con otro estado intento numero:4de38\n",
      "ficha aleatoria:\n"
     ]
    },
    {
     "data": {
      "text/html": [
       "<table><tr><td>0</td><td>0</td><td>0</td><td>0</td><td>0</td></tr><tr><td>0</td><td>1</td><td>0</td><td>0</td><td>0</td></tr><tr><td>0</td><td>1</td><td>2</td><td>1</td><td>0</td></tr><tr><td>0</td><td>0</td><td>0</td><td>0</td><td>0</td></tr><tr><td>0</td><td>0</td><td>0</td><td>0</td><td>0</td></tr></table>"
      ],
      "text/plain": [
       "<IPython.core.display.HTML object>"
      ]
     },
     "metadata": {},
     "output_type": "display_data"
    },
    {
     "name": "stdout",
     "output_type": "stream",
     "text": [
      "iteracion numero 191 Conseguida\n",
      "ficha aleatoria:\n"
     ]
    },
    {
     "data": {
      "text/html": [
       "<table><tr><td>0</td><td>0</td><td>0</td><td>0</td><td>0</td></tr><tr><td>0</td><td>1</td><td>1</td><td>0</td><td>0</td></tr><tr><td>0</td><td>0</td><td>2</td><td>1</td><td>0</td></tr><tr><td>0</td><td>0</td><td>0</td><td>0</td><td>0</td></tr><tr><td>0</td><td>0</td><td>0</td><td>0</td><td>0</td></tr></table>"
      ],
      "text/plain": [
       "<IPython.core.display.HTML object>"
      ]
     },
     "metadata": {},
     "output_type": "display_data"
    },
    {
     "name": "stdout",
     "output_type": "stream",
     "text": [
      "iteracion numero 192 Conseguida\n",
      "ficha aleatoria:\n"
     ]
    },
    {
     "data": {
      "text/html": [
       "<table><tr><td>0</td><td>0</td><td>0</td><td>0</td><td>0</td></tr><tr><td>0</td><td>0</td><td>1</td><td>1</td><td>0</td></tr><tr><td>0</td><td>1</td><td>2</td><td>0</td><td>0</td></tr><tr><td>0</td><td>0</td><td>0</td><td>0</td><td>0</td></tr><tr><td>0</td><td>0</td><td>0</td><td>0</td><td>0</td></tr></table>"
      ],
      "text/plain": [
       "<IPython.core.display.HTML object>"
      ]
     },
     "metadata": {},
     "output_type": "display_data"
    },
    {
     "name": "stdout",
     "output_type": "stream",
     "text": [
      "iteracion numero 193 Conseguida\n",
      "ficha aleatoria:\n"
     ]
    },
    {
     "data": {
      "text/html": [
       "<table><tr><td>0</td><td>0</td><td>0</td><td>0</td><td>0</td></tr><tr><td>0</td><td>0</td><td>0</td><td>1</td><td>0</td></tr><tr><td>0</td><td>1</td><td>2</td><td>1</td><td>0</td></tr><tr><td>0</td><td>0</td><td>0</td><td>0</td><td>0</td></tr><tr><td>0</td><td>0</td><td>0</td><td>0</td><td>0</td></tr></table>"
      ],
      "text/plain": [
       "<IPython.core.display.HTML object>"
      ]
     },
     "metadata": {},
     "output_type": "display_data"
    },
    {
     "name": "stdout",
     "output_type": "stream",
     "text": [
      "iteracion numero 194 Conseguida\n",
      "ficha aleatoria:\n"
     ]
    },
    {
     "data": {
      "text/html": [
       "<table><tr><td>0</td><td>0</td><td>0</td><td>0</td><td>0</td></tr><tr><td>0</td><td>0</td><td>1</td><td>1</td><td>0</td></tr><tr><td>0</td><td>1</td><td>2</td><td>0</td><td>0</td></tr><tr><td>0</td><td>0</td><td>0</td><td>0</td><td>0</td></tr><tr><td>0</td><td>0</td><td>0</td><td>0</td><td>0</td></tr></table>"
      ],
      "text/plain": [
       "<IPython.core.display.HTML object>"
      ]
     },
     "metadata": {},
     "output_type": "display_data"
    },
    {
     "name": "stdout",
     "output_type": "stream",
     "text": [
      "iteracion numero 195 Conseguida\n",
      "ficha aleatoria:\n"
     ]
    },
    {
     "data": {
      "text/html": [
       "<table><tr><td>0</td><td>0</td><td>0</td><td>0</td><td>0</td></tr><tr><td>0</td><td>1</td><td>1</td><td>0</td><td>0</td></tr><tr><td>0</td><td>0</td><td>2</td><td>1</td><td>0</td></tr><tr><td>0</td><td>0</td><td>0</td><td>0</td><td>0</td></tr><tr><td>0</td><td>0</td><td>0</td><td>0</td><td>0</td></tr></table>"
      ],
      "text/plain": [
       "<IPython.core.display.HTML object>"
      ]
     },
     "metadata": {},
     "output_type": "display_data"
    },
    {
     "name": "stdout",
     "output_type": "stream",
     "text": [
      "iteracion numero 196 Conseguida\n",
      "ficha aleatoria:\n"
     ]
    },
    {
     "data": {
      "text/html": [
       "<table><tr><td>0</td><td>0</td><td>0</td><td>0</td><td>0</td></tr><tr><td>0</td><td>0</td><td>1</td><td>1</td><td>0</td></tr><tr><td>0</td><td>0</td><td>2</td><td>1</td><td>0</td></tr><tr><td>0</td><td>0</td><td>0</td><td>0</td><td>0</td></tr><tr><td>0</td><td>0</td><td>0</td><td>0</td><td>0</td></tr></table>"
      ],
      "text/plain": [
       "<IPython.core.display.HTML object>"
      ]
     },
     "metadata": {},
     "output_type": "display_data"
    },
    {
     "name": "stdout",
     "output_type": "stream",
     "text": [
      "iteracion numero 197 Conseguida\n",
      "ficha aleatoria:\n"
     ]
    },
    {
     "data": {
      "text/html": [
       "<table><tr><td>0</td><td>0</td><td>0</td><td>0</td><td>0</td></tr><tr><td>0</td><td>0</td><td>0</td><td>1</td><td>0</td></tr><tr><td>0</td><td>1</td><td>2</td><td>1</td><td>0</td></tr><tr><td>0</td><td>0</td><td>0</td><td>0</td><td>0</td></tr><tr><td>0</td><td>0</td><td>0</td><td>0</td><td>0</td></tr></table>"
      ],
      "text/plain": [
       "<IPython.core.display.HTML object>"
      ]
     },
     "metadata": {},
     "output_type": "display_data"
    },
    {
     "name": "stdout",
     "output_type": "stream",
     "text": [
      "iteracion numero 198 Conseguida\n",
      "ficha aleatoria:\n"
     ]
    },
    {
     "data": {
      "text/html": [
       "<table><tr><td>0</td><td>0</td><td>0</td><td>0</td><td>0</td></tr><tr><td>0</td><td>0</td><td>1</td><td>1</td><td>0</td></tr><tr><td>0</td><td>0</td><td>2</td><td>1</td><td>0</td></tr><tr><td>0</td><td>0</td><td>0</td><td>0</td><td>0</td></tr><tr><td>0</td><td>0</td><td>0</td><td>0</td><td>0</td></tr></table>"
      ],
      "text/plain": [
       "<IPython.core.display.HTML object>"
      ]
     },
     "metadata": {},
     "output_type": "display_data"
    },
    {
     "name": "stdout",
     "output_type": "stream",
     "text": [
      "iteracion numero 199 Conseguida\n",
      "ficha aleatoria:\n"
     ]
    },
    {
     "data": {
      "text/html": [
       "<table><tr><td>0</td><td>0</td><td>0</td><td>0</td><td>0</td></tr><tr><td>0</td><td>0</td><td>1</td><td>1</td><td>0</td></tr><tr><td>0</td><td>1</td><td>2</td><td>0</td><td>0</td></tr><tr><td>0</td><td>0</td><td>0</td><td>0</td><td>0</td></tr><tr><td>0</td><td>0</td><td>0</td><td>0</td><td>0</td></tr></table>"
      ],
      "text/plain": [
       "<IPython.core.display.HTML object>"
      ]
     },
     "metadata": {},
     "output_type": "display_data"
    },
    {
     "name": "stdout",
     "output_type": "stream",
     "text": [
      "iteracion numero 200 Conseguida\n",
      "ficha aleatoria:\n"
     ]
    },
    {
     "data": {
      "text/html": [
       "<table><tr><td>0</td><td>0</td><td>0</td><td>0</td><td>0</td></tr><tr><td>0</td><td>0</td><td>1</td><td>0</td><td>0</td></tr><tr><td>0</td><td>1</td><td>2</td><td>1</td><td>0</td></tr><tr><td>0</td><td>0</td><td>0</td><td>0</td><td>0</td></tr><tr><td>0</td><td>0</td><td>0</td><td>0</td><td>0</td></tr></table>"
      ],
      "text/plain": [
       "<IPython.core.display.HTML object>"
      ]
     },
     "metadata": {},
     "output_type": "display_data"
    },
    {
     "name": "stdout",
     "output_type": "stream",
     "text": [
      "iteracion numero 201 Conseguida\n",
      "ficha aleatoria:\n"
     ]
    },
    {
     "data": {
      "text/html": [
       "<table><tr><td>0</td><td>0</td><td>0</td><td>0</td><td>0</td></tr><tr><td>0</td><td>0</td><td>1</td><td>1</td><td>0</td></tr><tr><td>0</td><td>0</td><td>2</td><td>1</td><td>0</td></tr><tr><td>0</td><td>0</td><td>0</td><td>0</td><td>0</td></tr><tr><td>0</td><td>0</td><td>0</td><td>0</td><td>0</td></tr></table>"
      ],
      "text/plain": [
       "<IPython.core.display.HTML object>"
      ]
     },
     "metadata": {},
     "output_type": "display_data"
    },
    {
     "name": "stdout",
     "output_type": "stream",
     "text": [
      "iteracion numero 202 Conseguida\n",
      "ficha aleatoria:\n"
     ]
    },
    {
     "data": {
      "text/html": [
       "<table><tr><td>0</td><td>0</td><td>0</td><td>0</td><td>0</td></tr><tr><td>0</td><td>1</td><td>0</td><td>0</td><td>0</td></tr><tr><td>0</td><td>1</td><td>2</td><td>1</td><td>0</td></tr><tr><td>0</td><td>0</td><td>0</td><td>0</td><td>0</td></tr><tr><td>0</td><td>0</td><td>0</td><td>0</td><td>0</td></tr></table>"
      ],
      "text/plain": [
       "<IPython.core.display.HTML object>"
      ]
     },
     "metadata": {},
     "output_type": "display_data"
    },
    {
     "name": "stdout",
     "output_type": "stream",
     "text": [
      "iteracion numero 203 Conseguida\n",
      "ficha aleatoria:\n"
     ]
    },
    {
     "data": {
      "text/html": [
       "<table><tr><td>0</td><td>0</td><td>0</td><td>0</td><td>0</td></tr><tr><td>0</td><td>0</td><td>0</td><td>1</td><td>0</td></tr><tr><td>0</td><td>1</td><td>2</td><td>1</td><td>0</td></tr><tr><td>0</td><td>0</td><td>0</td><td>0</td><td>0</td></tr><tr><td>0</td><td>0</td><td>0</td><td>0</td><td>0</td></tr></table>"
      ],
      "text/plain": [
       "<IPython.core.display.HTML object>"
      ]
     },
     "metadata": {},
     "output_type": "display_data"
    },
    {
     "name": "stdout",
     "output_type": "stream",
     "text": [
      "iteracion numero 204 Conseguida\n",
      "ficha aleatoria:\n"
     ]
    },
    {
     "data": {
      "text/html": [
       "<table><tr><td>0</td><td>0</td><td>0</td><td>0</td><td>0</td></tr><tr><td>0</td><td>1</td><td>1</td><td>0</td><td>0</td></tr><tr><td>0</td><td>0</td><td>2</td><td>1</td><td>0</td></tr><tr><td>0</td><td>0</td><td>0</td><td>0</td><td>0</td></tr><tr><td>0</td><td>0</td><td>0</td><td>0</td><td>0</td></tr></table>"
      ],
      "text/plain": [
       "<IPython.core.display.HTML object>"
      ]
     },
     "metadata": {},
     "output_type": "display_data"
    },
    {
     "name": "stdout",
     "output_type": "stream",
     "text": [
      "iteracion numero 205 Conseguida\n",
      "ficha aleatoria:\n"
     ]
    },
    {
     "data": {
      "text/html": [
       "<table><tr><td>0</td><td>0</td><td>0</td><td>0</td><td>0</td></tr><tr><td>0</td><td>1</td><td>1</td><td>0</td><td>0</td></tr><tr><td>0</td><td>0</td><td>2</td><td>1</td><td>0</td></tr><tr><td>0</td><td>0</td><td>0</td><td>0</td><td>0</td></tr><tr><td>0</td><td>0</td><td>0</td><td>0</td><td>0</td></tr></table>"
      ],
      "text/plain": [
       "<IPython.core.display.HTML object>"
      ]
     },
     "metadata": {},
     "output_type": "display_data"
    },
    {
     "name": "stdout",
     "output_type": "stream",
     "text": [
      "iteracion numero 206 Conseguida\n",
      "ficha aleatoria:\n"
     ]
    },
    {
     "data": {
      "text/html": [
       "<table><tr><td>0</td><td>0</td><td>0</td><td>0</td><td>0</td></tr><tr><td>0</td><td>1</td><td>1</td><td>0</td><td>0</td></tr><tr><td>0</td><td>0</td><td>2</td><td>1</td><td>0</td></tr><tr><td>0</td><td>0</td><td>0</td><td>0</td><td>0</td></tr><tr><td>0</td><td>0</td><td>0</td><td>0</td><td>0</td></tr></table>"
      ],
      "text/plain": [
       "<IPython.core.display.HTML object>"
      ]
     },
     "metadata": {},
     "output_type": "display_data"
    },
    {
     "name": "stdout",
     "output_type": "stream",
     "text": [
      "iteracion numero 207 Conseguida\n",
      "ficha aleatoria:\n"
     ]
    },
    {
     "data": {
      "text/html": [
       "<table><tr><td>0</td><td>0</td><td>0</td><td>0</td><td>0</td></tr><tr><td>0</td><td>0</td><td>1</td><td>0</td><td>0</td></tr><tr><td>0</td><td>1</td><td>2</td><td>1</td><td>0</td></tr><tr><td>0</td><td>0</td><td>0</td><td>0</td><td>0</td></tr><tr><td>0</td><td>0</td><td>0</td><td>0</td><td>0</td></tr></table>"
      ],
      "text/plain": [
       "<IPython.core.display.HTML object>"
      ]
     },
     "metadata": {},
     "output_type": "display_data"
    },
    {
     "name": "stdout",
     "output_type": "stream",
     "text": [
      "iteracion numero 208 Conseguida\n",
      "no encontrada solucion, probando de nuevo con otro estado intento numero:1de20\n",
      "ficha aleatoria:\n"
     ]
    },
    {
     "data": {
      "text/html": [
       "<table><tr><td>0</td><td>0</td><td>0</td><td>0</td><td>0</td></tr><tr><td>0</td><td>1</td><td>1</td><td>0</td><td>0</td></tr><tr><td>0</td><td>0</td><td>2</td><td>1</td><td>0</td></tr><tr><td>0</td><td>0</td><td>0</td><td>0</td><td>0</td></tr><tr><td>0</td><td>0</td><td>0</td><td>0</td><td>0</td></tr></table>"
      ],
      "text/plain": [
       "<IPython.core.display.HTML object>"
      ]
     },
     "metadata": {},
     "output_type": "display_data"
    },
    {
     "name": "stdout",
     "output_type": "stream",
     "text": [
      "iteracion numero 209 Conseguida\n",
      "ficha aleatoria:\n"
     ]
    },
    {
     "data": {
      "text/html": [
       "<table><tr><td>0</td><td>0</td><td>0</td><td>0</td><td>0</td></tr><tr><td>0</td><td>0</td><td>0</td><td>0</td><td>0</td></tr><tr><td>0</td><td>1</td><td>2</td><td>1</td><td>1</td></tr><tr><td>0</td><td>0</td><td>0</td><td>0</td><td>0</td></tr><tr><td>0</td><td>0</td><td>0</td><td>0</td><td>0</td></tr></table>"
      ],
      "text/plain": [
       "<IPython.core.display.HTML object>"
      ]
     },
     "metadata": {},
     "output_type": "display_data"
    },
    {
     "name": "stdout",
     "output_type": "stream",
     "text": [
      "iteracion numero 210 Conseguida\n",
      "no encontrada solucion, probando de nuevo con otro estado intento numero:1de24\n",
      "no encontrada solucion, probando de nuevo con otro estado intento numero:2de24\n",
      "no encontrada solucion, probando de nuevo con otro estado intento numero:3de24\n",
      "no encontrada solucion, probando de nuevo con otro estado intento numero:4de24\n",
      "no encontrada solucion, probando de nuevo con otro estado intento numero:5de24\n",
      "no encontrada solucion, probando de nuevo con otro estado intento numero:6de24\n",
      "no encontrada solucion, probando de nuevo con otro estado intento numero:7de24\n",
      "no encontrada solucion, probando de nuevo con otro estado intento numero:8de24\n",
      "no encontrada solucion, probando de nuevo con otro estado intento numero:9de24\n",
      "no encontrada solucion, probando de nuevo con otro estado intento numero:10de24\n",
      "no encontrada solucion, probando de nuevo con otro estado intento numero:11de24\n",
      "no encontrada solucion, probando de nuevo con otro estado intento numero:12de24\n",
      "no encontrada solucion, probando de nuevo con otro estado intento numero:13de24\n",
      "no encontrada solucion, probando de nuevo con otro estado intento numero:14de24\n",
      "no encontrada solucion, probando de nuevo con otro estado intento numero:15de24\n",
      "no encontrada solucion, probando de nuevo con otro estado intento numero:16de24\n",
      "no encontrada solucion, probando de nuevo con otro estado intento numero:17de24\n",
      "no encontrada solucion, probando de nuevo con otro estado intento numero:18de24\n",
      "no encontrada solucion, probando de nuevo con otro estado intento numero:19de24\n",
      "no encontrada solucion, probando de nuevo con otro estado intento numero:20de24\n",
      "no encontrada solucion, probando de nuevo con otro estado intento numero:21de24\n",
      "no encontrada solucion, probando de nuevo con otro estado intento numero:22de24\n",
      "no encontrada solucion, probando de nuevo con otro estado intento numero:23de24\n",
      "No Encontrada Solucion\n"
     ]
    },
    {
     "data": {
      "text/plain": [
       "'fin de la partida'"
      ]
     },
     "execution_count": 48,
     "metadata": {},
     "output_type": "execute_result"
    }
   ],
   "source": [
    "TetrisLargoAleatorio(estadoVacio,fichas)"
   ]
  }
 ],
 "metadata": {
  "kernelspec": {
   "display_name": "Python 3",
   "language": "python",
   "name": "python3"
  },
  "language_info": {
   "codemirror_mode": {
    "name": "ipython",
    "version": 3
   },
   "file_extension": ".py",
   "mimetype": "text/x-python",
   "name": "python",
   "nbconvert_exporter": "python",
   "pygments_lexer": "ipython3",
   "version": "3.6.4"
  }
 },
 "nbformat": 4,
 "nbformat_minor": 2
}
